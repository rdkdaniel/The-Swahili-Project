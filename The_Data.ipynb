{
  "nbformat": 4,
  "nbformat_minor": 0,
  "metadata": {
    "colab": {
      "provenance": [],
      "authorship_tag": "ABX9TyPtkz1s2LBtGyXvB5zGX1rT",
      "include_colab_link": true
    },
    "kernelspec": {
      "name": "python3",
      "display_name": "Python 3"
    },
    "language_info": {
      "name": "python"
    }
  },
  "cells": [
    {
      "cell_type": "markdown",
      "metadata": {
        "id": "view-in-github",
        "colab_type": "text"
      },
      "source": [
        "<a href=\"https://colab.research.google.com/github/rdkdaniel/The-Swahili-Project/blob/main/The_Data.ipynb\" target=\"_parent\"><img src=\"https://colab.research.google.com/assets/colab-badge.svg\" alt=\"Open In Colab\"/></a>"
      ]
    },
    {
      "cell_type": "code",
      "execution_count": null,
      "metadata": {
        "colab": {
          "base_uri": "https://localhost:8080/"
        },
        "id": "SQvEln-US4V8",
        "outputId": "5e62b18a-1314-420e-f7b6-9f493018f586"
      },
      "outputs": [
        {
          "output_type": "stream",
          "name": "stdout",
          "text": [
            "Looking in indexes: https://pypi.org/simple, https://us-python.pkg.dev/colab-wheels/public/simple/\n",
            "Requirement already satisfied: requests in /usr/local/lib/python3.7/dist-packages (2.23.0)\n",
            "Requirement already satisfied: urllib3!=1.25.0,!=1.25.1,<1.26,>=1.21.1 in /usr/local/lib/python3.7/dist-packages (from requests) (1.24.3)\n",
            "Requirement already satisfied: chardet<4,>=3.0.2 in /usr/local/lib/python3.7/dist-packages (from requests) (3.0.4)\n",
            "Requirement already satisfied: idna<3,>=2.5 in /usr/local/lib/python3.7/dist-packages (from requests) (2.10)\n",
            "Requirement already satisfied: certifi>=2017.4.17 in /usr/local/lib/python3.7/dist-packages (from requests) (2022.9.24)\n",
            "Looking in indexes: https://pypi.org/simple, https://us-python.pkg.dev/colab-wheels/public/simple/\n",
            "Requirement already satisfied: beautifulsoup4 in /usr/local/lib/python3.7/dist-packages (4.6.3)\n"
          ]
        }
      ],
      "source": [
        "!pip install requests\n",
        "!pip install beautifulsoup4"
      ]
    },
    {
      "cell_type": "code",
      "source": [
        "pip install urllib3"
      ],
      "metadata": {
        "id": "CmsRlLBA85AP",
        "outputId": "782708b7-40ea-491f-ef8c-8b4a23fcc0af",
        "colab": {
          "base_uri": "https://localhost:8080/"
        }
      },
      "execution_count": null,
      "outputs": [
        {
          "output_type": "stream",
          "name": "stdout",
          "text": [
            "Looking in indexes: https://pypi.org/simple, https://us-python.pkg.dev/colab-wheels/public/simple/\n",
            "Requirement already satisfied: urllib3 in /usr/local/lib/python3.7/dist-packages (1.24.3)\n"
          ]
        }
      ]
    },
    {
      "cell_type": "code",
      "source": [
        "from bs4 import BeautifulSoup\n",
        "#import requests library\n",
        "import requests\n",
        "#the website URL\n",
        "url_link = \"https://www.advance-africa.com/KCSE-Past-Papers-2021-Kiswahili-Karatasi-ya-2.html\"\n",
        "result = requests.get(url_link).text\n",
        "doc = BeautifulSoup(result, \"html.parser\")\n",
        "\n"
      ],
      "metadata": {
        "id": "2L--6SjdWELn"
      },
      "execution_count": null,
      "outputs": []
    },
    {
      "cell_type": "code",
      "source": [
        "res = doc.find(id = \"ContentColumn\")"
      ],
      "metadata": {
        "id": "FE_SXgs2Wy2c"
      },
      "execution_count": null,
      "outputs": []
    },
    {
      "cell_type": "code",
      "source": [
        "heading = res.find(class_ = \"Liner\")\n",
        "print(heading.text)"
      ],
      "metadata": {
        "colab": {
          "base_uri": "https://localhost:8080/"
        },
        "id": "26A_hNtZWkid",
        "outputId": "96f1be2a-970f-4cce-929b-b7bc8a469c6a"
      },
      "execution_count": null,
      "outputs": [
        {
          "output_type": "stream",
          "name": "stdout",
          "text": [
            "\n",
            "\n",
            "\n",
            "\n",
            "KCSE Past Papers 2021 Kiswahili Karatasi ya 2 (102/2)\n",
            "\n",
            "  \n",
            "\n",
            "\n",
            "\n",
            "(adsbygoogle=window.adsbygoogle||[]).push({}); \n",
            "\n",
            "    Click Here - Free KCSE Past Papers » KNEC Past Exams » Free Downloads » KCSE Papers & Marking Schemes  \n"
          ]
        }
      ]
    },
    {
      "cell_type": "code",
      "source": [
        "res = doc.find(id = \"ContentColumn\")\n",
        "for ele in res:\n",
        "  print(res.find(\"h1\"))"
      ],
      "metadata": {
        "colab": {
          "base_uri": "https://localhost:8080/"
        },
        "id": "bPL-es1wXCPW",
        "outputId": "c8d73c6b-79d7-40d9-d4c8-432f82e17eb0"
      },
      "execution_count": null,
      "outputs": [
        {
          "output_type": "stream",
          "name": "stdout",
          "text": [
            "<h1>KCSE Past Papers 2021 Kiswahili Karatasi ya 2 (102/2)<br/></h1>\n",
            "<h1>KCSE Past Papers 2021 Kiswahili Karatasi ya 2 (102/2)<br/></h1>\n"
          ]
        }
      ]
    },
    {
      "cell_type": "code",
      "source": [
        "res = doc.find(id = \"ContentColumn\")\n",
        "for ele in res:\n",
        "  print(res.find(\"b\"))"
      ],
      "metadata": {
        "colab": {
          "base_uri": "https://localhost:8080/"
        },
        "id": "lagzehr8XP_c",
        "outputId": "84769c05-367b-46fb-e7a6-6a9f608077fd"
      },
      "execution_count": null,
      "outputs": [
        {
          "output_type": "stream",
          "name": "stdout",
          "text": [
            "None\n",
            "None\n"
          ]
        }
      ]
    },
    {
      "cell_type": "code",
      "source": [
        "pip install feedparser"
      ],
      "metadata": {
        "colab": {
          "base_uri": "https://localhost:8080/"
        },
        "id": "2SYlV4kjdRko",
        "outputId": "1469fb1a-c70d-4560-9e0b-a2d13378c43c"
      },
      "execution_count": null,
      "outputs": [
        {
          "output_type": "stream",
          "name": "stdout",
          "text": [
            "Looking in indexes: https://pypi.org/simple, https://us-python.pkg.dev/colab-wheels/public/simple/\n",
            "Collecting feedparser\n",
            "  Downloading feedparser-6.0.10-py3-none-any.whl (81 kB)\n",
            "\u001b[K     |████████████████████████████████| 81 kB 9.2 MB/s \n",
            "\u001b[?25hCollecting sgmllib3k\n",
            "  Downloading sgmllib3k-1.0.0.tar.gz (5.8 kB)\n",
            "Building wheels for collected packages: sgmllib3k\n",
            "  Building wheel for sgmllib3k (setup.py) ... \u001b[?25l\u001b[?25hdone\n",
            "  Created wheel for sgmllib3k: filename=sgmllib3k-1.0.0-py3-none-any.whl size=6066 sha256=688ad642f1a1c649087c3b260326f49bc516cebf69aa78bfb21ae09d9eb34147\n",
            "  Stored in directory: /root/.cache/pip/wheels/73/ad/a4/0dff4a6ef231fc0dfa12ffbac2a36cebfdddfe059f50e019aa\n",
            "Successfully built sgmllib3k\n",
            "Installing collected packages: sgmllib3k, feedparser\n",
            "Successfully installed feedparser-6.0.10 sgmllib3k-1.0.0\n"
          ]
        }
      ]
    },
    {
      "cell_type": "code",
      "source": [
        "print(doc.select(\"html body div#PageWrapper div#ContentWrapper div#ContentColumn\"))"
      ],
      "metadata": {
        "colab": {
          "base_uri": "https://localhost:8080/"
        },
        "id": "s061II12aCKh",
        "outputId": "d738124a-c947-42d3-8220-4feea1b87ce3"
      },
      "execution_count": null,
      "outputs": [
        {
          "output_type": "stream",
          "name": "stdout",
          "text": [
            "[<div id=\"ContentColumn\">\n",
            "<div class=\"Liner\">\n",
            "<!-- start: shared_blocks.101250255#above-h1 -->\n",
            "<div class=\"\" style=\"width: 100%; box-sizing: border-box\"></div>\n",
            "<!-- end: shared_blocks.101250255#above-h1 -->\n",
            "<h1>KCSE Past Papers 2021 Kiswahili Karatasi ya 2 (102/2)<br/></h1>\n",
            "<!-- start: shared_blocks.103089388#1st Ad -->\n",
            "<table align=\"center\" width=\"100\"> <tr> <td>\n",
            "<script async=\"\" src=\"//pagead2.googlesyndication.com/pagead/j3/adsbygoogle.js\"></script>\n",
            "<!-- Crazy -->\n",
            "<ins class=\"adsbygoogle\" data-ad-client=\"ca-pub-0326674550430411\" data-ad-slot=\"5740034820\" data-full-width-responsive=\"true\" style=\"display:inline-block;width:336px;height:280px\"></ins>\n",
            "<script>(adsbygoogle=window.adsbygoogle||[]).push({});</script> </td></tr></table>\n",
            "<!-- end: shared_blocks.103089388#1st Ad -->\n",
            "<a href=\"https://www.advance-africa.com/KCSE-Past-Papers.html\" target=\"_blank\"> <center> <h3> <font color=\"#000066\"> Click Here - Free KCSE Past Papers » KNEC Past Exams » Free Downloads » KCSE Papers &amp; Marking Schemes </font></h3></center></a> </div></div>]\n"
          ]
        }
      ]
    },
    {
      "cell_type": "markdown",
      "source": [
        "# **One MOre Try**"
      ],
      "metadata": {
        "id": "7WvMg_Oh8seo"
      }
    },
    {
      "cell_type": "markdown",
      "source": [
        "https://pytutorial.com/beautifulsoup-get-text-value"
      ],
      "metadata": {
        "id": "ViuOHMpB_Ifv"
      }
    },
    {
      "cell_type": "code",
      "source": [
        "# importing modules\n",
        "import urllib.request\n",
        "from bs4 import BeautifulSoup"
      ],
      "metadata": {
        "id": "Y0ie5x9e8uZo"
      },
      "execution_count": null,
      "outputs": []
    },
    {
      "cell_type": "code",
      "source": [
        "import requests\n",
        "import pandas as pd"
      ],
      "metadata": {
        "id": "sW6E3wTH9inb"
      },
      "execution_count": null,
      "outputs": []
    },
    {
      "cell_type": "code",
      "source": [
        "# providing url\n",
        "url = \"https://www.advance-africa.com/KCSE-Past-Papers-2021-Kiswahili-Karatasi-ya-2.html\""
      ],
      "metadata": {
        "id": "kOR7wpUU9W2X"
      },
      "execution_count": null,
      "outputs": []
    },
    {
      "cell_type": "code",
      "source": [
        "# link for extract html data\n",
        "def getdata(url):\n",
        "\tr = requests.get(url)\n",
        "\treturn r.text\n",
        "\n",
        "htmldata = getdata(\"https://www.advance-africa.com/KCSE-Past-Papers-2021-Kiswahili-Karatasi-ya-2.html\")\n",
        "soup = BeautifulSoup(htmldata, 'html.parser')\n",
        "data = ''\n",
        "for data in soup.find_all(\"p\"):\n",
        "\tprint(data.get_text())\n"
      ],
      "metadata": {
        "id": "21sAarsy9Nzf"
      },
      "execution_count": null,
      "outputs": []
    },
    {
      "cell_type": "markdown",
      "source": [
        "# **One more**"
      ],
      "metadata": {
        "id": "lg4Iwpqh99N8"
      }
    },
    {
      "cell_type": "code",
      "source": [
        "html_doc = getdata(\"https://www.advance-africa.com/KCSE-Past-Papers-2021-Kiswahili-Karatasi-ya-2.html\")"
      ],
      "metadata": {
        "id": "EZxsR92x-RsC"
      },
      "execution_count": null,
      "outputs": []
    },
    {
      "cell_type": "code",
      "source": [
        "# Parse\n",
        "soup = BeautifulSoup(html_doc, 'html.parser')\n",
        "\n",
        "# Find \"<p>\" element\n",
        "f_p = soup.find(\"p\")\n",
        "\n",
        "# Get text value of \"<p>\" element\n",
        "print(f_p.string)"
      ],
      "metadata": {
        "id": "Ace8ohsK9-15",
        "outputId": "fede9985-0e65-44df-ec30-decb28a6eb10",
        "colab": {
          "base_uri": "https://localhost:8080/"
        }
      },
      "execution_count": null,
      "outputs": [
        {
          "output_type": "stream",
          "name": "stdout",
          "text": [
            "\n",
            "Kiswahili Karatasi ya 2\n"
          ]
        }
      ]
    },
    {
      "cell_type": "code",
      "source": [
        "soup = BeautifulSoup(html_doc, 'html.parser')\n",
        "\n",
        "# Find \"<p>\" elements\n",
        "f_p = soup.findAll(\"p\")\n",
        "\n",
        "\n",
        "for p in f_p:\n",
        "  #Get text value of \"<p>\" element\n",
        "  print(p.string)"
      ],
      "metadata": {
        "id": "xhvY0S0t-eWd"
      },
      "execution_count": null,
      "outputs": []
    },
    {
      "cell_type": "code",
      "source": [
        "# Parse\n",
        "soup = BeautifulSoup(html_doc, 'html.parser')\n",
        "\n",
        "# Find \"<div>\" element\n",
        "f_d = soup.find(\"div\")\n",
        "\n",
        "# Get text value of \"<div>\" element\n",
        "print(f_d.string)"
      ],
      "metadata": {
        "id": "2hJbpIGr-kv4",
        "outputId": "a9723c2c-e726-4fc8-cf3f-b6d6e15faa2e",
        "colab": {
          "base_uri": "https://localhost:8080/"
        }
      },
      "execution_count": null,
      "outputs": [
        {
          "output_type": "stream",
          "name": "stdout",
          "text": [
            "None\n"
          ]
        }
      ]
    },
    {
      "cell_type": "markdown",
      "source": [
        "# **Last time**"
      ],
      "metadata": {
        "id": "UaTiXXMseyS3"
      }
    },
    {
      "cell_type": "code",
      "source": [
        "!pip install requests\n",
        "!pip install beautifulsoup4"
      ],
      "metadata": {
        "id": "ZRu8AsjKe2MV",
        "outputId": "49b49d1e-c236-41ad-9ec2-bdd724886fee",
        "colab": {
          "base_uri": "https://localhost:8080/"
        }
      },
      "execution_count": null,
      "outputs": [
        {
          "output_type": "stream",
          "name": "stdout",
          "text": [
            "Looking in indexes: https://pypi.org/simple, https://us-python.pkg.dev/colab-wheels/public/simple/\n",
            "Requirement already satisfied: requests in /usr/local/lib/python3.7/dist-packages (2.23.0)\n",
            "Requirement already satisfied: chardet<4,>=3.0.2 in /usr/local/lib/python3.7/dist-packages (from requests) (3.0.4)\n",
            "Requirement already satisfied: certifi>=2017.4.17 in /usr/local/lib/python3.7/dist-packages (from requests) (2022.9.24)\n",
            "Requirement already satisfied: urllib3!=1.25.0,!=1.25.1,<1.26,>=1.21.1 in /usr/local/lib/python3.7/dist-packages (from requests) (1.24.3)\n",
            "Requirement already satisfied: idna<3,>=2.5 in /usr/local/lib/python3.7/dist-packages (from requests) (2.10)\n",
            "Looking in indexes: https://pypi.org/simple, https://us-python.pkg.dev/colab-wheels/public/simple/\n",
            "Requirement already satisfied: beautifulsoup4 in /usr/local/lib/python3.7/dist-packages (4.6.3)\n"
          ]
        }
      ]
    },
    {
      "cell_type": "code",
      "source": [
        "#import requests library\n",
        "import requests\n",
        "#the website URL\n",
        "url_link = \"https://www.bbc.com/swahili/articles/crg3pvn4m79o\"\n",
        "result = requests.get(url_link).text\n",
        "print(result)"
      ],
      "metadata": {
        "id": "NXuftEaJe5cE"
      },
      "execution_count": null,
      "outputs": []
    },
    {
      "cell_type": "code",
      "source": [
        "from bs4 import BeautifulSoup\n",
        "#import requests library\n",
        "import requests\n",
        "#the website URL\n",
        "url_link = \"https://www.bbc.com/swahili/articles/crg3pvn4m79o\"\n",
        "result = requests.get(url_link).text\n",
        "doc = BeautifulSoup(result, \"html.parser\")\n",
        "\n",
        "print(doc.prettify())"
      ],
      "metadata": {
        "id": "WgwCkbDmfMPi"
      },
      "execution_count": null,
      "outputs": []
    },
    {
      "cell_type": "code",
      "source": [
        "res = doc.find(id = \"main-wrapper\")\n",
        "print(res)"
      ],
      "metadata": {
        "id": "wMyKJO97gcmN",
        "outputId": "35958265-0fc1-4323-f743-a5299762bfc4",
        "colab": {
          "base_uri": "https://localhost:8080/"
        }
      },
      "execution_count": null,
      "outputs": [
        {
          "output_type": "stream",
          "name": "stdout",
          "text": [
            "<div class=\"bbc-pugjnv eoodvxp1\" id=\"main-wrapper\"><header role=\"banner\"><div class=\"ep1mqcj0 bbc-7w23m6 e10yv9r12\"><div class=\"bbc-1dg7u9h e10yv9r13\"><a aria-labelledby=\"BrandLink-topPage\" class=\"bbc-jrvams e10yv9r11\" href=\"/swahili\" id=\"topPage\"><svg aria-hidden=\"true\" class=\"bbc-1jefi8v e10yv9r10\" focusable=\"false\" height=\"32\" viewbox=\"140 140 1479 145\" xmlns=\"http://www.w3.org/2000/svg\"><g fill-rule=\"evenodd\" stroke=\"#000\" stroke-width=\".335\" style=\"stroke:#fff\"><path d=\"M759.928 265.75a4646.67 4646.67 0 00-23.49-37.242 2633.129 2633.129 0 00-23.49-36.2v73.442h-22.002V159.452h23.192a2668.556 2668.556 0 0123.713 36.052 2774.159 2774.159 0 0123.266 36.647v-72.699h22.004V265.75h-23.193zM804.187 159.452h73.145v19.03h-50.25v23.044h44.6v19.029h-44.6v26.166h53.075v19.03h-75.97V159.451zM982.101 265.75a3174.441 3174.441 0 01-9.886-35.978 3159.855 3159.855 0 01-9.44-35.977 2391.54 2391.54 0 01-9.218 35.977 2452.296 2452.296 0 01-9.812 35.978h-24.233a2032.839 2032.839 0 01-14.57-52.628c-4.66-17.74-9.069-35.63-13.231-53.67h24.976a2003.215 2003.215 0 007.88 41.33 1444.404 1444.404 0 008.77 40.586 3259.894 3259.894 0 0018.882-77.456h22.3a3251.95 3251.95 0 0018.732 75.821 1999.976 1999.976 0 008.623-39.843 1455.41 1455.41 0 007.73-40.438h24.532a1845.28 1845.28 0 01-13.232 53.67 2041.61 2041.61 0 01-14.57 52.628h-24.233zM1077.471 267.98c-5.849 0-11.621-.645-17.32-1.932a66.227 66.227 0 01-16.427-6.096v-20.516c10.604 6.444 21.854 9.663 33.747 9.663 6.74 0 11.869-1.138 15.388-3.419 3.517-2.28 5.277-5.45 5.277-9.515 0-3.07-.868-5.475-2.601-7.21-1.735-1.733-4.04-3.122-6.914-4.163-2.875-1.04-6.095-2.007-9.663-2.899-5.849-1.387-11.001-2.974-15.461-4.757-4.46-1.784-8.228-3.889-11.3-6.319-3.072-2.427-5.402-5.352-6.987-8.771-1.586-3.42-2.378-7.508-2.378-12.265 0-6.74 1.71-12.537 5.129-17.395 3.42-4.855 8.25-8.597 14.495-11.225 6.244-2.624 13.678-3.939 22.3-3.939 5.65 0 11.2.646 16.651 1.933 5.45 1.289 10.356 3.024 14.719 5.203v20.22c-4.363-2.677-9.292-4.758-14.793-6.245-5.5-1.487-11.027-2.23-16.577-2.23-6.046 0-10.73 1.04-14.049 3.122-3.321 2.081-4.98 5.055-4.98 8.92 0 2.776.792 4.98 2.378 6.616 1.585 1.635 3.84 2.973 6.765 4.014 2.922 1.04 6.367 2.058 10.332 3.047 5.055 1.29 9.761 2.702 14.124 4.238 4.36 1.537 8.2 3.493 11.522 5.872 3.32 2.379 5.895 5.403 7.73 9.069 1.834 3.668 2.75 8.177 2.75 13.529 0 7.038-1.735 13.06-5.202 18.063-3.47 5.006-8.475 8.823-15.016 11.447-6.541 2.626-14.421 3.94-23.639 3.94z\"></path><path d=\"M141.733 141.732v141.733h141.732V141.732H141.733zm98.839 100.024c-2.422 3.42-5.873 6.06-10.353 7.917-4.482 1.859-9.865 2.788-16.152 2.788h-31.763v-79.725h29.92c8.816 0 15.646 1.767 20.488 5.297 4.841 3.531 7.264 8.604 7.264 15.22 0 3.79-.868 7.08-2.602 9.868-1.735 2.787-4.301 5-7.697 6.634 4.697 1.561 8.293 4.033 10.786 7.415 2.494 3.383 3.74 7.49 3.74 12.321 0 4.758-1.21 8.847-3.631 12.265zm-20.272-38.97c2.204-1.82 3.307-4.366 3.307-7.638 0-6.317-4.302-9.477-12.901-9.477h-12.25v19.847h12.25c4.19 0 7.389-.91 9.594-2.732zm-7.534 15.22h-14.31v21.52h14.093c4.841 0 8.564-.91 11.166-2.731 2.601-1.821 3.902-4.441 3.902-7.861 0-7.285-4.95-10.928-14.851-10.928zM318.898 141.732v141.733h141.733V141.732H318.898zm98.839 100.024c-2.422 3.42-5.873 6.06-10.352 7.917-4.483 1.859-9.866 2.788-16.153 2.788H359.47v-79.725h29.92c8.816 0 15.646 1.767 20.489 5.296 4.84 3.532 7.263 8.605 7.263 15.22 0 3.792-.867 7.081-2.602 9.869-1.735 2.787-4.3 5-7.697 6.634 4.698 1.56 8.294 4.033 10.787 7.415 2.493 3.383 3.74 7.49 3.74 12.321 0 4.758-1.211 8.847-3.632 12.265zm-20.272-38.97c2.204-1.82 3.307-4.366 3.307-7.638 0-6.317-4.301-9.477-12.9-9.477h-12.25v19.847h12.25c4.19 0 7.388-.91 9.593-2.732zm-7.534 15.22h-14.31v21.52h14.093c4.841 0 8.564-.91 11.166-2.732 2.602-1.82 3.903-4.44 3.903-7.86 0-7.285-4.952-10.928-14.852-10.928zM496.064 283.465h141.732V141.732H496.064v141.733zm101.793-36.057c-3.302 1.822-7.128 3.261-11.478 4.316-4.352 1.056-8.929 1.586-13.73 1.586-6.376 0-12.115-.93-17.216-2.787-5.103-1.858-9.416-4.536-12.941-8.033-3.527-3.498-6.228-7.777-8.103-12.842-1.875-5.063-2.813-10.766-2.813-17.105 0-6.192.974-11.784 2.926-16.776 1.95-4.99 4.763-9.271 8.44-12.842 3.675-3.569 8.083-6.301 13.222-8.197 5.138-1.893 10.896-2.841 17.274-2.841 4.425 0 8.608.456 12.547 1.366 3.938.912 7.596 2.24 10.972 3.99v15.518a36.771 36.771 0 00-10.016-4.644c-3.6-1.056-7.39-1.585-11.365-1.585-5.477 0-10.148 1.021-14.01 3.06-3.865 2.04-6.828 4.992-8.89 8.853-2.065 3.863-3.095 8.562-3.095 14.098 0 5.539.993 10.257 2.983 14.154 1.986 3.898 4.875 6.868 8.664 8.907 3.788 2.04 8.383 3.06 13.785 3.06 8.252 0 15.867-2.148 22.844-6.448v15.192z\"></path><path d=\"M1199.677 254.134c-4.311 0-8.585-.484-12.822-1.45-4.236-.965-8.214-2.453-11.93-4.46v-12.933c7.655 4.757 15.98 7.135 24.976 7.135 5.575 0 9.867-1.04 12.878-3.122 3.01-2.08 4.516-4.942 4.516-8.585 0-2.08-.445-3.808-1.338-5.185-.892-1.374-2.1-2.526-3.624-3.457-1.525-.928-3.272-1.69-5.24-2.286a115.233 115.233 0 00-6.189-1.672c-3.94-.965-7.525-2.063-10.76-3.289-3.233-1.226-6.02-2.694-8.362-4.404-2.342-1.71-4.145-3.828-5.408-6.356-1.265-2.526-1.895-5.612-1.895-9.255 0-4.906 1.226-9.124 3.679-12.655 2.453-3.53 5.946-6.262 10.481-8.195 4.533-1.933 9.924-2.9 16.168-2.9 4.087 0 8.14.485 12.154 1.45 4.014.967 7.582 2.268 10.704 3.903v12.6c-2.975-1.858-6.45-3.363-10.426-4.516-3.977-1.153-8.195-1.729-12.655-1.729-5.056 0-8.995.948-11.819 2.843-2.826 1.896-4.237 4.591-4.237 8.084 0 2.529.669 4.516 2.007 5.966 1.338 1.45 3.233 2.603 5.686 3.456 2.453.856 5.314 1.692 8.586 2.509 3.568.892 6.97 1.896 10.203 3.01 3.233 1.115 6.093 2.548 8.585 4.294a18.615 18.615 0 015.854 6.634c1.411 2.675 2.118 6.021 2.118 10.035 0 5.129-1.264 9.516-3.79 13.157-2.529 3.643-6.19 6.45-10.983 8.418-4.795 1.97-10.501 2.955-17.117 2.955zM1306.72 252.462a3184.64 3184.64 0 01-8.14-28.656 2053.853 2053.853 0 01-7.806-28.768 3790.226 3790.226 0 01-7.749 28.712 2165.796 2165.796 0 01-8.084 28.712h-14.94a1273.56 1273.56 0 01-11.262-39.472 1378.742 1378.742 0 01-10.147-40.252h15.276a1493.4 1493.4 0 006.857 32.615 982.484 982.484 0 007.638 31.944 2106.476 2106.476 0 008.195-30.662 1841.42 1841.42 0 007.638-30.552h13.938c2.453 10.11 4.98 20.182 7.582 30.217a2241.452 2241.452 0 008.028 30.106 937.116 937.116 0 007.582-31.555 1663.448 1663.448 0 006.802-32.113h14.94a1676.15 1676.15 0 01-10.257 40.252 1531.079 1531.079 0 01-11.15 39.472h-14.941zM1399.823 252.462a768.04 768.04 0 00-3.401-9.756 783.676 783.676 0 00-3.512-9.646h-34.9a424.699 424.699 0 00-3.457 9.646c-1.115 3.233-2.23 6.485-3.345 9.756h-14.941a1552.105 1552.105 0 0115.666-40.922 1281.16 1281.16 0 0116.224-38.802h15.052a2022.776 2022.776 0 0116.446 39.917 2147.96 2147.96 0 0115.444 39.807h-15.276zm-37.465-31.22h26.203a2376.853 2376.853 0 00-6.466-17.395 1181.175 1181.175 0 00-6.58-17.06 780.29 780.29 0 00-6.746 17.115 956.335 956.335 0 00-6.411 17.34zM1478.654 252.462v-35.57h-38.802v35.57h-14.16v-79.724h14.16v31.89h38.802v-31.89h14.162v79.724h-14.162zM1507.98 172.738h14.16v79.724h-14.16v-79.724zM1537.304 172.738h14.16v67.459h39.25v12.265h-53.41v-79.724zM1602.979 172.738h14.16v79.724h-14.16v-79.724z\"></path></g></svg><span class=\"bbc-1gnhmg2 ed7bp6y0\" id=\"BrandLink-topPage\" role=\"text\"><span lang=\"en-GB\">BBC News, </span><span>Swahili</span></span></a><a class=\"bbc-1vz0m63 e126dcnt0\" dir=\"ltr\" href=\"#content\"><div>Ruka hadi maelezo</div></a></div></div><nav class=\"bbc-ju6s3q e11sm0on0\" dir=\"ltr\" role=\"navigation\"><div class=\"bbc-14sj40g e11sm0on5\"><div class=\"bbc-bjn8wh e1h1xvny0\"><button aria-expanded=\"false\" class=\"bbc-199oktr ebniykg0\" dir=\"ltr\" type=\"button\"><svg aria-hidden=\"true\" class=\"bbc-nhbdtu e11bbplg0\" focusable=\"false\" height=\"2.75rem\" viewbox=\"0 0 44 44\" width=\"2.75rem\"><path d=\"M12 29h21v-2.333H12V29zm0-5.833h21v-2.334H12v2.334zM12 15v2.333h21V15H12z\"></path></svg><span class=\"bbc-1gnhmg2 ed7bp6y0\">Yaliyomo</span></button><div class=\"bbc-cuz306 ekdzu100\" data-e2e=\"scrollable-nav\" dir=\"ltr\"><ul class=\"bbc-11krpir e11sm0on4\" role=\"list\"><li class=\"bbc-v83qz8 e11sm0on2\" dir=\"ltr\" role=\"listitem\"><a class=\"bbc-i7l0ik e11sm0on3\" href=\"/swahili\">Habari</a></li><li class=\"bbc-v83qz8 e11sm0on2\" dir=\"ltr\" role=\"listitem\"><a class=\"bbc-i7l0ik e11sm0on3\" href=\"/swahili/topics/ckdxndddjkxt\">Michezo</a></li><li class=\"bbc-v83qz8 e11sm0on2\" dir=\"ltr\" role=\"listitem\"><a class=\"bbc-i7l0ik e11sm0on3\" href=\"/swahili/media/video\">Video</a></li><li class=\"bbc-v83qz8 e11sm0on2\" dir=\"ltr\" role=\"listitem\"><a class=\"bbc-i7l0ik e11sm0on3\" href=\"/swahili/media-54071673\">Vipindi vya Redio</a></li></ul></div></div><div class=\"bbc-1x40ipt ebniykg6\" data-e2e=\"dropdown-nav\" height=\"0\"><ul class=\"bbc-dz10ac ebniykg4\" role=\"list\"><li class=\"bbc-89wdkq ebniykg3\" role=\"listitem\"><a aria-labelledby=\"dropdownNavigation-habari\" class=\"bbc-1x4t4sv ebniykg2\" href=\"/swahili\"><span id=\"dropdownNavigation-habari\">Habari</span></a></li><li class=\"bbc-89wdkq ebniykg3\" role=\"listitem\"><a aria-labelledby=\"dropdownNavigation-michezo\" class=\"bbc-1x4t4sv ebniykg2\" href=\"/swahili/topics/ckdxndddjkxt\"><span id=\"dropdownNavigation-michezo\">Michezo</span></a></li><li class=\"bbc-89wdkq ebniykg3\" role=\"listitem\"><a aria-labelledby=\"dropdownNavigation-video\" class=\"bbc-1x4t4sv ebniykg2\" href=\"/swahili/media/video\"><span id=\"dropdownNavigation-video\">Video</span></a></li><li class=\"bbc-89wdkq ebniykg3\" role=\"listitem\"><a aria-labelledby=\"dropdownNavigation-vipindi-vya-redio\" class=\"bbc-1x4t4sv ebniykg2\" href=\"/swahili/media-54071673\"><span id=\"dropdownNavigation-vipindi-vya-redio\">Vipindi vya Redio</span></a></li></ul></div></div></nav></header><div class=\"bbc-1ff36h2 eoodvxp0\"><div class=\"bbc-j6e0v4 e123m4vu4\"><noscript><img alt=\"\" height=\"1px\" src=\"https://a1.api.bbc.co.uk/hit.xiti?s=598342&amp;s2=86&amp;p=swahili.articles.crg3pvn4m79o.page&amp;x1=[urn%3Abbc%3Aoptimo%3Aasset%3Acrg3pvn4m79o]&amp;x2=[responsive]&amp;x3=[news-swahili]&amp;x4=[sw]&amp;x7=[article]&amp;x8=[simorgh-nojs]&amp;x9=[Vita%2Bvya%2BUkraine%3A%2B%2BHofu%2Bya%2Bzama%2Bza%2BSoviet%2Byarejea%2BUrusi]&amp;x11=[2022-11-02T11%3A04%3A29.926Z]&amp;x12=[2022-11-02T11%3A04%3A29.926Z]&amp;x13=[Russia-Ukraine%2Bwar~Ukraine]&amp;x14=[23d96e97-b777-413a-a8c5-85a2eda98613~ee8750ed-a7fb-453f-bfca-2aa8b3fb064c]\" style=\"position:absolute\" width=\"1px\"/></noscript><section aria-hidden=\"true\" aria-label=\"Matangazo\" class=\"bbc-p3fogx e8sa160\" data-e2e=\"advertisement\" role=\"region\"><div class=\"dotcom-ad\" id=\"dotcom-leaderboard\"></div></section><div class=\"e2un9en2 bbc-klixw8 ebmt73l0\" dir=\"ltr\"><div class=\"e2un9en1 bbc-1hwgxf ebmt73l0\" dir=\"ltr\"><main class=\"bbc-1fh9ug8 e123m4vu2\" role=\"main\"><div class=\"bbc-1151pbn ebmt73l0\" dir=\"ltr\"><h1 class=\"bbc-csfh25 e1p3vdyi0\" id=\"content\" tabindex=\"-1\"> Vita vya Ukraine:Hofu ya zama za Soviet yarejea Urusi </h1></div><div class=\"bbc-1ka88fa ebmt73l0\" dir=\"ltr\"><figure class=\"bbc-1qdcvv9 e1aczekt0\"><div class=\"bbc-172p16q ebmt73l0\" dir=\"ltr\"><div class=\"bbc-189y18v ebmt73l0\" dir=\"ltr\"><div class=\"bbc-997y1y eihqrxw0\" data-e2e=\"image-placeholder\" style=\"padding-bottom:56.25%\"><picture class=\"bbc-yfiktt e1mo64ex1\"><source sizes=\"(min-width: 1008px) 760px, 100vw\" srcset=\"https://ichef.bbci.co.uk/news/240/cpsprodpb/cae3/live/50146350-5a8f-11ed-ac87-630245663c6a.jpg.webp 240w, https://ichef.bbci.co.uk/news/320/cpsprodpb/cae3/live/50146350-5a8f-11ed-ac87-630245663c6a.jpg.webp 320w, https://ichef.bbci.co.uk/news/480/cpsprodpb/cae3/live/50146350-5a8f-11ed-ac87-630245663c6a.jpg.webp 480w, https://ichef.bbci.co.uk/news/624/cpsprodpb/cae3/live/50146350-5a8f-11ed-ac87-630245663c6a.jpg.webp 624w, https://ichef.bbci.co.uk/news/800/cpsprodpb/cae3/live/50146350-5a8f-11ed-ac87-630245663c6a.jpg.webp 800w\" type=\"image/webp\"/><source sizes=\"(min-width: 1008px) 760px, 100vw\" srcset=\"https://ichef.bbci.co.uk/news/240/cpsprodpb/cae3/live/50146350-5a8f-11ed-ac87-630245663c6a.jpg 240w, https://ichef.bbci.co.uk/news/320/cpsprodpb/cae3/live/50146350-5a8f-11ed-ac87-630245663c6a.jpg 320w, https://ichef.bbci.co.uk/news/480/cpsprodpb/cae3/live/50146350-5a8f-11ed-ac87-630245663c6a.jpg 480w, https://ichef.bbci.co.uk/news/624/cpsprodpb/cae3/live/50146350-5a8f-11ed-ac87-630245663c6a.jpg 624w, https://ichef.bbci.co.uk/news/800/cpsprodpb/cae3/live/50146350-5a8f-11ed-ac87-630245663c6a.jpg 800w\" type=\"image/jpeg\"/><img alt=\"th\" class=\"e3vrtyk0 bbc-rb7xa0 e1mo64ex0\" height=\"549\" src=\"https://ichef.bbci.co.uk/news/640/cpsprodpb/cae3/live/50146350-5a8f-11ed-ac87-630245663c6a.jpg\" width=\"976\"/></picture></div></div><div class=\"bbc-3edg7g ebmt73l0\" dir=\"ltr\"><figcaption class=\"bbc-1j9j9a3 e6i104o0\" dir=\"ltr\"><span class=\"bbc-1gnhmg2 ed7bp6y0\">Maelezo ya picha, </span><p>Mhadhiri Denis Skopin (kushoto) akiwa ameshikilia karatasi zake za kufukuzwa kutoka Chuo Kikuu cha Jimbo la St Petersburg</p></figcaption></div></div></figure></div><div class=\"bbc-19j92fr ebmt73l0\" dir=\"ltr\"><time class=\"bbc-j3wi5n e1mklfmt0\" datetime=\"2022-11-02\">Saa 2 zilizopita</time></div><div class=\"bbc-19j92fr ebmt73l0\" dir=\"ltr\"><p class=\"bbc-1y32vyc e17g058b0\" dir=\"ltr\">Katika nyumba yake ya St Petersburg, mhadhiri wa chuo kikuu Denis Skopin ananionyesha hati ambayo imebadilisha maisha yake.</p></div><div class=\"bbc-19j92fr ebmt73l0\" dir=\"ltr\"><p class=\"bbc-1y32vyc e17g058b0\" dir=\"ltr\">Maelekezo: \"Maelekezo No.87/2D. Kuhusu: Kufutwa kazi.\"</p></div><div class=\"bbc-19j92fr ebmt73l0\" dir=\"ltr\"><p class=\"bbc-1y32vyc e17g058b0\" dir=\"ltr\">Hadi hivi majuzi Denis alikuwa profesa msaidizi katika Kitivo cha Sanaa ya Kiliberali na Sayansi ya Chuo Kikuu cha Jimbo la St Petersburg. Lakini tarehe 20 Oktoba chuo kikuu kilimfukuza kazi kwa \"kitendo cha ukosefu wa maadili  ambacho hakiendani na kazi za elimu\".</p></div><div class=\"bbc-19j92fr ebmt73l0\" dir=\"ltr\"><p class=\"bbc-1y32vyc e17g058b0\" dir=\"ltr\">Hiki kinachoitwa kitendo kisicho cha madili kilikuwa ni nini? Kushiriki katika mkutano \"usioidhinishwa\".</p></div><section aria-hidden=\"true\" aria-label=\"Matangazo 2\" class=\"e123m4vu0 bbc-sswtix e8sa160\" data-e2e=\"advertisement\" role=\"region\"><div class=\"dotcom-ad\" id=\"dotcom-mpu\"></div></section><div class=\"bbc-19j92fr ebmt73l0\" dir=\"ltr\"><p class=\"bbc-1y32vyc e17g058b0\" dir=\"ltr\">Tarehe 21 Septemba Denis alijiunga na maandamano ya mitaani kupinga uamuzi wa Kremlin kuwaandikisha Warusi kupigana nchini Ukraine. Mapema siku hiyo, Rais Vladimir Putin alikuwa ametangaza \"uhamasishaji wa sehemu\" kote nchini. Wakati wa maandamano Denis alikamatwa na kukaa jela siku 10.</p></div><div class=\"bbc-19j92fr ebmt73l0\" dir=\"ltr\"><p class=\"bbc-1y32vyc e17g058b0\" dir=\"ltr\">\"Uhuru wa kujieleza nchini Urusi uko katika mgogoro,\" Denis ananiambia. \"Aina zote za uhuru ziko katika shida kubwa.\"</p></div><div class=\"bbc-19j92fr ebmt73l0\" dir=\"ltr\"><p class=\"bbc-1y32vyc e17g058b0\" dir=\"ltr\">\"Baada ya kuachiliwa kutoka kizuizini nilifanya kazi kwa wiki tatu zaidi, chuo kikuu kilinitumia barua za kunitaka nieleze kutokuwepo kwangu. Nilijibu kuwa nimekamatwa kwa kushiriki maandamano na kuwekwa kizuizini. Kisha Idara ya Rasilimali Watu alinipigia simu na kuniambia kuwa nimefukuzwa kazi.\"</p></div><div class=\"bbc-19j92fr ebmt73l0\" dir=\"ltr\"><p class=\"bbc-1y32vyc e17g058b0\" dir=\"ltr\">Siku yake ya mwisho kazini, wanafunzi wa Denis walikusanyika nje ya chuo kikuu kumuaga.</p></div><div class=\"bbc-19j92fr ebmt73l0\" dir=\"ltr\"><p class=\"bbc-1y32vyc e17g058b0\" dir=\"ltr\">Katika hotuba ya papo hapo (video iliwekwa mtandaoni) aliwaambia:</p></div><div class=\"bbc-19j92fr ebmt73l0\" dir=\"ltr\"><p class=\"bbc-1y32vyc e17g058b0\" dir=\"ltr\">\"Kitendo kisicho na maadili  ni nini? Kutenda kinyume na dhamiri yako na kutii maagizo ya mtu mwingine bila kusita. Nilitenda kulingana na dhamiri yangu. Nina hakika kwamba mustakabali wa nchi yetu ni wako.\" </p></div><div class=\"bbc-19j92fr ebmt73l0\" dir=\"ltr\"><p class=\"bbc-1y32vyc e17g058b0\" dir=\"ltr\">Wanafunzi waliangua makofi kwa mwalimu wao aliyefukuzwa kazi.</p></div><div class=\"bbc-19j92fr ebmt73l0\" dir=\"ltr\"><p class=\"bbc-1y32vyc e17g058b0\" dir=\"ltr\">\"Ninawapenda sana wanafunzi wangu,\" Denis ananiambia. \"Wana akili sana na wanaelewa vizuri kile kinachotokea sasa nchini Urusi. [Onyesho lao] la idhini haikuwa kwangu mimi binafsi. Badala yake, ilikuwa ni kutokubali kile kinachotokea sasa nchini Urusi.</p></div><div class=\"bbc-19j92fr ebmt73l0\" dir=\"ltr\"><p class=\"bbc-1y32vyc e17g058b0\" dir=\"ltr\">\"Watu wengi nchini Urusi hawathubutu kuandamana kwa sababu wana hatari ya kuadhibiwa kwa hilo. Lakini wengi wangependa kufanya hivyo. Na, kwa watu hawa, kutoa idhini kwa wale wanaofanya maandamano ni njia ya kutokubaliana na kile kinachotokea nchini Urusi. \"</p></div><div class=\"bbc-19j92fr ebmt73l0\" dir=\"ltr\"><p class=\"bbc-1y32vyc e17g058b0\" dir=\"ltr\"> </p></div><div class=\"bbc-1ka88fa ebmt73l0\" dir=\"ltr\"><figure class=\"bbc-1qdcvv9 e1aczekt0\"><div class=\"bbc-172p16q ebmt73l0\" dir=\"ltr\"><div class=\"bbc-189y18v ebmt73l0\" dir=\"ltr\"><div class=\"bbc-997y1y eihqrxw0\" data-e2e=\"image-placeholder\" style=\"padding-bottom:56.25%\"><div class=\"lazyload-wrapper \"><div class=\"lazyload-placeholder\"></div></div><noscript><picture class=\"bbc-yfiktt e1mo64ex1\"><source sizes=\"(min-width: 1008px) 760px, 100vw\" srcset=\"https://ichef.bbci.co.uk/news/240/cpsprodpb/c865/live/6abc4560-5a8f-11ed-ac87-630245663c6a.jpg.webp 240w, https://ichef.bbci.co.uk/news/320/cpsprodpb/c865/live/6abc4560-5a8f-11ed-ac87-630245663c6a.jpg.webp 320w, https://ichef.bbci.co.uk/news/480/cpsprodpb/c865/live/6abc4560-5a8f-11ed-ac87-630245663c6a.jpg.webp 480w, https://ichef.bbci.co.uk/news/624/cpsprodpb/c865/live/6abc4560-5a8f-11ed-ac87-630245663c6a.jpg.webp 624w, https://ichef.bbci.co.uk/news/800/cpsprodpb/c865/live/6abc4560-5a8f-11ed-ac87-630245663c6a.jpg.webp 800w\" type=\"image/webp\"/><source sizes=\"(min-width: 1008px) 760px, 100vw\" srcset=\"https://ichef.bbci.co.uk/news/240/cpsprodpb/c865/live/6abc4560-5a8f-11ed-ac87-630245663c6a.jpg 240w, https://ichef.bbci.co.uk/news/320/cpsprodpb/c865/live/6abc4560-5a8f-11ed-ac87-630245663c6a.jpg 320w, https://ichef.bbci.co.uk/news/480/cpsprodpb/c865/live/6abc4560-5a8f-11ed-ac87-630245663c6a.jpg 480w, https://ichef.bbci.co.uk/news/624/cpsprodpb/c865/live/6abc4560-5a8f-11ed-ac87-630245663c6a.jpg 624w, https://ichef.bbci.co.uk/news/800/cpsprodpb/c865/live/6abc4560-5a8f-11ed-ac87-630245663c6a.jpg 800w\" type=\"image/jpeg\"/><img alt=\"th\" class=\"e3vrtyk0 bbc-rb7xa0 e1mo64ex0\" height=\"549\" src=\"https://ichef.bbci.co.uk/news/640/cpsprodpb/c865/live/6abc4560-5a8f-11ed-ac87-630245663c6a.jpg\" width=\"976\"/></picture></noscript></div></div><div class=\"bbc-3edg7g ebmt73l0\" dir=\"ltr\"><figcaption class=\"bbc-1j9j9a3 e6i104o0\" dir=\"ltr\"><span class=\"bbc-1gnhmg2 ed7bp6y0\">Maelezo ya picha, </span><p>Denis anasema robo ya wenzake wameondoka Urusi tangu uvamizi wake kamili wa Ukraine</p></figcaption></div></div></figure></div><div class=\"bbc-19j92fr ebmt73l0\" dir=\"ltr\"><p class=\"bbc-1y32vyc e17g058b0\" dir=\"ltr\">Hadithi ya Denis Skopin haiangazii shinikizo tu ambalo wapinzani wa \"operesheni maalum ya kijeshi\" ya Kremlin wanakabiliwa hapa. Pia inazua maswali kuhusu mustakabali wa Urusi.</p></div><div class=\"bbc-19j92fr ebmt73l0\" dir=\"ltr\"><p class=\"bbc-1y32vyc e17g058b0\" dir=\"ltr\">\"Waliofungiwa nami katika kituo cha kizuizini kulikuwa na wataalamu wa IT, wanasayansi, madaktari, walimu na wanafunzi. Wengi wao sasa wako nje ya nchi. Kama mwenzangu mwenzangu, mwanahisabati kijana mwenye kipawa. </p></div><div class=\"bbc-19j92fr ebmt73l0\" dir=\"ltr\"><p class=\"bbc-1y32vyc e17g058b0\" dir=\"ltr\">\"Takriban 25% ya wenzangu wa karibu tayari wameondoka Urusi. Waliondoka baada ya Februari 24. Baadhi yao waliondoka mara moja, wengine waliondoka baada ya kutangazwa kwa uhamasishaji. Nadhani Urusi inapoteza watu bora sasa. Waliosoma zaidi, wenye nguvu zaidi. watu wanaofikiria sana wanaondoka nchini. Kwa kifupi, Urusi inaenda katika mwelekeo mbaya.\"</p></div><div class=\"bbc-19j92fr ebmt73l0\" dir=\"ltr\"><p class=\"bbc-1y32vyc e17g058b0\" dir=\"ltr\">Wakati ujao usio na uhakika sio tu matokeo ya sasa. Pia ni bidhaa ya zamani ya Urusi.</p></div><div class=\"bbc-19j92fr ebmt73l0\" dir=\"ltr\"><p class=\"bbc-1y32vyc e17g058b0\" dir=\"ltr\">Katika mji mzima kikundi kidogo cha wakaazi wa St Petersburg kimesimama kando ya mnara wa wahasiriwa wa Ugaidi Mkuu wa Joseph Stalin wa miaka ya 1930.</p></div><div class=\"bbc-19j92fr ebmt73l0\" dir=\"ltr\"><p class=\"bbc-1y32vyc e17g058b0\" dir=\"ltr\">Mnara huo umetengenezwa kwa mwamba mkubwa kutoka Visiwa vya Solovetsky vilivyo mbali, nyumbani kwa kambi moja ya kulazimishwa ya kulazimishwa ya Gulag. Kambi ya Solovki iliwekwa ili kuwafunga wafungwa wa kisiasa pamoja na wafungwa wengine.</p></div><div class=\"bbc-19j92fr ebmt73l0\" dir=\"ltr\"><p class=\"bbc-1y32vyc e17g058b0\" dir=\"ltr\">Watu wanapanga foleni kwenye maikrofoni. Wanachukua zamu kusoma majina ya watu waliokamatwa, kulaumiwa na kunyongwa ndani na karibu na St Petersburg.</p></div><div class=\"bbc-19j92fr ebmt73l0\" dir=\"ltr\"><p class=\"bbc-1y32vyc e17g058b0\" dir=\"ltr\">\"Ekaterina Gansovna. Umri: 46. </p></div><div class=\"bbc-19j92fr ebmt73l0\" dir=\"ltr\"><p class=\"bbc-1y32vyc e17g058b0\" dir=\"ltr\">Mfanyakazi wa Posta.</p></div><div class=\"bbc-19j92fr ebmt73l0\" dir=\"ltr\"><p class=\"bbc-1y32vyc e17g058b0\" dir=\"ltr\">Alikamatwa: Desemba 9, 1937.</p></div><div class=\"bbc-19j92fr ebmt73l0\" dir=\"ltr\"><p class=\"bbc-1y32vyc e17g058b0\" dir=\"ltr\">Alipigwa risasi tarehe  18 Januari 1938.</p></div><div class=\"bbc-19j92fr ebmt73l0\" dir=\"ltr\"><p class=\"bbc-1y32vyc e17g058b0\" dir=\"ltr\">Julia Stanislavovna. Umri: 41.</p></div><div class=\"bbc-19j92fr ebmt73l0\" dir=\"ltr\"><p class=\"bbc-1y32vyc e17g058b0\" dir=\"ltr\"> Meneja wa Akaunti za Kiwanda </p></div><div class=\"bbc-19j92fr ebmt73l0\" dir=\"ltr\"><p class=\"bbc-1y32vyc e17g058b0\" dir=\"ltr\">Alikamatwa: Septemba 27, 1937.</p></div><div class=\"bbc-19j92fr ebmt73l0\" dir=\"ltr\"><p class=\"bbc-1y32vyc e17g058b0\" dir=\"ltr\">Alipigwa risasi: 21 Desemba 1937.\"</p></div><div class=\"bbc-1ka88fa ebmt73l0\" dir=\"ltr\"><figure class=\"bbc-1qdcvv9 e1aczekt0\"><div class=\"bbc-172p16q ebmt73l0\" dir=\"ltr\"><div class=\"bbc-189y18v ebmt73l0\" dir=\"ltr\"><div class=\"bbc-997y1y eihqrxw0\" data-e2e=\"image-placeholder\" style=\"padding-bottom:56.25%\"><div class=\"lazyload-wrapper \"><div class=\"lazyload-placeholder\"></div></div><noscript><picture class=\"bbc-yfiktt e1mo64ex1\"><source sizes=\"(min-width: 1008px) 760px, 100vw\" srcset=\"https://ichef.bbci.co.uk/news/240/cpsprodpb/2021/live/805d3a50-5a8f-11ed-ac87-630245663c6a.jpg.webp 240w, https://ichef.bbci.co.uk/news/320/cpsprodpb/2021/live/805d3a50-5a8f-11ed-ac87-630245663c6a.jpg.webp 320w, https://ichef.bbci.co.uk/news/480/cpsprodpb/2021/live/805d3a50-5a8f-11ed-ac87-630245663c6a.jpg.webp 480w, https://ichef.bbci.co.uk/news/624/cpsprodpb/2021/live/805d3a50-5a8f-11ed-ac87-630245663c6a.jpg.webp 624w, https://ichef.bbci.co.uk/news/800/cpsprodpb/2021/live/805d3a50-5a8f-11ed-ac87-630245663c6a.jpg.webp 800w\" type=\"image/webp\"/><source sizes=\"(min-width: 1008px) 760px, 100vw\" srcset=\"https://ichef.bbci.co.uk/news/240/cpsprodpb/2021/live/805d3a50-5a8f-11ed-ac87-630245663c6a.jpg 240w, https://ichef.bbci.co.uk/news/320/cpsprodpb/2021/live/805d3a50-5a8f-11ed-ac87-630245663c6a.jpg 320w, https://ichef.bbci.co.uk/news/480/cpsprodpb/2021/live/805d3a50-5a8f-11ed-ac87-630245663c6a.jpg 480w, https://ichef.bbci.co.uk/news/624/cpsprodpb/2021/live/805d3a50-5a8f-11ed-ac87-630245663c6a.jpg 624w, https://ichef.bbci.co.uk/news/800/cpsprodpb/2021/live/805d3a50-5a8f-11ed-ac87-630245663c6a.jpg 800w\" type=\"image/jpeg\"/><img alt=\"th\" class=\"e3vrtyk0 bbc-rb7xa0 e1mo64ex0\" height=\"549\" src=\"https://ichef.bbci.co.uk/news/640/cpsprodpb/2021/live/805d3a50-5a8f-11ed-ac87-630245663c6a.jpg\" width=\"976\"/></picture></noscript></div></div><div class=\"bbc-3edg7g ebmt73l0\" dir=\"ltr\"><figcaption class=\"bbc-1j9j9a3 e6i104o0\" dir=\"ltr\"><span class=\"bbc-1gnhmg2 ed7bp6y0\">Maelezo ya picha, </span><p>Katika Mnara  huko St Petersburg, watu walisoma majina ya wahasiriwa wa Ugaidi mkuu wa Stalin</p></figcaption></div></div></figure></div><div class=\"bbc-19j92fr ebmt73l0\" dir=\"ltr\"><p class=\"bbc-1y32vyc e17g058b0\" dir=\"ltr\">Inafahamika kwamba dikteta wa Sovieti Stalin aliagiza  milioni ya raia wake kuuawa. Mamilioni zaidi ya maisha yaliharibiwa katika mashine yake ya ugaidi ambayo ilisababisha kukamatwa, kufukuzwa nchini na kufanya kazi ya kulazimishwa kwa watu wengi. Baadhi ya warithi wake, kama Nikita Khrushchev na Mikhail Gorbachev, walishutumu uhalifu wa Stalin.</p></div><div class=\"bbc-19j92fr ebmt73l0\" dir=\"ltr\"><p class=\"bbc-1y32vyc e17g058b0\" dir=\"ltr\">Mamlaka leo huweka msisitizo mdogo kwenye sura za giza za miaka ya Stalin, wakati Stalin mwenyewe mara nyingi anaonyeshwa kama shujaa ambaye alishinda Ujerumani ya Nazi na kugeuza Umoja wa Kisovieti kuwa nguvu kuu. Kremlin ya Putin inatafuta mazuri katika siku za nyuma - ushindi.</p></div><div class=\"bbc-19j92fr ebmt73l0\" dir=\"ltr\"><p class=\"bbc-1y32vyc e17g058b0\" dir=\"ltr\">\"Kwa bahati mbaya, nchi yetu haikufungua ukurasa huu vizuri. Ukandamizaji wa Stalin haukuzungumzwa vya kutosha au kulaaniwa kikamilifu. Hii ndiyo sababu vita vya Ukraine vinatokea leo,\" anasema Pensioner Ludmila, ambaye amekuja kuweka maua kwenye jiwe la  Solovki. </p></div><div class=\"bbc-19j92fr ebmt73l0\" dir=\"ltr\"><p class=\"bbc-1y32vyc e17g058b0\" dir=\"ltr\">\"Uzoefu unaonyesha kuwa kukaa kimya kunasababisha mambo mabaya. Hatupaswi kusahau madoa ya umwagaji damu ya historia ya nchi yetu.\"</p></div><div class=\"bbc-1ka88fa ebmt73l0\" dir=\"ltr\"><figure class=\"bbc-1qdcvv9 e1aczekt0\"><div class=\"bbc-172p16q ebmt73l0\" dir=\"ltr\"><div class=\"bbc-189y18v ebmt73l0\" dir=\"ltr\"><div class=\"bbc-997y1y eihqrxw0\" data-e2e=\"image-placeholder\" style=\"padding-bottom:56.25%\"><div class=\"lazyload-wrapper \"><div class=\"lazyload-placeholder\"></div></div><noscript><picture class=\"bbc-yfiktt e1mo64ex1\"><source sizes=\"(min-width: 1008px) 760px, 100vw\" srcset=\"https://ichef.bbci.co.uk/news/240/cpsprodpb/fafe/live/956d39e0-5a8f-11ed-ac87-630245663c6a.jpg.webp 240w, https://ichef.bbci.co.uk/news/320/cpsprodpb/fafe/live/956d39e0-5a8f-11ed-ac87-630245663c6a.jpg.webp 320w, https://ichef.bbci.co.uk/news/480/cpsprodpb/fafe/live/956d39e0-5a8f-11ed-ac87-630245663c6a.jpg.webp 480w, https://ichef.bbci.co.uk/news/624/cpsprodpb/fafe/live/956d39e0-5a8f-11ed-ac87-630245663c6a.jpg.webp 624w, https://ichef.bbci.co.uk/news/800/cpsprodpb/fafe/live/956d39e0-5a8f-11ed-ac87-630245663c6a.jpg.webp 800w\" type=\"image/webp\"/><source sizes=\"(min-width: 1008px) 760px, 100vw\" srcset=\"https://ichef.bbci.co.uk/news/240/cpsprodpb/fafe/live/956d39e0-5a8f-11ed-ac87-630245663c6a.jpg 240w, https://ichef.bbci.co.uk/news/320/cpsprodpb/fafe/live/956d39e0-5a8f-11ed-ac87-630245663c6a.jpg 320w, https://ichef.bbci.co.uk/news/480/cpsprodpb/fafe/live/956d39e0-5a8f-11ed-ac87-630245663c6a.jpg 480w, https://ichef.bbci.co.uk/news/624/cpsprodpb/fafe/live/956d39e0-5a8f-11ed-ac87-630245663c6a.jpg 624w, https://ichef.bbci.co.uk/news/800/cpsprodpb/fafe/live/956d39e0-5a8f-11ed-ac87-630245663c6a.jpg 800w\" type=\"image/jpeg\"/><img alt=\"th\" class=\"e3vrtyk0 bbc-rb7xa0 e1mo64ex0\" height=\"549\" src=\"https://ichef.bbci.co.uk/news/640/cpsprodpb/fafe/live/956d39e0-5a8f-11ed-ac87-630245663c6a.jpg\" width=\"976\"/></picture></noscript></div></div><div class=\"bbc-3edg7g ebmt73l0\" dir=\"ltr\"><figcaption class=\"bbc-1j9j9a3 e6i104o0\" dir=\"ltr\"><span class=\"bbc-1gnhmg2 ed7bp6y0\">Maelezo ya picha, </span><p>\n",
            "Dikteta wa Soviet Joseph Stalin amepitia aina  fulani ya ukarabati katika Urusi ya Putin - unaweza hata kununua bidhaa za Stalin.</p></figcaption></div></div></figure></div><div class=\"bbc-19j92fr ebmt73l0\" dir=\"ltr\"><p class=\"bbc-1y32vyc e17g058b0\" dir=\"ltr\">Mhadhiri wa chuo kikuu aliyefutwa kazi Denis Skopin amesoma miaka ya Stalin. Anaona uwiano kati ya wakati huo na sasa.</p></div><div class=\"bbc-19j92fr ebmt73l0\" dir=\"ltr\"><p class=\"bbc-1y32vyc e17g058b0\" dir=\"ltr\">\"Nimetoka kuchapisha kitabu kwa Kiingereza kuhusu jinsi watu wa  Urusi ya Stalin walivyowaondoa kwenye picha za pamoja wale waliotangazwa 'adui wa watu'. Wenzake, marafiki au hata ndugu wa karibu walilazimika kuondoa ishara zote za watu hao kwenye picha. Walifanya hivyo na mkasi na kwa wino.</p></div><div class=\"bbc-19j92fr ebmt73l0\" dir=\"ltr\"><p class=\"bbc-1y32vyc e17g058b0\" dir=\"ltr\">\"Kitivo nilichofundisha kilikuwa na ushirikiano na Chuo cha Bard, chuo cha sanaa huria cha Marekani. Mwaka jana Chuo cha Bard kilitangazwa kuwa 'shirika lisilofaa' nchini Urusi. Kwa hiyo, kitivo chetu kilivunja ushirikiano na jina la Chuo cha Bard likaondolewa kwenye vituo. inavyoonyeshwa kwenye korido za kitivo chetu kwa kutumia wino mweusi haswa. Kwa njia sawa na katika Urusi ya Stalin.\"</p></div><div class=\"bbc-19j92fr ebmt73l0\" dir=\"ltr\"><p class=\"bbc-1y32vyc e17g058b0\" dir=\"ltr\">Ikiwa, kama Denis anavyodai, wanafunzi wake \"wanaelewa vizuri sana\" kile kinachotokea Urusi na Ukraine, hilo linazua swali: ikiwa Warusi wachanga hawatashawishika na hoja za Kremlin, mamlaka itawashawishije umma kwa muda mrefu kufanya maandamano. bendera na kumuunga mkono rais?</p></div><div class=\"bbc-19j92fr ebmt73l0\" dir=\"ltr\"><p class=\"bbc-1y32vyc e17g058b0\" dir=\"ltr\">Jibu: kwa kuhakikisha vijana \"wanaelewa\" matukio kama Kremlin inavyofanya.</p></div><div class=\"bbc-19j92fr ebmt73l0\" dir=\"ltr\"><p class=\"bbc-1y32vyc e17g058b0\" dir=\"ltr\">Ili kusaidia kufikia hilo, somo jipya la uzalendo limeanzishwa katika shule kote Urusi kwa watoto wote wa shule: \"Mazungumzo Kuhusu Mambo Muhimu.\" Si sehemu ya mtaala rasmi, lakini ni somo la kwanza siku ya Jumatatu asubuhi na watoto wanahimizwa sana kuhudhuria.</p></div><div class=\"bbc-19j92fr ebmt73l0\" dir=\"ltr\"><p class=\"bbc-1y32vyc e17g058b0\" dir=\"ltr\">Ni \"mambo gani muhimu\" yanayojadiliwa hapo? Naam, wakati Rais Putin alipokuwa mwalimu huko Kaliningrad mnamo Septemba, aliambia kundi la watoto kwamba lengo la mashambulizi ya Urusi huko Ukraine ni \"kuilinda Urusi\" na alielezea Ukraine kama \"kinga dhidi ya Urusi.\" Unaweza kuona ni njia gani \"Mazungumzo\" </p></div><div class=\"bbc-19j92fr ebmt73l0\" dir=\"ltr\"><p class=\"bbc-1y32vyc e17g058b0\" dir=\"ltr\"> </p></div><div class=\"bbc-1ka88fa ebmt73l0\" dir=\"ltr\"><figure class=\"bbc-1qdcvv9 e1aczekt0\"><div class=\"bbc-172p16q ebmt73l0\" dir=\"ltr\"><div class=\"bbc-189y18v ebmt73l0\" dir=\"ltr\"><div class=\"bbc-997y1y eihqrxw0\" data-e2e=\"image-placeholder\" style=\"padding-bottom:56.25%\"><div class=\"lazyload-wrapper \"><div class=\"lazyload-placeholder\"></div></div><noscript><picture class=\"bbc-yfiktt e1mo64ex1\"><source sizes=\"(min-width: 1008px) 760px, 100vw\" srcset=\"https://ichef.bbci.co.uk/news/240/cpsprodpb/7e2a/live/aba89a10-5a8f-11ed-ac87-630245663c6a.jpg.webp 240w, https://ichef.bbci.co.uk/news/320/cpsprodpb/7e2a/live/aba89a10-5a8f-11ed-ac87-630245663c6a.jpg.webp 320w, https://ichef.bbci.co.uk/news/480/cpsprodpb/7e2a/live/aba89a10-5a8f-11ed-ac87-630245663c6a.jpg.webp 480w, https://ichef.bbci.co.uk/news/624/cpsprodpb/7e2a/live/aba89a10-5a8f-11ed-ac87-630245663c6a.jpg.webp 624w, https://ichef.bbci.co.uk/news/800/cpsprodpb/7e2a/live/aba89a10-5a8f-11ed-ac87-630245663c6a.jpg.webp 800w\" type=\"image/webp\"/><source sizes=\"(min-width: 1008px) 760px, 100vw\" srcset=\"https://ichef.bbci.co.uk/news/240/cpsprodpb/7e2a/live/aba89a10-5a8f-11ed-ac87-630245663c6a.jpg 240w, https://ichef.bbci.co.uk/news/320/cpsprodpb/7e2a/live/aba89a10-5a8f-11ed-ac87-630245663c6a.jpg 320w, https://ichef.bbci.co.uk/news/480/cpsprodpb/7e2a/live/aba89a10-5a8f-11ed-ac87-630245663c6a.jpg 480w, https://ichef.bbci.co.uk/news/624/cpsprodpb/7e2a/live/aba89a10-5a8f-11ed-ac87-630245663c6a.jpg 624w, https://ichef.bbci.co.uk/news/800/cpsprodpb/7e2a/live/aba89a10-5a8f-11ed-ac87-630245663c6a.jpg 800w\" type=\"image/jpeg\"/><img alt=\"th\" class=\"e3vrtyk0 bbc-rb7xa0 e1mo64ex0\" height=\"549\" src=\"https://ichef.bbci.co.uk/news/640/cpsprodpb/7e2a/live/aba89a10-5a8f-11ed-ac87-630245663c6a.jpg\" width=\"976\"/></picture></noscript></div></div><div class=\"bbc-3edg7g ebmt73l0\" dir=\"ltr\"><figcaption class=\"bbc-1j9j9a3 e6i104o0\" dir=\"ltr\"><span class=\"bbc-1gnhmg2 ed7bp6y0\">Maelezo ya picha, </span><p>Olga Milovidova anasema \"elimu ya kulazimishwa\" inamkumbusha enzi ya Soviet</p></figcaption></div></div></figure></div><div class=\"bbc-19j92fr ebmt73l0\" dir=\"ltr\"><p class=\"bbc-1y32vyc e17g058b0\" dir=\"ltr\">\"Hii ni elimu ya kulazimishwa. Kwa akili yangu hii ni hatari kama ilivyokuwa nyakati za Soviet wakati tulikuwa na masomo ya 'habari za kisiasa',\" anasema mwalimu wa St Petersburg Olga Milovidova, ambaye alistaafu mwezi uliopita. \"Katika siku hizo ilitubidi kusoma gazeti la Pravda. Na nakumbuka tulilazimika kusoma vitabu vya [kiongozi wa Soviet] Brezhnev kana kwamba ni kazi bora. Ilibidi tutoe maoni chanya tu. Hakukuwa na mjadala muhimu.</p></div><div class=\"bbc-19j92fr ebmt73l0\" dir=\"ltr\"><p class=\"bbc-1y32vyc e17g058b0\" dir=\"ltr\">\"Elimu na uzalendo hazipaswi kuunganishwa,\" anaamini Olga, ambaye alikuwa naibu mkurugenzi wa shule. \"Kuna watoto wanaamini tu. Hufumbua macho na wako tayari kuamini chochote. Hiyo ni hatari sana.\"</p></div></main><aside aria-labelledby=\"related-topics\" class=\"e123m4vu1 bbc-osmlsu e5jcirq1\" role=\"complementary\"><div class=\"e5jcirq0 bbc-1f2ds04 e1m6nvxw1\"><h2 class=\"bbc-1xclg2i e1m6nvxw0\"><span class=\"bbc-1fttcpj e1fapd9x4\"><span class=\"bbc-127x8fy e1fapd9x2\"><span class=\"bbc-35kjo7 e1fapd9x1\" dir=\"ltr\" id=\"related-topics\">Mada zinazohusiana</span></span></span></h2></div><ul class=\"bbc-1c01ksb e2o6ii41\" role=\"list\"><li class=\"bbc-ekyvwt e2o6ii40\"><a href=\"/swahili/topics/c010nex7j0mt\">Ukraine</a></li><li class=\"bbc-ekyvwt e2o6ii40\"><a href=\"/swahili/topics/c5xlgy11107t\">Ukraine vita</a></li></ul></aside><section aria-labelledby=\"related-content-heading\" class=\"bbc-myp4ny e1el4gw33\" data-e2e=\"related-content-heading\" role=\"region\"><div class=\"bbc-1rgju53 e1m6nvxw1\"><h2 class=\"bbc-1xclg2i e1m6nvxw0\"><span class=\"bbc-1fttcpj e1fapd9x4\"><span class=\"bbc-127x8fy e1fapd9x2\"><span class=\"bbc-35kjo7 e1fapd9x1\" dir=\"ltr\" id=\"related-content-heading\">Unaweza pia kusoma</span></span></span></h2></div><ul class=\"bbc-krv240 e1el4gw31\" role=\"list\"><li class=\"bbc-5yafxi e1el4gw32\"><div class=\"bbc-mlcqnp eq264yd0\"><div class=\"bbc-70p486 epcp8l40\"><div class=\"bbc-997y1y eihqrxw0\" data-e2e=\"image-placeholder\" style=\"padding-bottom:56.25%\"><picture class=\"bbc-yfiktt e1mo64ex1\"><source srcset=\"https://ichef.bbci.co.uk/news/70/cpsprodpb/4b9c/live/fc7adf40-5a83-11ed-b550-89b747c05d09.jpg.webp 70w, https://ichef.bbci.co.uk/news/95/cpsprodpb/4b9c/live/fc7adf40-5a83-11ed-b550-89b747c05d09.jpg.webp 95w, https://ichef.bbci.co.uk/news/144/cpsprodpb/4b9c/live/fc7adf40-5a83-11ed-b550-89b747c05d09.jpg.webp 144w, https://ichef.bbci.co.uk/news/183/cpsprodpb/4b9c/live/fc7adf40-5a83-11ed-b550-89b747c05d09.jpg.webp 183w, https://ichef.bbci.co.uk/news/240/cpsprodpb/4b9c/live/fc7adf40-5a83-11ed-b550-89b747c05d09.jpg.webp 240w, https://ichef.bbci.co.uk/news/320/cpsprodpb/4b9c/live/fc7adf40-5a83-11ed-b550-89b747c05d09.jpg.webp 320w, https://ichef.bbci.co.uk/news/660/cpsprodpb/4b9c/live/fc7adf40-5a83-11ed-b550-89b747c05d09.jpg.webp 660w\" type=\"image/jpeg\"/><source srcset=\"https://ichef.bbci.co.uk/news/70/cpsprodpb/4b9c/live/fc7adf40-5a83-11ed-b550-89b747c05d09.jpg 70w, https://ichef.bbci.co.uk/news/95/cpsprodpb/4b9c/live/fc7adf40-5a83-11ed-b550-89b747c05d09.jpg 95w, https://ichef.bbci.co.uk/news/144/cpsprodpb/4b9c/live/fc7adf40-5a83-11ed-b550-89b747c05d09.jpg 144w, https://ichef.bbci.co.uk/news/183/cpsprodpb/4b9c/live/fc7adf40-5a83-11ed-b550-89b747c05d09.jpg 183w, https://ichef.bbci.co.uk/news/240/cpsprodpb/4b9c/live/fc7adf40-5a83-11ed-b550-89b747c05d09.jpg 240w, https://ichef.bbci.co.uk/news/320/cpsprodpb/4b9c/live/fc7adf40-5a83-11ed-b550-89b747c05d09.jpg 320w, https://ichef.bbci.co.uk/news/660/cpsprodpb/4b9c/live/fc7adf40-5a83-11ed-b550-89b747c05d09.jpg 660w\" type=\"image/jpeg\"/><img alt=\".\" class=\"e1rlkf6p0 bbc-1nx3hns e1mo64ex0\" height=\"441\" src=\"https://ichef.bbci.co.uk/news/660/cpsprodpb/4b9c/live/fc7adf40-5a83-11ed-b550-89b747c05d09.jpg\" width=\"785\"/></picture></div><div class=\"bbc-2xm90o epcp8l41\"><h3 class=\" eq264yd1 bbc-1adscrw e1j5zm900\"><a aria-labelledby=\"promo-rel-content-promo-swahiliarticlesc515957ej80o-1\" class=\" bbc-1cydy6q e1ifqd8t0\" data-testid=\"promo-link\" href=\"/swahili/articles/c515957ej80o\"><span id=\"promo-rel-content-promo-swahiliarticlesc515957ej80o-1\">﻿Shambulio la Sevastopol: Fahamu jinsi ndege zisizo na rubani za Ukraine zilivyoshambulia Meli za Urusi </span></a></h3><time class=\"bbc-idwms3 e1mklfmt0\" datetime=\"2022-11-02\">Saa 5 zilizopita</time></div></div></div></li><li class=\"bbc-5yafxi e1el4gw32\"><div class=\"bbc-mlcqnp eq264yd0\"><div class=\"bbc-70p486 epcp8l40\"><div class=\"bbc-997y1y eihqrxw0\" data-e2e=\"image-placeholder\" style=\"padding-bottom:56.25%\"><picture class=\"bbc-yfiktt e1mo64ex1\"><source srcset=\"https://ichef.bbci.co.uk/news/70/cpsprodpb/5f97/live/804b0b50-5a62-11ed-b8eb-57d5d1bd8d78.jpg.webp 70w, https://ichef.bbci.co.uk/news/95/cpsprodpb/5f97/live/804b0b50-5a62-11ed-b8eb-57d5d1bd8d78.jpg.webp 95w, https://ichef.bbci.co.uk/news/144/cpsprodpb/5f97/live/804b0b50-5a62-11ed-b8eb-57d5d1bd8d78.jpg.webp 144w, https://ichef.bbci.co.uk/news/183/cpsprodpb/5f97/live/804b0b50-5a62-11ed-b8eb-57d5d1bd8d78.jpg.webp 183w, https://ichef.bbci.co.uk/news/240/cpsprodpb/5f97/live/804b0b50-5a62-11ed-b8eb-57d5d1bd8d78.jpg.webp 240w, https://ichef.bbci.co.uk/news/320/cpsprodpb/5f97/live/804b0b50-5a62-11ed-b8eb-57d5d1bd8d78.jpg.webp 320w, https://ichef.bbci.co.uk/news/555/cpsprodpb/5f97/live/804b0b50-5a62-11ed-b8eb-57d5d1bd8d78.jpg.webp 555w\" type=\"image/jpeg\"/><source srcset=\"https://ichef.bbci.co.uk/news/70/cpsprodpb/5f97/live/804b0b50-5a62-11ed-b8eb-57d5d1bd8d78.jpg 70w, https://ichef.bbci.co.uk/news/95/cpsprodpb/5f97/live/804b0b50-5a62-11ed-b8eb-57d5d1bd8d78.jpg 95w, https://ichef.bbci.co.uk/news/144/cpsprodpb/5f97/live/804b0b50-5a62-11ed-b8eb-57d5d1bd8d78.jpg 144w, https://ichef.bbci.co.uk/news/183/cpsprodpb/5f97/live/804b0b50-5a62-11ed-b8eb-57d5d1bd8d78.jpg 183w, https://ichef.bbci.co.uk/news/240/cpsprodpb/5f97/live/804b0b50-5a62-11ed-b8eb-57d5d1bd8d78.jpg 240w, https://ichef.bbci.co.uk/news/320/cpsprodpb/5f97/live/804b0b50-5a62-11ed-b8eb-57d5d1bd8d78.jpg 320w, https://ichef.bbci.co.uk/news/555/cpsprodpb/5f97/live/804b0b50-5a62-11ed-b8eb-57d5d1bd8d78.jpg 555w\" type=\"image/jpeg\"/><img alt=\"Mtu huyu alikuwa akitibiwa majeraha \" class=\"e1rlkf6p0 bbc-1nx3hns e1mo64ex0\" height=\"312\" src=\"https://ichef.bbci.co.uk/news/660/cpsprodpb/5f97/live/804b0b50-5a62-11ed-b8eb-57d5d1bd8d78.jpg\" width=\"555\"/></picture></div><div class=\"bbc-2xm90o epcp8l41\"><h3 class=\" eq264yd1 bbc-1adscrw e1j5zm900\"><a aria-labelledby=\"promo-rel-content-promo-swahiliarticlesc9we3mdwn12o-2\" class=\" bbc-1cydy6q e1ifqd8t0\" data-testid=\"promo-link\" href=\"/swahili/articles/c9we3mdwn12o\"><span id=\"promo-rel-content-promo-swahiliarticlesc9we3mdwn12o-2\">Vita vya Ukraine: Simulizi  za uvumilivu na machungu </span></a></h3><time class=\"bbc-idwms3 e1mklfmt0\" datetime=\"2022-11-02\">Saa 9 zilizopita</time></div></div></div></li><li class=\"bbc-5yafxi e1el4gw32\"><div class=\"bbc-mlcqnp eq264yd0\"><div class=\"bbc-70p486 epcp8l40\"><div class=\"bbc-997y1y eihqrxw0\" data-e2e=\"image-placeholder\" style=\"padding-bottom:56.25%\"><picture class=\"bbc-yfiktt e1mo64ex1\"><source srcset=\"https://ichef.bbci.co.uk/news/70/cpsprodpb/abeb/live/c0db27f0-3a31-11ed-9ae9-959994b8a64c.jpg.webp 70w, https://ichef.bbci.co.uk/news/95/cpsprodpb/abeb/live/c0db27f0-3a31-11ed-9ae9-959994b8a64c.jpg.webp 95w, https://ichef.bbci.co.uk/news/144/cpsprodpb/abeb/live/c0db27f0-3a31-11ed-9ae9-959994b8a64c.jpg.webp 144w, https://ichef.bbci.co.uk/news/183/cpsprodpb/abeb/live/c0db27f0-3a31-11ed-9ae9-959994b8a64c.jpg.webp 183w, https://ichef.bbci.co.uk/news/240/cpsprodpb/abeb/live/c0db27f0-3a31-11ed-9ae9-959994b8a64c.jpg.webp 240w, https://ichef.bbci.co.uk/news/320/cpsprodpb/abeb/live/c0db27f0-3a31-11ed-9ae9-959994b8a64c.jpg.webp 320w, https://ichef.bbci.co.uk/news/660/cpsprodpb/abeb/live/c0db27f0-3a31-11ed-9ae9-959994b8a64c.jpg.webp 660w\" type=\"image/jpeg\"/><source srcset=\"https://ichef.bbci.co.uk/news/70/cpsprodpb/abeb/live/c0db27f0-3a31-11ed-9ae9-959994b8a64c.jpg 70w, https://ichef.bbci.co.uk/news/95/cpsprodpb/abeb/live/c0db27f0-3a31-11ed-9ae9-959994b8a64c.jpg 95w, https://ichef.bbci.co.uk/news/144/cpsprodpb/abeb/live/c0db27f0-3a31-11ed-9ae9-959994b8a64c.jpg 144w, https://ichef.bbci.co.uk/news/183/cpsprodpb/abeb/live/c0db27f0-3a31-11ed-9ae9-959994b8a64c.jpg 183w, https://ichef.bbci.co.uk/news/240/cpsprodpb/abeb/live/c0db27f0-3a31-11ed-9ae9-959994b8a64c.jpg 240w, https://ichef.bbci.co.uk/news/320/cpsprodpb/abeb/live/c0db27f0-3a31-11ed-9ae9-959994b8a64c.jpg 320w, https://ichef.bbci.co.uk/news/660/cpsprodpb/abeb/live/c0db27f0-3a31-11ed-9ae9-959994b8a64c.jpg 660w\" type=\"image/jpeg\"/><img alt=\".\" class=\"e1rlkf6p0 bbc-1nx3hns e1mo64ex0\" height=\"549\" src=\"https://ichef.bbci.co.uk/news/660/cpsprodpb/abeb/live/c0db27f0-3a31-11ed-9ae9-959994b8a64c.jpg\" width=\"976\"/></picture></div><div class=\"bbc-2xm90o epcp8l41\"><h3 class=\" eq264yd1 bbc-1adscrw e1j5zm900\"><a aria-labelledby=\"promo-rel-content-promo-swahiliarticlescjm243nkemko-3\" class=\" bbc-1cydy6q e1ifqd8t0\" data-testid=\"promo-link\" href=\"/swahili/articles/cjm243nkemko\"><span id=\"promo-rel-content-promo-swahiliarticlescjm243nkemko-3\">Je ni kweli wanajeshi wa NATO wanapigana Ukraine?﻿</span></a></h3><time class=\"bbc-idwms3 e1mklfmt0\" datetime=\"2022-09-22\">22 Septemba 2022</time></div></div></div></li></ul></section></div><div class=\"e2un9en0 bbc-fm4knk ebmt73l0\" dir=\"ltr\"><div class=\"bbc-ncj0ot e1hl8h1d0\" data-testid=\"top-stories\"><section aria-labelledby=\"top-stories-heading\" class=\"bbc-6bz6fw e1tkiwos2\" data-e2e=\"top-stories-heading\" role=\"region\"><div class=\"e1tkiwos3 bbc-i92hd0 e1m6nvxw1\"><h2 class=\"bbc-1xclg2i e1m6nvxw0\"><span class=\"bbc-1fttcpj e1fapd9x4\"><span class=\"bbc-127x8fy e1fapd9x2\"><span class=\"bbc-35kjo7 e1fapd9x1\" dir=\"ltr\" id=\"top-stories-heading\">Habari kuu</span></span></span></h2></div><ul class=\"bbc-1d0toth e1tkiwos1\" role=\"list\"><li class=\"bbc-13nhqkg e1tkiwos0\"><div class=\"bbc-mlcqnp e1hx0uzj0\"><div class=\"bbc-70p486 epcp8l40\"><div class=\"bbc-2xm90o epcp8l41\"><h3 class=\" e1hx0uzj1 bbc-1eb0t4x e1j5zm900\"><a aria-labelledby=\"top-stories-promo-swahililivehabari63481727-1\" class=\" bbc-1cydy6q e1ifqd8t0\" data-testid=\"promo-link\" href=\"/swahili/live/habari-63481727\"><span id=\"top-stories-promo-swahililivehabari63481727-1\" role=\"text\"><span class=\"bbc-jscpav e1cv09wj0\" dir=\"ltr\">Moja kwa moja </span><span>Jeshi la Tanzania limetuma mamia ya wanajeshi kusaidia wazima moto Mlima Kilimanjaro</span></span></a></h3><time class=\"e1hx0uzj3 bbc-e7wa3c e1mklfmt0\" datetime=\"2022-11-02\">Saa 9 zilizopita</time></div></div></div></li><li class=\"bbc-13nhqkg e1tkiwos0\"><div class=\"bbc-mlcqnp e1hx0uzj0\"><div class=\"bbc-70p486 epcp8l40\"><div class=\"bbc-2xm90o epcp8l41\"><h3 class=\" e1hx0uzj1 bbc-1eb0t4x e1j5zm900\"><a aria-labelledby=\"top-stories-promo-swahiliarticlescrg3pvn4m79o-text-2\" class=\" bbc-1cydy6q e1ifqd8t0\" data-testid=\"promo-link\" href=\"/swahili/articles/crg3pvn4m79o\"><span id=\"top-stories-promo-swahiliarticlescrg3pvn4m79o-text-2\"> Vita vya Ukraine:Hofu ya zama za Soviet yarejea Urusi</span></a></h3><time class=\"e1hx0uzj3 bbc-e7wa3c e1mklfmt0\" datetime=\"2022-11-02\">Saa 2 zilizopita</time></div></div></div></li><li class=\"bbc-13nhqkg e1tkiwos0\"><div class=\"bbc-mlcqnp e1hx0uzj0\"><div class=\"bbc-70p486 epcp8l40\"><div class=\"bbc-2xm90o epcp8l41\"><h3 class=\" e1hx0uzj1 bbc-1eb0t4x e1j5zm900\"><a aria-labelledby=\"top-stories-promo-swahililivehabari63481727ns_mchannelsocialns_sourcetwitterns_campaignbbc_livens_linkname6362527649d9ef23494b8deb26video20inayosambazwa20mtandaoni20kuhusu20kifo20cha20mtoto20wa20davido20ni20bandia20polisi20nigeria2620221102t113a543a35804zns_fee0pinned_post_locatorurnasset0878cd54df744444a1db9720646d3e16pinned_post_asset_id6362527649d9ef23494b8debpinned_post_typeshare-text-3\" class=\" bbc-1cydy6q e1ifqd8t0\" data-testid=\"promo-link\" href=\"/swahili/live/habari-63481727?ns_mchannel=social&amp;ns_source=twitter&amp;ns_campaign=bbc_live&amp;ns_linkname=6362527649d9ef23494b8deb%26Video%20inayosambazwa%20mtandaoni%20kuhusu%20kifo%20cha%20mtoto%20wa%20Davido%20ni%20bandia-%20Polisi%20Nigeria%262022-11-02T11%3A54%3A35.804Z&amp;ns_fee=0&amp;pinned_post_locator=urn:asset:0878cd54-df74-4444-a1db-9720646d3e16&amp;pinned_post_asset_id=6362527649d9ef23494b8deb&amp;pinned_post_type=share\"><span id=\"top-stories-promo-swahililivehabari63481727ns_mchannelsocialns_sourcetwitterns_campaignbbc_livens_linkname6362527649d9ef23494b8deb26video20inayosambazwa20mtandaoni20kuhusu20kifo20cha20mtoto20wa20davido20ni20bandia20polisi20nigeria2620221102t113a543a35804zns_fee0pinned_post_locatorurnasset0878cd54df744444a1db9720646d3e16pinned_post_asset_id6362527649d9ef23494b8debpinned_post_typeshare-text-3\">Video inayosambazwa mtandaoni kuhusu kifo cha mtoto wa Davido ni bandia- Polisi Nigeria</span></a></h3><time class=\"e1hx0uzj3 bbc-e7wa3c e1mklfmt0\" datetime=\"2022-11-02\">Dakika 53 zilizopita</time></div></div></div></li></ul></section></div><div class=\"bbc-ncj0ot e1hl8h1d0\" data-testid=\"features\"><section aria-labelledby=\"features-analysis-heading\" class=\" bbc-6bz6fw e1l4j50z3\" data-e2e=\"features-analysis-heading\" role=\"region\"><div class=\"e1l4j50z1 bbc-g47oqm e1m6nvxw1\"><h2 class=\"bbc-1xclg2i e1m6nvxw0\"><span class=\"bbc-1fttcpj e1fapd9x4\"><span class=\"bbc-127x8fy e1fapd9x2\"><span class=\"bbc-35kjo7 e1fapd9x1\" dir=\"ltr\" id=\"features-analysis-heading\">Gumzo mitandaoni</span></span></span></h2></div><ul class=\"bbc-ofnqcj eowmifl1\" role=\"list\"><li class=\"bbc-1iuhj9a eowmifl0\"><div class=\"bbc-1wqa52e ek4j48o5\" data-testid=\"frosted-promo-0\"><a aria-hidden=\"true\" class=\"bbc-jae1wr ek4j48o4\" href=\"/swahili/articles/c9we3mdwn12o\" tabindex=\"-1\"></a><div class=\"bbc-1kd25z0 eihqrxw0\" data-e2e=\"image-placeholder\" style=\"padding-bottom:52%\"><div class=\"lazyload-wrapper \"><div class=\"lazyload-placeholder\"></div></div><noscript><picture class=\"bbc-yfiktt e1mo64ex1\"><source sizes=\"(min-width: 1008px) 400px\" srcset=\"https://ichef.bbci.co.uk/news/400/cpsprodpb/5f97/live/804b0b50-5a62-11ed-b8eb-57d5d1bd8d78.jpg.webp 400w\" type=\"image/webp\"/><source sizes=\"(min-width: 1008px) 400px\" srcset=\"https://ichef.bbci.co.uk/news/400/cpsprodpb/5f97/live/804b0b50-5a62-11ed-b8eb-57d5d1bd8d78.jpg 400w\" type=\"image/jpeg\"/><img alt=\"Mtu huyu alikuwa akitibiwa majeraha\" class=\"e3vrtyk0 bbc-rb7xa0 e1mo64ex0\" height=\"312\" src=\"https://ichef.bbci.co.uk/news/400/cpsprodpb/5f97/live/804b0b50-5a62-11ed-b8eb-57d5d1bd8d78.jpg.webp\" width=\"555\"/></picture></noscript></div><div class=\"lazyload-wrapper bbc-13udsys ek4j48o0\"><div class=\"bbc-1u7sva ek4j48o1\" data-testid=\"frosted-glass-lazyload-placeholder\"><h3 class=\"bbc-ti75j2 ek4j48o3\"><a class=\"bbc-67apaz ek4j48o2\" href=\"/swahili/articles/c9we3mdwn12o\">Vita vya Ukraine: Simulizi za uvumilivu na machungu</a></h3><time class=\"eii1kry0 bbc-1xry85v e1mklfmt0\" datetime=\"2022-11-02\">Saa 9 zilizopita</time></div></div></div></li><li class=\"bbc-1iuhj9a eowmifl0\"><div class=\"bbc-1wqa52e ek4j48o5\" data-testid=\"frosted-promo-0\"><a aria-hidden=\"true\" class=\"bbc-jae1wr ek4j48o4\" href=\"/swahili/articles/cpv1lrpeg24o\" tabindex=\"-1\"></a><div class=\"bbc-1kd25z0 eihqrxw0\" data-e2e=\"image-placeholder\" style=\"padding-bottom:52%\"><div class=\"lazyload-wrapper \"><div class=\"lazyload-placeholder\"></div></div><noscript><picture class=\"bbc-yfiktt e1mo64ex1\"><source sizes=\"(min-width: 1008px) 400px\" srcset=\"https://ichef.bbci.co.uk/news/400/cpsprodpb/FD44/production/_127463846_cfea465d-9a22-4c67-aa12-5c8a13d57574.jpg.webp 400w\" type=\"image/webp\"/><source sizes=\"(min-width: 1008px) 400px\" srcset=\"https://ichef.bbci.co.uk/news/400/cpsprodpb/FD44/production/_127463846_cfea465d-9a22-4c67-aa12-5c8a13d57574.jpg 400w\" type=\"image/jpeg\"/><img alt=\".\" class=\"e3vrtyk0 bbc-rb7xa0 e1mo64ex0\" height=\"450\" src=\"https://ichef.bbci.co.uk/news/400/cpsprodpb/FD44/production/_127463846_cfea465d-9a22-4c67-aa12-5c8a13d57574.jpg.webp\" width=\"800\"/></picture></noscript></div><div class=\"lazyload-wrapper bbc-13udsys ek4j48o0\"><div class=\"bbc-1u7sva ek4j48o1\" data-testid=\"frosted-glass-lazyload-placeholder\"><h3 class=\"bbc-ti75j2 ek4j48o3\"><a class=\"bbc-67apaz ek4j48o2\" href=\"/swahili/articles/cpv1lrpeg24o\">Sababu 5 kwa nini Putin hawezi kuamuru shambulizi la nyuklia</a></h3><time class=\"eii1kry0 bbc-1xry85v e1mklfmt0\" datetime=\"2022-11-01\">1 Novemba 2022</time></div></div></div></li><li class=\"bbc-1iuhj9a eowmifl0\"><div class=\"bbc-1wqa52e ek4j48o5\" data-testid=\"frosted-promo-0\"><a aria-hidden=\"true\" class=\"bbc-jae1wr ek4j48o4\" href=\"/swahili/articles/c4n28873mlzo\" tabindex=\"-1\"></a><div class=\"bbc-1kd25z0 eihqrxw0\" data-e2e=\"image-placeholder\" style=\"padding-bottom:52%\"><div class=\"lazyload-wrapper \"><div class=\"lazyload-placeholder\"></div></div><noscript><picture class=\"bbc-yfiktt e1mo64ex1\"><source sizes=\"(min-width: 1008px) 400px\" srcset=\"https://ichef.bbci.co.uk/news/400/cpsprodpb/D951/production/_127433655_ad74c4cb-c6bc-4774-a4f2-c60cadea009c.jpg.webp 400w\" type=\"image/webp\"/><source sizes=\"(min-width: 1008px) 400px\" srcset=\"https://ichef.bbci.co.uk/news/400/cpsprodpb/D951/production/_127433655_ad74c4cb-c6bc-4774-a4f2-c60cadea009c.jpg 400w\" type=\"image/jpeg\"/><img alt=\".\" class=\"e3vrtyk0 bbc-rb7xa0 e1mo64ex0\" height=\"549\" src=\"https://ichef.bbci.co.uk/news/400/cpsprodpb/D951/production/_127433655_ad74c4cb-c6bc-4774-a4f2-c60cadea009c.jpg.webp\" width=\"976\"/></picture></noscript></div><div class=\"lazyload-wrapper bbc-13udsys ek4j48o0\"><div class=\"bbc-1u7sva ek4j48o1\" data-testid=\"frosted-glass-lazyload-placeholder\"><h3 class=\"bbc-ti75j2 ek4j48o3\"><a class=\"bbc-67apaz ek4j48o2\" href=\"/swahili/articles/c4n28873mlzo\">Mambo 7 ambayo rais William Ruto ameyafanya kinyume na matarajio ya Uhuru Kenyatta</a></h3><time class=\"eii1kry0 bbc-1xry85v e1mklfmt0\" datetime=\"2022-10-31\">31 Oktoba 2022</time></div></div></div></li><li class=\"bbc-1iuhj9a eowmifl0\"><div class=\"bbc-1wqa52e ek4j48o5\" data-testid=\"frosted-promo-0\"><a aria-hidden=\"true\" class=\"bbc-jae1wr ek4j48o4\" href=\"/swahili/articles/cd12pjjj3g9o\" tabindex=\"-1\"></a><div class=\"bbc-1kd25z0 eihqrxw0\" data-e2e=\"image-placeholder\" style=\"padding-bottom:52%\"><div class=\"lazyload-wrapper \"><div class=\"lazyload-placeholder\"></div></div><noscript><picture class=\"bbc-yfiktt e1mo64ex1\"><source sizes=\"(min-width: 1008px) 400px\" srcset=\"https://ichef.bbci.co.uk/news/400/cpsprodpb/db95/live/6bae7090-5a6e-11ed-ac50-9b608552fe15.jpg.webp 400w\" type=\"image/webp\"/><source sizes=\"(min-width: 1008px) 400px\" srcset=\"https://ichef.bbci.co.uk/news/400/cpsprodpb/db95/live/6bae7090-5a6e-11ed-ac50-9b608552fe15.jpg 400w\" type=\"image/jpeg\"/><img alt=\"Yote ambayo yamesalia ya daraja la Morbi\" class=\"e3vrtyk0 bbc-rb7xa0 e1mo64ex0\" height=\"331\" src=\"https://ichef.bbci.co.uk/news/400/cpsprodpb/db95/live/6bae7090-5a6e-11ed-ac50-9b608552fe15.jpg.webp\" width=\"589\"/></picture></noscript></div><div class=\"lazyload-wrapper bbc-13udsys ek4j48o0\"><div class=\"bbc-1u7sva ek4j48o1\" data-testid=\"frosted-glass-lazyload-placeholder\"><h3 class=\"bbc-ti75j2 ek4j48o3\"><a class=\"bbc-67apaz ek4j48o2\" href=\"/swahili/articles/cd12pjjj3g9o\">Kuporomoka kwa daraja la Morbi: Jinsi eneo la watalii lilivyogeuka kuwa daraja la kifo</a></h3><time class=\"eii1kry0 bbc-1xry85v e1mklfmt0\" datetime=\"2022-11-02\">Saa 7 zilizopita</time></div></div></div></li><li class=\"bbc-1iuhj9a eowmifl0\"><div class=\"bbc-1wqa52e ek4j48o5\" data-testid=\"frosted-promo-0\"><a aria-hidden=\"true\" class=\"bbc-jae1wr ek4j48o4\" href=\"/swahili/articles/c9wel212nl4o\" tabindex=\"-1\"></a><div class=\"bbc-1kd25z0 eihqrxw0\" data-e2e=\"image-placeholder\" style=\"padding-bottom:52%\"><div class=\"lazyload-wrapper \"><div class=\"lazyload-placeholder\"></div></div><noscript><picture class=\"bbc-yfiktt e1mo64ex1\"><source sizes=\"(min-width: 1008px) 400px\" srcset=\"https://ichef.bbci.co.uk/news/400/cpsprodpb/207C/production/_127461380_mediaitem127461379.jpg.webp 400w\" type=\"image/webp\"/><source sizes=\"(min-width: 1008px) 400px\" srcset=\"https://ichef.bbci.co.uk/news/400/cpsprodpb/207C/production/_127461380_mediaitem127461379.jpg 400w\" type=\"image/jpeg\"/><img alt=\"w\" class=\"e3vrtyk0 bbc-rb7xa0 e1mo64ex0\" height=\"351\" src=\"https://ichef.bbci.co.uk/news/400/cpsprodpb/207C/production/_127461380_mediaitem127461379.jpg.webp\" width=\"624\"/></picture></noscript></div><div class=\"lazyload-wrapper bbc-13udsys ek4j48o0\"><div class=\"bbc-1u7sva ek4j48o1\" data-testid=\"frosted-glass-lazyload-placeholder\"><h3 class=\"bbc-ti75j2 ek4j48o3\"><a class=\"bbc-67apaz ek4j48o2\" href=\"/swahili/articles/c9wel212nl4o\">Tunachokifahamu kuhusu kinachoendelea mashariki mwa DRC</a></h3><time class=\"eii1kry0 bbc-1xry85v e1mklfmt0\" datetime=\"2022-11-01\">1 Novemba 2022</time></div></div></div></li><li class=\"bbc-1iuhj9a eowmifl0\"><div class=\"bbc-1wqa52e ek4j48o5\" data-testid=\"frosted-promo-0\"><a aria-hidden=\"true\" class=\"bbc-jae1wr ek4j48o4\" href=\"/swahili/articles/c51p97y8zlno\" tabindex=\"-1\"></a><div class=\"bbc-1kd25z0 eihqrxw0\" data-e2e=\"image-placeholder\" style=\"padding-bottom:52%\"><div class=\"lazyload-wrapper \"><div class=\"lazyload-placeholder\"></div></div><noscript><picture class=\"bbc-yfiktt e1mo64ex1\"><source sizes=\"(min-width: 1008px) 400px\" srcset=\"https://ichef.bbci.co.uk/news/400/cpsprodpb/c896/live/25e36ef0-59b8-11ed-ac87-630245663c6a.jpg.webp 400w\" type=\"image/webp\"/><source sizes=\"(min-width: 1008px) 400px\" srcset=\"https://ichef.bbci.co.uk/news/400/cpsprodpb/c896/live/25e36ef0-59b8-11ed-ac87-630245663c6a.jpg 400w\" type=\"image/jpeg\"/><img alt=\".\" class=\"e3vrtyk0 bbc-rb7xa0 e1mo64ex0\" height=\"450\" src=\"https://ichef.bbci.co.uk/news/400/cpsprodpb/c896/live/25e36ef0-59b8-11ed-ac87-630245663c6a.jpg.webp\" width=\"800\"/></picture></noscript></div><div class=\"lazyload-wrapper bbc-13udsys ek4j48o0\"><div class=\"bbc-1u7sva ek4j48o1\" data-testid=\"frosted-glass-lazyload-placeholder\"><h3 class=\"bbc-ti75j2 ek4j48o3\"><a class=\"bbc-67apaz ek4j48o2\" href=\"/swahili/articles/c51p97y8zlno\">Ni vitamini gani bora kwa ajili ya ubongo wako kuwa na afya?</a></h3><time class=\"eii1kry0 bbc-1xry85v e1mklfmt0\" datetime=\"2022-11-01\">1 Novemba 2022</time></div></div></div></li><li class=\"bbc-1iuhj9a eowmifl0\"><div class=\"bbc-1wqa52e ek4j48o5\" data-testid=\"frosted-promo-0\"><a aria-hidden=\"true\" class=\"bbc-jae1wr ek4j48o4\" href=\"/swahili/articles/cv280zq20plo\" tabindex=\"-1\"></a><div class=\"bbc-1kd25z0 eihqrxw0\" data-e2e=\"image-placeholder\" style=\"padding-bottom:52%\"><div class=\"lazyload-wrapper \"><div class=\"lazyload-placeholder\"></div></div><noscript><picture class=\"bbc-yfiktt e1mo64ex1\"><source sizes=\"(min-width: 1008px) 400px\" srcset=\"https://ichef.bbci.co.uk/news/400/cpsprodpb/0739/live/d395b180-59bc-11ed-997d-195a816d3de5.jpg.webp 400w\" type=\"image/webp\"/><source sizes=\"(min-width: 1008px) 400px\" srcset=\"https://ichef.bbci.co.uk/news/400/cpsprodpb/0739/live/d395b180-59bc-11ed-997d-195a816d3de5.jpg 400w\" type=\"image/jpeg\"/><img alt=\"CCTV\" class=\"e3vrtyk0 bbc-rb7xa0 e1mo64ex0\" height=\"1253\" src=\"https://ichef.bbci.co.uk/news/400/cpsprodpb/0739/live/d395b180-59bc-11ed-997d-195a816d3de5.jpg.webp\" width=\"2228\"/></picture></noscript></div><div class=\"lazyload-wrapper bbc-13udsys ek4j48o0\"><div class=\"bbc-1u7sva ek4j48o1\" data-testid=\"frosted-glass-lazyload-placeholder\"><h3 class=\"bbc-ti75j2 ek4j48o3\"><a class=\"bbc-67apaz ek4j48o2\" href=\"/swahili/articles/cv280zq20plo\">Jinsi Uhispania ilivyotazama huku wahamiaji wakikandamizwa hadi kufa kwenye mpaka wake</a></h3><time class=\"eii1kry0 bbc-1xry85v e1mklfmt0\" datetime=\"2022-11-01\">1 Novemba 2022</time></div></div></div></li><li class=\"bbc-1iuhj9a eowmifl0\"><div class=\"bbc-1wqa52e ek4j48o5\" data-testid=\"frosted-promo-0\"><a aria-hidden=\"true\" class=\"bbc-jae1wr ek4j48o4\" href=\"/swahili/articles/c3gqrldzn8qo\" tabindex=\"-1\"></a><div class=\"bbc-1kd25z0 eihqrxw0\" data-e2e=\"image-placeholder\" style=\"padding-bottom:52%\"><div class=\"lazyload-wrapper \"><div class=\"lazyload-placeholder\"></div></div><noscript><picture class=\"bbc-yfiktt e1mo64ex1\"><source sizes=\"(min-width: 1008px) 400px\" srcset=\"https://ichef.bbci.co.uk/news/400/cpsprodpb/CF33/production/_127434035_b6eb504e-92c3-43ad-a20b-5da358ee46bd.jpg.webp 400w\" type=\"image/webp\"/><source sizes=\"(min-width: 1008px) 400px\" srcset=\"https://ichef.bbci.co.uk/news/400/cpsprodpb/CF33/production/_127434035_b6eb504e-92c3-43ad-a20b-5da358ee46bd.jpg 400w\" type=\"image/jpeg\"/><img alt=\"Wanajeshi wa Kamandi ya Mtandao\" class=\"e3vrtyk0 bbc-rb7xa0 e1mo64ex0\" height=\"283\" src=\"https://ichef.bbci.co.uk/news/400/cpsprodpb/CF33/production/_127434035_b6eb504e-92c3-43ad-a20b-5da358ee46bd.jpg.webp\" width=\"504\"/></picture></noscript></div><div class=\"lazyload-wrapper bbc-13udsys ek4j48o0\"><div class=\"bbc-1u7sva ek4j48o1\" data-testid=\"frosted-glass-lazyload-placeholder\"><h3 class=\"bbc-ti75j2 ek4j48o3\"><a class=\"bbc-67apaz ek4j48o2\" href=\"/swahili/articles/c3gqrldzn8qo\">J﻿insi Marekani inavyoisaidia Ukraine kudhibiti mashambulizi ya kimtandao ya Urusi</a></h3><time class=\"eii1kry0 bbc-1xry85v e1mklfmt0\" datetime=\"2022-10-31\">31 Oktoba 2022</time></div></div></div></li><li class=\"bbc-1iuhj9a eowmifl0\"><div class=\"bbc-1wqa52e ek4j48o5\" data-testid=\"frosted-promo-0\"><a aria-hidden=\"true\" class=\"bbc-jae1wr ek4j48o4\" href=\"/swahili/articles/clwqz1y29jzo\" tabindex=\"-1\"></a><div class=\"bbc-1kd25z0 eihqrxw0\" data-e2e=\"image-placeholder\" style=\"padding-bottom:52%\"><div class=\"lazyload-wrapper \"><div class=\"lazyload-placeholder\"></div></div><noscript><picture class=\"bbc-yfiktt e1mo64ex1\"><source sizes=\"(min-width: 1008px) 400px\" srcset=\"https://ichef.bbci.co.uk/news/400/cpsprodpb/13E71/production/_116612518_gettyimages-694024327.jpg.webp 400w\" type=\"image/webp\"/><source sizes=\"(min-width: 1008px) 400px\" srcset=\"https://ichef.bbci.co.uk/news/400/cpsprodpb/13E71/production/_116612518_gettyimages-694024327.jpg 400w\" type=\"image/jpeg\"/><img alt=\"Bare stomach of a pregnant woman\" class=\"e3vrtyk0 bbc-rb7xa0 e1mo64ex0\" height=\"549\" src=\"https://ichef.bbci.co.uk/news/400/cpsprodpb/13E71/production/_116612518_gettyimages-694024327.jpg.webp\" width=\"976\"/></picture></noscript></div><div class=\"lazyload-wrapper bbc-13udsys ek4j48o0\"><div class=\"bbc-1u7sva ek4j48o1\" data-testid=\"frosted-glass-lazyload-placeholder\"><h3 class=\"bbc-ti75j2 ek4j48o3\"><a class=\"bbc-67apaz ek4j48o2\" href=\"/swahili/articles/clwqz1y29jzo\">Kwa nini akina mama wa sasa huhangaika 'kurudisha miili' baada ya kujifungua</a></h3><time class=\"eii1kry0 bbc-1xry85v e1mklfmt0\" datetime=\"2022-10-30\">30 Oktoba 2022</time></div></div></div></li></ul></section></div></div></div></div></div><footer class=\"bbc-1lvqtkx e1njnjcp0\" role=\"contentinfo\"><div class=\"ep1mqcj0 bbc-ynzuiv e10yv9r12\"><div class=\"bbc-1dg7u9h e10yv9r13\"><a aria-labelledby=\"BrandLink-footer\" class=\"bbc-jrvams e10yv9r11\" href=\"/swahili\" id=\"footer\"><svg aria-hidden=\"true\" class=\"bbc-1jefi8v e10yv9r10\" focusable=\"false\" height=\"32\" viewbox=\"140 140 1479 145\" xmlns=\"http://www.w3.org/2000/svg\"><g fill-rule=\"evenodd\" stroke=\"#000\" stroke-width=\".335\" style=\"stroke:#fff\"><path d=\"M759.928 265.75a4646.67 4646.67 0 00-23.49-37.242 2633.129 2633.129 0 00-23.49-36.2v73.442h-22.002V159.452h23.192a2668.556 2668.556 0 0123.713 36.052 2774.159 2774.159 0 0123.266 36.647v-72.699h22.004V265.75h-23.193zM804.187 159.452h73.145v19.03h-50.25v23.044h44.6v19.029h-44.6v26.166h53.075v19.03h-75.97V159.451zM982.101 265.75a3174.441 3174.441 0 01-9.886-35.978 3159.855 3159.855 0 01-9.44-35.977 2391.54 2391.54 0 01-9.218 35.977 2452.296 2452.296 0 01-9.812 35.978h-24.233a2032.839 2032.839 0 01-14.57-52.628c-4.66-17.74-9.069-35.63-13.231-53.67h24.976a2003.215 2003.215 0 007.88 41.33 1444.404 1444.404 0 008.77 40.586 3259.894 3259.894 0 0018.882-77.456h22.3a3251.95 3251.95 0 0018.732 75.821 1999.976 1999.976 0 008.623-39.843 1455.41 1455.41 0 007.73-40.438h24.532a1845.28 1845.28 0 01-13.232 53.67 2041.61 2041.61 0 01-14.57 52.628h-24.233zM1077.471 267.98c-5.849 0-11.621-.645-17.32-1.932a66.227 66.227 0 01-16.427-6.096v-20.516c10.604 6.444 21.854 9.663 33.747 9.663 6.74 0 11.869-1.138 15.388-3.419 3.517-2.28 5.277-5.45 5.277-9.515 0-3.07-.868-5.475-2.601-7.21-1.735-1.733-4.04-3.122-6.914-4.163-2.875-1.04-6.095-2.007-9.663-2.899-5.849-1.387-11.001-2.974-15.461-4.757-4.46-1.784-8.228-3.889-11.3-6.319-3.072-2.427-5.402-5.352-6.987-8.771-1.586-3.42-2.378-7.508-2.378-12.265 0-6.74 1.71-12.537 5.129-17.395 3.42-4.855 8.25-8.597 14.495-11.225 6.244-2.624 13.678-3.939 22.3-3.939 5.65 0 11.2.646 16.651 1.933 5.45 1.289 10.356 3.024 14.719 5.203v20.22c-4.363-2.677-9.292-4.758-14.793-6.245-5.5-1.487-11.027-2.23-16.577-2.23-6.046 0-10.73 1.04-14.049 3.122-3.321 2.081-4.98 5.055-4.98 8.92 0 2.776.792 4.98 2.378 6.616 1.585 1.635 3.84 2.973 6.765 4.014 2.922 1.04 6.367 2.058 10.332 3.047 5.055 1.29 9.761 2.702 14.124 4.238 4.36 1.537 8.2 3.493 11.522 5.872 3.32 2.379 5.895 5.403 7.73 9.069 1.834 3.668 2.75 8.177 2.75 13.529 0 7.038-1.735 13.06-5.202 18.063-3.47 5.006-8.475 8.823-15.016 11.447-6.541 2.626-14.421 3.94-23.639 3.94z\"></path><path d=\"M141.733 141.732v141.733h141.732V141.732H141.733zm98.839 100.024c-2.422 3.42-5.873 6.06-10.353 7.917-4.482 1.859-9.865 2.788-16.152 2.788h-31.763v-79.725h29.92c8.816 0 15.646 1.767 20.488 5.297 4.841 3.531 7.264 8.604 7.264 15.22 0 3.79-.868 7.08-2.602 9.868-1.735 2.787-4.301 5-7.697 6.634 4.697 1.561 8.293 4.033 10.786 7.415 2.494 3.383 3.74 7.49 3.74 12.321 0 4.758-1.21 8.847-3.631 12.265zm-20.272-38.97c2.204-1.82 3.307-4.366 3.307-7.638 0-6.317-4.302-9.477-12.901-9.477h-12.25v19.847h12.25c4.19 0 7.389-.91 9.594-2.732zm-7.534 15.22h-14.31v21.52h14.093c4.841 0 8.564-.91 11.166-2.731 2.601-1.821 3.902-4.441 3.902-7.861 0-7.285-4.95-10.928-14.851-10.928zM318.898 141.732v141.733h141.733V141.732H318.898zm98.839 100.024c-2.422 3.42-5.873 6.06-10.352 7.917-4.483 1.859-9.866 2.788-16.153 2.788H359.47v-79.725h29.92c8.816 0 15.646 1.767 20.489 5.296 4.84 3.532 7.263 8.605 7.263 15.22 0 3.792-.867 7.081-2.602 9.869-1.735 2.787-4.3 5-7.697 6.634 4.698 1.56 8.294 4.033 10.787 7.415 2.493 3.383 3.74 7.49 3.74 12.321 0 4.758-1.211 8.847-3.632 12.265zm-20.272-38.97c2.204-1.82 3.307-4.366 3.307-7.638 0-6.317-4.301-9.477-12.9-9.477h-12.25v19.847h12.25c4.19 0 7.388-.91 9.593-2.732zm-7.534 15.22h-14.31v21.52h14.093c4.841 0 8.564-.91 11.166-2.732 2.602-1.82 3.903-4.44 3.903-7.86 0-7.285-4.952-10.928-14.852-10.928zM496.064 283.465h141.732V141.732H496.064v141.733zm101.793-36.057c-3.302 1.822-7.128 3.261-11.478 4.316-4.352 1.056-8.929 1.586-13.73 1.586-6.376 0-12.115-.93-17.216-2.787-5.103-1.858-9.416-4.536-12.941-8.033-3.527-3.498-6.228-7.777-8.103-12.842-1.875-5.063-2.813-10.766-2.813-17.105 0-6.192.974-11.784 2.926-16.776 1.95-4.99 4.763-9.271 8.44-12.842 3.675-3.569 8.083-6.301 13.222-8.197 5.138-1.893 10.896-2.841 17.274-2.841 4.425 0 8.608.456 12.547 1.366 3.938.912 7.596 2.24 10.972 3.99v15.518a36.771 36.771 0 00-10.016-4.644c-3.6-1.056-7.39-1.585-11.365-1.585-5.477 0-10.148 1.021-14.01 3.06-3.865 2.04-6.828 4.992-8.89 8.853-2.065 3.863-3.095 8.562-3.095 14.098 0 5.539.993 10.257 2.983 14.154 1.986 3.898 4.875 6.868 8.664 8.907 3.788 2.04 8.383 3.06 13.785 3.06 8.252 0 15.867-2.148 22.844-6.448v15.192z\"></path><path d=\"M1199.677 254.134c-4.311 0-8.585-.484-12.822-1.45-4.236-.965-8.214-2.453-11.93-4.46v-12.933c7.655 4.757 15.98 7.135 24.976 7.135 5.575 0 9.867-1.04 12.878-3.122 3.01-2.08 4.516-4.942 4.516-8.585 0-2.08-.445-3.808-1.338-5.185-.892-1.374-2.1-2.526-3.624-3.457-1.525-.928-3.272-1.69-5.24-2.286a115.233 115.233 0 00-6.189-1.672c-3.94-.965-7.525-2.063-10.76-3.289-3.233-1.226-6.02-2.694-8.362-4.404-2.342-1.71-4.145-3.828-5.408-6.356-1.265-2.526-1.895-5.612-1.895-9.255 0-4.906 1.226-9.124 3.679-12.655 2.453-3.53 5.946-6.262 10.481-8.195 4.533-1.933 9.924-2.9 16.168-2.9 4.087 0 8.14.485 12.154 1.45 4.014.967 7.582 2.268 10.704 3.903v12.6c-2.975-1.858-6.45-3.363-10.426-4.516-3.977-1.153-8.195-1.729-12.655-1.729-5.056 0-8.995.948-11.819 2.843-2.826 1.896-4.237 4.591-4.237 8.084 0 2.529.669 4.516 2.007 5.966 1.338 1.45 3.233 2.603 5.686 3.456 2.453.856 5.314 1.692 8.586 2.509 3.568.892 6.97 1.896 10.203 3.01 3.233 1.115 6.093 2.548 8.585 4.294a18.615 18.615 0 015.854 6.634c1.411 2.675 2.118 6.021 2.118 10.035 0 5.129-1.264 9.516-3.79 13.157-2.529 3.643-6.19 6.45-10.983 8.418-4.795 1.97-10.501 2.955-17.117 2.955zM1306.72 252.462a3184.64 3184.64 0 01-8.14-28.656 2053.853 2053.853 0 01-7.806-28.768 3790.226 3790.226 0 01-7.749 28.712 2165.796 2165.796 0 01-8.084 28.712h-14.94a1273.56 1273.56 0 01-11.262-39.472 1378.742 1378.742 0 01-10.147-40.252h15.276a1493.4 1493.4 0 006.857 32.615 982.484 982.484 0 007.638 31.944 2106.476 2106.476 0 008.195-30.662 1841.42 1841.42 0 007.638-30.552h13.938c2.453 10.11 4.98 20.182 7.582 30.217a2241.452 2241.452 0 008.028 30.106 937.116 937.116 0 007.582-31.555 1663.448 1663.448 0 006.802-32.113h14.94a1676.15 1676.15 0 01-10.257 40.252 1531.079 1531.079 0 01-11.15 39.472h-14.941zM1399.823 252.462a768.04 768.04 0 00-3.401-9.756 783.676 783.676 0 00-3.512-9.646h-34.9a424.699 424.699 0 00-3.457 9.646c-1.115 3.233-2.23 6.485-3.345 9.756h-14.941a1552.105 1552.105 0 0115.666-40.922 1281.16 1281.16 0 0116.224-38.802h15.052a2022.776 2022.776 0 0116.446 39.917 2147.96 2147.96 0 0115.444 39.807h-15.276zm-37.465-31.22h26.203a2376.853 2376.853 0 00-6.466-17.395 1181.175 1181.175 0 00-6.58-17.06 780.29 780.29 0 00-6.746 17.115 956.335 956.335 0 00-6.411 17.34zM1478.654 252.462v-35.57h-38.802v35.57h-14.16v-79.724h14.16v31.89h38.802v-31.89h14.162v79.724h-14.162zM1507.98 172.738h14.16v79.724h-14.16v-79.724zM1537.304 172.738h14.16v67.459h39.25v12.265h-53.41v-79.724zM1602.979 172.738h14.16v79.724h-14.16v-79.724z\"></path></g></svg><span class=\"bbc-1gnhmg2 ed7bp6y0\" id=\"BrandLink-footer\" role=\"text\"><span lang=\"en-GB\">BBC News, </span><span>Swahili</span></span></a></div></div><div class=\"bbc-3tpgz4 e10s19zq3\"><div class=\"bbc-9xdv0m e10s19zq2\"><ul class=\"bbc-1v8m4zz e176fj8k1\" role=\"list\"><li class=\"bbc-jk7z0g e176fj8k0\"><a class=\"bbc-1w2c7jh e5ztwxl0\" href=\"https://www.bbc.com/swahili/taasisi-49283417\">Kwanini unaweza kuiamini BBC News</a></li><li class=\"bbc-jk7z0g e176fj8k0\" role=\"listitem\"><a class=\"bbc-1w2c7jh e5ztwxl0\" href=\"https://www.bbc.com/swahili/taasisi-37098622\">Sheria ya matumizi</a></li><li class=\"bbc-jk7z0g e176fj8k0\" role=\"listitem\"><a class=\"bbc-1w2c7jh e5ztwxl0\" href=\"https://www.bbc.com/swahili/taasisi-37100009\">Kuhusu BBC</a></li><li class=\"bbc-jk7z0g e176fj8k0\" role=\"listitem\"><a class=\"bbc-1w2c7jh e5ztwxl0\" href=\"https://www.bbc.com/swahili/taasisi-37100010\">Sera ya faragha</a></li><li class=\"bbc-jk7z0g e176fj8k0\" role=\"listitem\"><a class=\"bbc-1w2c7jh e5ztwxl0\" href=\"https://www.bbc.com/usingthebbc/cookies/\">Cookies</a></li><li class=\"bbc-jk7z0g e176fj8k0\" role=\"listitem\"><a class=\"bbc-1w2c7jh e5ztwxl0\" href=\"https://www.bbc.co.uk/swahili/send/u50853731\">Wasiliana na BBC</a></li><li class=\"bbc-jk7z0g e176fj8k0\" role=\"listitem\"><a class=\"bbc-1w2c7jh e5ztwxl0\" href=\"https://www.bbc.com/usingthebbc/cookies/how-does-the-bbc-use-cookies-for-advertising/\" lang=\"en-GB\">AdChoices / Do Not Sell My Info</a></li></ul><p class=\"bbc-1vue93d e10s19zq1\"><span lang=\"en-GB\">©<!-- --> </span>2022 BBC. BBC haihusiki na taarifa za kutoka mitandao ya nje.<!-- --> <a class=\"bbc-mt5e0g e5ztwxl0\" href=\"https://www.bbc.co.uk/editorialguidelines/guidance/feeds-and-links\">Soma kuhusu mtazamo wetu wa viambatanishi vya nje.</a></p></div></div></footer></div>\n"
          ]
        }
      ]
    },
    {
      "cell_type": "code",
      "source": [
        "heading = res.find(class_ = \"e2un9en2 bbc-klixw8 ebmt73l0\")\n",
        "print(heading.text)"
      ],
      "metadata": {
        "id": "2waXdZ5_fWRq",
        "outputId": "b85e8091-4b5b-4e1d-c4ea-76ecd531fa81",
        "colab": {
          "base_uri": "https://localhost:8080/"
        }
      },
      "execution_count": null,
      "outputs": [
        {
          "output_type": "stream",
          "name": "stdout",
          "text": [
            " Vita vya Ukraine:Hofu ya zama za Soviet yarejea Urusi Maelezo ya picha, Mhadhiri Denis Skopin (kushoto) akiwa ameshikilia karatasi zake za kufukuzwa kutoka Chuo Kikuu cha Jimbo la St PetersburgSaa 2 zilizopitaKatika nyumba yake ya St Petersburg, mhadhiri wa chuo kikuu Denis Skopin ananionyesha hati ambayo imebadilisha maisha yake.Maelekezo: \"Maelekezo No.87/2D. Kuhusu: Kufutwa kazi.\"Hadi hivi majuzi Denis alikuwa profesa msaidizi katika Kitivo cha Sanaa ya Kiliberali na Sayansi ya Chuo Kikuu cha Jimbo la St Petersburg. Lakini tarehe 20 Oktoba chuo kikuu kilimfukuza kazi kwa \"kitendo cha ukosefu wa maadili  ambacho hakiendani na kazi za elimu\".Hiki kinachoitwa kitendo kisicho cha madili kilikuwa ni nini? Kushiriki katika mkutano \"usioidhinishwa\".Tarehe 21 Septemba Denis alijiunga na maandamano ya mitaani kupinga uamuzi wa Kremlin kuwaandikisha Warusi kupigana nchini Ukraine. Mapema siku hiyo, Rais Vladimir Putin alikuwa ametangaza \"uhamasishaji wa sehemu\" kote nchini. Wakati wa maandamano Denis alikamatwa na kukaa jela siku 10.\"Uhuru wa kujieleza nchini Urusi uko katika mgogoro,\" Denis ananiambia. \"Aina zote za uhuru ziko katika shida kubwa.\"\"Baada ya kuachiliwa kutoka kizuizini nilifanya kazi kwa wiki tatu zaidi, chuo kikuu kilinitumia barua za kunitaka nieleze kutokuwepo kwangu. Nilijibu kuwa nimekamatwa kwa kushiriki maandamano na kuwekwa kizuizini. Kisha Idara ya Rasilimali Watu alinipigia simu na kuniambia kuwa nimefukuzwa kazi.\"Siku yake ya mwisho kazini, wanafunzi wa Denis walikusanyika nje ya chuo kikuu kumuaga.Katika hotuba ya papo hapo (video iliwekwa mtandaoni) aliwaambia:\"Kitendo kisicho na maadili  ni nini? Kutenda kinyume na dhamiri yako na kutii maagizo ya mtu mwingine bila kusita. Nilitenda kulingana na dhamiri yangu. Nina hakika kwamba mustakabali wa nchi yetu ni wako.\" Wanafunzi waliangua makofi kwa mwalimu wao aliyefukuzwa kazi.\"Ninawapenda sana wanafunzi wangu,\" Denis ananiambia. \"Wana akili sana na wanaelewa vizuri kile kinachotokea sasa nchini Urusi. [Onyesho lao] la idhini haikuwa kwangu mimi binafsi. Badala yake, ilikuwa ni kutokubali kile kinachotokea sasa nchini Urusi.\"Watu wengi nchini Urusi hawathubutu kuandamana kwa sababu wana hatari ya kuadhibiwa kwa hilo. Lakini wengi wangependa kufanya hivyo. Na, kwa watu hawa, kutoa idhini kwa wale wanaofanya maandamano ni njia ya kutokubaliana na kile kinachotokea nchini Urusi. \" Maelezo ya picha, Denis anasema robo ya wenzake wameondoka Urusi tangu uvamizi wake kamili wa UkraineHadithi ya Denis Skopin haiangazii shinikizo tu ambalo wapinzani wa \"operesheni maalum ya kijeshi\" ya Kremlin wanakabiliwa hapa. Pia inazua maswali kuhusu mustakabali wa Urusi.\"Waliofungiwa nami katika kituo cha kizuizini kulikuwa na wataalamu wa IT, wanasayansi, madaktari, walimu na wanafunzi. Wengi wao sasa wako nje ya nchi. Kama mwenzangu mwenzangu, mwanahisabati kijana mwenye kipawa. \"Takriban 25% ya wenzangu wa karibu tayari wameondoka Urusi. Waliondoka baada ya Februari 24. Baadhi yao waliondoka mara moja, wengine waliondoka baada ya kutangazwa kwa uhamasishaji. Nadhani Urusi inapoteza watu bora sasa. Waliosoma zaidi, wenye nguvu zaidi. watu wanaofikiria sana wanaondoka nchini. Kwa kifupi, Urusi inaenda katika mwelekeo mbaya.\"Wakati ujao usio na uhakika sio tu matokeo ya sasa. Pia ni bidhaa ya zamani ya Urusi.Katika mji mzima kikundi kidogo cha wakaazi wa St Petersburg kimesimama kando ya mnara wa wahasiriwa wa Ugaidi Mkuu wa Joseph Stalin wa miaka ya 1930.Mnara huo umetengenezwa kwa mwamba mkubwa kutoka Visiwa vya Solovetsky vilivyo mbali, nyumbani kwa kambi moja ya kulazimishwa ya kulazimishwa ya Gulag. Kambi ya Solovki iliwekwa ili kuwafunga wafungwa wa kisiasa pamoja na wafungwa wengine.Watu wanapanga foleni kwenye maikrofoni. Wanachukua zamu kusoma majina ya watu waliokamatwa, kulaumiwa na kunyongwa ndani na karibu na St Petersburg.\"Ekaterina Gansovna. Umri: 46. Mfanyakazi wa Posta.Alikamatwa: Desemba 9, 1937.Alipigwa risasi tarehe  18 Januari 1938.Julia Stanislavovna. Umri: 41. Meneja wa Akaunti za Kiwanda Alikamatwa: Septemba 27, 1937.Alipigwa risasi: 21 Desemba 1937.\"Maelezo ya picha, Katika Mnara  huko St Petersburg, watu walisoma majina ya wahasiriwa wa Ugaidi mkuu wa StalinInafahamika kwamba dikteta wa Sovieti Stalin aliagiza  milioni ya raia wake kuuawa. Mamilioni zaidi ya maisha yaliharibiwa katika mashine yake ya ugaidi ambayo ilisababisha kukamatwa, kufukuzwa nchini na kufanya kazi ya kulazimishwa kwa watu wengi. Baadhi ya warithi wake, kama Nikita Khrushchev na Mikhail Gorbachev, walishutumu uhalifu wa Stalin.Mamlaka leo huweka msisitizo mdogo kwenye sura za giza za miaka ya Stalin, wakati Stalin mwenyewe mara nyingi anaonyeshwa kama shujaa ambaye alishinda Ujerumani ya Nazi na kugeuza Umoja wa Kisovieti kuwa nguvu kuu. Kremlin ya Putin inatafuta mazuri katika siku za nyuma - ushindi.\"Kwa bahati mbaya, nchi yetu haikufungua ukurasa huu vizuri. Ukandamizaji wa Stalin haukuzungumzwa vya kutosha au kulaaniwa kikamilifu. Hii ndiyo sababu vita vya Ukraine vinatokea leo,\" anasema Pensioner Ludmila, ambaye amekuja kuweka maua kwenye jiwe la  Solovki. \"Uzoefu unaonyesha kuwa kukaa kimya kunasababisha mambo mabaya. Hatupaswi kusahau madoa ya umwagaji damu ya historia ya nchi yetu.\"Maelezo ya picha, \n",
            "Dikteta wa Soviet Joseph Stalin amepitia aina  fulani ya ukarabati katika Urusi ya Putin - unaweza hata kununua bidhaa za Stalin.Mhadhiri wa chuo kikuu aliyefutwa kazi Denis Skopin amesoma miaka ya Stalin. Anaona uwiano kati ya wakati huo na sasa.\"Nimetoka kuchapisha kitabu kwa Kiingereza kuhusu jinsi watu wa  Urusi ya Stalin walivyowaondoa kwenye picha za pamoja wale waliotangazwa 'adui wa watu'. Wenzake, marafiki au hata ndugu wa karibu walilazimika kuondoa ishara zote za watu hao kwenye picha. Walifanya hivyo na mkasi na kwa wino.\"Kitivo nilichofundisha kilikuwa na ushirikiano na Chuo cha Bard, chuo cha sanaa huria cha Marekani. Mwaka jana Chuo cha Bard kilitangazwa kuwa 'shirika lisilofaa' nchini Urusi. Kwa hiyo, kitivo chetu kilivunja ushirikiano na jina la Chuo cha Bard likaondolewa kwenye vituo. inavyoonyeshwa kwenye korido za kitivo chetu kwa kutumia wino mweusi haswa. Kwa njia sawa na katika Urusi ya Stalin.\"Ikiwa, kama Denis anavyodai, wanafunzi wake \"wanaelewa vizuri sana\" kile kinachotokea Urusi na Ukraine, hilo linazua swali: ikiwa Warusi wachanga hawatashawishika na hoja za Kremlin, mamlaka itawashawishije umma kwa muda mrefu kufanya maandamano. bendera na kumuunga mkono rais?Jibu: kwa kuhakikisha vijana \"wanaelewa\" matukio kama Kremlin inavyofanya.Ili kusaidia kufikia hilo, somo jipya la uzalendo limeanzishwa katika shule kote Urusi kwa watoto wote wa shule: \"Mazungumzo Kuhusu Mambo Muhimu.\" Si sehemu ya mtaala rasmi, lakini ni somo la kwanza siku ya Jumatatu asubuhi na watoto wanahimizwa sana kuhudhuria.Ni \"mambo gani muhimu\" yanayojadiliwa hapo? Naam, wakati Rais Putin alipokuwa mwalimu huko Kaliningrad mnamo Septemba, aliambia kundi la watoto kwamba lengo la mashambulizi ya Urusi huko Ukraine ni \"kuilinda Urusi\" na alielezea Ukraine kama \"kinga dhidi ya Urusi.\" Unaweza kuona ni njia gani \"Mazungumzo\"  Maelezo ya picha, Olga Milovidova anasema \"elimu ya kulazimishwa\" inamkumbusha enzi ya Soviet\"Hii ni elimu ya kulazimishwa. Kwa akili yangu hii ni hatari kama ilivyokuwa nyakati za Soviet wakati tulikuwa na masomo ya 'habari za kisiasa',\" anasema mwalimu wa St Petersburg Olga Milovidova, ambaye alistaafu mwezi uliopita. \"Katika siku hizo ilitubidi kusoma gazeti la Pravda. Na nakumbuka tulilazimika kusoma vitabu vya [kiongozi wa Soviet] Brezhnev kana kwamba ni kazi bora. Ilibidi tutoe maoni chanya tu. Hakukuwa na mjadala muhimu.\"Elimu na uzalendo hazipaswi kuunganishwa,\" anaamini Olga, ambaye alikuwa naibu mkurugenzi wa shule. \"Kuna watoto wanaamini tu. Hufumbua macho na wako tayari kuamini chochote. Hiyo ni hatari sana.\"Mada zinazohusianaUkraineUkraine vitaUnaweza pia kusoma﻿Shambulio la Sevastopol: Fahamu jinsi ndege zisizo na rubani za Ukraine zilivyoshambulia Meli za Urusi Saa 5 zilizopitaVita vya Ukraine: Simulizi  za uvumilivu na machungu Saa 9 zilizopitaJe ni kweli wanajeshi wa NATO wanapigana Ukraine?﻿22 Septemba 2022Habari kuuMoja kwa moja Jeshi la Tanzania limetuma mamia ya wanajeshi kusaidia wazima moto Mlima KilimanjaroSaa 9 zilizopita Vita vya Ukraine:Hofu ya zama za Soviet yarejea UrusiSaa 2 zilizopitaVideo inayosambazwa mtandaoni kuhusu kifo cha mtoto wa Davido ni bandia- Polisi NigeriaDakika 53 zilizopitaGumzo mitandaoniVita vya Ukraine: Simulizi za uvumilivu na machunguSaa 9 zilizopitaSababu 5 kwa nini Putin hawezi kuamuru shambulizi la nyuklia1 Novemba 2022Mambo 7 ambayo rais William Ruto ameyafanya kinyume na matarajio ya Uhuru Kenyatta31 Oktoba 2022Kuporomoka kwa daraja la Morbi: Jinsi eneo la watalii lilivyogeuka kuwa daraja la kifoSaa 7 zilizopitaTunachokifahamu kuhusu kinachoendelea mashariki mwa DRC1 Novemba 2022Ni vitamini gani bora kwa ajili ya ubongo wako kuwa na afya?1 Novemba 2022Jinsi Uhispania ilivyotazama huku wahamiaji wakikandamizwa hadi kufa kwenye mpaka wake1 Novemba 2022J﻿insi Marekani inavyoisaidia Ukraine kudhibiti mashambulizi ya kimtandao ya Urusi31 Oktoba 2022Kwa nini akina mama wa sasa huhangaika 'kurudisha miili' baada ya kujifungua30 Oktoba 2022\n"
          ]
        }
      ]
    },
    {
      "cell_type": "markdown",
      "source": [
        "# **The breakthrough. Lets scrap better in a new notebook**"
      ],
      "metadata": {
        "id": "oCh7kCfGhOrf"
      }
    }
  ]
}