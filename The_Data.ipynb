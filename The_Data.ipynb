{
  "nbformat": 4,
  "nbformat_minor": 0,
  "metadata": {
    "colab": {
      "provenance": [],
      "authorship_tag": "ABX9TyP8liofyGHVR4oZnhda3gCJ",
      "include_colab_link": true
    },
    "kernelspec": {
      "name": "python3",
      "display_name": "Python 3"
    },
    "language_info": {
      "name": "python"
    }
  },
  "cells": [
    {
      "cell_type": "markdown",
      "metadata": {
        "id": "view-in-github",
        "colab_type": "text"
      },
      "source": [
        "<a href=\"https://colab.research.google.com/github/rdkdaniel/The-Swahili-Project/blob/main/The_Data.ipynb\" target=\"_parent\"><img src=\"https://colab.research.google.com/assets/colab-badge.svg\" alt=\"Open In Colab\"/></a>"
      ]
    },
    {
      "cell_type": "code",
      "execution_count": 1,
      "metadata": {
        "colab": {
          "base_uri": "https://localhost:8080/"
        },
        "id": "SQvEln-US4V8",
        "outputId": "bb0fa018-ec9a-4854-87d9-ca127f196bec"
      },
      "outputs": [
        {
          "output_type": "stream",
          "name": "stdout",
          "text": [
            "Looking in indexes: https://pypi.org/simple, https://us-python.pkg.dev/colab-wheels/public/simple/\n",
            "Requirement already satisfied: requests in /usr/local/lib/python3.7/dist-packages (2.23.0)\n",
            "Requirement already satisfied: certifi>=2017.4.17 in /usr/local/lib/python3.7/dist-packages (from requests) (2022.9.24)\n",
            "Requirement already satisfied: idna<3,>=2.5 in /usr/local/lib/python3.7/dist-packages (from requests) (2.10)\n",
            "Requirement already satisfied: urllib3!=1.25.0,!=1.25.1,<1.26,>=1.21.1 in /usr/local/lib/python3.7/dist-packages (from requests) (1.24.3)\n",
            "Requirement already satisfied: chardet<4,>=3.0.2 in /usr/local/lib/python3.7/dist-packages (from requests) (3.0.4)\n",
            "Looking in indexes: https://pypi.org/simple, https://us-python.pkg.dev/colab-wheels/public/simple/\n",
            "Requirement already satisfied: beautifulsoup4 in /usr/local/lib/python3.7/dist-packages (4.6.3)\n"
          ]
        }
      ],
      "source": [
        "!pip install requests\n",
        "!pip install beautifulsoup4"
      ]
    },
    {
      "cell_type": "code",
      "source": [
        "from bs4 import BeautifulSoup\n",
        "#import requests library\n",
        "import requests\n",
        "#the website URL\n",
        "url_link = \"https://www.advance-africa.com/KCSE-Past-Papers-2021-Kiswahili-Karatasi-ya-2.html\"\n",
        "result = requests.get(url_link).text\n",
        "doc = BeautifulSoup(result, \"html.parser\")\n",
        "\n"
      ],
      "metadata": {
        "id": "2L--6SjdWELn"
      },
      "execution_count": 4,
      "outputs": []
    },
    {
      "cell_type": "code",
      "source": [
        "res = doc.find(id = \"ContentColumn\")"
      ],
      "metadata": {
        "id": "FE_SXgs2Wy2c"
      },
      "execution_count": 6,
      "outputs": []
    },
    {
      "cell_type": "code",
      "source": [
        "heading = res.find(class_ = \"Liner\")\n",
        "print(heading.text)"
      ],
      "metadata": {
        "colab": {
          "base_uri": "https://localhost:8080/"
        },
        "id": "26A_hNtZWkid",
        "outputId": "96f1be2a-970f-4cce-929b-b7bc8a469c6a"
      },
      "execution_count": 7,
      "outputs": [
        {
          "output_type": "stream",
          "name": "stdout",
          "text": [
            "\n",
            "\n",
            "\n",
            "\n",
            "KCSE Past Papers 2021 Kiswahili Karatasi ya 2 (102/2)\n",
            "\n",
            "  \n",
            "\n",
            "\n",
            "\n",
            "(adsbygoogle=window.adsbygoogle||[]).push({}); \n",
            "\n",
            "    Click Here - Free KCSE Past Papers » KNEC Past Exams » Free Downloads » KCSE Papers & Marking Schemes  \n"
          ]
        }
      ]
    },
    {
      "cell_type": "code",
      "source": [
        "res = doc.find(id = \"ContentColumn\")\n",
        "for ele in res:\n",
        "  print(res.find(\"h1\"))"
      ],
      "metadata": {
        "colab": {
          "base_uri": "https://localhost:8080/"
        },
        "id": "bPL-es1wXCPW",
        "outputId": "c8d73c6b-79d7-40d9-d4c8-432f82e17eb0"
      },
      "execution_count": 8,
      "outputs": [
        {
          "output_type": "stream",
          "name": "stdout",
          "text": [
            "<h1>KCSE Past Papers 2021 Kiswahili Karatasi ya 2 (102/2)<br/></h1>\n",
            "<h1>KCSE Past Papers 2021 Kiswahili Karatasi ya 2 (102/2)<br/></h1>\n"
          ]
        }
      ]
    },
    {
      "cell_type": "code",
      "source": [
        "res = doc.find(id = \"ContentColumn\")\n",
        "for ele in res:\n",
        "  print(res.find(\"b\"))"
      ],
      "metadata": {
        "colab": {
          "base_uri": "https://localhost:8080/"
        },
        "id": "lagzehr8XP_c",
        "outputId": "84769c05-367b-46fb-e7a6-6a9f608077fd"
      },
      "execution_count": 10,
      "outputs": [
        {
          "output_type": "stream",
          "name": "stdout",
          "text": [
            "None\n",
            "None\n"
          ]
        }
      ]
    },
    {
      "cell_type": "code",
      "source": [
        "pip install feedparser"
      ],
      "metadata": {
        "colab": {
          "base_uri": "https://localhost:8080/"
        },
        "id": "2SYlV4kjdRko",
        "outputId": "1469fb1a-c70d-4560-9e0b-a2d13378c43c"
      },
      "execution_count": 23,
      "outputs": [
        {
          "output_type": "stream",
          "name": "stdout",
          "text": [
            "Looking in indexes: https://pypi.org/simple, https://us-python.pkg.dev/colab-wheels/public/simple/\n",
            "Collecting feedparser\n",
            "  Downloading feedparser-6.0.10-py3-none-any.whl (81 kB)\n",
            "\u001b[K     |████████████████████████████████| 81 kB 9.2 MB/s \n",
            "\u001b[?25hCollecting sgmllib3k\n",
            "  Downloading sgmllib3k-1.0.0.tar.gz (5.8 kB)\n",
            "Building wheels for collected packages: sgmllib3k\n",
            "  Building wheel for sgmllib3k (setup.py) ... \u001b[?25l\u001b[?25hdone\n",
            "  Created wheel for sgmllib3k: filename=sgmllib3k-1.0.0-py3-none-any.whl size=6066 sha256=688ad642f1a1c649087c3b260326f49bc516cebf69aa78bfb21ae09d9eb34147\n",
            "  Stored in directory: /root/.cache/pip/wheels/73/ad/a4/0dff4a6ef231fc0dfa12ffbac2a36cebfdddfe059f50e019aa\n",
            "Successfully built sgmllib3k\n",
            "Installing collected packages: sgmllib3k, feedparser\n",
            "Successfully installed feedparser-6.0.10 sgmllib3k-1.0.0\n"
          ]
        }
      ]
    },
    {
      "cell_type": "code",
      "source": [
        "print(doc.select(\"html body div#PageWrapper div#ContentWrapper div#ContentColumn\"))"
      ],
      "metadata": {
        "colab": {
          "base_uri": "https://localhost:8080/"
        },
        "id": "s061II12aCKh",
        "outputId": "d738124a-c947-42d3-8220-4feea1b87ce3"
      },
      "execution_count": 18,
      "outputs": [
        {
          "output_type": "stream",
          "name": "stdout",
          "text": [
            "[<div id=\"ContentColumn\">\n",
            "<div class=\"Liner\">\n",
            "<!-- start: shared_blocks.101250255#above-h1 -->\n",
            "<div class=\"\" style=\"width: 100%; box-sizing: border-box\"></div>\n",
            "<!-- end: shared_blocks.101250255#above-h1 -->\n",
            "<h1>KCSE Past Papers 2021 Kiswahili Karatasi ya 2 (102/2)<br/></h1>\n",
            "<!-- start: shared_blocks.103089388#1st Ad -->\n",
            "<table align=\"center\" width=\"100\"> <tr> <td>\n",
            "<script async=\"\" src=\"//pagead2.googlesyndication.com/pagead/j3/adsbygoogle.js\"></script>\n",
            "<!-- Crazy -->\n",
            "<ins class=\"adsbygoogle\" data-ad-client=\"ca-pub-0326674550430411\" data-ad-slot=\"5740034820\" data-full-width-responsive=\"true\" style=\"display:inline-block;width:336px;height:280px\"></ins>\n",
            "<script>(adsbygoogle=window.adsbygoogle||[]).push({});</script> </td></tr></table>\n",
            "<!-- end: shared_blocks.103089388#1st Ad -->\n",
            "<a href=\"https://www.advance-africa.com/KCSE-Past-Papers.html\" target=\"_blank\"> <center> <h3> <font color=\"#000066\"> Click Here - Free KCSE Past Papers » KNEC Past Exams » Free Downloads » KCSE Papers &amp; Marking Schemes </font></h3></center></a> </div></div>]\n"
          ]
        }
      ]
    }
  ]
}