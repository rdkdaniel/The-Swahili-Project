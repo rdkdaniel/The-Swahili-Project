{
  "nbformat": 4,
  "nbformat_minor": 0,
  "metadata": {
    "colab": {
      "provenance": [],
      "authorship_tag": "ABX9TyPt98wqHCZCjo7QBz/itrs4",
      "include_colab_link": true
    },
    "kernelspec": {
      "name": "python3",
      "display_name": "Python 3"
    },
    "language_info": {
      "name": "python"
    }
  },
  "cells": [
    {
      "cell_type": "markdown",
      "metadata": {
        "id": "view-in-github",
        "colab_type": "text"
      },
      "source": [
        "<a href=\"https://colab.research.google.com/github/rdkdaniel/The-Swahili-Project/blob/main/The_Tokenizer.ipynb\" target=\"_parent\"><img src=\"https://colab.research.google.com/assets/colab-badge.svg\" alt=\"Open In Colab\"/></a>"
      ]
    },
    {
      "cell_type": "markdown",
      "source": [
        "# **Tokenizing the data**"
      ],
      "metadata": {
        "id": "bQtY41sIa10T"
      }
    },
    {
      "cell_type": "code",
      "source": [
        "#https://towardsdatascience.com/designing-tokenizers-for-low-resource-languages-7faa4ab30ef4"
      ],
      "metadata": {
        "id": "AdMVnxYzGUKC"
      },
      "execution_count": null,
      "outputs": []
    },
    {
      "cell_type": "markdown",
      "source": [
        "**The data**"
      ],
      "metadata": {
        "id": "ycPjCEU6FRiQ"
      }
    },
    {
      "cell_type": "code",
      "execution_count": null,
      "metadata": {
        "id": "xlzZBH6tazHM"
      },
      "outputs": [],
      "source": []
    }
  ]
}