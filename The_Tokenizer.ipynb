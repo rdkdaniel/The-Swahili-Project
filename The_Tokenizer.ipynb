{
  "nbformat": 4,
  "nbformat_minor": 0,
  "metadata": {
    "colab": {
      "provenance": [],
      "mount_file_id": "https://github.com/rdkdaniel/The-Swahili-Project/blob/main/The_Tokenizer.ipynb",
      "authorship_tag": "ABX9TyPeE0/S5KhBZFNb+dI6Ivfk",
      "include_colab_link": true
    },
    "kernelspec": {
      "name": "python3",
      "display_name": "Python 3"
    },
    "language_info": {
      "name": "python"
    }
  },
  "cells": [
    {
      "cell_type": "markdown",
      "metadata": {
        "id": "view-in-github",
        "colab_type": "text"
      },
      "source": [
        "<a href=\"https://colab.research.google.com/github/rdkdaniel/The-Swahili-Project/blob/main/The_Tokenizer.ipynb\" target=\"_parent\"><img src=\"https://colab.research.google.com/assets/colab-badge.svg\" alt=\"Open In Colab\"/></a>"
      ]
    },
    {
      "cell_type": "markdown",
      "source": [
        "# **Kiswahili Under a Natural Language Processing Lens**"
      ],
      "metadata": {
        "id": "bQtY41sIa10T"
      }
    },
    {
      "cell_type": "markdown",
      "source": [
        "**Introduction**\n",
        "\n",
        "\n",
        "*   This notebook shows the process used to design the tokenizer for the Kiswahili Project (title above).\n",
        "*   Kiswahili is a low resource language but above that, it has a different morphological strcture than English or other languages whose tokenizers are readily available. \n",
        "*   It is therefore important to design a tokenizer specific to Kiswahili i.e. based on its strcture.\n",
        "*   List item\n",
        "\n",
        "\n",
        "\n"
      ],
      "metadata": {
        "id": "ycPjCEU6FRiQ"
      }
    },
    {
      "cell_type": "markdown",
      "source": [
        "**Sample Kiswahili Words and Sentences**\n",
        "\n",
        "\n",
        "*   Mwanaume - Man\n",
        "*   Vitabu - Books\n",
        "*   Mwanaume mkubwa alienda - The big man went\n",
        "*   Vitabu vikubwa zilichukuliwa - The big books were taken.\n",
        "\n"
      ],
      "metadata": {
        "id": "6G3e7XE3E9N5"
      }
    },
    {
      "cell_type": "markdown",
      "source": [
        "## **1.0 Libraries**"
      ],
      "metadata": {
        "id": "jUOAXxeXE3gJ"
      }
    },
    {
      "cell_type": "code",
      "source": [
        "pip install datasets"
      ],
      "metadata": {
        "colab": {
          "base_uri": "https://localhost:8080/"
        },
        "id": "J70dK6h6FUyq",
        "outputId": "f6de9310-62dc-4b06-d60b-0d8b52ec9fc8"
      },
      "execution_count": 1,
      "outputs": [
        {
          "output_type": "stream",
          "name": "stdout",
          "text": [
            "Looking in indexes: https://pypi.org/simple, https://us-python.pkg.dev/colab-wheels/public/simple/\n",
            "Collecting datasets\n",
            "  Downloading datasets-2.7.1-py3-none-any.whl (451 kB)\n",
            "\u001b[K     |████████████████████████████████| 451 kB 4.0 MB/s \n",
            "\u001b[?25hRequirement already satisfied: numpy>=1.17 in /usr/local/lib/python3.7/dist-packages (from datasets) (1.21.6)\n",
            "Requirement already satisfied: tqdm>=4.62.1 in /usr/local/lib/python3.7/dist-packages (from datasets) (4.64.1)\n",
            "Requirement already satisfied: aiohttp in /usr/local/lib/python3.7/dist-packages (from datasets) (3.8.3)\n",
            "Requirement already satisfied: fsspec[http]>=2021.11.1 in /usr/local/lib/python3.7/dist-packages (from datasets) (2022.11.0)\n",
            "Collecting xxhash\n",
            "  Downloading xxhash-3.1.0-cp37-cp37m-manylinux_2_17_x86_64.manylinux2014_x86_64.whl (212 kB)\n",
            "\u001b[K     |████████████████████████████████| 212 kB 51.7 MB/s \n",
            "\u001b[?25hCollecting huggingface-hub<1.0.0,>=0.2.0\n",
            "  Downloading huggingface_hub-0.11.1-py3-none-any.whl (182 kB)\n",
            "\u001b[K     |████████████████████████████████| 182 kB 52.9 MB/s \n",
            "\u001b[?25hRequirement already satisfied: pandas in /usr/local/lib/python3.7/dist-packages (from datasets) (1.3.5)\n",
            "Collecting multiprocess\n",
            "  Downloading multiprocess-0.70.14-py37-none-any.whl (115 kB)\n",
            "\u001b[K     |████████████████████████████████| 115 kB 48.7 MB/s \n",
            "\u001b[?25hCollecting responses<0.19\n",
            "  Downloading responses-0.18.0-py3-none-any.whl (38 kB)\n",
            "Requirement already satisfied: pyarrow>=6.0.0 in /usr/local/lib/python3.7/dist-packages (from datasets) (9.0.0)\n",
            "Requirement already satisfied: pyyaml>=5.1 in /usr/local/lib/python3.7/dist-packages (from datasets) (6.0)\n",
            "Requirement already satisfied: dill<0.3.7 in /usr/local/lib/python3.7/dist-packages (from datasets) (0.3.6)\n",
            "Requirement already satisfied: requests>=2.19.0 in /usr/local/lib/python3.7/dist-packages (from datasets) (2.23.0)\n",
            "Requirement already satisfied: packaging in /usr/local/lib/python3.7/dist-packages (from datasets) (21.3)\n",
            "Requirement already satisfied: importlib-metadata in /usr/local/lib/python3.7/dist-packages (from datasets) (4.13.0)\n",
            "Requirement already satisfied: typing-extensions>=3.7.4 in /usr/local/lib/python3.7/dist-packages (from aiohttp->datasets) (4.1.1)\n",
            "Requirement already satisfied: multidict<7.0,>=4.5 in /usr/local/lib/python3.7/dist-packages (from aiohttp->datasets) (6.0.2)\n",
            "Requirement already satisfied: yarl<2.0,>=1.0 in /usr/local/lib/python3.7/dist-packages (from aiohttp->datasets) (1.8.1)\n",
            "Requirement already satisfied: frozenlist>=1.1.1 in /usr/local/lib/python3.7/dist-packages (from aiohttp->datasets) (1.3.3)\n",
            "Requirement already satisfied: async-timeout<5.0,>=4.0.0a3 in /usr/local/lib/python3.7/dist-packages (from aiohttp->datasets) (4.0.2)\n",
            "Requirement already satisfied: charset-normalizer<3.0,>=2.0 in /usr/local/lib/python3.7/dist-packages (from aiohttp->datasets) (2.1.1)\n",
            "Requirement already satisfied: attrs>=17.3.0 in /usr/local/lib/python3.7/dist-packages (from aiohttp->datasets) (22.1.0)\n",
            "Requirement already satisfied: asynctest==0.13.0 in /usr/local/lib/python3.7/dist-packages (from aiohttp->datasets) (0.13.0)\n",
            "Requirement already satisfied: aiosignal>=1.1.2 in /usr/local/lib/python3.7/dist-packages (from aiohttp->datasets) (1.3.1)\n",
            "Requirement already satisfied: filelock in /usr/local/lib/python3.7/dist-packages (from huggingface-hub<1.0.0,>=0.2.0->datasets) (3.8.0)\n",
            "Requirement already satisfied: pyparsing!=3.0.5,>=2.0.2 in /usr/local/lib/python3.7/dist-packages (from packaging->datasets) (3.0.9)\n",
            "Requirement already satisfied: chardet<4,>=3.0.2 in /usr/local/lib/python3.7/dist-packages (from requests>=2.19.0->datasets) (3.0.4)\n",
            "Requirement already satisfied: urllib3!=1.25.0,!=1.25.1,<1.26,>=1.21.1 in /usr/local/lib/python3.7/dist-packages (from requests>=2.19.0->datasets) (1.24.3)\n",
            "Requirement already satisfied: idna<3,>=2.5 in /usr/local/lib/python3.7/dist-packages (from requests>=2.19.0->datasets) (2.10)\n",
            "Requirement already satisfied: certifi>=2017.4.17 in /usr/local/lib/python3.7/dist-packages (from requests>=2.19.0->datasets) (2022.9.24)\n",
            "Collecting urllib3!=1.25.0,!=1.25.1,<1.26,>=1.21.1\n",
            "  Downloading urllib3-1.25.11-py2.py3-none-any.whl (127 kB)\n",
            "\u001b[K     |████████████████████████████████| 127 kB 54.4 MB/s \n",
            "\u001b[?25hRequirement already satisfied: zipp>=0.5 in /usr/local/lib/python3.7/dist-packages (from importlib-metadata->datasets) (3.10.0)\n",
            "Requirement already satisfied: pytz>=2017.3 in /usr/local/lib/python3.7/dist-packages (from pandas->datasets) (2022.6)\n",
            "Requirement already satisfied: python-dateutil>=2.7.3 in /usr/local/lib/python3.7/dist-packages (from pandas->datasets) (2.8.2)\n",
            "Requirement already satisfied: six>=1.5 in /usr/local/lib/python3.7/dist-packages (from python-dateutil>=2.7.3->pandas->datasets) (1.15.0)\n",
            "Installing collected packages: urllib3, xxhash, responses, multiprocess, huggingface-hub, datasets\n",
            "  Attempting uninstall: urllib3\n",
            "    Found existing installation: urllib3 1.24.3\n",
            "    Uninstalling urllib3-1.24.3:\n",
            "      Successfully uninstalled urllib3-1.24.3\n",
            "Successfully installed datasets-2.7.1 huggingface-hub-0.11.1 multiprocess-0.70.14 responses-0.18.0 urllib3-1.25.11 xxhash-3.1.0\n"
          ]
        }
      ]
    },
    {
      "cell_type": "code",
      "execution_count": 2,
      "metadata": {
        "id": "xlzZBH6tazHM"
      },
      "outputs": [],
      "source": [
        "#Libraries\n",
        "import pandas as pd\n",
        "import numpy as np\n",
        "import datasets"
      ]
    },
    {
      "cell_type": "code",
      "source": [
        "!pip install transformers"
      ],
      "metadata": {
        "colab": {
          "base_uri": "https://localhost:8080/"
        },
        "id": "87s7W_FWbIUI",
        "outputId": "5899a622-580a-4818-b2d2-7e8e469d2b84"
      },
      "execution_count": 3,
      "outputs": [
        {
          "output_type": "stream",
          "name": "stdout",
          "text": [
            "Looking in indexes: https://pypi.org/simple, https://us-python.pkg.dev/colab-wheels/public/simple/\n",
            "Collecting transformers\n",
            "  Downloading transformers-4.24.0-py3-none-any.whl (5.5 MB)\n",
            "\u001b[K     |████████████████████████████████| 5.5 MB 3.6 MB/s \n",
            "\u001b[?25hRequirement already satisfied: importlib-metadata in /usr/local/lib/python3.7/dist-packages (from transformers) (4.13.0)\n",
            "Requirement already satisfied: packaging>=20.0 in /usr/local/lib/python3.7/dist-packages (from transformers) (21.3)\n",
            "Requirement already satisfied: filelock in /usr/local/lib/python3.7/dist-packages (from transformers) (3.8.0)\n",
            "Requirement already satisfied: pyyaml>=5.1 in /usr/local/lib/python3.7/dist-packages (from transformers) (6.0)\n",
            "Collecting tokenizers!=0.11.3,<0.14,>=0.11.1\n",
            "  Downloading tokenizers-0.13.2-cp37-cp37m-manylinux_2_17_x86_64.manylinux2014_x86_64.whl (7.6 MB)\n",
            "\u001b[K     |████████████████████████████████| 7.6 MB 29.4 MB/s \n",
            "\u001b[?25hRequirement already satisfied: numpy>=1.17 in /usr/local/lib/python3.7/dist-packages (from transformers) (1.21.6)\n",
            "Requirement already satisfied: regex!=2019.12.17 in /usr/local/lib/python3.7/dist-packages (from transformers) (2022.6.2)\n",
            "Requirement already satisfied: huggingface-hub<1.0,>=0.10.0 in /usr/local/lib/python3.7/dist-packages (from transformers) (0.11.1)\n",
            "Requirement already satisfied: tqdm>=4.27 in /usr/local/lib/python3.7/dist-packages (from transformers) (4.64.1)\n",
            "Requirement already satisfied: requests in /usr/local/lib/python3.7/dist-packages (from transformers) (2.23.0)\n",
            "Requirement already satisfied: typing-extensions>=3.7.4.3 in /usr/local/lib/python3.7/dist-packages (from huggingface-hub<1.0,>=0.10.0->transformers) (4.1.1)\n",
            "Requirement already satisfied: pyparsing!=3.0.5,>=2.0.2 in /usr/local/lib/python3.7/dist-packages (from packaging>=20.0->transformers) (3.0.9)\n",
            "Requirement already satisfied: zipp>=0.5 in /usr/local/lib/python3.7/dist-packages (from importlib-metadata->transformers) (3.10.0)\n",
            "Requirement already satisfied: idna<3,>=2.5 in /usr/local/lib/python3.7/dist-packages (from requests->transformers) (2.10)\n",
            "Requirement already satisfied: urllib3!=1.25.0,!=1.25.1,<1.26,>=1.21.1 in /usr/local/lib/python3.7/dist-packages (from requests->transformers) (1.25.11)\n",
            "Requirement already satisfied: chardet<4,>=3.0.2 in /usr/local/lib/python3.7/dist-packages (from requests->transformers) (3.0.4)\n",
            "Requirement already satisfied: certifi>=2017.4.17 in /usr/local/lib/python3.7/dist-packages (from requests->transformers) (2022.9.24)\n",
            "Installing collected packages: tokenizers, transformers\n",
            "Successfully installed tokenizers-0.13.2 transformers-4.24.0\n"
          ]
        }
      ]
    },
    {
      "cell_type": "code",
      "source": [
        "import transformers"
      ],
      "metadata": {
        "id": "BUxT8eEQbWIL"
      },
      "execution_count": 4,
      "outputs": []
    },
    {
      "cell_type": "markdown",
      "source": [
        "## **2.0 Loading the Datasets**"
      ],
      "metadata": {
        "id": "WMB2zJ9aFZwc"
      }
    },
    {
      "cell_type": "code",
      "source": [
        "from google.colab import drive\n",
        "drive.mount('/content/drive')"
      ],
      "metadata": {
        "colab": {
          "base_uri": "https://localhost:8080/"
        },
        "id": "pqKnrAFXevQ7",
        "outputId": "e0f76b83-f516-45ea-eed8-e1c13b58bade"
      },
      "execution_count": null,
      "outputs": [
        {
          "output_type": "stream",
          "name": "stdout",
          "text": [
            "Drive already mounted at /content/drive; to attempt to forcibly remount, call drive.mount(\"/content/drive\", force_remount=True).\n"
          ]
        }
      ]
    },
    {
      "cell_type": "code",
      "source": [
        "df = pd.read_fwf('/content/drive/MyDrive/Kiswahili_Dataset/Kiswahili_data1.txt')\n",
        "df2 = pd.read_fwf('/content/drive/MyDrive/Kiswahili_Dataset/Kiswahili_data2.txt')\n",
        "df3 = pd.read_fwf('/content/drive/MyDrive/Kiswahili_Dataset/Kiswahili_data3.txt')\n",
        "df4 = pd.read_fwf('/content/drive/MyDrive/Kiswahili_Dataset/Kiswahili_data4.txt')\n",
        "df5 = pd.read_fwf('/content/drive/MyDrive/Kiswahili_Dataset/Kiswahili_data5.txt')"
      ],
      "metadata": {
        "id": "HFEecHn7FfXg"
      },
      "execution_count": 5,
      "outputs": []
    },
    {
      "cell_type": "code",
      "source": [
        "print(df, df2, df3, df4, df5)"
      ],
      "metadata": {
        "colab": {
          "base_uri": "https://localhost:8080/"
        },
        "id": "Wjbbbkw_buMf",
        "outputId": "318b36bd-deb4-490a-9c64-d5265dd5b9a4"
      },
      "execution_count": 6,
      "outputs": [
        {
          "output_type": "stream",
          "name": "stdout",
          "text": [
            "   Mhadhiri Denis Skopin (kushoto)  akiwa ameshikilia karatasi zake za  \\\n",
            "0  Dikteta wa Soviet Joseph Stalin  amepitia aina  fulani ya ukarabati   \n",
            "\n",
            "   kufukuzwa kutoka Chuo  Kikuu cha  \\\n",
            "0  katika Urusi ya Putin  - unaweza   \n",
            "\n",
            "   Jimbo la St PetersburgKatika nyumba yake ya St  \\\n",
            "0  hata kununua bidhaa za Stalin.Mhadhiri wa chuo   \n",
            "\n",
            "   Petersburg, mhadhiri wa chuo kikuu  \\\n",
            "0  kikuu aliyefutwa kazi Denis Skopin   \n",
            "\n",
            "  Denis Skopin ananionyesha hati ambayo imebadilisha maisha  \\\n",
            "0  amesoma miaka ya Stalin. Anaona uwiano kati ya...          \n",
            "\n",
            "  yake.Maelekezo: \"Maelekezo No.87/2D. Kuhusu: Kufutwa kazi.\"Hadi  hivi  \\\n",
            "0  na sasa.\"Nimetoka kuchapisha kitabu kwa Kiinge...               watu   \n",
            "\n",
            "   majuzi Denis  ... kusahau madoa ya.23 umwagaji damu ya.24 historia ya.25  \\\n",
            "0  wa  Urusi ya  ...     NaN   NaN   NaN      NaN  NaN   NaN      NaN   NaN   \n",
            "\n",
            "  nchi.1 yetu.\"  \n",
            "0    NaN    NaN  \n",
            "\n",
            "[1 rows x 402 columns]    KNEC STUDY MATERIALS, REVISION KITS  AND PAST PAPERSSTUDY FOR  \\\n",
            "0  Δdocument.getElementById( \"ak_js_1\"  ).setAttribute( \"value\",   \n",
            "\n",
            "   FREEKenya Certificate of  Secondary  EducationKiswahili Karatasi ya  \\\n",
            "0  ( new Date() ).getTime()  );We’re a  team of professionals who have   \n",
            "\n",
            "   21. UFAHAMUSoma kifungu kifuatacho  kisha ujibu  maswali. (Alama  \\\n",
            "0  taught in several schools and been  involved in  marking of KCPE   \n",
            "\n",
            "   15)Alikuwa wakati wa  jioni jua limepunguza udhia  ... website  in this  \\\n",
            "0  and KCSE exams. This  website has curated content  ...     NaN NaN  NaN   \n",
            "\n",
            "  browser  for  the  next  time   I  comment.  \n",
            "0     NaN  NaN  NaN   NaN   NaN NaN       NaN  \n",
            "\n",
            "[1 rows x 1886 columns]    KNEC STUDY MATERIALS, REVISION KITS  AND PAST PAPERSSTUDY FOR  \\\n",
            "0  Δdocument.getElementById( \"ak_js_1\"  ).setAttribute( \"value\",   \n",
            "\n",
            "   FREEKenya Certificate of  Secondary  \\\n",
            "0  ( new Date() ).getTime()  );We’re a   \n",
            "\n",
            "  Education Kiswahili Karatasi ya 3SEHEMU A : TAMTHILIAP.Kea:Kigogo1. Lazima(a)  \\\n",
            "0  team of professionals who have taught in sever...                              \n",
            "\n",
            "  “Aikose? Asiya ni mwanamke halisi bwana! Amemweka Bi Husda hapa.” (i) Eleza muktadha wa  \\\n",
            "0  marking of KCPE and KCSE exams. This website h...                                        \n",
            "\n",
            "  dondoo hili. (alama 10)(ii) Eleza vipengele viwili vya kimtindo  \\\n",
            "0  simplified study materials and revision papers...   your exams   \n",
            "\n",
            "   alivyotumia  msemaji  ...  website  in  this  browser  for  the  next  \\\n",
            "0          NaN      NaN  ...      NaN NaN   NaN      NaN  NaN  NaN   NaN   \n",
            "\n",
            "   time   I  comment.  \n",
            "0   NaN NaN       NaN  \n",
            "\n",
            "[1 rows x 1145 columns]    KNEC STUDY MATERIALS, REVISION KITS  AND PAST PAPERSSTUDY FOR  \\\n",
            "0  Δdocument.getElementById( \"ak_js_1\"  ).setAttribute( \"value\",   \n",
            "\n",
            "   FREEKenya Certificate of  Secondary  \\\n",
            "0  ( new Date() ).getTime()  );We’re a   \n",
            "\n",
            "  Education KiswahiliUFAHAMU (Alama 15)Soma kifungu kifuatacho  \\\n",
            "0  team of professionals who have taught in sever...             \n",
            "\n",
            "   kisha ujibu maswali.“Mabibi  \\\n",
            "0  been involved in marking of   \n",
            "\n",
            "  na mabwana, ndugu wapenzi, alianza Bi. Mkesha, “huu ni mwaka wa  \\\n",
            "0  KCPE and KCSE exams. This website has curated ...                \n",
            "\n",
            "  tano tangu tufanye uchaguzi mkuu uliowapa vigoda wenzetu hawa. Katika kipindi  \\\n",
            "0  you the best simplified study materials and re...                              \n",
            "\n",
            "   hiki  kumetokea  ...  website  in  this  browser  for  the  next  time   I  \\\n",
            "0   NaN        NaN  ...      NaN NaN   NaN      NaN  NaN  NaN   NaN   NaN NaN   \n",
            "\n",
            "   comment.  \n",
            "0       NaN  \n",
            "\n",
            "[1 rows x 1579 columns]    KNEC STUDY MATERIALS, REVISION KITS  AND PAST PAPERSSTUDY FOR  \\\n",
            "0  Δdocument.getElementById( \"ak_js_1\"  ).setAttribute( \"value\",   \n",
            "\n",
            "   FREEKenya Certificate of  Secondary  Education Kiswahili –  \\\n",
            "0  ( new Date() ).getTime()  );We’re a  team of professionals   \n",
            "\n",
            "   Fasihi Karatasi  ya  \\\n",
            "0  who have taught  in   \n",
            "\n",
            "  31.LazimaN ilreyaandika lâaaneno haya KWa lıiaba ya:Malrilioni wasio  \\\n",
            "0  several schools and been involved in marking o...                     \n",
            "\n",
            "   malaziWabebao vifurushi vilivyo waziwazungukao  \\\n",
            "0  This website has curated content by giving you   \n",
            "\n",
            "   barabaranı bil a mavazi Milki yao ya ıraisha.Kwa  ... website  in  this  \\\n",
            "0  the best simplified study materials and revision  ...     NaN NaN   NaN   \n",
            "\n",
            "   browser  for  the  next  time   I  comment.  \n",
            "0      NaN  NaN  NaN   NaN   NaN NaN       NaN  \n",
            "\n",
            "[1 rows x 909 columns]\n"
          ]
        }
      ]
    },
    {
      "cell_type": "markdown",
      "source": [
        "\n",
        "\n",
        "*   Wapi makofi ya good data scrapped na mimi!!\n",
        "*   👏 👏\n",
        "\n"
      ],
      "metadata": {
        "id": "_wzMI65_bzge"
      }
    },
    {
      "cell_type": "markdown",
      "source": [
        "## **2.1 Merge the DF**"
      ],
      "metadata": {
        "id": "CwgTxp_rgVsw"
      }
    },
    {
      "cell_type": "code",
      "source": [
        "df_merged = pd.concat([df, df2, df3, df4, df5])\n",
        "#df_merged = pd.merge(df, df2, df3, df4, df5)"
      ],
      "metadata": {
        "id": "GDHs_Q8ggdZx"
      },
      "execution_count": 7,
      "outputs": []
    },
    {
      "cell_type": "code",
      "source": [
        "print(df_merged)"
      ],
      "metadata": {
        "colab": {
          "base_uri": "https://localhost:8080/"
        },
        "id": "RkFtmkRph9ch",
        "outputId": "87e06174-f784-4042-93f0-13feb191ae3e"
      },
      "execution_count": 8,
      "outputs": [
        {
          "output_type": "stream",
          "name": "stdout",
          "text": [
            "   Mhadhiri Denis Skopin (kushoto)  akiwa ameshikilia karatasi zake za  \\\n",
            "0  Dikteta wa Soviet Joseph Stalin  amepitia aina  fulani ya ukarabati   \n",
            "0                              NaN                                 NaN   \n",
            "0                              NaN                                 NaN   \n",
            "0                              NaN                                 NaN   \n",
            "0                              NaN                                 NaN   \n",
            "\n",
            "   kufukuzwa kutoka Chuo  Kikuu cha  \\\n",
            "0  katika Urusi ya Putin  - unaweza   \n",
            "0                    NaN        NaN   \n",
            "0                    NaN        NaN   \n",
            "0                    NaN        NaN   \n",
            "0                    NaN        NaN   \n",
            "\n",
            "   Jimbo la St PetersburgKatika nyumba yake ya St  \\\n",
            "0  hata kununua bidhaa za Stalin.Mhadhiri wa chuo   \n",
            "0                                             NaN   \n",
            "0                                             NaN   \n",
            "0                                             NaN   \n",
            "0                                             NaN   \n",
            "\n",
            "   Petersburg, mhadhiri wa chuo kikuu  \\\n",
            "0  kikuu aliyefutwa kazi Denis Skopin   \n",
            "0                                 NaN   \n",
            "0                                 NaN   \n",
            "0                                 NaN   \n",
            "0                                 NaN   \n",
            "\n",
            "  Denis Skopin ananionyesha hati ambayo imebadilisha maisha  \\\n",
            "0  amesoma miaka ya Stalin. Anaona uwiano kati ya...          \n",
            "0                                                NaN          \n",
            "0                                                NaN          \n",
            "0                                                NaN          \n",
            "0                                                NaN          \n",
            "\n",
            "  yake.Maelekezo: \"Maelekezo No.87/2D. Kuhusu: Kufutwa kazi.\"Hadi  hivi  \\\n",
            "0  na sasa.\"Nimetoka kuchapisha kitabu kwa Kiinge...               watu   \n",
            "0                                                NaN                NaN   \n",
            "0                                                NaN                NaN   \n",
            "0                                                NaN                NaN   \n",
            "0                                                NaN                NaN   \n",
            "\n",
            "   majuzi Denis  ... kuchagua mbinu.4 hii..3 6)(b).1 sita.2 kutumia.1  \\\n",
            "0  wa  Urusi ya  ...      NaN     NaN    NaN     NaN    NaN       NaN   \n",
            "0           NaN  ...      NaN     NaN    NaN     NaN    NaN       NaN   \n",
            "0           NaN  ...      NaN     NaN    NaN     NaN    NaN       NaN   \n",
            "0           NaN  ...      NaN     NaN    NaN     NaN    NaN       NaN   \n",
            "0           NaN  ...      NaN     NaN    NaN     NaN    NaN       NaN   \n",
            "\n",
            "  kuUdumisha utanzu semi. 6)Your  \n",
            "0        NaN    NaN   NaN    NaN  \n",
            "0        NaN    NaN   NaN    NaN  \n",
            "0        NaN    NaN   NaN    NaN  \n",
            "0        NaN    NaN   NaN    NaN  \n",
            "0        NaN    NaN   NaN    NaN  \n",
            "\n",
            "[5 rows x 4347 columns]\n"
          ]
        }
      ]
    },
    {
      "cell_type": "markdown",
      "source": [
        "## **2.2 Checking on Null Values**"
      ],
      "metadata": {
        "id": "D8wR2VHLkNJ6"
      }
    },
    {
      "cell_type": "code",
      "source": [
        "df_merged.isnull()"
      ],
      "metadata": {
        "colab": {
          "base_uri": "https://localhost:8080/",
          "height": 369
        },
        "id": "pYwo69IXl9Aj",
        "outputId": "1eef3080-d642-44c6-b390-ba60361f237f"
      },
      "execution_count": 9,
      "outputs": [
        {
          "output_type": "execute_result",
          "data": {
            "text/plain": [
              "   Mhadhiri Denis Skopin (kushoto)  akiwa ameshikilia karatasi zake za  \\\n",
              "0                            False                               False   \n",
              "0                             True                                True   \n",
              "0                             True                                True   \n",
              "0                             True                                True   \n",
              "0                             True                                True   \n",
              "\n",
              "   kufukuzwa kutoka Chuo  Kikuu cha  \\\n",
              "0                  False      False   \n",
              "0                   True       True   \n",
              "0                   True       True   \n",
              "0                   True       True   \n",
              "0                   True       True   \n",
              "\n",
              "   Jimbo la St PetersburgKatika nyumba yake ya St  \\\n",
              "0                                           False   \n",
              "0                                            True   \n",
              "0                                            True   \n",
              "0                                            True   \n",
              "0                                            True   \n",
              "\n",
              "   Petersburg, mhadhiri wa chuo kikuu  \\\n",
              "0                               False   \n",
              "0                                True   \n",
              "0                                True   \n",
              "0                                True   \n",
              "0                                True   \n",
              "\n",
              "   Denis Skopin ananionyesha hati ambayo imebadilisha maisha  \\\n",
              "0                                              False           \n",
              "0                                               True           \n",
              "0                                               True           \n",
              "0                                               True           \n",
              "0                                               True           \n",
              "\n",
              "   yake.Maelekezo: \"Maelekezo No.87/2D. Kuhusu: Kufutwa kazi.\"Hadi   hivi  \\\n",
              "0                                              False                False   \n",
              "0                                               True                 True   \n",
              "0                                               True                 True   \n",
              "0                                               True                 True   \n",
              "0                                               True                 True   \n",
              "\n",
              "   majuzi Denis  ...  kuchagua  mbinu.4  hii..3  6)(b).1  sita.2  kutumia.1  \\\n",
              "0         False  ...      True     True    True     True    True       True   \n",
              "0          True  ...      True     True    True     True    True       True   \n",
              "0          True  ...      True     True    True     True    True       True   \n",
              "0          True  ...      True     True    True     True    True       True   \n",
              "0          True  ...      True     True    True     True    True       True   \n",
              "\n",
              "   kuUdumisha  utanzu  semi.  6)Your  \n",
              "0        True    True   True    True  \n",
              "0        True    True   True    True  \n",
              "0        True    True   True    True  \n",
              "0        True    True   True    True  \n",
              "0        True    True   True    True  \n",
              "\n",
              "[5 rows x 4347 columns]"
            ],
            "text/html": [
              "\n",
              "  <div id=\"df-84138c5d-1566-44fd-aa0c-451d8ba8b7ed\">\n",
              "    <div class=\"colab-df-container\">\n",
              "      <div>\n",
              "<style scoped>\n",
              "    .dataframe tbody tr th:only-of-type {\n",
              "        vertical-align: middle;\n",
              "    }\n",
              "\n",
              "    .dataframe tbody tr th {\n",
              "        vertical-align: top;\n",
              "    }\n",
              "\n",
              "    .dataframe thead th {\n",
              "        text-align: right;\n",
              "    }\n",
              "</style>\n",
              "<table border=\"1\" class=\"dataframe\">\n",
              "  <thead>\n",
              "    <tr style=\"text-align: right;\">\n",
              "      <th></th>\n",
              "      <th>Mhadhiri Denis Skopin (kushoto)</th>\n",
              "      <th>akiwa ameshikilia karatasi zake za</th>\n",
              "      <th>kufukuzwa kutoka Chuo</th>\n",
              "      <th>Kikuu cha</th>\n",
              "      <th>Jimbo la St PetersburgKatika nyumba yake ya St</th>\n",
              "      <th>Petersburg, mhadhiri wa chuo kikuu</th>\n",
              "      <th>Denis Skopin ananionyesha hati ambayo imebadilisha maisha</th>\n",
              "      <th>yake.Maelekezo: \"Maelekezo No.87/2D. Kuhusu: Kufutwa kazi.\"Hadi</th>\n",
              "      <th>hivi</th>\n",
              "      <th>majuzi Denis</th>\n",
              "      <th>...</th>\n",
              "      <th>kuchagua</th>\n",
              "      <th>mbinu.4</th>\n",
              "      <th>hii..3</th>\n",
              "      <th>6)(b).1</th>\n",
              "      <th>sita.2</th>\n",
              "      <th>kutumia.1</th>\n",
              "      <th>kuUdumisha</th>\n",
              "      <th>utanzu</th>\n",
              "      <th>semi.</th>\n",
              "      <th>6)Your</th>\n",
              "    </tr>\n",
              "  </thead>\n",
              "  <tbody>\n",
              "    <tr>\n",
              "      <th>0</th>\n",
              "      <td>False</td>\n",
              "      <td>False</td>\n",
              "      <td>False</td>\n",
              "      <td>False</td>\n",
              "      <td>False</td>\n",
              "      <td>False</td>\n",
              "      <td>False</td>\n",
              "      <td>False</td>\n",
              "      <td>False</td>\n",
              "      <td>False</td>\n",
              "      <td>...</td>\n",
              "      <td>True</td>\n",
              "      <td>True</td>\n",
              "      <td>True</td>\n",
              "      <td>True</td>\n",
              "      <td>True</td>\n",
              "      <td>True</td>\n",
              "      <td>True</td>\n",
              "      <td>True</td>\n",
              "      <td>True</td>\n",
              "      <td>True</td>\n",
              "    </tr>\n",
              "    <tr>\n",
              "      <th>0</th>\n",
              "      <td>True</td>\n",
              "      <td>True</td>\n",
              "      <td>True</td>\n",
              "      <td>True</td>\n",
              "      <td>True</td>\n",
              "      <td>True</td>\n",
              "      <td>True</td>\n",
              "      <td>True</td>\n",
              "      <td>True</td>\n",
              "      <td>True</td>\n",
              "      <td>...</td>\n",
              "      <td>True</td>\n",
              "      <td>True</td>\n",
              "      <td>True</td>\n",
              "      <td>True</td>\n",
              "      <td>True</td>\n",
              "      <td>True</td>\n",
              "      <td>True</td>\n",
              "      <td>True</td>\n",
              "      <td>True</td>\n",
              "      <td>True</td>\n",
              "    </tr>\n",
              "    <tr>\n",
              "      <th>0</th>\n",
              "      <td>True</td>\n",
              "      <td>True</td>\n",
              "      <td>True</td>\n",
              "      <td>True</td>\n",
              "      <td>True</td>\n",
              "      <td>True</td>\n",
              "      <td>True</td>\n",
              "      <td>True</td>\n",
              "      <td>True</td>\n",
              "      <td>True</td>\n",
              "      <td>...</td>\n",
              "      <td>True</td>\n",
              "      <td>True</td>\n",
              "      <td>True</td>\n",
              "      <td>True</td>\n",
              "      <td>True</td>\n",
              "      <td>True</td>\n",
              "      <td>True</td>\n",
              "      <td>True</td>\n",
              "      <td>True</td>\n",
              "      <td>True</td>\n",
              "    </tr>\n",
              "    <tr>\n",
              "      <th>0</th>\n",
              "      <td>True</td>\n",
              "      <td>True</td>\n",
              "      <td>True</td>\n",
              "      <td>True</td>\n",
              "      <td>True</td>\n",
              "      <td>True</td>\n",
              "      <td>True</td>\n",
              "      <td>True</td>\n",
              "      <td>True</td>\n",
              "      <td>True</td>\n",
              "      <td>...</td>\n",
              "      <td>True</td>\n",
              "      <td>True</td>\n",
              "      <td>True</td>\n",
              "      <td>True</td>\n",
              "      <td>True</td>\n",
              "      <td>True</td>\n",
              "      <td>True</td>\n",
              "      <td>True</td>\n",
              "      <td>True</td>\n",
              "      <td>True</td>\n",
              "    </tr>\n",
              "    <tr>\n",
              "      <th>0</th>\n",
              "      <td>True</td>\n",
              "      <td>True</td>\n",
              "      <td>True</td>\n",
              "      <td>True</td>\n",
              "      <td>True</td>\n",
              "      <td>True</td>\n",
              "      <td>True</td>\n",
              "      <td>True</td>\n",
              "      <td>True</td>\n",
              "      <td>True</td>\n",
              "      <td>...</td>\n",
              "      <td>True</td>\n",
              "      <td>True</td>\n",
              "      <td>True</td>\n",
              "      <td>True</td>\n",
              "      <td>True</td>\n",
              "      <td>True</td>\n",
              "      <td>True</td>\n",
              "      <td>True</td>\n",
              "      <td>True</td>\n",
              "      <td>True</td>\n",
              "    </tr>\n",
              "  </tbody>\n",
              "</table>\n",
              "<p>5 rows × 4347 columns</p>\n",
              "</div>\n",
              "      <button class=\"colab-df-convert\" onclick=\"convertToInteractive('df-84138c5d-1566-44fd-aa0c-451d8ba8b7ed')\"\n",
              "              title=\"Convert this dataframe to an interactive table.\"\n",
              "              style=\"display:none;\">\n",
              "        \n",
              "  <svg xmlns=\"http://www.w3.org/2000/svg\" height=\"24px\"viewBox=\"0 0 24 24\"\n",
              "       width=\"24px\">\n",
              "    <path d=\"M0 0h24v24H0V0z\" fill=\"none\"/>\n",
              "    <path d=\"M18.56 5.44l.94 2.06.94-2.06 2.06-.94-2.06-.94-.94-2.06-.94 2.06-2.06.94zm-11 1L8.5 8.5l.94-2.06 2.06-.94-2.06-.94L8.5 2.5l-.94 2.06-2.06.94zm10 10l.94 2.06.94-2.06 2.06-.94-2.06-.94-.94-2.06-.94 2.06-2.06.94z\"/><path d=\"M17.41 7.96l-1.37-1.37c-.4-.4-.92-.59-1.43-.59-.52 0-1.04.2-1.43.59L10.3 9.45l-7.72 7.72c-.78.78-.78 2.05 0 2.83L4 21.41c.39.39.9.59 1.41.59.51 0 1.02-.2 1.41-.59l7.78-7.78 2.81-2.81c.8-.78.8-2.07 0-2.86zM5.41 20L4 18.59l7.72-7.72 1.47 1.35L5.41 20z\"/>\n",
              "  </svg>\n",
              "      </button>\n",
              "      \n",
              "  <style>\n",
              "    .colab-df-container {\n",
              "      display:flex;\n",
              "      flex-wrap:wrap;\n",
              "      gap: 12px;\n",
              "    }\n",
              "\n",
              "    .colab-df-convert {\n",
              "      background-color: #E8F0FE;\n",
              "      border: none;\n",
              "      border-radius: 50%;\n",
              "      cursor: pointer;\n",
              "      display: none;\n",
              "      fill: #1967D2;\n",
              "      height: 32px;\n",
              "      padding: 0 0 0 0;\n",
              "      width: 32px;\n",
              "    }\n",
              "\n",
              "    .colab-df-convert:hover {\n",
              "      background-color: #E2EBFA;\n",
              "      box-shadow: 0px 1px 2px rgba(60, 64, 67, 0.3), 0px 1px 3px 1px rgba(60, 64, 67, 0.15);\n",
              "      fill: #174EA6;\n",
              "    }\n",
              "\n",
              "    [theme=dark] .colab-df-convert {\n",
              "      background-color: #3B4455;\n",
              "      fill: #D2E3FC;\n",
              "    }\n",
              "\n",
              "    [theme=dark] .colab-df-convert:hover {\n",
              "      background-color: #434B5C;\n",
              "      box-shadow: 0px 1px 3px 1px rgba(0, 0, 0, 0.15);\n",
              "      filter: drop-shadow(0px 1px 2px rgba(0, 0, 0, 0.3));\n",
              "      fill: #FFFFFF;\n",
              "    }\n",
              "  </style>\n",
              "\n",
              "      <script>\n",
              "        const buttonEl =\n",
              "          document.querySelector('#df-84138c5d-1566-44fd-aa0c-451d8ba8b7ed button.colab-df-convert');\n",
              "        buttonEl.style.display =\n",
              "          google.colab.kernel.accessAllowed ? 'block' : 'none';\n",
              "\n",
              "        async function convertToInteractive(key) {\n",
              "          const element = document.querySelector('#df-84138c5d-1566-44fd-aa0c-451d8ba8b7ed');\n",
              "          const dataTable =\n",
              "            await google.colab.kernel.invokeFunction('convertToInteractive',\n",
              "                                                     [key], {});\n",
              "          if (!dataTable) return;\n",
              "\n",
              "          const docLinkHtml = 'Like what you see? Visit the ' +\n",
              "            '<a target=\"_blank\" href=https://colab.research.google.com/notebooks/data_table.ipynb>data table notebook</a>'\n",
              "            + ' to learn more about interactive tables.';\n",
              "          element.innerHTML = '';\n",
              "          dataTable['output_type'] = 'display_data';\n",
              "          await google.colab.output.renderOutput(dataTable, element);\n",
              "          const docLink = document.createElement('div');\n",
              "          docLink.innerHTML = docLinkHtml;\n",
              "          element.appendChild(docLink);\n",
              "        }\n",
              "      </script>\n",
              "    </div>\n",
              "  </div>\n",
              "  "
            ]
          },
          "metadata": {},
          "execution_count": 9
        }
      ]
    },
    {
      "cell_type": "code",
      "source": [
        "print(df_merged.isnull().sum())"
      ],
      "metadata": {
        "colab": {
          "base_uri": "https://localhost:8080/"
        },
        "id": "f3NrBBQFmMC2",
        "outputId": "f4b08afe-1c31-4070-fe7c-7dac6827a047"
      },
      "execution_count": 10,
      "outputs": [
        {
          "output_type": "stream",
          "name": "stdout",
          "text": [
            "Mhadhiri Denis Skopin (kushoto)                   4\n",
            "akiwa ameshikilia karatasi zake za                4\n",
            "kufukuzwa kutoka Chuo                             4\n",
            "Kikuu cha                                         4\n",
            "Jimbo la St PetersburgKatika nyumba yake ya St    4\n",
            "                                                 ..\n",
            "kutumia.1                                         5\n",
            "kuUdumisha                                        5\n",
            "utanzu                                            5\n",
            "semi.                                             5\n",
            "6)Your                                            5\n",
            "Length: 4347, dtype: int64\n"
          ]
        }
      ]
    },
    {
      "cell_type": "markdown",
      "source": [
        "## **2.3 Removing Null Values**"
      ],
      "metadata": {
        "id": "RD9-mh2ukRus"
      }
    },
    {
      "cell_type": "code",
      "source": [
        "df_merged = df_merged.dropna()"
      ],
      "metadata": {
        "id": "dpq3tcxGmSJP"
      },
      "execution_count": 11,
      "outputs": []
    },
    {
      "cell_type": "code",
      "source": [
        "#Checking again for missing values\n",
        "print(df_merged.isnull().sum())\n",
        "df_merged.isnull()"
      ],
      "metadata": {
        "colab": {
          "base_uri": "https://localhost:8080/",
          "height": 427
        },
        "id": "dMjAEIocmZAt",
        "outputId": "0bd174ec-4a9f-490b-8f40-c5d9fa85de5c"
      },
      "execution_count": 12,
      "outputs": [
        {
          "output_type": "stream",
          "name": "stdout",
          "text": [
            "Mhadhiri Denis Skopin (kushoto)                   0.0\n",
            "akiwa ameshikilia karatasi zake za                0.0\n",
            "kufukuzwa kutoka Chuo                             0.0\n",
            "Kikuu cha                                         0.0\n",
            "Jimbo la St PetersburgKatika nyumba yake ya St    0.0\n",
            "                                                 ... \n",
            "kutumia.1                                         0.0\n",
            "kuUdumisha                                        0.0\n",
            "utanzu                                            0.0\n",
            "semi.                                             0.0\n",
            "6)Your                                            0.0\n",
            "Length: 4347, dtype: float64\n"
          ]
        },
        {
          "output_type": "execute_result",
          "data": {
            "text/plain": [
              "Empty DataFrame\n",
              "Columns: [Mhadhiri Denis Skopin (kushoto), akiwa ameshikilia karatasi zake za, kufukuzwa kutoka Chuo, Kikuu cha, Jimbo la St PetersburgKatika nyumba yake ya St, Petersburg, mhadhiri wa chuo kikuu, Denis Skopin ananionyesha hati ambayo imebadilisha maisha, yake.Maelekezo: \"Maelekezo No.87/2D. Kuhusu: Kufutwa kazi.\"Hadi, hivi, majuzi Denis, alikuwa profesa msaidizi katika Kitivo cha Sanaa ya Kiliberali na Sayansi ya Chuo Kikuu cha Jimbo, la, St Petersburg. Lakini tarehe 20 Oktoba chuo kikuu kilimfukuza, kazi kwa \"kitendo, cha ukosefu wa maadili  ambacho, hakiendani na kazi za elimu\".Hiki kinachoitwa kitendo kisicho cha madili kilikuwa ni nini? Kushiriki katika mkutano \"usioidhinishwa\".Tarehe 21 Septemba Denis, alijiunga na maandamano ya mitaani, kupinga uamuzi wa Kremlin kuwaandikisha Warusi kupigana nchini Ukraine. Mapema siku hiyo, Rais Vladimir Putin alikuwa ametangaza \"uhamasishaji wa sehemu\" kote nchini., Wakati wa, maandamano Denis alikamatwa na kukaa jela siku 10.\"Uhuru wa kujieleza nchini Urusi uko katika mgogoro,\" Denis ananiambia., \"Aina zote za, uhuru ziko katika shida kubwa.\"\"Baada ya kuachiliwa kutoka kizuizini nilifanya kazi kwa wiki tatu, zaidi, chuo kikuu kilinitumia barua za kunitaka, nieleze kutokuwepo kwangu. Nilijibu kuwa nimekamatwa kwa kushiriki maandamano na kuwekwa kizuizini. Kisha Idara ya Rasilimali Watu alinipigia simu, na kuniambia, kuwa nimefukuzwa kazi.\"Siku, yake ya mwisho, kazini, wanafunzi wa Denis walikusanyika, nje ya chuo kikuu kumuaga.Katika hotuba ya papo hapo (video, iliwekwa, mtandaoni), aliwaambia:\"Kitendo kisicho na maadili  ni nini? Kutenda kinyume na dhamiri yako na kutii maagizo ya mtu mwingine bila kusita. Nilitenda kulingana na dhamiri yangu. Nina hakika kwamba mustakabali wa nchi yetu ni wako.\" Wanafunzi waliangua makofi kwa, mwalimu wao aliyefukuzwa kazi.\"Ninawapenda sana wanafunzi, wangu,\" Denis, ananiambia. \"Wana, akili, sana na wanaelewa vizuri kile kinachotokea, sasa nchini Urusi. [Onyesho lao] la idhini haikuwa kwangu, mimi binafsi. Badala yake, ilikuwa, ni kutokubali kile, kinachotokea sasa nchini Urusi.\"Watu wengi nchini, Urusi hawathubutu kuandamana kwa, sababu wana hatari ya kuadhibiwa kwa hilo. Lakini wengi wangependa kufanya hivyo. Na, kwa watu hawa, kutoa idhini, kwa wale wanaofanya maandamano ni njia ya kutokubaliana na kile kinachotokea nchini Urusi. \" Denis anasema robo ya wenzake wameondoka Urusi, tangu uvamizi wake kamili wa UkraineHadithi ya, Denis Skopin haiangazii, shinikizo tu, ambalo wapinzani wa \"operesheni maalum ya kijeshi\" ya Kremlin, wanakabiliwa hapa. Pia, inazua, maswali, kuhusu mustakabali wa Urusi.\"Waliofungiwa nami, katika kituo, cha kizuizini kulikuwa na wataalamu wa IT, wanasayansi, madaktari, walimu na, wanafunzi., Wengi, wao, sasa, wako, nje, ya, nchi., Kama, mwenzangu, mwenzangu,, mwanahisabati, kijana, mwenye, kipawa. \"Takriban, 25%, ya.1, wenzangu, wa, karibu, tayari, wameondoka, Urusi., Waliondoka, baada, ya.2, Februari, 24., Baadhi, yao, waliondoka, mara, moja,, wengine, waliondoka.1, baada.1, ya.3, kutangazwa, kwa, uhamasishaji., Nadhani, Urusi, inapoteza, watu, bora, sasa., ...]\n",
              "Index: []\n",
              "\n",
              "[0 rows x 4347 columns]"
            ],
            "text/html": [
              "\n",
              "  <div id=\"df-07e6824a-b125-4ea6-8554-6b1ab5645da0\">\n",
              "    <div class=\"colab-df-container\">\n",
              "      <div>\n",
              "<style scoped>\n",
              "    .dataframe tbody tr th:only-of-type {\n",
              "        vertical-align: middle;\n",
              "    }\n",
              "\n",
              "    .dataframe tbody tr th {\n",
              "        vertical-align: top;\n",
              "    }\n",
              "\n",
              "    .dataframe thead th {\n",
              "        text-align: right;\n",
              "    }\n",
              "</style>\n",
              "<table border=\"1\" class=\"dataframe\">\n",
              "  <thead>\n",
              "    <tr style=\"text-align: right;\">\n",
              "      <th></th>\n",
              "      <th>Mhadhiri Denis Skopin (kushoto)</th>\n",
              "      <th>akiwa ameshikilia karatasi zake za</th>\n",
              "      <th>kufukuzwa kutoka Chuo</th>\n",
              "      <th>Kikuu cha</th>\n",
              "      <th>Jimbo la St PetersburgKatika nyumba yake ya St</th>\n",
              "      <th>Petersburg, mhadhiri wa chuo kikuu</th>\n",
              "      <th>Denis Skopin ananionyesha hati ambayo imebadilisha maisha</th>\n",
              "      <th>yake.Maelekezo: \"Maelekezo No.87/2D. Kuhusu: Kufutwa kazi.\"Hadi</th>\n",
              "      <th>hivi</th>\n",
              "      <th>majuzi Denis</th>\n",
              "      <th>...</th>\n",
              "      <th>kuchagua</th>\n",
              "      <th>mbinu.4</th>\n",
              "      <th>hii..3</th>\n",
              "      <th>6)(b).1</th>\n",
              "      <th>sita.2</th>\n",
              "      <th>kutumia.1</th>\n",
              "      <th>kuUdumisha</th>\n",
              "      <th>utanzu</th>\n",
              "      <th>semi.</th>\n",
              "      <th>6)Your</th>\n",
              "    </tr>\n",
              "  </thead>\n",
              "  <tbody>\n",
              "  </tbody>\n",
              "</table>\n",
              "<p>0 rows × 4347 columns</p>\n",
              "</div>\n",
              "      <button class=\"colab-df-convert\" onclick=\"convertToInteractive('df-07e6824a-b125-4ea6-8554-6b1ab5645da0')\"\n",
              "              title=\"Convert this dataframe to an interactive table.\"\n",
              "              style=\"display:none;\">\n",
              "        \n",
              "  <svg xmlns=\"http://www.w3.org/2000/svg\" height=\"24px\"viewBox=\"0 0 24 24\"\n",
              "       width=\"24px\">\n",
              "    <path d=\"M0 0h24v24H0V0z\" fill=\"none\"/>\n",
              "    <path d=\"M18.56 5.44l.94 2.06.94-2.06 2.06-.94-2.06-.94-.94-2.06-.94 2.06-2.06.94zm-11 1L8.5 8.5l.94-2.06 2.06-.94-2.06-.94L8.5 2.5l-.94 2.06-2.06.94zm10 10l.94 2.06.94-2.06 2.06-.94-2.06-.94-.94-2.06-.94 2.06-2.06.94z\"/><path d=\"M17.41 7.96l-1.37-1.37c-.4-.4-.92-.59-1.43-.59-.52 0-1.04.2-1.43.59L10.3 9.45l-7.72 7.72c-.78.78-.78 2.05 0 2.83L4 21.41c.39.39.9.59 1.41.59.51 0 1.02-.2 1.41-.59l7.78-7.78 2.81-2.81c.8-.78.8-2.07 0-2.86zM5.41 20L4 18.59l7.72-7.72 1.47 1.35L5.41 20z\"/>\n",
              "  </svg>\n",
              "      </button>\n",
              "      \n",
              "  <style>\n",
              "    .colab-df-container {\n",
              "      display:flex;\n",
              "      flex-wrap:wrap;\n",
              "      gap: 12px;\n",
              "    }\n",
              "\n",
              "    .colab-df-convert {\n",
              "      background-color: #E8F0FE;\n",
              "      border: none;\n",
              "      border-radius: 50%;\n",
              "      cursor: pointer;\n",
              "      display: none;\n",
              "      fill: #1967D2;\n",
              "      height: 32px;\n",
              "      padding: 0 0 0 0;\n",
              "      width: 32px;\n",
              "    }\n",
              "\n",
              "    .colab-df-convert:hover {\n",
              "      background-color: #E2EBFA;\n",
              "      box-shadow: 0px 1px 2px rgba(60, 64, 67, 0.3), 0px 1px 3px 1px rgba(60, 64, 67, 0.15);\n",
              "      fill: #174EA6;\n",
              "    }\n",
              "\n",
              "    [theme=dark] .colab-df-convert {\n",
              "      background-color: #3B4455;\n",
              "      fill: #D2E3FC;\n",
              "    }\n",
              "\n",
              "    [theme=dark] .colab-df-convert:hover {\n",
              "      background-color: #434B5C;\n",
              "      box-shadow: 0px 1px 3px 1px rgba(0, 0, 0, 0.15);\n",
              "      filter: drop-shadow(0px 1px 2px rgba(0, 0, 0, 0.3));\n",
              "      fill: #FFFFFF;\n",
              "    }\n",
              "  </style>\n",
              "\n",
              "      <script>\n",
              "        const buttonEl =\n",
              "          document.querySelector('#df-07e6824a-b125-4ea6-8554-6b1ab5645da0 button.colab-df-convert');\n",
              "        buttonEl.style.display =\n",
              "          google.colab.kernel.accessAllowed ? 'block' : 'none';\n",
              "\n",
              "        async function convertToInteractive(key) {\n",
              "          const element = document.querySelector('#df-07e6824a-b125-4ea6-8554-6b1ab5645da0');\n",
              "          const dataTable =\n",
              "            await google.colab.kernel.invokeFunction('convertToInteractive',\n",
              "                                                     [key], {});\n",
              "          if (!dataTable) return;\n",
              "\n",
              "          const docLinkHtml = 'Like what you see? Visit the ' +\n",
              "            '<a target=\"_blank\" href=https://colab.research.google.com/notebooks/data_table.ipynb>data table notebook</a>'\n",
              "            + ' to learn more about interactive tables.';\n",
              "          element.innerHTML = '';\n",
              "          dataTable['output_type'] = 'display_data';\n",
              "          await google.colab.output.renderOutput(dataTable, element);\n",
              "          const docLink = document.createElement('div');\n",
              "          docLink.innerHTML = docLinkHtml;\n",
              "          element.appendChild(docLink);\n",
              "        }\n",
              "      </script>\n",
              "    </div>\n",
              "  </div>\n",
              "  "
            ]
          },
          "metadata": {},
          "execution_count": 12
        }
      ]
    },
    {
      "cell_type": "code",
      "source": [
        "print(df_merged)"
      ],
      "metadata": {
        "colab": {
          "base_uri": "https://localhost:8080/"
        },
        "id": "MpxBLD9ymgSX",
        "outputId": "5307ad71-4705-496f-8cc5-0f69244d1bc2"
      },
      "execution_count": 13,
      "outputs": [
        {
          "output_type": "stream",
          "name": "stdout",
          "text": [
            "Empty DataFrame\n",
            "Columns: [Mhadhiri Denis Skopin (kushoto), akiwa ameshikilia karatasi zake za, kufukuzwa kutoka Chuo, Kikuu cha, Jimbo la St PetersburgKatika nyumba yake ya St, Petersburg, mhadhiri wa chuo kikuu, Denis Skopin ananionyesha hati ambayo imebadilisha maisha, yake.Maelekezo: \"Maelekezo No.87/2D. Kuhusu: Kufutwa kazi.\"Hadi, hivi, majuzi Denis, alikuwa profesa msaidizi katika Kitivo cha Sanaa ya Kiliberali na Sayansi ya Chuo Kikuu cha Jimbo, la, St Petersburg. Lakini tarehe 20 Oktoba chuo kikuu kilimfukuza, kazi kwa \"kitendo, cha ukosefu wa maadili  ambacho, hakiendani na kazi za elimu\".Hiki kinachoitwa kitendo kisicho cha madili kilikuwa ni nini? Kushiriki katika mkutano \"usioidhinishwa\".Tarehe 21 Septemba Denis, alijiunga na maandamano ya mitaani, kupinga uamuzi wa Kremlin kuwaandikisha Warusi kupigana nchini Ukraine. Mapema siku hiyo, Rais Vladimir Putin alikuwa ametangaza \"uhamasishaji wa sehemu\" kote nchini., Wakati wa, maandamano Denis alikamatwa na kukaa jela siku 10.\"Uhuru wa kujieleza nchini Urusi uko katika mgogoro,\" Denis ananiambia., \"Aina zote za, uhuru ziko katika shida kubwa.\"\"Baada ya kuachiliwa kutoka kizuizini nilifanya kazi kwa wiki tatu, zaidi, chuo kikuu kilinitumia barua za kunitaka, nieleze kutokuwepo kwangu. Nilijibu kuwa nimekamatwa kwa kushiriki maandamano na kuwekwa kizuizini. Kisha Idara ya Rasilimali Watu alinipigia simu, na kuniambia, kuwa nimefukuzwa kazi.\"Siku, yake ya mwisho, kazini, wanafunzi wa Denis walikusanyika, nje ya chuo kikuu kumuaga.Katika hotuba ya papo hapo (video, iliwekwa, mtandaoni), aliwaambia:\"Kitendo kisicho na maadili  ni nini? Kutenda kinyume na dhamiri yako na kutii maagizo ya mtu mwingine bila kusita. Nilitenda kulingana na dhamiri yangu. Nina hakika kwamba mustakabali wa nchi yetu ni wako.\" Wanafunzi waliangua makofi kwa, mwalimu wao aliyefukuzwa kazi.\"Ninawapenda sana wanafunzi, wangu,\" Denis, ananiambia. \"Wana, akili, sana na wanaelewa vizuri kile kinachotokea, sasa nchini Urusi. [Onyesho lao] la idhini haikuwa kwangu, mimi binafsi. Badala yake, ilikuwa, ni kutokubali kile, kinachotokea sasa nchini Urusi.\"Watu wengi nchini, Urusi hawathubutu kuandamana kwa, sababu wana hatari ya kuadhibiwa kwa hilo. Lakini wengi wangependa kufanya hivyo. Na, kwa watu hawa, kutoa idhini, kwa wale wanaofanya maandamano ni njia ya kutokubaliana na kile kinachotokea nchini Urusi. \" Denis anasema robo ya wenzake wameondoka Urusi, tangu uvamizi wake kamili wa UkraineHadithi ya, Denis Skopin haiangazii, shinikizo tu, ambalo wapinzani wa \"operesheni maalum ya kijeshi\" ya Kremlin, wanakabiliwa hapa. Pia, inazua, maswali, kuhusu mustakabali wa Urusi.\"Waliofungiwa nami, katika kituo, cha kizuizini kulikuwa na wataalamu wa IT, wanasayansi, madaktari, walimu na, wanafunzi., Wengi, wao, sasa, wako, nje, ya, nchi., Kama, mwenzangu, mwenzangu,, mwanahisabati, kijana, mwenye, kipawa. \"Takriban, 25%, ya.1, wenzangu, wa, karibu, tayari, wameondoka, Urusi., Waliondoka, baada, ya.2, Februari, 24., Baadhi, yao, waliondoka, mara, moja,, wengine, waliondoka.1, baada.1, ya.3, kutangazwa, kwa, uhamasishaji., Nadhani, Urusi, inapoteza, watu, bora, sasa., ...]\n",
            "Index: []\n",
            "\n",
            "[0 rows x 4347 columns]\n"
          ]
        }
      ]
    },
    {
      "cell_type": "markdown",
      "source": [
        "## **2.4 We can Transpose Dataset**\n",
        "\n",
        "(to have rows and one column as compared to how it is now (more columns and 1 row))"
      ],
      "metadata": {
        "id": "zORtKxmunclA"
      }
    },
    {
      "cell_type": "code",
      "source": [
        "df_merged.T"
      ],
      "metadata": {
        "colab": {
          "base_uri": "https://localhost:8080/",
          "height": 406
        },
        "id": "PguFT_12nXn7",
        "outputId": "ce4f5130-be3c-40c3-9164-adfde9e1dfba"
      },
      "execution_count": 14,
      "outputs": [
        {
          "output_type": "execute_result",
          "data": {
            "text/plain": [
              "Empty DataFrame\n",
              "Columns: []\n",
              "Index: [Mhadhiri Denis Skopin (kushoto), akiwa ameshikilia karatasi zake za, kufukuzwa kutoka Chuo, Kikuu cha, Jimbo la St PetersburgKatika nyumba yake ya St, Petersburg, mhadhiri wa chuo kikuu, Denis Skopin ananionyesha hati ambayo imebadilisha maisha, yake.Maelekezo: \"Maelekezo No.87/2D. Kuhusu: Kufutwa kazi.\"Hadi, hivi, majuzi Denis, alikuwa profesa msaidizi katika Kitivo cha Sanaa ya Kiliberali na Sayansi ya Chuo Kikuu cha Jimbo, la, St Petersburg. Lakini tarehe 20 Oktoba chuo kikuu kilimfukuza, kazi kwa \"kitendo, cha ukosefu wa maadili  ambacho, hakiendani na kazi za elimu\".Hiki kinachoitwa kitendo kisicho cha madili kilikuwa ni nini? Kushiriki katika mkutano \"usioidhinishwa\".Tarehe 21 Septemba Denis, alijiunga na maandamano ya mitaani, kupinga uamuzi wa Kremlin kuwaandikisha Warusi kupigana nchini Ukraine. Mapema siku hiyo, Rais Vladimir Putin alikuwa ametangaza \"uhamasishaji wa sehemu\" kote nchini., Wakati wa, maandamano Denis alikamatwa na kukaa jela siku 10.\"Uhuru wa kujieleza nchini Urusi uko katika mgogoro,\" Denis ananiambia., \"Aina zote za, uhuru ziko katika shida kubwa.\"\"Baada ya kuachiliwa kutoka kizuizini nilifanya kazi kwa wiki tatu, zaidi, chuo kikuu kilinitumia barua za kunitaka, nieleze kutokuwepo kwangu. Nilijibu kuwa nimekamatwa kwa kushiriki maandamano na kuwekwa kizuizini. Kisha Idara ya Rasilimali Watu alinipigia simu, na kuniambia, kuwa nimefukuzwa kazi.\"Siku, yake ya mwisho, kazini, wanafunzi wa Denis walikusanyika, nje ya chuo kikuu kumuaga.Katika hotuba ya papo hapo (video, iliwekwa, mtandaoni), aliwaambia:\"Kitendo kisicho na maadili  ni nini? Kutenda kinyume na dhamiri yako na kutii maagizo ya mtu mwingine bila kusita. Nilitenda kulingana na dhamiri yangu. Nina hakika kwamba mustakabali wa nchi yetu ni wako.\" Wanafunzi waliangua makofi kwa, mwalimu wao aliyefukuzwa kazi.\"Ninawapenda sana wanafunzi, wangu,\" Denis, ananiambia. \"Wana, akili, sana na wanaelewa vizuri kile kinachotokea, sasa nchini Urusi. [Onyesho lao] la idhini haikuwa kwangu, mimi binafsi. Badala yake, ilikuwa, ni kutokubali kile, kinachotokea sasa nchini Urusi.\"Watu wengi nchini, Urusi hawathubutu kuandamana kwa, sababu wana hatari ya kuadhibiwa kwa hilo. Lakini wengi wangependa kufanya hivyo. Na, kwa watu hawa, kutoa idhini, kwa wale wanaofanya maandamano ni njia ya kutokubaliana na kile kinachotokea nchini Urusi. \" Denis anasema robo ya wenzake wameondoka Urusi, tangu uvamizi wake kamili wa UkraineHadithi ya, Denis Skopin haiangazii, shinikizo tu, ambalo wapinzani wa \"operesheni maalum ya kijeshi\" ya Kremlin, wanakabiliwa hapa. Pia, inazua, maswali, kuhusu mustakabali wa Urusi.\"Waliofungiwa nami, katika kituo, cha kizuizini kulikuwa na wataalamu wa IT, wanasayansi, madaktari, walimu na, wanafunzi., Wengi, wao, sasa, wako, nje, ya, nchi., Kama, mwenzangu, mwenzangu,, mwanahisabati, kijana, mwenye, kipawa. \"Takriban, 25%, ya.1, wenzangu, wa, karibu, tayari, wameondoka, Urusi., Waliondoka, baada, ya.2, Februari, 24., Baadhi, yao, waliondoka, mara, moja,, wengine, waliondoka.1, baada.1, ya.3, kutangazwa, kwa, uhamasishaji., Nadhani, Urusi, inapoteza, watu, bora, sasa., ...]\n",
              "\n",
              "[4347 rows x 0 columns]"
            ],
            "text/html": [
              "\n",
              "  <div id=\"df-06ac1d26-d0a8-4d44-a83f-f4ddbe288ab5\">\n",
              "    <div class=\"colab-df-container\">\n",
              "      <div>\n",
              "<style scoped>\n",
              "    .dataframe tbody tr th:only-of-type {\n",
              "        vertical-align: middle;\n",
              "    }\n",
              "\n",
              "    .dataframe tbody tr th {\n",
              "        vertical-align: top;\n",
              "    }\n",
              "\n",
              "    .dataframe thead th {\n",
              "        text-align: right;\n",
              "    }\n",
              "</style>\n",
              "<table border=\"1\" class=\"dataframe\">\n",
              "  <thead>\n",
              "    <tr style=\"text-align: right;\">\n",
              "      <th></th>\n",
              "    </tr>\n",
              "  </thead>\n",
              "  <tbody>\n",
              "    <tr>\n",
              "      <th>Mhadhiri Denis Skopin (kushoto)</th>\n",
              "    </tr>\n",
              "    <tr>\n",
              "      <th>akiwa ameshikilia karatasi zake za</th>\n",
              "    </tr>\n",
              "    <tr>\n",
              "      <th>kufukuzwa kutoka Chuo</th>\n",
              "    </tr>\n",
              "    <tr>\n",
              "      <th>Kikuu cha</th>\n",
              "    </tr>\n",
              "    <tr>\n",
              "      <th>Jimbo la St PetersburgKatika nyumba yake ya St</th>\n",
              "    </tr>\n",
              "    <tr>\n",
              "      <th>...</th>\n",
              "    </tr>\n",
              "    <tr>\n",
              "      <th>kutumia.1</th>\n",
              "    </tr>\n",
              "    <tr>\n",
              "      <th>kuUdumisha</th>\n",
              "    </tr>\n",
              "    <tr>\n",
              "      <th>utanzu</th>\n",
              "    </tr>\n",
              "    <tr>\n",
              "      <th>semi.</th>\n",
              "    </tr>\n",
              "    <tr>\n",
              "      <th>6)Your</th>\n",
              "    </tr>\n",
              "  </tbody>\n",
              "</table>\n",
              "<p>4347 rows × 0 columns</p>\n",
              "</div>\n",
              "      <button class=\"colab-df-convert\" onclick=\"convertToInteractive('df-06ac1d26-d0a8-4d44-a83f-f4ddbe288ab5')\"\n",
              "              title=\"Convert this dataframe to an interactive table.\"\n",
              "              style=\"display:none;\">\n",
              "        \n",
              "  <svg xmlns=\"http://www.w3.org/2000/svg\" height=\"24px\"viewBox=\"0 0 24 24\"\n",
              "       width=\"24px\">\n",
              "    <path d=\"M0 0h24v24H0V0z\" fill=\"none\"/>\n",
              "    <path d=\"M18.56 5.44l.94 2.06.94-2.06 2.06-.94-2.06-.94-.94-2.06-.94 2.06-2.06.94zm-11 1L8.5 8.5l.94-2.06 2.06-.94-2.06-.94L8.5 2.5l-.94 2.06-2.06.94zm10 10l.94 2.06.94-2.06 2.06-.94-2.06-.94-.94-2.06-.94 2.06-2.06.94z\"/><path d=\"M17.41 7.96l-1.37-1.37c-.4-.4-.92-.59-1.43-.59-.52 0-1.04.2-1.43.59L10.3 9.45l-7.72 7.72c-.78.78-.78 2.05 0 2.83L4 21.41c.39.39.9.59 1.41.59.51 0 1.02-.2 1.41-.59l7.78-7.78 2.81-2.81c.8-.78.8-2.07 0-2.86zM5.41 20L4 18.59l7.72-7.72 1.47 1.35L5.41 20z\"/>\n",
              "  </svg>\n",
              "      </button>\n",
              "      \n",
              "  <style>\n",
              "    .colab-df-container {\n",
              "      display:flex;\n",
              "      flex-wrap:wrap;\n",
              "      gap: 12px;\n",
              "    }\n",
              "\n",
              "    .colab-df-convert {\n",
              "      background-color: #E8F0FE;\n",
              "      border: none;\n",
              "      border-radius: 50%;\n",
              "      cursor: pointer;\n",
              "      display: none;\n",
              "      fill: #1967D2;\n",
              "      height: 32px;\n",
              "      padding: 0 0 0 0;\n",
              "      width: 32px;\n",
              "    }\n",
              "\n",
              "    .colab-df-convert:hover {\n",
              "      background-color: #E2EBFA;\n",
              "      box-shadow: 0px 1px 2px rgba(60, 64, 67, 0.3), 0px 1px 3px 1px rgba(60, 64, 67, 0.15);\n",
              "      fill: #174EA6;\n",
              "    }\n",
              "\n",
              "    [theme=dark] .colab-df-convert {\n",
              "      background-color: #3B4455;\n",
              "      fill: #D2E3FC;\n",
              "    }\n",
              "\n",
              "    [theme=dark] .colab-df-convert:hover {\n",
              "      background-color: #434B5C;\n",
              "      box-shadow: 0px 1px 3px 1px rgba(0, 0, 0, 0.15);\n",
              "      filter: drop-shadow(0px 1px 2px rgba(0, 0, 0, 0.3));\n",
              "      fill: #FFFFFF;\n",
              "    }\n",
              "  </style>\n",
              "\n",
              "      <script>\n",
              "        const buttonEl =\n",
              "          document.querySelector('#df-06ac1d26-d0a8-4d44-a83f-f4ddbe288ab5 button.colab-df-convert');\n",
              "        buttonEl.style.display =\n",
              "          google.colab.kernel.accessAllowed ? 'block' : 'none';\n",
              "\n",
              "        async function convertToInteractive(key) {\n",
              "          const element = document.querySelector('#df-06ac1d26-d0a8-4d44-a83f-f4ddbe288ab5');\n",
              "          const dataTable =\n",
              "            await google.colab.kernel.invokeFunction('convertToInteractive',\n",
              "                                                     [key], {});\n",
              "          if (!dataTable) return;\n",
              "\n",
              "          const docLinkHtml = 'Like what you see? Visit the ' +\n",
              "            '<a target=\"_blank\" href=https://colab.research.google.com/notebooks/data_table.ipynb>data table notebook</a>'\n",
              "            + ' to learn more about interactive tables.';\n",
              "          element.innerHTML = '';\n",
              "          dataTable['output_type'] = 'display_data';\n",
              "          await google.colab.output.renderOutput(dataTable, element);\n",
              "          const docLink = document.createElement('div');\n",
              "          docLink.innerHTML = docLinkHtml;\n",
              "          element.appendChild(docLink);\n",
              "        }\n",
              "      </script>\n",
              "    </div>\n",
              "  </div>\n",
              "  "
            ]
          },
          "metadata": {},
          "execution_count": 14
        }
      ]
    },
    {
      "cell_type": "code",
      "source": [
        "print (df_merged.T)\n",
        "#BTW does this change the performance of the tokenizer?"
      ],
      "metadata": {
        "colab": {
          "base_uri": "https://localhost:8080/"
        },
        "id": "MDY0N2RJnvKb",
        "outputId": "14daa7a9-6e88-4df4-856c-5836b2725a5e"
      },
      "execution_count": 15,
      "outputs": [
        {
          "output_type": "stream",
          "name": "stdout",
          "text": [
            "Empty DataFrame\n",
            "Columns: []\n",
            "Index: [Mhadhiri Denis Skopin (kushoto), akiwa ameshikilia karatasi zake za, kufukuzwa kutoka Chuo, Kikuu cha, Jimbo la St PetersburgKatika nyumba yake ya St, Petersburg, mhadhiri wa chuo kikuu, Denis Skopin ananionyesha hati ambayo imebadilisha maisha, yake.Maelekezo: \"Maelekezo No.87/2D. Kuhusu: Kufutwa kazi.\"Hadi, hivi, majuzi Denis, alikuwa profesa msaidizi katika Kitivo cha Sanaa ya Kiliberali na Sayansi ya Chuo Kikuu cha Jimbo, la, St Petersburg. Lakini tarehe 20 Oktoba chuo kikuu kilimfukuza, kazi kwa \"kitendo, cha ukosefu wa maadili  ambacho, hakiendani na kazi za elimu\".Hiki kinachoitwa kitendo kisicho cha madili kilikuwa ni nini? Kushiriki katika mkutano \"usioidhinishwa\".Tarehe 21 Septemba Denis, alijiunga na maandamano ya mitaani, kupinga uamuzi wa Kremlin kuwaandikisha Warusi kupigana nchini Ukraine. Mapema siku hiyo, Rais Vladimir Putin alikuwa ametangaza \"uhamasishaji wa sehemu\" kote nchini., Wakati wa, maandamano Denis alikamatwa na kukaa jela siku 10.\"Uhuru wa kujieleza nchini Urusi uko katika mgogoro,\" Denis ananiambia., \"Aina zote za, uhuru ziko katika shida kubwa.\"\"Baada ya kuachiliwa kutoka kizuizini nilifanya kazi kwa wiki tatu, zaidi, chuo kikuu kilinitumia barua za kunitaka, nieleze kutokuwepo kwangu. Nilijibu kuwa nimekamatwa kwa kushiriki maandamano na kuwekwa kizuizini. Kisha Idara ya Rasilimali Watu alinipigia simu, na kuniambia, kuwa nimefukuzwa kazi.\"Siku, yake ya mwisho, kazini, wanafunzi wa Denis walikusanyika, nje ya chuo kikuu kumuaga.Katika hotuba ya papo hapo (video, iliwekwa, mtandaoni), aliwaambia:\"Kitendo kisicho na maadili  ni nini? Kutenda kinyume na dhamiri yako na kutii maagizo ya mtu mwingine bila kusita. Nilitenda kulingana na dhamiri yangu. Nina hakika kwamba mustakabali wa nchi yetu ni wako.\" Wanafunzi waliangua makofi kwa, mwalimu wao aliyefukuzwa kazi.\"Ninawapenda sana wanafunzi, wangu,\" Denis, ananiambia. \"Wana, akili, sana na wanaelewa vizuri kile kinachotokea, sasa nchini Urusi. [Onyesho lao] la idhini haikuwa kwangu, mimi binafsi. Badala yake, ilikuwa, ni kutokubali kile, kinachotokea sasa nchini Urusi.\"Watu wengi nchini, Urusi hawathubutu kuandamana kwa, sababu wana hatari ya kuadhibiwa kwa hilo. Lakini wengi wangependa kufanya hivyo. Na, kwa watu hawa, kutoa idhini, kwa wale wanaofanya maandamano ni njia ya kutokubaliana na kile kinachotokea nchini Urusi. \" Denis anasema robo ya wenzake wameondoka Urusi, tangu uvamizi wake kamili wa UkraineHadithi ya, Denis Skopin haiangazii, shinikizo tu, ambalo wapinzani wa \"operesheni maalum ya kijeshi\" ya Kremlin, wanakabiliwa hapa. Pia, inazua, maswali, kuhusu mustakabali wa Urusi.\"Waliofungiwa nami, katika kituo, cha kizuizini kulikuwa na wataalamu wa IT, wanasayansi, madaktari, walimu na, wanafunzi., Wengi, wao, sasa, wako, nje, ya, nchi., Kama, mwenzangu, mwenzangu,, mwanahisabati, kijana, mwenye, kipawa. \"Takriban, 25%, ya.1, wenzangu, wa, karibu, tayari, wameondoka, Urusi., Waliondoka, baada, ya.2, Februari, 24., Baadhi, yao, waliondoka, mara, moja,, wengine, waliondoka.1, baada.1, ya.3, kutangazwa, kwa, uhamasishaji., Nadhani, Urusi, inapoteza, watu, bora, sasa., ...]\n",
            "\n",
            "[4347 rows x 0 columns]\n"
          ]
        }
      ]
    },
    {
      "cell_type": "markdown",
      "source": [
        "## **3.0 Building The Tokenizer**"
      ],
      "metadata": {
        "id": "tuOnmNJaHayo"
      }
    },
    {
      "cell_type": "markdown",
      "source": [
        "**Brief Overview of the Process**\n",
        "\n",
        "Tokenization involves several steps:\n",
        "\n",
        "1.   Normalization - which involves text cleanup such as lowercasing, removing accents or weird characters with Unicode normalization, etc\n",
        "2.   Pre-tokenization - splitting the words into parts.\n",
        "3.   Model - the actual tokenization where characters or subwords are merged into logical components.\n",
        "4.   Post-processing - at thsis step, special tokens are added and these tokens are translated into IDs.\n",
        "5.   Decoder - the final step that takes the tokenized data and converts it into human-readable text. Often this step is not seen as part of the tokenization process but is necessary to understand any text-based model output.\n",
        "\n",
        "\n",
        "\n"
      ],
      "metadata": {
        "id": "mS3T_5MBHnJv"
      }
    },
    {
      "cell_type": "markdown",
      "source": [
        "### **3.1 Libraries**"
      ],
      "metadata": {
        "id": "SbMsFI_nJVuS"
      }
    },
    {
      "cell_type": "code",
      "source": [
        "from tokenizers import Tokenizer\n",
        "from tokenizers.models import BPE\n",
        "from tokenizers.trainers import BpeTrainer\n",
        "from tokenizers.pre_tokenizers import Whitespace\n",
        "from tokenizers import models"
      ],
      "metadata": {
        "id": "j83fSwweHfxC"
      },
      "execution_count": 16,
      "outputs": []
    },
    {
      "cell_type": "code",
      "source": [
        "tokenizer = Tokenizer(models.WordPiece(unk_token='[UNK]'))"
      ],
      "metadata": {
        "id": "ziuwZqZQckDn"
      },
      "execution_count": 17,
      "outputs": []
    },
    {
      "cell_type": "markdown",
      "source": [
        "### **3.2 Normalization**"
      ],
      "metadata": {
        "id": "dBU-cZ1wKiUl"
      }
    },
    {
      "cell_type": "code",
      "source": [
        "from tokenizers import normalizers\n",
        "tokenizer.normalizer = normalizers.Sequence(\n",
        "    [normalizers.Lowercase(), normalizers.NFKD()]\n",
        ")"
      ],
      "metadata": {
        "id": "NC493aZtKkBX"
      },
      "execution_count": 18,
      "outputs": []
    },
    {
      "cell_type": "markdown",
      "source": [
        "### **3.3 Pre-Tokenization**"
      ],
      "metadata": {
        "id": "OjlbGTxhKqrt"
      }
    },
    {
      "cell_type": "code",
      "source": [
        "from tokenizers import pre_tokenizers\n",
        "tokenizer.pre_tokenizer = pre_tokenizers.Whitespace()"
      ],
      "metadata": {
        "id": "90oXds2GKsgr"
      },
      "execution_count": 19,
      "outputs": []
    },
    {
      "cell_type": "markdown",
      "source": [
        "### **3.4 Training the Tokenizer**"
      ],
      "metadata": {
        "id": "OB32uJHOKwKD"
      }
    },
    {
      "cell_type": "code",
      "source": [
        "from tokenizers import trainers\n",
        "\n",
        "trainer = trainers.WordPieceTrainer(\n",
        "    vocab_size=30_000,\n",
        "    special_tokens=['[UNK]', '[PAD]', '[CLS]', '[SEP]', '[MASK]'],\n",
        "    min_frequency=2,\n",
        "    continuing_subword_prefix='##'\n",
        ")"
      ],
      "metadata": {
        "id": "Orn-14oiK0aX"
      },
      "execution_count": 20,
      "outputs": []
    },
    {
      "cell_type": "code",
      "source": [
        "tokenizer.train_from_iterator(df_merged, trainer=trainer)"
      ],
      "metadata": {
        "id": "QUbPOIA7K7gx"
      },
      "execution_count": 22,
      "outputs": []
    },
    {
      "cell_type": "markdown",
      "source": [
        "### **3.5 Post Processing**"
      ],
      "metadata": {
        "id": "IDRSuJ8gLb9U"
      }
    },
    {
      "cell_type": "code",
      "source": [
        "from tokenizers import processors\n",
        "\n",
        "# first we get the token ID values (defined in the vocab) for CLS and SEP\n",
        "cls_id = tokenizer.token_to_id('[CLS]')\n",
        "sep_id = tokenizer.token_to_id('[SEP]')\n",
        "\n",
        "# then setup the post processing step with TemplateProcessing\n",
        "tokenizer.post_processor = processors.TemplateProcessing(\n",
        "    single=f'[CLS]:0 $A:0 [SEP]:0',\n",
        "    pair=f'[CLS]:0 $A:0 [SEP]:0 $B:1 [SEP]:1',\n",
        "    special_tokens=[\n",
        "        ('[CLS]', cls_id),\n",
        "        ('[SEP]', sep_id)\n",
        "    ]\n",
        ")"
      ],
      "metadata": {
        "id": "0pUmfKxgK7qo"
      },
      "execution_count": 23,
      "outputs": []
    },
    {
      "cell_type": "markdown",
      "source": [
        "### **3.6 Decoder**"
      ],
      "metadata": {
        "id": "wIntyjdBLjXV"
      }
    },
    {
      "cell_type": "code",
      "source": [
        "from tokenizers import decoders\n",
        "\n",
        "tokenizer.decoder = decoders.WordPiece(prefix='##')"
      ],
      "metadata": {
        "id": "xix0xVrDLnNE"
      },
      "execution_count": 24,
      "outputs": []
    },
    {
      "cell_type": "markdown",
      "source": [
        "## **4.0 Saving the Tokenizer**"
      ],
      "metadata": {
        "id": "xF6ibJJLLn4-"
      }
    },
    {
      "cell_type": "code",
      "source": [
        "from transformers import PreTrainedTokenizerFast\n",
        "\n",
        "# load the tokenizer in a transformers tokenizer instance\n",
        "tokenizer = PreTrainedTokenizerFast(\n",
        "    tokenizer_object=tokenizer,\n",
        "    unk_token='[UNK]',\n",
        "    pad_token='[PAD]',\n",
        "    cls_token='[CLS]',\n",
        "    sep_token='[SEP]',\n",
        "    mask_token='[MASK]'\n",
        ")\n",
        "\n",
        "# save the tokenizer\n",
        "tokenizer.save_pretrained('/content/drive/MyDrive/Kiswahili_Dataset/RDK-Kisw-Tokenizer')"
      ],
      "metadata": {
        "id": "xccwsNnwL5Oi",
        "colab": {
          "base_uri": "https://localhost:8080/"
        },
        "outputId": "e60d55ac-68c5-4916-fe38-191e7ebf92dc"
      },
      "execution_count": 25,
      "outputs": [
        {
          "output_type": "execute_result",
          "data": {
            "text/plain": [
              "('/content/drive/MyDrive/Kiswahili_Dataset/RDK-Kisw-Tokenizer/tokenizer_config.json',\n",
              " '/content/drive/MyDrive/Kiswahili_Dataset/RDK-Kisw-Tokenizer/special_tokens_map.json',\n",
              " '/content/drive/MyDrive/Kiswahili_Dataset/RDK-Kisw-Tokenizer/tokenizer.json')"
            ]
          },
          "metadata": {},
          "execution_count": 25
        }
      ]
    },
    {
      "cell_type": "markdown",
      "source": [
        "Tokenizer succesfully saved."
      ],
      "metadata": {
        "id": "QUAg5iQ4-6Wx"
      }
    },
    {
      "cell_type": "markdown",
      "source": [
        "## **5.0 Using the Tokenizer**"
      ],
      "metadata": {
        "id": "VvmuoFuqL_KH"
      }
    },
    {
      "cell_type": "code",
      "source": [
        "tokenizer = PreTrainedTokenizerFast.from_pretrained('/content/drive/MyDrive/Kiswahili_Dataset/RDK-Kisw-Tokenizer')"
      ],
      "metadata": {
        "id": "LTa-mLjvMClk"
      },
      "execution_count": 26,
      "outputs": []
    },
    {
      "cell_type": "code",
      "source": [
        "tokens = tokenizer(\"Ilikuwa wakati wa jioni jua limepunguza udhia wake na upepo mwanana ulikuwa ukipita na kuzipapasa ngozi zetu mfano wa pamba\")"
      ],
      "metadata": {
        "id": "vVlt3ckmdiq-"
      },
      "execution_count": 34,
      "outputs": []
    },
    {
      "cell_type": "code",
      "source": [
        "tokenizer(\"Ilikuwa wakati wa jioni jua limepunguza udhia wake na upepo mwanana ulikuwa ukipita na kuzipapasa ngozi zetu mfano wa pamba\")"
      ],
      "metadata": {
        "id": "0BB1vmtz_z0m",
        "outputId": "492f00a6-72ed-4242-acb2-2b56e52c5df4",
        "colab": {
          "base_uri": "https://localhost:8080/"
        }
      },
      "execution_count": 35,
      "outputs": [
        {
          "output_type": "execute_result",
          "data": {
            "text/plain": [
              "{'input_ids': [2, 1345, 634, 135, 1952, 1133, 1055, 778, 76, 161, 164, 52, 267, 75, 433, 153, 1442, 1938, 1363, 2012, 153, 2067, 2111, 663, 590, 135, 537, 141, 3], 'token_type_ids': [0, 0, 0, 0, 0, 0, 0, 0, 0, 0, 0, 0, 0, 0, 0, 0, 0, 0, 0, 0, 0, 0, 0, 0, 0, 0, 0, 0, 0], 'attention_mask': [1, 1, 1, 1, 1, 1, 1, 1, 1, 1, 1, 1, 1, 1, 1, 1, 1, 1, 1, 1, 1, 1, 1, 1, 1, 1, 1, 1, 1]}"
            ]
          },
          "metadata": {},
          "execution_count": 35
        }
      ]
    },
    {
      "cell_type": "code",
      "source": [
        "print(tokenizer)"
      ],
      "metadata": {
        "id": "huCxcvt8_Mxz",
        "outputId": "39db85a4-b5f2-46af-d0da-960a6e039aac",
        "colab": {
          "base_uri": "https://localhost:8080/"
        }
      },
      "execution_count": 30,
      "outputs": [
        {
          "output_type": "stream",
          "name": "stdout",
          "text": [
            "PreTrainedTokenizerFast(name_or_path='/content/drive/MyDrive/Kiswahili_Dataset/RDK-Kisw-Tokenizer', vocab_size=2211, model_max_len=1000000000000000019884624838656, is_fast=True, padding_side='right', truncation_side='right', special_tokens={'unk_token': '[UNK]', 'sep_token': '[SEP]', 'pad_token': '[PAD]', 'cls_token': '[CLS]', 'mask_token': '[MASK]'})\n"
          ]
        }
      ]
    },
    {
      "cell_type": "code",
      "source": [
        "tokens.input_ids"
      ],
      "metadata": {
        "id": "-W7IJeiU_sjp",
        "outputId": "4700ce39-5c9a-4716-db27-0084675c1808",
        "colab": {
          "base_uri": "https://localhost:8080/"
        }
      },
      "execution_count": 33,
      "outputs": [
        {
          "output_type": "execute_result",
          "data": {
            "text/plain": [
              "[2,\n",
              " 1345,\n",
              " 634,\n",
              " 135,\n",
              " 1952,\n",
              " 1133,\n",
              " 1055,\n",
              " 778,\n",
              " 76,\n",
              " 161,\n",
              " 164,\n",
              " 52,\n",
              " 267,\n",
              " 75,\n",
              " 433,\n",
              " 153,\n",
              " 1442,\n",
              " 1938,\n",
              " 1363,\n",
              " 2012,\n",
              " 153,\n",
              " 2067,\n",
              " 2111,\n",
              " 663,\n",
              " 590,\n",
              " 135,\n",
              " 537,\n",
              " 141,\n",
              " 3]"
            ]
          },
          "metadata": {},
          "execution_count": 33
        }
      ]
    }
  ]
}