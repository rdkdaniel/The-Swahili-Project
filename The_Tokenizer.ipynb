{
  "nbformat": 4,
  "nbformat_minor": 0,
  "metadata": {
    "colab": {
      "provenance": [],
      "mount_file_id": "https://github.com/rdkdaniel/The-Swahili-Project/blob/main/The_Tokenizer.ipynb",
      "authorship_tag": "ABX9TyMYVAEc3qVKAxGmWwUVSuLj",
      "include_colab_link": true
    },
    "kernelspec": {
      "name": "python3",
      "display_name": "Python 3"
    },
    "language_info": {
      "name": "python"
    }
  },
  "cells": [
    {
      "cell_type": "markdown",
      "metadata": {
        "id": "view-in-github",
        "colab_type": "text"
      },
      "source": [
        "<a href=\"https://colab.research.google.com/github/rdkdaniel/The-Swahili-Project/blob/main/The_Tokenizer.ipynb\" target=\"_parent\"><img src=\"https://colab.research.google.com/assets/colab-badge.svg\" alt=\"Open In Colab\"/></a>"
      ]
    },
    {
      "cell_type": "markdown",
      "source": [
        "# **Kiswahili Under a Natural Language Processing Lens**"
      ],
      "metadata": {
        "id": "bQtY41sIa10T"
      }
    },
    {
      "cell_type": "markdown",
      "source": [
        "**Introduction**\n",
        "\n",
        "\n",
        "*   This notebook shows the process used to design the tokenizer for the Kiswahili Project (title above).\n",
        "*   Kiswahili is a low resource language but above that, it has a different morphological strcture than English or other languages whose tokenizers are readily available. \n",
        "*   It is therefore important to design a tokenizer specific to Kiswahili i.e. based on its strcture.\n",
        "*   List item\n",
        "\n",
        "\n",
        "\n"
      ],
      "metadata": {
        "id": "ycPjCEU6FRiQ"
      }
    },
    {
      "cell_type": "markdown",
      "source": [
        "**Sample Kiswahili Words and Sentences**\n",
        "\n",
        "\n",
        "*   List item\n",
        "*   List item\n",
        "*   List item\n",
        "*   List item\n",
        "\n"
      ],
      "metadata": {
        "id": "6G3e7XE3E9N5"
      }
    },
    {
      "cell_type": "markdown",
      "source": [
        "## **1.0 Libraries**"
      ],
      "metadata": {
        "id": "jUOAXxeXE3gJ"
      }
    },
    {
      "cell_type": "code",
      "source": [
        "pip install datasets"
      ],
      "metadata": {
        "colab": {
          "base_uri": "https://localhost:8080/"
        },
        "id": "J70dK6h6FUyq",
        "outputId": "159a190d-63a1-4211-872c-3abf245c73b4"
      },
      "execution_count": null,
      "outputs": [
        {
          "output_type": "stream",
          "name": "stdout",
          "text": [
            "Looking in indexes: https://pypi.org/simple, https://us-python.pkg.dev/colab-wheels/public/simple/\n",
            "Collecting datasets\n",
            "  Downloading datasets-2.6.1-py3-none-any.whl (441 kB)\n",
            "\u001b[K     |████████████████████████████████| 441 kB 8.3 MB/s \n",
            "\u001b[?25hRequirement already satisfied: tqdm>=4.62.1 in /usr/local/lib/python3.7/dist-packages (from datasets) (4.64.1)\n",
            "Requirement already satisfied: requests>=2.19.0 in /usr/local/lib/python3.7/dist-packages (from datasets) (2.23.0)\n",
            "Requirement already satisfied: aiohttp in /usr/local/lib/python3.7/dist-packages (from datasets) (3.8.3)\n",
            "Requirement already satisfied: pyyaml>=5.1 in /usr/local/lib/python3.7/dist-packages (from datasets) (6.0)\n",
            "Requirement already satisfied: packaging in /usr/local/lib/python3.7/dist-packages (from datasets) (21.3)\n",
            "Requirement already satisfied: importlib-metadata in /usr/local/lib/python3.7/dist-packages (from datasets) (4.13.0)\n",
            "Requirement already satisfied: pandas in /usr/local/lib/python3.7/dist-packages (from datasets) (1.3.5)\n",
            "Collecting dill<0.3.6\n",
            "  Downloading dill-0.3.5.1-py2.py3-none-any.whl (95 kB)\n",
            "\u001b[K     |████████████████████████████████| 95 kB 5.7 MB/s \n",
            "\u001b[?25hCollecting responses<0.19\n",
            "  Downloading responses-0.18.0-py3-none-any.whl (38 kB)\n",
            "Requirement already satisfied: pyarrow>=6.0.0 in /usr/local/lib/python3.7/dist-packages (from datasets) (6.0.1)\n",
            "Requirement already satisfied: numpy>=1.17 in /usr/local/lib/python3.7/dist-packages (from datasets) (1.21.6)\n",
            "Collecting multiprocess\n",
            "  Downloading multiprocess-0.70.14-py37-none-any.whl (115 kB)\n",
            "\u001b[K     |████████████████████████████████| 115 kB 59.8 MB/s \n",
            "\u001b[?25hCollecting xxhash\n",
            "  Downloading xxhash-3.1.0-cp37-cp37m-manylinux_2_17_x86_64.manylinux2014_x86_64.whl (212 kB)\n",
            "\u001b[K     |████████████████████████████████| 212 kB 58.8 MB/s \n",
            "\u001b[?25hRequirement already satisfied: fsspec[http]>=2021.11.1 in /usr/local/lib/python3.7/dist-packages (from datasets) (2022.10.0)\n",
            "Collecting huggingface-hub<1.0.0,>=0.2.0\n",
            "  Downloading huggingface_hub-0.10.1-py3-none-any.whl (163 kB)\n",
            "\u001b[K     |████████████████████████████████| 163 kB 57.7 MB/s \n",
            "\u001b[?25hRequirement already satisfied: typing-extensions>=3.7.4 in /usr/local/lib/python3.7/dist-packages (from aiohttp->datasets) (4.1.1)\n",
            "Requirement already satisfied: frozenlist>=1.1.1 in /usr/local/lib/python3.7/dist-packages (from aiohttp->datasets) (1.3.1)\n",
            "Requirement already satisfied: charset-normalizer<3.0,>=2.0 in /usr/local/lib/python3.7/dist-packages (from aiohttp->datasets) (2.1.1)\n",
            "Requirement already satisfied: multidict<7.0,>=4.5 in /usr/local/lib/python3.7/dist-packages (from aiohttp->datasets) (6.0.2)\n",
            "Requirement already satisfied: asynctest==0.13.0 in /usr/local/lib/python3.7/dist-packages (from aiohttp->datasets) (0.13.0)\n",
            "Requirement already satisfied: async-timeout<5.0,>=4.0.0a3 in /usr/local/lib/python3.7/dist-packages (from aiohttp->datasets) (4.0.2)\n",
            "Requirement already satisfied: attrs>=17.3.0 in /usr/local/lib/python3.7/dist-packages (from aiohttp->datasets) (22.1.0)\n",
            "Requirement already satisfied: yarl<2.0,>=1.0 in /usr/local/lib/python3.7/dist-packages (from aiohttp->datasets) (1.8.1)\n",
            "Requirement already satisfied: aiosignal>=1.1.2 in /usr/local/lib/python3.7/dist-packages (from aiohttp->datasets) (1.2.0)\n",
            "Requirement already satisfied: filelock in /usr/local/lib/python3.7/dist-packages (from huggingface-hub<1.0.0,>=0.2.0->datasets) (3.8.0)\n",
            "Requirement already satisfied: pyparsing!=3.0.5,>=2.0.2 in /usr/local/lib/python3.7/dist-packages (from packaging->datasets) (3.0.9)\n",
            "Requirement already satisfied: chardet<4,>=3.0.2 in /usr/local/lib/python3.7/dist-packages (from requests>=2.19.0->datasets) (3.0.4)\n",
            "Requirement already satisfied: urllib3!=1.25.0,!=1.25.1,<1.26,>=1.21.1 in /usr/local/lib/python3.7/dist-packages (from requests>=2.19.0->datasets) (1.24.3)\n",
            "Requirement already satisfied: certifi>=2017.4.17 in /usr/local/lib/python3.7/dist-packages (from requests>=2.19.0->datasets) (2022.9.24)\n",
            "Requirement already satisfied: idna<3,>=2.5 in /usr/local/lib/python3.7/dist-packages (from requests>=2.19.0->datasets) (2.10)\n",
            "Collecting urllib3!=1.25.0,!=1.25.1,<1.26,>=1.21.1\n",
            "  Downloading urllib3-1.25.11-py2.py3-none-any.whl (127 kB)\n",
            "\u001b[K     |████████████████████████████████| 127 kB 69.3 MB/s \n",
            "\u001b[?25hRequirement already satisfied: zipp>=0.5 in /usr/local/lib/python3.7/dist-packages (from importlib-metadata->datasets) (3.10.0)\n",
            "Collecting multiprocess\n",
            "  Downloading multiprocess-0.70.13-py37-none-any.whl (115 kB)\n",
            "\u001b[K     |████████████████████████████████| 115 kB 67.9 MB/s \n",
            "\u001b[?25hRequirement already satisfied: pytz>=2017.3 in /usr/local/lib/python3.7/dist-packages (from pandas->datasets) (2022.5)\n",
            "Requirement already satisfied: python-dateutil>=2.7.3 in /usr/local/lib/python3.7/dist-packages (from pandas->datasets) (2.8.2)\n",
            "Requirement already satisfied: six>=1.5 in /usr/local/lib/python3.7/dist-packages (from python-dateutil>=2.7.3->pandas->datasets) (1.15.0)\n",
            "Installing collected packages: urllib3, dill, xxhash, responses, multiprocess, huggingface-hub, datasets\n",
            "  Attempting uninstall: urllib3\n",
            "    Found existing installation: urllib3 1.24.3\n",
            "    Uninstalling urllib3-1.24.3:\n",
            "      Successfully uninstalled urllib3-1.24.3\n",
            "  Attempting uninstall: dill\n",
            "    Found existing installation: dill 0.3.6\n",
            "    Uninstalling dill-0.3.6:\n",
            "      Successfully uninstalled dill-0.3.6\n",
            "Successfully installed datasets-2.6.1 dill-0.3.5.1 huggingface-hub-0.10.1 multiprocess-0.70.13 responses-0.18.0 urllib3-1.25.11 xxhash-3.1.0\n"
          ]
        }
      ]
    },
    {
      "cell_type": "code",
      "execution_count": null,
      "metadata": {
        "id": "xlzZBH6tazHM"
      },
      "outputs": [],
      "source": [
        "#Libraries\n",
        "import pandas as pd\n",
        "import numpy as np\n",
        "import datasets"
      ]
    },
    {
      "cell_type": "markdown",
      "source": [
        "## **2.0 Loading the Datasets**"
      ],
      "metadata": {
        "id": "WMB2zJ9aFZwc"
      }
    },
    {
      "cell_type": "code",
      "source": [
        "dv = datasets.load_dataset(\n",
        "    '/content/drive/MyDrive/Kiswahili_Dataset', 'train',\n",
        "    streaming=True\n",
        ")\n",
        "\n",
        "dv"
      ],
      "metadata": {
        "colab": {
          "base_uri": "https://localhost:8080/"
        },
        "id": "HFEecHn7FfXg",
        "outputId": "75afb81e-5f2a-4af8-a3bc-848c83bdb467"
      },
      "execution_count": null,
      "outputs": [
        {
          "output_type": "stream",
          "name": "stderr",
          "text": [
            "WARNING:datasets.builder:Using custom data configuration Kiswahili_Dataset-23e65bcc9af9fc31\n"
          ]
        },
        {
          "output_type": "execute_result",
          "data": {
            "text/plain": [
              "{'train': <datasets.iterable_dataset.IterableDataset at 0x7f4f104a8250>}"
            ]
          },
          "metadata": {},
          "execution_count": 9
        }
      ]
    },
    {
      "cell_type": "code",
      "source": [
        "dv['train']"
      ],
      "metadata": {
        "colab": {
          "base_uri": "https://localhost:8080/"
        },
        "id": "zJJ530vcGIUX",
        "outputId": "948fd4f5-4d9f-4408-c6e2-5237722f725a"
      },
      "execution_count": null,
      "outputs": [
        {
          "output_type": "execute_result",
          "data": {
            "text/plain": [
              "<datasets.iterable_dataset.IterableDataset at 0x7f4f104a8250>"
            ]
          },
          "metadata": {},
          "execution_count": 10
        }
      ]
    },
    {
      "cell_type": "code",
      "source": [
        "count = 0\n",
        "for row in dv['train']:\n",
        "    print(row)\n",
        "    count += 1\n",
        "    if count == 3: break"
      ],
      "metadata": {
        "colab": {
          "base_uri": "https://localhost:8080/"
        },
        "id": "21kzg_5JGjir",
        "outputId": "7a776c67-175d-4ace-ec8b-a6bc8db29430"
      },
      "execution_count": null,
      "outputs": [
        {
          "output_type": "stream",
          "name": "stdout",
          "text": [
            "{'text': 'Mhadhiri Denis Skopin (kushoto) akiwa ameshikilia karatasi zake za kufukuzwa kutoka Chuo Kikuu cha Jimbo la St PetersburgKatika nyumba yake ya St Petersburg, mhadhiri wa chuo kikuu Denis Skopin ananionyesha hati ambayo imebadilisha maisha yake.Maelekezo: \"Maelekezo No.87/2D. Kuhusu: Kufutwa kazi.\"Hadi hivi majuzi Denis alikuwa profesa msaidizi katika Kitivo cha Sanaa ya Kiliberali na Sayansi ya Chuo Kikuu cha Jimbo la St Petersburg. Lakini tarehe 20 Oktoba chuo kikuu kilimfukuza kazi kwa \"kitendo cha ukosefu wa maadili \\xa0ambacho hakiendani na kazi za elimu\".Hiki kinachoitwa kitendo kisicho cha madili kilikuwa ni nini? Kushiriki katika mkutano \"usioidhinishwa\".Tarehe 21 Septemba Denis alijiunga na maandamano ya mitaani kupinga uamuzi wa Kremlin kuwaandikisha Warusi kupigana nchini Ukraine. Mapema siku hiyo, Rais Vladimir Putin alikuwa ametangaza \"uhamasishaji wa sehemu\" kote nchini. Wakati wa maandamano Denis alikamatwa na kukaa jela siku 10.\"Uhuru wa kujieleza nchini Urusi uko katika mgogoro,\" Denis ananiambia. \"Aina zote za uhuru ziko katika shida kubwa.\"\"Baada ya kuachiliwa kutoka kizuizini nilifanya kazi kwa wiki tatu zaidi, chuo kikuu kilinitumia barua za kunitaka nieleze kutokuwepo kwangu. Nilijibu kuwa nimekamatwa kwa kushiriki maandamano na kuwekwa kizuizini. Kisha Idara ya Rasilimali Watu alinipigia simu na kuniambia kuwa nimefukuzwa kazi.\"Siku yake ya mwisho kazini, wanafunzi wa Denis walikusanyika nje ya chuo kikuu kumuaga.Katika hotuba ya papo hapo (video iliwekwa mtandaoni) aliwaambia:\"Kitendo kisicho na maadili \\xa0ni nini? Kutenda kinyume na dhamiri yako na kutii maagizo ya mtu mwingine bila kusita. Nilitenda kulingana na dhamiri yangu. Nina hakika kwamba mustakabali wa nchi yetu ni wako.\"\\xa0Wanafunzi waliangua makofi kwa mwalimu wao aliyefukuzwa kazi.\"Ninawapenda sana wanafunzi wangu,\" Denis ananiambia. \"Wana akili sana na wanaelewa vizuri kile kinachotokea sasa nchini Urusi. [Onyesho lao] la idhini haikuwa kwangu mimi binafsi. Badala yake, ilikuwa ni kutokubali kile kinachotokea sasa nchini Urusi.\"Watu wengi nchini Urusi hawathubutu kuandamana kwa sababu wana hatari ya kuadhibiwa kwa hilo. Lakini wengi wangependa kufanya hivyo. Na, kwa watu hawa, kutoa idhini kwa wale wanaofanya maandamano ni njia ya kutokubaliana na kile kinachotokea nchini Urusi. \"\\xa0Denis anasema robo ya wenzake wameondoka Urusi tangu uvamizi wake kamili wa UkraineHadithi ya Denis Skopin haiangazii shinikizo tu ambalo wapinzani wa \"operesheni maalum ya kijeshi\" ya Kremlin wanakabiliwa hapa. Pia inazua maswali kuhusu mustakabali wa Urusi.\"Waliofungiwa nami katika kituo cha kizuizini kulikuwa na wataalamu wa IT, wanasayansi, madaktari, walimu na wanafunzi. Wengi wao sasa wako nje ya nchi. Kama mwenzangu mwenzangu, mwanahisabati kijana mwenye kipawa.\\xa0\"Takriban 25% ya wenzangu wa karibu tayari wameondoka Urusi. Waliondoka baada ya Februari 24. Baadhi yao waliondoka mara moja, wengine waliondoka baada ya kutangazwa kwa uhamasishaji. Nadhani Urusi inapoteza watu bora sasa. Waliosoma zaidi, wenye nguvu zaidi. watu wanaofikiria sana wanaondoka nchini. Kwa kifupi, Urusi inaenda katika mwelekeo mbaya.\"Wakati ujao usio na uhakika sio tu matokeo ya sasa. Pia ni bidhaa ya zamani ya Urusi.Katika mji mzima kikundi kidogo cha wakaazi wa St Petersburg kimesimama kando ya mnara wa wahasiriwa wa Ugaidi Mkuu wa Joseph Stalin wa miaka ya 1930.Mnara huo umetengenezwa kwa mwamba mkubwa kutoka Visiwa vya Solovetsky vilivyo mbali, nyumbani kwa kambi moja ya kulazimishwa ya kulazimishwa ya Gulag. Kambi ya Solovki iliwekwa ili kuwafunga wafungwa wa kisiasa pamoja na wafungwa wengine.Watu wanapanga foleni kwenye maikrofoni. Wanachukua zamu kusoma majina ya watu waliokamatwa, kulaumiwa na kunyongwa ndani na karibu na St Petersburg.\"Ekaterina Gansovna. Umri: 46. Mfanyakazi wa Posta.Alikamatwa: Desemba 9, 1937.Alipigwa risasi tarehe \\xa018 Januari 1938.Julia Stanislavovna. Umri: 41.\\xa0Meneja wa Akaunti za Kiwanda Alikamatwa: Septemba 27, 1937.Alipigwa risasi: 21 Desemba 1937.\"Katika Mnara  huko St Petersburg, watu walisoma majina ya wahasiriwa wa Ugaidi mkuu wa StalinInafahamika kwamba dikteta wa Sovieti Stalin aliagiza \\xa0milioni ya raia wake kuuawa. Mamilioni zaidi ya maisha yaliharibiwa katika mashine yake ya ugaidi ambayo ilisababisha kukamatwa, kufukuzwa nchini na kufanya kazi ya kulazimishwa kwa watu wengi. Baadhi ya warithi wake, kama Nikita Khrushchev na Mikhail Gorbachev, walishutumu uhalifu wa Stalin.Mamlaka leo huweka msisitizo mdogo kwenye sura za giza za miaka ya Stalin, wakati Stalin mwenyewe mara nyingi anaonyeshwa kama shujaa ambaye alishinda Ujerumani ya Nazi na kugeuza Umoja wa Kisovieti kuwa nguvu kuu. Kremlin ya Putin inatafuta mazuri katika siku za nyuma - ushindi.\"Kwa bahati mbaya, nchi yetu haikufungua ukurasa huu vizuri. Ukandamizaji wa Stalin haukuzungumzwa vya kutosha au kulaaniwa kikamilifu. Hii ndiyo sababu vita vya Ukraine vinatokea leo,\" anasema Pensioner Ludmila, ambaye amekuja kuweka maua kwenye jiwe la \\xa0Solovki. \"Uzoefu unaonyesha kuwa kukaa kimya kunasababisha mambo mabaya. Hatupaswi kusahau madoa ya umwagaji damu ya historia ya nchi yetu.\"'}\n",
            "{'text': 'Dikteta wa Soviet Joseph Stalin amepitia aina  fulani ya ukarabati katika Urusi ya Putin - unaweza hata kununua bidhaa za Stalin.Mhadhiri wa chuo kikuu aliyefutwa kazi Denis Skopin amesoma miaka ya Stalin. Anaona uwiano kati ya wakati huo na sasa.\"Nimetoka kuchapisha kitabu kwa Kiingereza kuhusu jinsi watu wa \\xa0Urusi ya Stalin walivyowaondoa kwenye picha za pamoja wale waliotangazwa \\'adui wa watu\\'. Wenzake, marafiki au hata ndugu wa karibu walilazimika kuondoa ishara zote za watu hao kwenye picha. Walifanya hivyo na mkasi na kwa wino.\"Kitivo nilichofundisha kilikuwa na ushirikiano na Chuo cha Bard, chuo cha sanaa huria cha Marekani. Mwaka jana Chuo cha Bard kilitangazwa kuwa \\'shirika lisilofaa\\' nchini Urusi. Kwa hiyo, kitivo chetu kilivunja ushirikiano na jina la Chuo cha Bard likaondolewa kwenye vituo. inavyoonyeshwa kwenye korido za kitivo chetu kwa kutumia wino mweusi haswa. Kwa njia sawa na katika Urusi ya Stalin.\"Ikiwa, kama Denis anavyodai, wanafunzi wake \"wanaelewa vizuri sana\" kile kinachotokea Urusi na Ukraine, hilo linazua swali: ikiwa Warusi wachanga hawatashawishika na hoja za Kremlin, mamlaka itawashawishije umma kwa muda mrefu kufanya maandamano. bendera na kumuunga mkono rais?Jibu: kwa kuhakikisha vijana \"wanaelewa\" matukio kama Kremlin inavyofanya.Ili kusaidia kufikia hilo, somo jipya la uzalendo limeanzishwa katika shule kote Urusi kwa watoto wote wa shule: \"Mazungumzo Kuhusu Mambo Muhimu.\" Si sehemu ya mtaala rasmi, lakini ni somo la kwanza siku ya Jumatatu asubuhi na watoto wanahimizwa sana kuhudhuria.Ni \"mambo gani muhimu\" yanayojadiliwa hapo? Naam, wakati Rais Putin alipokuwa mwalimu huko Kaliningrad mnamo Septemba, aliambia kundi la watoto kwamba lengo la mashambulizi ya Urusi huko Ukraine ni \"kuilinda Urusi\" na alielezea Ukraine kama \"kinga dhidi ya Urusi.\" Unaweza kuona ni njia gani \"Mazungumzo\" \\xa0Olga Milovidova anasema \"elimu ya kulazimishwa\" inamkumbusha enzi ya Soviet\"Hii ni elimu ya kulazimishwa. Kwa akili yangu hii ni hatari kama ilivyokuwa nyakati za Soviet wakati tulikuwa na masomo ya \\'habari za kisiasa\\',\" anasema mwalimu wa St Petersburg Olga Milovidova, ambaye alistaafu mwezi uliopita. \"Katika siku hizo ilitubidi kusoma gazeti la Pravda. Na nakumbuka tulilazimika kusoma vitabu vya [kiongozi wa Soviet] Brezhnev kana kwamba ni kazi bora. Ilibidi tutoe maoni chanya tu. Hakukuwa na mjadala muhimu.\"Elimu na uzalendo hazipaswi kuunganishwa,\" anaamini Olga, ambaye alikuwa naibu mkurugenzi wa shule. \"Kuna watoto wanaamini tu. Hufumbua macho na wako tayari kuamini chochote. Hiyo ni hatari sana.\"© 2022 BBC. BBC haihusiki na taarifa za kutoka mitandao ya nje. Soma kuhusu mtazamo wetu wa viambatanishi vya nje.'}\n",
            "{'text': 'KNEC STUDY MATERIALS, REVISION KITS AND PAST PAPERSSTUDY FOR FREEKenya Certificate of Secondary EducationKiswahili Karatasi ya 21. UFAHAMUSoma kifungu kifuatacho kisha ujibu maswali. (Alama 15)Alikuwa wakati wa jioni jua limepunguza udhia wake na upepo mwanana ulikuwa ukipita na kuzipapasa ngozi zetu mfano wa pamba. Kama ilivyokuwa desturi yetu hapo kijijini, siku hiyo pia tuliketi nje ya nyumba yetu tukafanya duara kulizunguka birika la kahawa. Kila mmoja alichukua glasi akajimiminia kiasi cha kahawa alichotaka na kurudi kuchukua mahali pake kitini.Tulipotia fahamu tulipata mazoea haya yamekita mizizi nasi tukawa hatuna budi kuyakumbatia. Hatukuyakumbatiatu, bali tuliyakumbatiakwa dhati yamoyo. Vikao hivi havikuwa tu hazina kubwa kwetu bali pia vilikuwa vya thamani isiyomithilika. Hapa ndipo tulinoleana bongo kwa kupashana habari. Leo hii tumo katika kuzungumzia nguzo kuu za maendeleo, tena maendeleo ya haja ambayo yataibadilisha sura ya mwananchi na nchi. Nahodha wa kikao cha leo anampa msemaji wa kwanza nafasi naye hakusita kushika usukani.‘Nionavyo mimi, maendeleo yatawezekana ikiwa elimu itaweza kukidhi haja za watu. Sio nadharia tupu ambayo huwezi kuitumikiza ikaleta matokeo. Lazima nchi imwezeshe kila mtu kupata elimu ya msingi ambayo itamsaidia kufikia habari za kimsingi, iwe ni kupitia kwa magazeti au vitabu. Habari hizo zitamfunua macho, akaona na kuhakiki mambo. Wenzangu, jibu ni elimu! Maendeleo yanategemea elimu,” kijana mmoja alisema kwa mhemko.Muda wote huo kila mtu alikuwa ametulia. Wapo waliotikisa vichwa kukubaliana naye na wapo waliovitikisa kukataa. Hata hivyo, walikuwepo waliokaa tu kama mawe. Hawakuonyesha ishara yoyote ya kuguswa na maneno yale.Mwendesha mjadala alifanya ishara na mara kijana wa miraba minne aliyekuwa amevaa shati lililompwaya akasimama na kuzungumza kwa sauti nzito. “Mtazamo wangu mimi bwana ni tofauti. Ukitazama duniani kote, kila nchi iliyoendelea imewekeza sana viwandani. Uzalishaji wa viwandani ndio dawa mjarabu. Hebu vuta fikra! Kila tunachotumia kuanzia kalamu, kitabu, nguo, msumari, saruji … yaani kila kitu chenye nafasi katika maisha yetu kimepitia hatua za uzalishaji viwandani…”“Si ndio hayo! Naona unaniunga mkono aisee! Viwanda huendeshwa kwa elimu au ukipenda maarifa. Na maarifa hayo huja kwa mafunzo ambayo ni elimu,” alifafanua yule kijana wa kwanza.‘Nipe muda Sudi! Nipe rnuda nimalizie hoja yangu. Ninachosema ni kuwa elimu bil utumizi wake kuzalisha huduma na bidhaa muhimu haina nafasi kubwa katika maendeleo y jamii. Elimu si mwisho wa yote bali mwanzo. Elimu inafaa kuzalisha. Na uzalishaji muhimu zai ni wa viwandani. Kwa hivyo, nionavyo mimi msisitizo mkubwa unafaa kuwa katika kutengeneza viwanda na kuvifanya kuzalisha.”Jama alimali a mazungumzo yake akatulia na kupiga funda la kahawa. Hapo ndipo mwendesha mjadala alipompa kijana mwingine nafasi naye atoe maoni yake. Kijana huyo mdogo wa kimo na umbo alianza kusafısha koo huku wenzake wakirnshangilia. Kwa kawaida kijana huyo alikuwa na mbwembwe nyingi.“Bwana Spika,” alian a huku wenzake wakishangilia kwa kila namna. Walipotulia aliendelea, “Mimi najua wapo watakaoniita mjinga hapa lakini naamini miundombinu ni muhimu zaidi. Watu hawawezi kuendelea bila mfumo mzuri wa barabara na reli, usambazaji wa kuridhisha wa umeme, viwanja vya kutosha na bora kwa ajili ya vijana kunoa vipawa vyao…Maneno yake yalifunikwa ghafla na kelele za kumshangilia na kumsifu huyu kijana waliyemwita Sumaku. Hii ilikuwa lakabu waliyompa kwa uwezo wake wa kuelewa mainbo kwa wepesi na kwa kujua kuwavutia vijana wenzake maana alijua wapi pa kugonga ili gogo litoe mlio. Alipoona bado wanashangilia aliinua mkono wake wa kushoto juu na kusema, “Basi! Basi,wananchi, sina shaka ujumbe umefika.” Kisha aliketi na kuwaacha wenzake wakiumwa mbavu kwa vicheko. Utulivu ulirejea taratibu. Kabla kila mmoja amakinike, mwendesha mjadala alimpa nafasi mzee mmoja aliyekuwa amevutwa na mazungumzo hayo naye kuchangia. Mzee yule alicheka kidogo, akasafisha koo na kuwapongeza wachangiaji waliomtangulia kisha naye akasema yake. “Mambo hayo yote ni kama pacha lakini pekee hayatoshi.Miundomsingi inahitaji watu wa kuitumia, navyo viwanda vinahitaji wafanyakazi. Watu hao wasipokuwepo, vitu hivyo havina maana. Watu hao wanahitaji kuwa na afya bora. Hospitali zinahitaji kuwa katika kiwango cha kutoa huduma za kuridhisha. Zinahitaji wataalamu wasiobabaisha, vyombo vya kisasa vya udodosi na upasuaji, dawa nzuri na mazingira safi kwa ajili ya wagonjwa. Halafu huduma hiyo nzuri iwe inaweza kufıkiwa na kila mtu.”Alitua kidogo. Sasa kila mtu alikuwa ametulia kama ardhi iliyonyeshewa. Kisha akaendelea, “Pamoja na hayo, ipo haja ya huyo mfanyakazi kupata pa kuweka ubavu wake. Akiisha kuichapa kazi anahitaji kurudi nyumbani. Si nyumbani kwa maana ya mahali pa kupangisha bali nyumbani kwa maana ya mahali pake mwenyewe.Hivyo panahitaji kuwepo mpango wa wafanyakazi kununua nyumba kwa bei nafuu. Mtu si kaına ndege anayeweza kuishi mtini na akaamka kushika shughuli zake. Mtu huhitaji makao yake. Haya yote yakifanywa kwa pamoja na kwa ufanisi basi tutakuwa tumeanza kujiandaa kupaa kwa mbawa zetu wenyewe.”Alipomaliza kusema alishika njia na kwenda zake bila kutazama nyuma. Sote tulijikuta tunacheka kwa sauti huku tumetabasamu.(a) Baiaisha mambo matntu ambayo yanaleta utangamano baina ya vijana wa jamii hii. (alama 3)(b) Kupata elimu pekee hakutoshi kuleta maendeleo.” Thibitisha kwa hoja mbili kutoka (alama 2)(c) Kwa kutoa hoja nne, onyesha uhusiano uliopo kati ya nguzo mbalimbali za maendeleo kwa mujibu wa kifungu.(alama 4)(d) Eleza mambo matatu ambayo yanawachangamsha vijana katika kifungu (alama 3)(e) Kauli, “upepo mwanana ulikuwa ukipita na kuzipapasa ngozi zetu,” imetumia tamathali gani ya usemi? (alama 1)(f) Eleza maana ya, ‘tulinoleana bongo’ kwa mujibu wa taarifa.(alama 1)(g) Andika kisawe cha ‘hoja’ kwa kurejelea kifungu. (alama 1)UFUPISHO 2. Soma kifungu kifuatacho kisha ujibu maswali. (Alama 15)Binadamu hakuumbwa kuishi katika upweke na kujitenga. Aliuınbwa kuwa selıemu ya mfumo wa ushikamano na wenzake. Baadhi ya jamii zinaeleza kwamba Mungu alimuumba mwanamume kwanza na alipoona kwamba anaishi kitwea akamuunıbia mwananıke kuwa mshirika wake. Hatua hii ikawa ndio mwanzo wa watu kuishi paıııoja kama mke na mume.yumkini hiki ndicho kiini cha familia. Mshikamano wa familia ni muhimusana kwa sababu hujenga uhUsiano mwemana hushirikianakünawazo, kikazi na hata zinapozuka haja nyinginezo.Mababu zetu W£tlihitaji sana umoja wa familia.Umoja huo ulifaa mno katika hali mbalimbali. Wakati huo Watu WalizuRgukwana misitu mikubwa ambamo waliishi wanyama wakali kama Vile simba, chui na duma. Wanyama hao walikuwa hatari kwa binadamu na hivyo kuwahitaji watu kuungana kuwakabili.Enzi hizo za mababu pia zilishuhudia uhasama wa kikoo. Koo mbalimbali zilishindana kunyang’anyana mifugo na kung’ang’ania ardhi ili kujijengea himaya zao. Katikati hili pia ushirikiano wa karibu ulihitajika ili kujihami dhidi ya uvamizi wowote ule. Kutokuwepo kwa uvamizi kulimaanisha kuwa jamii ilipata utulivu na ınoyo wa kuendeleza shughuli zao za kila siku ambazo zilikuwa msingi wa maendeleo yao. Watoto nao walipata mazingira salama nâ tulivu ya kucheza na kukua.Ushirikiano huu haupo tu katika familia za wanadamu. Tunawaona wanyama wakiwa katİka makundwi. anatembekau,cheza, kula na kulala katika makundi.Makundi haya ni muhimu Sâflâ katika maisha ya wanyama mbalimbali. UlimBwengu wa wanyama una adha tele. Adha hizo huwa kisiki mkubwa katika maisha ya wanyama. Zipo hatari za baadhi ya wanyama kuwindwa na kufanywa kitoweo. Mnyama akiwa peke yake huwa windo rahisi kwa wawindaji.Wakiwa katika kundi husaidiana kushika zamu na kutanabahishana hatari ibishapo. Kwa kufanya hivyo huokoleana maisha. Nao wanyama wanaowinda huwa na kibarua kigumu kupata windo wakiwa waenda pweke. Hata simba, mfalme wa msitu, huhitaji kufanya shirika na wenzake ili ktıliwahi windo kwa urahisi. Wapo wanyama wala nyama ambao hufa kwa kukosa chakula kwa sababu ya kukaa peke yao.Hii leo utaona kuwa watu hawashirikiani katika familia tu. Wanashirikiana pia katika mazingira ya shule ambapo wanapokezana maarifa mbalimbali ambayo ni muhimu katika maisha yajayo. Panapokuwa na ushirikiano mzuri kivuno huwa tele kwa mwanafunzi ambaye hujizolea mengi.Hupata elimu ambayo humfungua macho kuona sura tofauti tofauti za ulimwengu, hukuza kipawa chake ambacho anakitumia kwa manufaa yake na ya jamii pana, hujifunza udugu ambao ni muhimu katika kuishi na watu wengine baada ya masomo, na mwanafunzi huweza pia kukomaa kimawazo na kuwa kiungo muhimu cha taifa.Hata hivyo, haya hayaji tu na kumtamia mtu eti kwa sababu amefika na kuishi shuleni kipindi chote cha masomo. Hupatikana kwa mwanafunzi kujenga uthabiti wa fikra na mazoea ya daima kulenga kuwa mtu bora kwa wenzake, awe anawajua au hawajui. Kumbuka kuwa hata wanyama hufanya juhudi kubwa katika kujenga ustadi wao kushirikiana kulipatawindo au kukwepa wawindaji.Taasisi zilizobuniwa kuwa nyenzo za kuendeshea maisha yetu zinajengwa katika misingi hiyo ya familia. Watu huja pamojana kuunda sheria na kanuni zinazoelekeza utendakazi wao. Bila mpangilio unaohakikishaumoja na ushirikiano miongoni mwa watu, huduma zetu muhimu zingekwama na kutuletea dhiki isiyo mfano.Askari hushirikiana ili kufanikisha kazi yao ya kukomeshuahalifu, walimu hushirikiana kuhakikisha kuma mwanafunzi amepata elimu ipasayo na ipasavyo, dereva na utingo wake, lazima washirikiane ili kufanikisha safari ya abiria, rais na mawaziri wake hawana budi hushirikiana ili kufanikisha ajenda ya maendeleo.Ulimwengu wa sasa unahitaji watu wawezao kushirikiana. Wanaposhirikiana, shughuli iliyo mbele yao huwa nyepesi na matunda yake huwa ya kufana.Tunaona manufaa ya ushirikiano kwa uwazi zaidi viwandani. Wafanyakazi wa viwandani hugawanya majukumu. Kila mmoja huwa na jambo maalumu analofanya katika mfumo mzima wa uzalishaji bidhaa. Na ndio sababu kiwanda huweza kuzalisha bidhaa nyingi bora na kwa wakati mfupi.Mfano huu wa viwanda unatukumbusha kuwa sawa na viungo vya mwili, sisi wanadamu tuna wajibu maalumu wa kutekeleza kwa kushirikiana na wenzetu. Vinginevyo, kila mmoja alifanya jeuri ya kushika njia yake, uzito wa safari utakuwa mkubwa kwake. Ndio maana wakasema kuwa mtu pweke ni uvundo.(a) Fupisha ujumbe wa aya tatu za kwanza kwa maneno 100.(alama 6)MatayarishoNakala Safi (alama 6)(b) Eleza kwa maneno 140, masuala ambayo mwandishi ameibua kuanzia aya ya nne hadi ya sita. (alama 9)MatayarishoNakala Safi (alama 6)3. MATUMIZI YA LUGHA(alama 40)(a) Tofautisha sauti zifuatazo:” (i) /l/ na /r/ (alama 2)(ii) /m/ na /b/(b) Bainisha matumizi ya ‘ni’ katika sentensi ifuatayo: (alama 1)Wasaidieni wale, walinisaidia wakati wa shida.(c) Andika neno moja lenye silabi za muundo ufuatao: (alama 1)Konsonanti + Konsonanti, Irabu + Konsonanti, Konsonanti, Irabu(d) Tunga sentensi kubainisha kiunganishi kitegemezi. (alama 2)…………. ……………….. … .. …………………(e) Tumia neno ‘vile’ katika sentensi kama:(i) Kiwakilishi (alama 1)(ii) Kielezi (alama 1)(f) Kutokana na mzizi ‘—erevu’ unda:(i) nomino (alama 1)(g) Nomino Zifuatazo Zilizo katika ngeli gani?(alama 2)(ii) chanda ………………………(h) Ainisha Virai katika sentensi ifuatayo:(alama 3)Wale wengine watasafiri ughaibuni kwa ndege. ……………………………………………(i) Andika sentensi ifuatayo katika hali ya umoja.(alama 1)Nguo Walizouza madukani mwao ziliwavutia watalii. ………………………………………….(j) Geuza sentensi ifuatayo katika hali yakinishi. (alama 1)Makuli hawajakuarifu kwamba mizigo hiyo haikuwa yetu? …………………………………………..(k) Akifisha sentensi ifuatayo. (alama 1=2)lo kadio hamadi ndiye mwandishi wa kisiwa chenye tunu(l) Andika sentensi ifuatayo katika usemi halisi (alama 2)‘ Mama alimwita Juma na kutaka kujua namna alivyofaulu kuuzima moto huo. …………………………………………….(m) Andika sentensi ifuatayo upya kwa kufuata maagizo. (alama 2)Seremala alilainisha mbao. Seremala alikuwa kiwandani. (Unganisha kuwa sentensi moja inayoanza kwa ‘Mbao’ bila kubadilisha maana.)……………………………………..……………………………………..………………………………………(n) Andika kinyume cha sentensi ifuatayo kwa kuzingatia maneno yaliyopigiwa mstari. (alama 1)Punde tu alipouliza swali hilo Koru aliingiq darasani.………………………………………(o) Andika sentensi ifuatayo katika hali ya mazoea.(alama 1)Jani ambalo lilipukutika lilipeperushwa na upepo.(p) Changanua sentensi ifuatayo kwa kielelezo cha mstari. Wakulima hawa wanapanda zao hili daima.(alama 2)(q) Andika sentensi ifuatayo upya ukianzia kwa yambwa tendewa.(alama 1)Andai alimnywesha babu uji kwa kikombe.(r) Tunga sentensi moja kuonyesha maana mbili za neno somo.(alama 1)(s) Tunga sentensi kubainisha matumizi yafuatayo ya ‘kwa’.(alama 2)(i) sehemu ya kitu(ii) namna(t) Tunga sentensi moja kubainisha kishazi huru na kighazi kitegemezi. (alama 2)(u) Andika maana mbili zinazojitokeza katika sentensi ifuatayo: (alama 2)Fundi alimkatia Makaa utepe huo.(v) Zimwi lilizidi kukimbia.Shujaa aliongeza mwendo kulifikia.(Unganisha kuwa sentensi moja kwa kutumia neno ‘kadiri’)(alama 2)(w) Tunga sentensi zifuatazo: (alama 2)(i) agizi(ii) Hisishi4. ISIMUJAMII (Alama 10)(a) Soma makala yafuatayo kisha ujibu maswali.“Karibu, karibu! Keti.Naam, jitambulishe kwa jopo hili…Bwana Nuru, ni jambo lipi ambalo linakufanya kuamini kwamba nafasi hii inakuafiki wewe?”(i) Bainisha sajili ya makala haya.(alama l)(ii) Eleza sifa nne za sajili hii kwa kurejelea makala haya.(alama 4)(b) Wewe ni kinara wa chama cha Wanamawasiliano Bora shuleni mwako. Umepewa jukumu la kuwatangazia wenzako mashindano ya uogeleaji yakiendelea shuleni mwako. Fafanua sifa tano za lugha utakayotumia. (alama 5Your email address will not be published. Required fields are marked *Comment Name * Email * Website  Save my name, email, and website in this browser for the next time I comment. '}\n"
          ]
        }
      ]
    },
    {
      "cell_type": "markdown",
      "source": [
        "## **3.0 Modifying the Data Generator**"
      ],
      "metadata": {
        "id": "Ij0A7KaTG9rs"
      }
    },
    {
      "cell_type": "code",
      "source": [
        "def dv_text():\n",
        "    for row in enumerate(dv['train']):\n",
        "        yield row['text']\n"
      ],
      "metadata": {
        "id": "xDFmr9lTHAiW"
      },
      "execution_count": null,
      "outputs": []
    },
    {
      "cell_type": "code",
      "source": [
        "count = 0\n",
        "for row in dv_text(): \n",
        "    print(row)\n",
        "    count += 1\n",
        "    if count == 3: break"
      ],
      "metadata": {
        "colab": {
          "base_uri": "https://localhost:8080/",
          "height": 330
        },
        "id": "PrS2-pyXHGhK",
        "outputId": "8218ea5b-3941-4df6-efb9-ed6e1535e768"
      },
      "execution_count": null,
      "outputs": [
        {
          "output_type": "error",
          "ename": "TypeError",
          "evalue": "ignored",
          "traceback": [
            "\u001b[0;31m---------------------------------------------------------------------------\u001b[0m",
            "\u001b[0;31mTypeError\u001b[0m                                 Traceback (most recent call last)",
            "\u001b[0;32m<ipython-input-13-d4d0003e9b24>\u001b[0m in \u001b[0;36m<module>\u001b[0;34m\u001b[0m\n\u001b[1;32m      1\u001b[0m \u001b[0mcount\u001b[0m \u001b[0;34m=\u001b[0m \u001b[0;36m0\u001b[0m\u001b[0;34m\u001b[0m\u001b[0;34m\u001b[0m\u001b[0m\n\u001b[0;32m----> 2\u001b[0;31m \u001b[0;32mfor\u001b[0m \u001b[0mrow\u001b[0m \u001b[0;32min\u001b[0m \u001b[0mdv_text\u001b[0m\u001b[0;34m(\u001b[0m\u001b[0;34m)\u001b[0m\u001b[0;34m:\u001b[0m\u001b[0;34m\u001b[0m\u001b[0;34m\u001b[0m\u001b[0m\n\u001b[0m\u001b[1;32m      3\u001b[0m     \u001b[0mprint\u001b[0m\u001b[0;34m(\u001b[0m\u001b[0mrow\u001b[0m\u001b[0;34m)\u001b[0m\u001b[0;34m\u001b[0m\u001b[0;34m\u001b[0m\u001b[0m\n\u001b[1;32m      4\u001b[0m     \u001b[0mcount\u001b[0m \u001b[0;34m+=\u001b[0m \u001b[0;36m1\u001b[0m\u001b[0;34m\u001b[0m\u001b[0;34m\u001b[0m\u001b[0m\n\u001b[1;32m      5\u001b[0m     \u001b[0;32mif\u001b[0m \u001b[0mcount\u001b[0m \u001b[0;34m==\u001b[0m \u001b[0;36m3\u001b[0m\u001b[0;34m:\u001b[0m \u001b[0;32mbreak\u001b[0m\u001b[0;34m\u001b[0m\u001b[0;34m\u001b[0m\u001b[0m\n",
            "\u001b[0;32m<ipython-input-12-e19474bdb8f1>\u001b[0m in \u001b[0;36mdv_text\u001b[0;34m()\u001b[0m\n\u001b[1;32m      1\u001b[0m \u001b[0;32mdef\u001b[0m \u001b[0mdv_text\u001b[0m\u001b[0;34m(\u001b[0m\u001b[0;34m)\u001b[0m\u001b[0;34m:\u001b[0m\u001b[0;34m\u001b[0m\u001b[0;34m\u001b[0m\u001b[0m\n\u001b[1;32m      2\u001b[0m     \u001b[0;32mfor\u001b[0m \u001b[0mrow\u001b[0m \u001b[0;32min\u001b[0m \u001b[0menumerate\u001b[0m\u001b[0;34m(\u001b[0m\u001b[0mdv\u001b[0m\u001b[0;34m[\u001b[0m\u001b[0;34m'train'\u001b[0m\u001b[0;34m]\u001b[0m\u001b[0;34m)\u001b[0m\u001b[0;34m:\u001b[0m\u001b[0;34m\u001b[0m\u001b[0;34m\u001b[0m\u001b[0m\n\u001b[0;32m----> 3\u001b[0;31m         \u001b[0;32myield\u001b[0m \u001b[0mrow\u001b[0m\u001b[0;34m[\u001b[0m\u001b[0;34m'text'\u001b[0m\u001b[0;34m]\u001b[0m\u001b[0;34m\u001b[0m\u001b[0;34m\u001b[0m\u001b[0m\n\u001b[0m",
            "\u001b[0;31mTypeError\u001b[0m: tuple indices must be integers or slices, not str"
          ]
        }
      ]
    },
    {
      "cell_type": "markdown",
      "source": [
        "## **4.0 Building The Tokenizer**"
      ],
      "metadata": {
        "id": "tuOnmNJaHayo"
      }
    },
    {
      "cell_type": "markdown",
      "source": [
        "**Brief Overview of the Process**\n",
        "\n",
        "Tokenization involves several steps:\n",
        "\n",
        "1.   Normalization - which involves text cleanup such as lowercasing, removing accents or weird characters with Unicode normalization, etc\n",
        "2.   Pre-tokenization - splitting the words into parts.\n",
        "3.   Model - the actual tokenization where characters or subwords are merged into logical components.\n",
        "4.   Post-processing - at thsis step, special tokens are added and these tokens are translated into IDs.\n",
        "5.   Decoder - the final step that takes the tokenized data and converts it into human-readable text. Often this step is not seen as part of the tokenization process but is necessary to understand any text-based model output.\n",
        "\n",
        "\n",
        "\n"
      ],
      "metadata": {
        "id": "mS3T_5MBHnJv"
      }
    },
    {
      "cell_type": "markdown",
      "source": [
        "### **4.1 Libraries**"
      ],
      "metadata": {
        "id": "SbMsFI_nJVuS"
      }
    },
    {
      "cell_type": "code",
      "source": [
        "!pip install transformers"
      ],
      "metadata": {
        "colab": {
          "base_uri": "https://localhost:8080/"
        },
        "id": "j83fSwweHfxC",
        "outputId": "e22ba387-0b4b-4df5-fb15-52845706ebba"
      },
      "execution_count": null,
      "outputs": [
        {
          "output_type": "stream",
          "name": "stdout",
          "text": [
            "Looking in indexes: https://pypi.org/simple, https://us-python.pkg.dev/colab-wheels/public/simple/\n",
            "Collecting transformers\n",
            "  Downloading transformers-4.24.0-py3-none-any.whl (5.5 MB)\n",
            "\u001b[K     |████████████████████████████████| 5.5 MB 7.7 MB/s \n",
            "\u001b[?25hRequirement already satisfied: huggingface-hub<1.0,>=0.10.0 in /usr/local/lib/python3.7/dist-packages (from transformers) (0.10.1)\n",
            "Requirement already satisfied: numpy>=1.17 in /usr/local/lib/python3.7/dist-packages (from transformers) (1.21.6)\n",
            "Requirement already satisfied: tqdm>=4.27 in /usr/local/lib/python3.7/dist-packages (from transformers) (4.64.1)\n",
            "Collecting tokenizers!=0.11.3,<0.14,>=0.11.1\n",
            "  Downloading tokenizers-0.13.1-cp37-cp37m-manylinux_2_17_x86_64.manylinux2014_x86_64.whl (7.6 MB)\n",
            "\u001b[K     |████████████████████████████████| 7.6 MB 46.8 MB/s \n",
            "\u001b[?25hRequirement already satisfied: regex!=2019.12.17 in /usr/local/lib/python3.7/dist-packages (from transformers) (2022.6.2)\n",
            "Requirement already satisfied: requests in /usr/local/lib/python3.7/dist-packages (from transformers) (2.23.0)\n",
            "Requirement already satisfied: filelock in /usr/local/lib/python3.7/dist-packages (from transformers) (3.8.0)\n",
            "Requirement already satisfied: pyyaml>=5.1 in /usr/local/lib/python3.7/dist-packages (from transformers) (6.0)\n",
            "Requirement already satisfied: importlib-metadata in /usr/local/lib/python3.7/dist-packages (from transformers) (4.13.0)\n",
            "Requirement already satisfied: packaging>=20.0 in /usr/local/lib/python3.7/dist-packages (from transformers) (21.3)\n",
            "Requirement already satisfied: typing-extensions>=3.7.4.3 in /usr/local/lib/python3.7/dist-packages (from huggingface-hub<1.0,>=0.10.0->transformers) (4.1.1)\n",
            "Requirement already satisfied: pyparsing!=3.0.5,>=2.0.2 in /usr/local/lib/python3.7/dist-packages (from packaging>=20.0->transformers) (3.0.9)\n",
            "Requirement already satisfied: zipp>=0.5 in /usr/local/lib/python3.7/dist-packages (from importlib-metadata->transformers) (3.10.0)\n",
            "Requirement already satisfied: certifi>=2017.4.17 in /usr/local/lib/python3.7/dist-packages (from requests->transformers) (2022.9.24)\n",
            "Requirement already satisfied: urllib3!=1.25.0,!=1.25.1,<1.26,>=1.21.1 in /usr/local/lib/python3.7/dist-packages (from requests->transformers) (1.25.11)\n",
            "Requirement already satisfied: idna<3,>=2.5 in /usr/local/lib/python3.7/dist-packages (from requests->transformers) (2.10)\n",
            "Requirement already satisfied: chardet<4,>=3.0.2 in /usr/local/lib/python3.7/dist-packages (from requests->transformers) (3.0.4)\n",
            "Installing collected packages: tokenizers, transformers\n",
            "Successfully installed tokenizers-0.13.1 transformers-4.24.0\n"
          ]
        }
      ]
    },
    {
      "cell_type": "code",
      "source": [
        "from tokenizers import Tokenizer\n",
        "from tokenizers.models import BPE\n",
        "from tokenizers.trainers import BpeTrainer\n",
        "from tokenizers.pre_tokenizers import Whitespace\n",
        "from tokenizers import models"
      ],
      "metadata": {
        "id": "pd4IY4fSJtta"
      },
      "execution_count": null,
      "outputs": []
    },
    {
      "cell_type": "code",
      "source": [
        "tokenizer = Tokenizer(models.WordPiece(unk_token='[UNK]'))"
      ],
      "metadata": {
        "id": "n7IrrLkkJpZ6"
      },
      "execution_count": null,
      "outputs": []
    },
    {
      "cell_type": "markdown",
      "source": [
        "### **4.2 Normalization**"
      ],
      "metadata": {
        "id": "dBU-cZ1wKiUl"
      }
    },
    {
      "cell_type": "code",
      "source": [
        "from tokenizers import normalizers\n",
        "tokenizer.normalizer = normalizers.Sequence(\n",
        "    [normalizers.Lowercase(), normalizers.NFKD()]\n",
        ")"
      ],
      "metadata": {
        "id": "NC493aZtKkBX"
      },
      "execution_count": null,
      "outputs": []
    },
    {
      "cell_type": "markdown",
      "source": [
        "### **4.3 Pre-Tokenization**"
      ],
      "metadata": {
        "id": "OjlbGTxhKqrt"
      }
    },
    {
      "cell_type": "code",
      "source": [
        "from tokenizers import pre_tokenizers\n",
        "\n",
        "tokenizer.pre_tokenizer = pre_tokenizers.Whitespace()"
      ],
      "metadata": {
        "id": "90oXds2GKsgr"
      },
      "execution_count": null,
      "outputs": []
    },
    {
      "cell_type": "markdown",
      "source": [
        "### **4.4 Training the Tokenizer**"
      ],
      "metadata": {
        "id": "OB32uJHOKwKD"
      }
    },
    {
      "cell_type": "code",
      "source": [
        "from tokenizers import trainers\n",
        "\n",
        "trainer = trainers.WordPieceTrainer(\n",
        "    vocab_size=30_000,\n",
        "    special_tokens=['[UNK]', '[PAD]', '[CLS]', '[SEP]', '[MASK]'],\n",
        "    min_frequency=2,\n",
        "    continuing_subword_prefix='##'\n",
        ")"
      ],
      "metadata": {
        "id": "Orn-14oiK0aX"
      },
      "execution_count": null,
      "outputs": []
    },
    {
      "cell_type": "code",
      "source": [
        "tokenizer.train_from_iterator(dv_text, trainer=trainer)"
      ],
      "metadata": {
        "id": "QUbPOIA7K7gx",
        "outputId": "b9608d95-e192-4434-b3d0-0290cdad8fa4",
        "colab": {
          "base_uri": "https://localhost:8080/",
          "height": 169
        }
      },
      "execution_count": null,
      "outputs": [
        {
          "output_type": "error",
          "ename": "TypeError",
          "evalue": "ignored",
          "traceback": [
            "\u001b[0;31m---------------------------------------------------------------------------\u001b[0m",
            "\u001b[0;31mTypeError\u001b[0m                                 Traceback (most recent call last)",
            "\u001b[0;32m<ipython-input-25-aa628274e6f7>\u001b[0m in \u001b[0;36m<module>\u001b[0;34m\u001b[0m\n\u001b[0;32m----> 1\u001b[0;31m \u001b[0mtokenizer\u001b[0m\u001b[0;34m.\u001b[0m\u001b[0mtrain_from_iterator\u001b[0m\u001b[0;34m(\u001b[0m\u001b[0mdv_text\u001b[0m\u001b[0;34m,\u001b[0m \u001b[0mtrainer\u001b[0m\u001b[0;34m=\u001b[0m\u001b[0mtrainer\u001b[0m\u001b[0;34m)\u001b[0m\u001b[0;34m\u001b[0m\u001b[0;34m\u001b[0m\u001b[0m\n\u001b[0m",
            "\u001b[0;31mTypeError\u001b[0m: 'function' object is not iterable"
          ]
        }
      ]
    },
    {
      "cell_type": "markdown",
      "source": [
        "### **4.5 Post Processing**"
      ],
      "metadata": {
        "id": "IDRSuJ8gLb9U"
      }
    },
    {
      "cell_type": "code",
      "source": [
        "from tokenizers import processors\n",
        "\n",
        "# first we get the token ID values (defined in the vocab) for CLS and SEP\n",
        "cls_id = tokenizer.token_to_id('[CLS]')\n",
        "sep_id = tokenizer.token_to_id('[SEP]')\n",
        "\n",
        "# then setup the post processing step with TemplateProcessing\n",
        "tokenizer.post_processor = processors.TemplateProcessing(\n",
        "    single=f'[CLS]:0 $A:0 [SEP]:0',\n",
        "    pair=f'[CLS]:0 $A:0 [SEP]:0 $B:1 [SEP]:1',\n",
        "    special_tokens=[\n",
        "        ('[CLS]', cls_id),\n",
        "        ('[SEP]', sep_id)\n",
        "    ]\n",
        ")"
      ],
      "metadata": {
        "id": "0pUmfKxgK7qo"
      },
      "execution_count": null,
      "outputs": []
    },
    {
      "cell_type": "markdown",
      "source": [
        "### **4.6 Decoder**"
      ],
      "metadata": {
        "id": "wIntyjdBLjXV"
      }
    },
    {
      "cell_type": "code",
      "source": [
        "from tokenizers import decoders\n",
        "\n",
        "tokenizer.decoder = decoders.WordPiece(prefix='##')"
      ],
      "metadata": {
        "id": "xix0xVrDLnNE"
      },
      "execution_count": null,
      "outputs": []
    },
    {
      "cell_type": "markdown",
      "source": [
        "## **5.0 Saving the Tokenizer**"
      ],
      "metadata": {
        "id": "xF6ibJJLLn4-"
      }
    },
    {
      "cell_type": "code",
      "source": [
        "from transformers import PreTrainedTokenizerFast\n",
        "\n",
        "# load the tokenizer in a transformers tokenizer instance\n",
        "tokenizer = PreTrainedTokenizerFast(\n",
        "    tokenizer_object=tokenizer,\n",
        "    unk_token='[UNK]',\n",
        "    pad_token='[PAD]',\n",
        "    cls_token='[CLS]',\n",
        "    sep_token='[SEP]',\n",
        "    mask_token='[MASK]'\n",
        ")\n",
        "\n",
        "# save the tokenizer\n",
        "tokenizer.save_pretrained('Kisw-Tokenizer-rdk')"
      ],
      "metadata": {
        "id": "xccwsNnwL5Oi"
      },
      "execution_count": null,
      "outputs": []
    },
    {
      "cell_type": "markdown",
      "source": [
        "## **6.0 Using the Tokenizer**"
      ],
      "metadata": {
        "id": "VvmuoFuqL_KH"
      }
    },
    {
      "cell_type": "code",
      "source": [],
      "metadata": {
        "id": "LTa-mLjvMClk"
      },
      "execution_count": null,
      "outputs": []
    }
  ]
}