{
  "nbformat": 4,
  "nbformat_minor": 0,
  "metadata": {
    "colab": {
      "provenance": [],
      "mount_file_id": "https://github.com/rdkdaniel/The-Swahili-Project/blob/main/Building_the_tokenizer.ipynb",
      "authorship_tag": "ABX9TyPtUVsi6rqqVzXKJi/otIKH",
      "include_colab_link": true
    },
    "kernelspec": {
      "name": "python3",
      "display_name": "Python 3"
    },
    "language_info": {
      "name": "python"
    },
    "widgets": {
      "application/vnd.jupyter.widget-state+json": {
        "4250a9c7c0814761a069b5a5ba1b8e94": {
          "model_module": "@jupyter-widgets/controls",
          "model_name": "HBoxModel",
          "model_module_version": "1.5.0",
          "state": {
            "_dom_classes": [],
            "_model_module": "@jupyter-widgets/controls",
            "_model_module_version": "1.5.0",
            "_model_name": "HBoxModel",
            "_view_count": null,
            "_view_module": "@jupyter-widgets/controls",
            "_view_module_version": "1.5.0",
            "_view_name": "HBoxView",
            "box_style": "",
            "children": [
              "IPY_MODEL_ba37c6fcc05f4e85bc86c6135c6ed3e8",
              "IPY_MODEL_0ca3f4716c1f4791a6c7ab395c4f6c6f",
              "IPY_MODEL_83bdb40b3ac9454dafaa075cfa325319"
            ],
            "layout": "IPY_MODEL_bca2fcdc23da48c4940218f0ab180e29"
          }
        },
        "ba37c6fcc05f4e85bc86c6135c6ed3e8": {
          "model_module": "@jupyter-widgets/controls",
          "model_name": "HTMLModel",
          "model_module_version": "1.5.0",
          "state": {
            "_dom_classes": [],
            "_model_module": "@jupyter-widgets/controls",
            "_model_module_version": "1.5.0",
            "_model_name": "HTMLModel",
            "_view_count": null,
            "_view_module": "@jupyter-widgets/controls",
            "_view_module_version": "1.5.0",
            "_view_name": "HTMLView",
            "description": "",
            "description_tooltip": null,
            "layout": "IPY_MODEL_5ab5e4f8d49e4f93b0c58c0b1c24cea8",
            "placeholder": "​",
            "style": "IPY_MODEL_963b7397152048da86a79605adca3cfc",
            "value": "100%"
          }
        },
        "0ca3f4716c1f4791a6c7ab395c4f6c6f": {
          "model_module": "@jupyter-widgets/controls",
          "model_name": "FloatProgressModel",
          "model_module_version": "1.5.0",
          "state": {
            "_dom_classes": [],
            "_model_module": "@jupyter-widgets/controls",
            "_model_module_version": "1.5.0",
            "_model_name": "FloatProgressModel",
            "_view_count": null,
            "_view_module": "@jupyter-widgets/controls",
            "_view_module_version": "1.5.0",
            "_view_name": "ProgressView",
            "bar_style": "success",
            "description": "",
            "description_tooltip": null,
            "layout": "IPY_MODEL_78beddf647884918b40191876baa7489",
            "max": 18,
            "min": 0,
            "orientation": "horizontal",
            "style": "IPY_MODEL_b028530d76694d808c94b5764042c317",
            "value": 18
          }
        },
        "83bdb40b3ac9454dafaa075cfa325319": {
          "model_module": "@jupyter-widgets/controls",
          "model_name": "HTMLModel",
          "model_module_version": "1.5.0",
          "state": {
            "_dom_classes": [],
            "_model_module": "@jupyter-widgets/controls",
            "_model_module_version": "1.5.0",
            "_model_name": "HTMLModel",
            "_view_count": null,
            "_view_module": "@jupyter-widgets/controls",
            "_view_module_version": "1.5.0",
            "_view_name": "HTMLView",
            "description": "",
            "description_tooltip": null,
            "layout": "IPY_MODEL_68f1b784b7954e53872a98e2f4a9b7a0",
            "placeholder": "​",
            "style": "IPY_MODEL_4af744c435b34b68823de410199b99f1",
            "value": " 18/18 [00:00&lt;00:00, 394.41it/s]"
          }
        },
        "bca2fcdc23da48c4940218f0ab180e29": {
          "model_module": "@jupyter-widgets/base",
          "model_name": "LayoutModel",
          "model_module_version": "1.2.0",
          "state": {
            "_model_module": "@jupyter-widgets/base",
            "_model_module_version": "1.2.0",
            "_model_name": "LayoutModel",
            "_view_count": null,
            "_view_module": "@jupyter-widgets/base",
            "_view_module_version": "1.2.0",
            "_view_name": "LayoutView",
            "align_content": null,
            "align_items": null,
            "align_self": null,
            "border": null,
            "bottom": null,
            "display": null,
            "flex": null,
            "flex_flow": null,
            "grid_area": null,
            "grid_auto_columns": null,
            "grid_auto_flow": null,
            "grid_auto_rows": null,
            "grid_column": null,
            "grid_gap": null,
            "grid_row": null,
            "grid_template_areas": null,
            "grid_template_columns": null,
            "grid_template_rows": null,
            "height": null,
            "justify_content": null,
            "justify_items": null,
            "left": null,
            "margin": null,
            "max_height": null,
            "max_width": null,
            "min_height": null,
            "min_width": null,
            "object_fit": null,
            "object_position": null,
            "order": null,
            "overflow": null,
            "overflow_x": null,
            "overflow_y": null,
            "padding": null,
            "right": null,
            "top": null,
            "visibility": null,
            "width": null
          }
        },
        "5ab5e4f8d49e4f93b0c58c0b1c24cea8": {
          "model_module": "@jupyter-widgets/base",
          "model_name": "LayoutModel",
          "model_module_version": "1.2.0",
          "state": {
            "_model_module": "@jupyter-widgets/base",
            "_model_module_version": "1.2.0",
            "_model_name": "LayoutModel",
            "_view_count": null,
            "_view_module": "@jupyter-widgets/base",
            "_view_module_version": "1.2.0",
            "_view_name": "LayoutView",
            "align_content": null,
            "align_items": null,
            "align_self": null,
            "border": null,
            "bottom": null,
            "display": null,
            "flex": null,
            "flex_flow": null,
            "grid_area": null,
            "grid_auto_columns": null,
            "grid_auto_flow": null,
            "grid_auto_rows": null,
            "grid_column": null,
            "grid_gap": null,
            "grid_row": null,
            "grid_template_areas": null,
            "grid_template_columns": null,
            "grid_template_rows": null,
            "height": null,
            "justify_content": null,
            "justify_items": null,
            "left": null,
            "margin": null,
            "max_height": null,
            "max_width": null,
            "min_height": null,
            "min_width": null,
            "object_fit": null,
            "object_position": null,
            "order": null,
            "overflow": null,
            "overflow_x": null,
            "overflow_y": null,
            "padding": null,
            "right": null,
            "top": null,
            "visibility": null,
            "width": null
          }
        },
        "963b7397152048da86a79605adca3cfc": {
          "model_module": "@jupyter-widgets/controls",
          "model_name": "DescriptionStyleModel",
          "model_module_version": "1.5.0",
          "state": {
            "_model_module": "@jupyter-widgets/controls",
            "_model_module_version": "1.5.0",
            "_model_name": "DescriptionStyleModel",
            "_view_count": null,
            "_view_module": "@jupyter-widgets/base",
            "_view_module_version": "1.2.0",
            "_view_name": "StyleView",
            "description_width": ""
          }
        },
        "78beddf647884918b40191876baa7489": {
          "model_module": "@jupyter-widgets/base",
          "model_name": "LayoutModel",
          "model_module_version": "1.2.0",
          "state": {
            "_model_module": "@jupyter-widgets/base",
            "_model_module_version": "1.2.0",
            "_model_name": "LayoutModel",
            "_view_count": null,
            "_view_module": "@jupyter-widgets/base",
            "_view_module_version": "1.2.0",
            "_view_name": "LayoutView",
            "align_content": null,
            "align_items": null,
            "align_self": null,
            "border": null,
            "bottom": null,
            "display": null,
            "flex": null,
            "flex_flow": null,
            "grid_area": null,
            "grid_auto_columns": null,
            "grid_auto_flow": null,
            "grid_auto_rows": null,
            "grid_column": null,
            "grid_gap": null,
            "grid_row": null,
            "grid_template_areas": null,
            "grid_template_columns": null,
            "grid_template_rows": null,
            "height": null,
            "justify_content": null,
            "justify_items": null,
            "left": null,
            "margin": null,
            "max_height": null,
            "max_width": null,
            "min_height": null,
            "min_width": null,
            "object_fit": null,
            "object_position": null,
            "order": null,
            "overflow": null,
            "overflow_x": null,
            "overflow_y": null,
            "padding": null,
            "right": null,
            "top": null,
            "visibility": null,
            "width": null
          }
        },
        "b028530d76694d808c94b5764042c317": {
          "model_module": "@jupyter-widgets/controls",
          "model_name": "ProgressStyleModel",
          "model_module_version": "1.5.0",
          "state": {
            "_model_module": "@jupyter-widgets/controls",
            "_model_module_version": "1.5.0",
            "_model_name": "ProgressStyleModel",
            "_view_count": null,
            "_view_module": "@jupyter-widgets/base",
            "_view_module_version": "1.2.0",
            "_view_name": "StyleView",
            "bar_color": null,
            "description_width": ""
          }
        },
        "68f1b784b7954e53872a98e2f4a9b7a0": {
          "model_module": "@jupyter-widgets/base",
          "model_name": "LayoutModel",
          "model_module_version": "1.2.0",
          "state": {
            "_model_module": "@jupyter-widgets/base",
            "_model_module_version": "1.2.0",
            "_model_name": "LayoutModel",
            "_view_count": null,
            "_view_module": "@jupyter-widgets/base",
            "_view_module_version": "1.2.0",
            "_view_name": "LayoutView",
            "align_content": null,
            "align_items": null,
            "align_self": null,
            "border": null,
            "bottom": null,
            "display": null,
            "flex": null,
            "flex_flow": null,
            "grid_area": null,
            "grid_auto_columns": null,
            "grid_auto_flow": null,
            "grid_auto_rows": null,
            "grid_column": null,
            "grid_gap": null,
            "grid_row": null,
            "grid_template_areas": null,
            "grid_template_columns": null,
            "grid_template_rows": null,
            "height": null,
            "justify_content": null,
            "justify_items": null,
            "left": null,
            "margin": null,
            "max_height": null,
            "max_width": null,
            "min_height": null,
            "min_width": null,
            "object_fit": null,
            "object_position": null,
            "order": null,
            "overflow": null,
            "overflow_x": null,
            "overflow_y": null,
            "padding": null,
            "right": null,
            "top": null,
            "visibility": null,
            "width": null
          }
        },
        "4af744c435b34b68823de410199b99f1": {
          "model_module": "@jupyter-widgets/controls",
          "model_name": "DescriptionStyleModel",
          "model_module_version": "1.5.0",
          "state": {
            "_model_module": "@jupyter-widgets/controls",
            "_model_module_version": "1.5.0",
            "_model_name": "DescriptionStyleModel",
            "_view_count": null,
            "_view_module": "@jupyter-widgets/base",
            "_view_module_version": "1.2.0",
            "_view_name": "StyleView",
            "description_width": ""
          }
        }
      }
    }
  },
  "cells": [
    {
      "cell_type": "markdown",
      "metadata": {
        "id": "view-in-github",
        "colab_type": "text"
      },
      "source": [
        "<a href=\"https://colab.research.google.com/github/rdkdaniel/The-Swahili-Project/blob/main/Building_the_tokenizer.ipynb\" target=\"_parent\"><img src=\"https://colab.research.google.com/assets/colab-badge.svg\" alt=\"Open In Colab\"/></a>"
      ]
    },
    {
      "cell_type": "markdown",
      "source": [
        "# **The Dataset**"
      ],
      "metadata": {
        "id": "6CAgwjLE0uka"
      }
    },
    {
      "cell_type": "code",
      "execution_count": null,
      "metadata": {
        "colab": {
          "base_uri": "https://localhost:8080/"
        },
        "id": "wzeK6BMy0nFm",
        "outputId": "86aac0cb-0ecb-47ed-e971-2768d242f6bc"
      },
      "outputs": [
        {
          "output_type": "stream",
          "name": "stdout",
          "text": [
            "Looking in indexes: https://pypi.org/simple, https://us-python.pkg.dev/colab-wheels/public/simple/\n",
            "Requirement already satisfied: kaggle in /usr/local/lib/python3.7/dist-packages (1.5.12)\n",
            "Requirement already satisfied: requests in /usr/local/lib/python3.7/dist-packages (from kaggle) (2.23.0)\n",
            "Requirement already satisfied: six>=1.10 in /usr/local/lib/python3.7/dist-packages (from kaggle) (1.15.0)\n",
            "Requirement already satisfied: certifi in /usr/local/lib/python3.7/dist-packages (from kaggle) (2022.9.24)\n",
            "Requirement already satisfied: urllib3 in /usr/local/lib/python3.7/dist-packages (from kaggle) (1.24.3)\n",
            "Requirement already satisfied: tqdm in /usr/local/lib/python3.7/dist-packages (from kaggle) (4.64.1)\n",
            "Requirement already satisfied: python-slugify in /usr/local/lib/python3.7/dist-packages (from kaggle) (6.1.2)\n",
            "Requirement already satisfied: python-dateutil in /usr/local/lib/python3.7/dist-packages (from kaggle) (2.8.2)\n",
            "Requirement already satisfied: text-unidecode>=1.3 in /usr/local/lib/python3.7/dist-packages (from python-slugify->kaggle) (1.3)\n",
            "Requirement already satisfied: chardet<4,>=3.0.2 in /usr/local/lib/python3.7/dist-packages (from requests->kaggle) (3.0.4)\n",
            "Requirement already satisfied: idna<3,>=2.5 in /usr/local/lib/python3.7/dist-packages (from requests->kaggle) (2.10)\n"
          ]
        }
      ],
      "source": [
        "#Install the Kaggle library\n",
        "!pip install kaggle"
      ]
    },
    {
      "cell_type": "code",
      "source": [
        "#Make a directory named “.kaggle”\n",
        "! mkdir ~/.kaggle"
      ],
      "metadata": {
        "id": "DI3dRQYs2AuN"
      },
      "execution_count": null,
      "outputs": []
    },
    {
      "cell_type": "code",
      "source": [
        "#Copy the “kaggle.json” into this new directory\n",
        "! cp kaggle.json ~/.kaggle/"
      ],
      "metadata": {
        "id": "FaOjjREW2DG1"
      },
      "execution_count": null,
      "outputs": []
    },
    {
      "cell_type": "code",
      "source": [
        "#Allocate the required permission for this file\n",
        "! chmod 600 ~/.kaggle/kaggle.json"
      ],
      "metadata": {
        "id": "FahaPei92GMl"
      },
      "execution_count": null,
      "outputs": []
    },
    {
      "cell_type": "code",
      "source": [
        "#Downloading dataset\n",
        "! kaggle datasets download samwelobunde/swahili-data"
      ],
      "metadata": {
        "colab": {
          "base_uri": "https://localhost:8080/"
        },
        "id": "5NWTauE82IT1",
        "outputId": "8e3d278b-40ed-4e49-9795-f53f23226ea7"
      },
      "execution_count": null,
      "outputs": [
        {
          "output_type": "stream",
          "name": "stdout",
          "text": [
            "Downloading swahili-data.zip to /content\n",
            " 98% 499M/508M [00:03<00:00, 164MB/s]\n",
            "100% 508M/508M [00:03<00:00, 163MB/s]\n"
          ]
        }
      ]
    },
    {
      "cell_type": "markdown",
      "source": [
        "## **Unzip dataset**"
      ],
      "metadata": {
        "id": "2QaFxDZ-2Sge"
      }
    },
    {
      "cell_type": "code",
      "source": [
        "!unzip swahili-data.zip"
      ],
      "metadata": {
        "id": "ZAodZhbf2VJn"
      },
      "execution_count": null,
      "outputs": []
    },
    {
      "cell_type": "markdown",
      "source": [
        "**View the downloaded and unzipped dataset**"
      ],
      "metadata": {
        "id": "5CtFOiSb4zrD"
      }
    },
    {
      "cell_type": "markdown",
      "source": [
        "# **Continue with the tokenizer**"
      ],
      "metadata": {
        "id": "0PW6a-pD45Ta"
      }
    },
    {
      "cell_type": "markdown",
      "source": [
        "**Import the Required Models and Trainers**"
      ],
      "metadata": {
        "id": "YpveYKNI5HpD"
      }
    },
    {
      "cell_type": "code",
      "source": [
        "!pip install transformers"
      ],
      "metadata": {
        "colab": {
          "base_uri": "https://localhost:8080/"
        },
        "id": "AY2_8H4P5Sfm",
        "outputId": "119ec300-e5e9-41e0-8c79-b709d8d603bb"
      },
      "execution_count": null,
      "outputs": [
        {
          "output_type": "stream",
          "name": "stdout",
          "text": [
            "Looking in indexes: https://pypi.org/simple, https://us-python.pkg.dev/colab-wheels/public/simple/\n",
            "Collecting transformers\n",
            "  Downloading transformers-4.22.2-py3-none-any.whl (4.9 MB)\n",
            "\u001b[K     |████████████████████████████████| 4.9 MB 5.3 MB/s \n",
            "\u001b[?25hRequirement already satisfied: packaging>=20.0 in /usr/local/lib/python3.7/dist-packages (from transformers) (21.3)\n",
            "Collecting huggingface-hub<1.0,>=0.9.0\n",
            "  Downloading huggingface_hub-0.10.0-py3-none-any.whl (163 kB)\n",
            "\u001b[K     |████████████████████████████████| 163 kB 58.1 MB/s \n",
            "\u001b[?25hCollecting tokenizers!=0.11.3,<0.13,>=0.11.1\n",
            "  Downloading tokenizers-0.12.1-cp37-cp37m-manylinux_2_12_x86_64.manylinux2010_x86_64.whl (6.6 MB)\n",
            "\u001b[K     |████████████████████████████████| 6.6 MB 37.5 MB/s \n",
            "\u001b[?25hRequirement already satisfied: pyyaml>=5.1 in /usr/local/lib/python3.7/dist-packages (from transformers) (6.0)\n",
            "Requirement already satisfied: filelock in /usr/local/lib/python3.7/dist-packages (from transformers) (3.8.0)\n",
            "Requirement already satisfied: numpy>=1.17 in /usr/local/lib/python3.7/dist-packages (from transformers) (1.21.6)\n",
            "Requirement already satisfied: requests in /usr/local/lib/python3.7/dist-packages (from transformers) (2.23.0)\n",
            "Requirement already satisfied: regex!=2019.12.17 in /usr/local/lib/python3.7/dist-packages (from transformers) (2022.6.2)\n",
            "Requirement already satisfied: tqdm>=4.27 in /usr/local/lib/python3.7/dist-packages (from transformers) (4.64.1)\n",
            "Requirement already satisfied: importlib-metadata in /usr/local/lib/python3.7/dist-packages (from transformers) (4.12.0)\n",
            "Requirement already satisfied: typing-extensions>=3.7.4.3 in /usr/local/lib/python3.7/dist-packages (from huggingface-hub<1.0,>=0.9.0->transformers) (4.1.1)\n",
            "Requirement already satisfied: pyparsing!=3.0.5,>=2.0.2 in /usr/local/lib/python3.7/dist-packages (from packaging>=20.0->transformers) (3.0.9)\n",
            "Requirement already satisfied: zipp>=0.5 in /usr/local/lib/python3.7/dist-packages (from importlib-metadata->transformers) (3.8.1)\n",
            "Requirement already satisfied: certifi>=2017.4.17 in /usr/local/lib/python3.7/dist-packages (from requests->transformers) (2022.6.15)\n",
            "Requirement already satisfied: chardet<4,>=3.0.2 in /usr/local/lib/python3.7/dist-packages (from requests->transformers) (3.0.4)\n",
            "Requirement already satisfied: idna<3,>=2.5 in /usr/local/lib/python3.7/dist-packages (from requests->transformers) (2.10)\n",
            "Requirement already satisfied: urllib3!=1.25.0,!=1.25.1,<1.26,>=1.21.1 in /usr/local/lib/python3.7/dist-packages (from requests->transformers) (1.24.3)\n",
            "Installing collected packages: tokenizers, huggingface-hub, transformers\n",
            "Successfully installed huggingface-hub-0.10.0 tokenizers-0.12.1 transformers-4.22.2\n"
          ]
        }
      ]
    },
    {
      "cell_type": "code",
      "source": [
        "import transformers"
      ],
      "metadata": {
        "id": "kkrhWGR45dOp"
      },
      "execution_count": null,
      "outputs": []
    },
    {
      "cell_type": "code",
      "source": [
        "## importing the tokenizer and subword BPE trainer\n",
        "from tokenizers import Tokenizer\n",
        "from tokenizers.models import BPE, Unigram, WordLevel, WordPiece\n",
        "from tokenizers.trainers import BpeTrainer, WordLevelTrainer, \\\n",
        "                                WordPieceTrainer, UnigramTrainer\n",
        "\n",
        "## a pretokenizer to segment the text into words\n",
        "from tokenizers.pre_tokenizers import Whitespace"
      ],
      "metadata": {
        "id": "5IBUcvqJ5G8k"
      },
      "execution_count": null,
      "outputs": []
    },
    {
      "cell_type": "markdown",
      "source": [
        "**Automating Training and Tokenization: Having 3 steps**"
      ],
      "metadata": {
        "id": "D9VCgoOB53ZM"
      }
    },
    {
      "cell_type": "markdown",
      "source": [
        "**Step 1: Preparing the tokenizer**"
      ],
      "metadata": {
        "id": "LADqjLX66A0H"
      }
    },
    {
      "cell_type": "code",
      "source": [
        "unk_token = \"<UNK>\"  # token for unknown words\n",
        "spl_tokens = [\"<UNK>\", \"<SEP>\", \"<MASK>\", \"<CLS>\"]  # special tokens\n",
        "\n",
        "def prepare_tokenizer_trainer(alg):\n",
        "    \"\"\"\n",
        "    Prepares the tokenizer and trainer with unknown & special tokens.\n",
        "    \"\"\"\n",
        "    if alg == 'BPE':\n",
        "        tokenizer = Tokenizer(BPE(unk_token = unk_token))\n",
        "        trainer = BpeTrainer(special_tokens = spl_tokens)\n",
        "    elif alg == 'UNI':\n",
        "        tokenizer = Tokenizer(Unigram())\n",
        "        trainer = UnigramTrainer(unk_token= unk_token, special_tokens = spl_tokens)\n",
        "    elif alg == 'WPC':\n",
        "        tokenizer = Tokenizer(WordPiece(unk_token = unk_token))\n",
        "        trainer = WordPieceTrainer(special_tokens = spl_tokens)\n",
        "    else:\n",
        "        tokenizer = Tokenizer(WordLevel(unk_token = unk_token))\n",
        "        trainer = WordLevelTrainer(special_tokens = spl_tokens)\n",
        "    \n",
        "    tokenizer.pre_tokenizer = Whitespace()\n",
        "    return tokenizer, trainer"
      ],
      "metadata": {
        "id": "5h72FkQG6L3A"
      },
      "execution_count": null,
      "outputs": []
    },
    {
      "cell_type": "markdown",
      "source": [
        "**Step 2 - Training the tokenizer**"
      ],
      "metadata": {
        "id": "x50LcNyc6S9O"
      }
    },
    {
      "cell_type": "code",
      "source": [
        "def train_tokenizer(files, alg='WLV'):\n",
        "    \"\"\"\n",
        "    Takes the files and trains the tokenizer.\n",
        "    \"\"\"\n",
        "    tokenizer, trainer = prepare_tokenizer_trainer(alg)\n",
        "    tokenizer.train(files, trainer) # training the tokenzier\n",
        "    tokenizer.save(\"./tokenizer-trained.json\")\n",
        "    tokenizer = Tokenizer.from_file(\"./tokenizer-trained.json\")\n",
        "    return tokenizer"
      ],
      "metadata": {
        "id": "Zjam2qbC6VjH"
      },
      "execution_count": null,
      "outputs": []
    },
    {
      "cell_type": "markdown",
      "source": [
        "**Step 3 - Tokenizing the input string**"
      ],
      "metadata": {
        "id": "vaZG5Y4R6w2j"
      }
    },
    {
      "cell_type": "code",
      "source": [
        "#https://www.freecodecamp.org/news/train-algorithms-from-scratch-with-hugging-face/"
      ],
      "metadata": {
        "id": "GE4dnvPD7_x4"
      },
      "execution_count": null,
      "outputs": []
    },
    {
      "cell_type": "code",
      "source": [
        "small_file = ['Test.csv']\n",
        "large_files = ['Train.csv']\n",
        "\n",
        "for files in [small_file, large_files]:\n",
        "    print(f\"========Using vocabulary from {files}=======\")\n",
        "    for alg in ['WLV', 'BPE', 'UNI', 'WPC']:\n",
        "        trained_tokenizer = train_tokenizer(files, alg)\n",
        "        input_string = \"This is a deep learning tokenization tutorial. Tokenization is the first step in a deep learning NLP pipeline. We will be comparing the tokens generated by each tokenization model. Excited much?!😍\"\n",
        "        output = tokenize(input_string, trained_tokenizer)\n",
        "        tokens_dict[alg] = output.tokens\n",
        "        print(\"----\", alg, \"----\")\n",
        "        print(output.tokens, \"->\", len(output.tokens))"
      ],
      "metadata": {
        "colab": {
          "base_uri": "https://localhost:8080/",
          "height": 276
        },
        "id": "NATekxgT60i8",
        "outputId": "49ff42e8-bf0d-4395-ae9e-c5f708d8f166"
      },
      "execution_count": null,
      "outputs": [
        {
          "output_type": "stream",
          "name": "stdout",
          "text": [
            "========Using vocabulary from ['Test.csv']=======\n"
          ]
        },
        {
          "output_type": "error",
          "ename": "NameError",
          "evalue": "ignored",
          "traceback": [
            "\u001b[0;31m---------------------------------------------------------------------------\u001b[0m",
            "\u001b[0;31mNameError\u001b[0m                                 Traceback (most recent call last)",
            "\u001b[0;32m<ipython-input-16-46b9a75a10e2>\u001b[0m in \u001b[0;36m<module>\u001b[0;34m\u001b[0m\n\u001b[1;32m      7\u001b[0m         \u001b[0mtrained_tokenizer\u001b[0m \u001b[0;34m=\u001b[0m \u001b[0mtrain_tokenizer\u001b[0m\u001b[0;34m(\u001b[0m\u001b[0mfiles\u001b[0m\u001b[0;34m,\u001b[0m \u001b[0malg\u001b[0m\u001b[0;34m)\u001b[0m\u001b[0;34m\u001b[0m\u001b[0;34m\u001b[0m\u001b[0m\n\u001b[1;32m      8\u001b[0m         \u001b[0minput_string\u001b[0m \u001b[0;34m=\u001b[0m \u001b[0;34m\"This is a deep learning tokenization tutorial. Tokenization is the first step in a deep learning NLP pipeline. We will be comparing the tokens generated by each tokenization model. Excited much?!😍\"\u001b[0m\u001b[0;34m\u001b[0m\u001b[0;34m\u001b[0m\u001b[0m\n\u001b[0;32m----> 9\u001b[0;31m         \u001b[0moutput\u001b[0m \u001b[0;34m=\u001b[0m \u001b[0mtokenize\u001b[0m\u001b[0;34m(\u001b[0m\u001b[0minput_string\u001b[0m\u001b[0;34m,\u001b[0m \u001b[0mtrained_tokenizer\u001b[0m\u001b[0;34m)\u001b[0m\u001b[0;34m\u001b[0m\u001b[0;34m\u001b[0m\u001b[0m\n\u001b[0m\u001b[1;32m     10\u001b[0m         \u001b[0mtokens_dict\u001b[0m\u001b[0;34m[\u001b[0m\u001b[0malg\u001b[0m\u001b[0;34m]\u001b[0m \u001b[0;34m=\u001b[0m \u001b[0moutput\u001b[0m\u001b[0;34m.\u001b[0m\u001b[0mtokens\u001b[0m\u001b[0;34m\u001b[0m\u001b[0;34m\u001b[0m\u001b[0m\n\u001b[1;32m     11\u001b[0m         \u001b[0mprint\u001b[0m\u001b[0;34m(\u001b[0m\u001b[0;34m\"----\"\u001b[0m\u001b[0;34m,\u001b[0m \u001b[0malg\u001b[0m\u001b[0;34m,\u001b[0m \u001b[0;34m\"----\"\u001b[0m\u001b[0;34m)\u001b[0m\u001b[0;34m\u001b[0m\u001b[0;34m\u001b[0m\u001b[0m\n",
            "\u001b[0;31mNameError\u001b[0m: name 'tokenize' is not defined"
          ]
        }
      ]
    },
    {
      "cell_type": "markdown",
      "source": [
        "# **Tokenizer Test 1**"
      ],
      "metadata": {
        "id": "tFIrq8ZDkaTp"
      }
    },
    {
      "cell_type": "markdown",
      "source": [
        "\n",
        "\n",
        "*   For data, the one we got from kaggle was audio data.\n",
        "*   Therefore, went for the old dataset in csv (upload from local pc).\n",
        "\n"
      ],
      "metadata": {
        "id": "JIq8ZN1CnVKW"
      }
    },
    {
      "cell_type": "markdown",
      "source": [
        "## **Data Formatting**"
      ],
      "metadata": {
        "id": "86ory-elkyuG"
      }
    },
    {
      "cell_type": "code",
      "source": [
        "import os\n",
        "\n",
        "os.mkdir('/content/drive/MyDrive/Kiswahili_Dataset3')"
      ],
      "metadata": {
        "id": "dMiz1UZzkeKV"
      },
      "execution_count": null,
      "outputs": []
    },
    {
      "cell_type": "code",
      "source": [
        "from tqdm.auto import tqdm  # for our loading bar\n",
        "\n",
        "text_data = []\n",
        "file_count = 0\n",
        "\n",
        "for sample in tqdm('/content/train.csv'):\n",
        "    # remove newline characters from each sample as we need to use exclusively as seperators\n",
        " \n",
        "    text_data.append(sample)\n",
        "    if len(text_data) == 5_000:\n",
        "        # once we hit the 5K mark, save to file\n",
        "        with open(f'/content/drive/MyDrive/Kiswahili_Dataset3/text_{file_count}.txt', 'w', encoding='utf-8') as fp:\n",
        "            fp.write('\\n'.join(text_data))\n",
        "        text_data = []\n",
        "        file_count += 1\n",
        "# after saving in 5K chunks, we may have leftover samples, we save those now too\n",
        "with open(f'/content/drive/MyDrive/Kiswahili_Dataset3/text_{file_count}.txt', 'w', encoding='utf-8') as fp:\n",
        "    fp.write('\\n'.join(text_data))"
      ],
      "metadata": {
        "colab": {
          "base_uri": "https://localhost:8080/",
          "height": 49,
          "referenced_widgets": [
            "4250a9c7c0814761a069b5a5ba1b8e94",
            "ba37c6fcc05f4e85bc86c6135c6ed3e8",
            "0ca3f4716c1f4791a6c7ab395c4f6c6f",
            "83bdb40b3ac9454dafaa075cfa325319",
            "bca2fcdc23da48c4940218f0ab180e29",
            "5ab5e4f8d49e4f93b0c58c0b1c24cea8",
            "963b7397152048da86a79605adca3cfc",
            "78beddf647884918b40191876baa7489",
            "b028530d76694d808c94b5764042c317",
            "68f1b784b7954e53872a98e2f4a9b7a0",
            "4af744c435b34b68823de410199b99f1"
          ]
        },
        "id": "1ZSoVQhxlKCY",
        "outputId": "03210ce5-1efb-4a57-b2bc-cb304b058905"
      },
      "execution_count": null,
      "outputs": [
        {
          "output_type": "display_data",
          "data": {
            "text/plain": [
              "  0%|          | 0/18 [00:00<?, ?it/s]"
            ],
            "application/vnd.jupyter.widget-view+json": {
              "version_major": 2,
              "version_minor": 0,
              "model_id": "4250a9c7c0814761a069b5a5ba1b8e94"
            }
          },
          "metadata": {}
        }
      ]
    },
    {
      "cell_type": "markdown",
      "source": [
        "## **Training**"
      ],
      "metadata": {
        "id": "lMs7xXU0n4ad"
      }
    },
    {
      "cell_type": "code",
      "source": [
        "from pathlib import Path\n",
        "paths = [str(x) for x in Path('/content/drive/MyDrive/Kiswahili_Dataset3').glob('**/*.txt')]\n",
        "paths[:5]"
      ],
      "metadata": {
        "colab": {
          "base_uri": "https://localhost:8080/"
        },
        "id": "5OQdZaR1nGtv",
        "outputId": "3464438a-0337-4818-a4fc-2b84ab15f8e4"
      },
      "execution_count": null,
      "outputs": [
        {
          "output_type": "execute_result",
          "data": {
            "text/plain": [
              "['/content/drive/MyDrive/Kiswahili_Dataset3/text_0.txt']"
            ]
          },
          "metadata": {},
          "execution_count": 10
        }
      ]
    },
    {
      "cell_type": "code",
      "source": [
        "len(paths)"
      ],
      "metadata": {
        "colab": {
          "base_uri": "https://localhost:8080/"
        },
        "id": "c2Pi6D14nOQB",
        "outputId": "955171f1-fccd-4188-ec53-1e343b5e6558"
      },
      "execution_count": null,
      "outputs": [
        {
          "output_type": "execute_result",
          "data": {
            "text/plain": [
              "1"
            ]
          },
          "metadata": {},
          "execution_count": 11
        }
      ]
    },
    {
      "cell_type": "markdown",
      "source": [
        "### **Library**"
      ],
      "metadata": {
        "id": "szmZ23HcoCWQ"
      }
    },
    {
      "cell_type": "code",
      "source": [
        "!pip install tokenizers"
      ],
      "metadata": {
        "colab": {
          "base_uri": "https://localhost:8080/"
        },
        "id": "38O2kcqSoFM6",
        "outputId": "a604d9b4-85e4-4d44-db98-d3258d77e2c7"
      },
      "execution_count": 6,
      "outputs": [
        {
          "output_type": "stream",
          "name": "stdout",
          "text": [
            "Looking in indexes: https://pypi.org/simple, https://us-python.pkg.dev/colab-wheels/public/simple/\n",
            "Collecting tokenizers\n",
            "  Downloading tokenizers-0.13.2-cp37-cp37m-manylinux_2_17_x86_64.manylinux2014_x86_64.whl (7.6 MB)\n",
            "\u001b[K     |████████████████████████████████| 7.6 MB 5.3 MB/s \n",
            "\u001b[?25hInstalling collected packages: tokenizers\n",
            "Successfully installed tokenizers-0.13.2\n"
          ]
        }
      ]
    },
    {
      "cell_type": "code",
      "source": [
        "pip install transformers"
      ],
      "metadata": {
        "colab": {
          "base_uri": "https://localhost:8080/"
        },
        "id": "jFohLLRgpEmg",
        "outputId": "7dc8a631-c8b4-4525-f1ca-3d7ca2ddec7b"
      },
      "execution_count": 7,
      "outputs": [
        {
          "output_type": "stream",
          "name": "stdout",
          "text": [
            "Looking in indexes: https://pypi.org/simple, https://us-python.pkg.dev/colab-wheels/public/simple/\n",
            "Collecting transformers\n",
            "  Downloading transformers-4.24.0-py3-none-any.whl (5.5 MB)\n",
            "\u001b[K     |████████████████████████████████| 5.5 MB 5.4 MB/s \n",
            "\u001b[?25hRequirement already satisfied: filelock in /usr/local/lib/python3.7/dist-packages (from transformers) (3.8.0)\n",
            "Requirement already satisfied: regex!=2019.12.17 in /usr/local/lib/python3.7/dist-packages (from transformers) (2022.6.2)\n",
            "Requirement already satisfied: tokenizers!=0.11.3,<0.14,>=0.11.1 in /usr/local/lib/python3.7/dist-packages (from transformers) (0.13.2)\n",
            "Requirement already satisfied: numpy>=1.17 in /usr/local/lib/python3.7/dist-packages (from transformers) (1.21.6)\n",
            "Requirement already satisfied: tqdm>=4.27 in /usr/local/lib/python3.7/dist-packages (from transformers) (4.64.1)\n",
            "Requirement already satisfied: huggingface-hub<1.0,>=0.10.0 in /usr/local/lib/python3.7/dist-packages (from transformers) (0.10.1)\n",
            "Requirement already satisfied: packaging>=20.0 in /usr/local/lib/python3.7/dist-packages (from transformers) (21.3)\n",
            "Requirement already satisfied: pyyaml>=5.1 in /usr/local/lib/python3.7/dist-packages (from transformers) (6.0)\n",
            "Requirement already satisfied: requests in /usr/local/lib/python3.7/dist-packages (from transformers) (2.23.0)\n",
            "Requirement already satisfied: importlib-metadata in /usr/local/lib/python3.7/dist-packages (from transformers) (4.13.0)\n",
            "Requirement already satisfied: typing-extensions>=3.7.4.3 in /usr/local/lib/python3.7/dist-packages (from huggingface-hub<1.0,>=0.10.0->transformers) (4.1.1)\n",
            "Requirement already satisfied: pyparsing!=3.0.5,>=2.0.2 in /usr/local/lib/python3.7/dist-packages (from packaging>=20.0->transformers) (3.0.9)\n",
            "Requirement already satisfied: zipp>=0.5 in /usr/local/lib/python3.7/dist-packages (from importlib-metadata->transformers) (3.10.0)\n",
            "Requirement already satisfied: idna<3,>=2.5 in /usr/local/lib/python3.7/dist-packages (from requests->transformers) (2.10)\n",
            "Requirement already satisfied: certifi>=2017.4.17 in /usr/local/lib/python3.7/dist-packages (from requests->transformers) (2022.9.24)\n",
            "Requirement already satisfied: chardet<4,>=3.0.2 in /usr/local/lib/python3.7/dist-packages (from requests->transformers) (3.0.4)\n",
            "Requirement already satisfied: urllib3!=1.25.0,!=1.25.1,<1.26,>=1.21.1 in /usr/local/lib/python3.7/dist-packages (from requests->transformers) (1.25.11)\n",
            "Installing collected packages: transformers\n",
            "Successfully installed transformers-4.24.0\n"
          ]
        }
      ]
    },
    {
      "cell_type": "code",
      "source": [
        "from tokenizers import BertWordPieceTokenizer"
      ],
      "metadata": {
        "id": "ZduV39pIoLC0"
      },
      "execution_count": null,
      "outputs": []
    },
    {
      "cell_type": "markdown",
      "source": [
        "### **Initialize and Train**"
      ],
      "metadata": {
        "id": "2LwsXXgtobdO"
      }
    },
    {
      "cell_type": "code",
      "source": [
        "tokenizer = BertWordPieceTokenizer(\n",
        "    clean_text=True,\n",
        "    handle_chinese_chars=False,\n",
        "    strip_accents=False,\n",
        "    lowercase=False\n",
        ")\n",
        "# and train\n",
        "tokenizer.train(files=paths, vocab_size=30_000, min_frequency=2,\n",
        "                limit_alphabet=1000, wordpieces_prefix='##',\n",
        "                special_tokens=[\n",
        "                    '[PAD', '[UNK]', '[CLS]', '[SEP]', '[MASK]'])"
      ],
      "metadata": {
        "id": "Xn74adF3oPIP"
      },
      "execution_count": null,
      "outputs": []
    },
    {
      "cell_type": "code",
      "source": [
        "\n",
        "tokenizer.save_model('/content/drive/MyDrive/Kiswahili_Dataset3', 'kisw-tokenizer')\n",
        "\n"
      ],
      "metadata": {
        "colab": {
          "base_uri": "https://localhost:8080/"
        },
        "id": "MY3tSIv3oe8i",
        "outputId": "9395b14b-2eb7-43a3-a6a6-3ae2bf805d9b"
      },
      "execution_count": null,
      "outputs": [
        {
          "output_type": "execute_result",
          "data": {
            "text/plain": [
              "['/content/drive/MyDrive/Kiswahili_Dataset3/kisw-tokenizer-vocab.txt']"
            ]
          },
          "metadata": {},
          "execution_count": 15
        }
      ]
    },
    {
      "cell_type": "markdown",
      "source": [
        "## **Using the Tokenizer**"
      ],
      "metadata": {
        "id": "lBb7tslHo2pw"
      }
    },
    {
      "cell_type": "code",
      "source": [
        "from transformers import BertTokenizer\n",
        "\n",
        "tokenizer = BertTokenizer.from_pretrained('/content/drive/MyDrive/Kiswahili_Dataset3/kisw-tokenizer-vocab.txt')"
      ],
      "metadata": {
        "colab": {
          "base_uri": "https://localhost:8080/"
        },
        "id": "yNNfLgpYo6js",
        "outputId": "914a0393-e8b1-4afb-b9d7-634653120b8e"
      },
      "execution_count": null,
      "outputs": [
        {
          "output_type": "stream",
          "name": "stderr",
          "text": [
            "/usr/local/lib/python3.7/dist-packages/transformers/tokenization_utils_base.py:1682: FutureWarning: Calling BertTokenizer.from_pretrained() with the path to a single file or url is deprecated and won't be possible anymore in v5. Use a model identifier or the path to a directory instead.\n",
            "  FutureWarning,\n",
            "Special tokens have been added in the vocabulary, make sure the associated word embeddings are fine-tuned or trained.\n"
          ]
        }
      ]
    },
    {
      "cell_type": "code",
      "source": [
        "tokenizer('Habari yako?')  # how are you?"
      ],
      "metadata": {
        "colab": {
          "base_uri": "https://localhost:8080/"
        },
        "id": "0ZakqwrtpfmT",
        "outputId": "66cecb05-bac8-4887-9350-fd2894c8e56c"
      },
      "execution_count": null,
      "outputs": [
        {
          "output_type": "execute_result",
          "data": {
            "text/plain": [
              "{'input_ids': [2, 1, 1, 1, 3], 'token_type_ids': [0, 0, 0, 0, 0], 'attention_mask': [1, 1, 1, 1, 1]}"
            ]
          },
          "metadata": {},
          "execution_count": 21
        }
      ]
    },
    {
      "cell_type": "code",
      "source": [
        "with open('/content/drive/MyDrive/Kiswahili_Dataset3/kisw-tokenizer-vocab.txt', 'r') as fp:\n",
        "    vocab = fp.read().split('\\n')"
      ],
      "metadata": {
        "id": "MPvXEyQgp43N"
      },
      "execution_count": null,
      "outputs": []
    },
    {
      "cell_type": "code",
      "source": [
        "vocab[2], vocab[1], vocab[1], \\\n",
        "    vocab[1], vocab[1], vocab[3]"
      ],
      "metadata": {
        "colab": {
          "base_uri": "https://localhost:8080/"
        },
        "id": "xZCBSBKhqGeF",
        "outputId": "dad37b07-f293-42c4-d18b-42f3ee20603a"
      },
      "execution_count": null,
      "outputs": [
        {
          "output_type": "execute_result",
          "data": {
            "text/plain": [
              "('[CLS]', '[UNK]', '[UNK]', '[UNK]', '[UNK]', '[SEP]')"
            ]
          },
          "metadata": {},
          "execution_count": 23
        }
      ]
    },
    {
      "cell_type": "markdown",
      "source": [
        "# **Tokenizer Test 2**"
      ],
      "metadata": {
        "id": "KbwwFrQgqziB"
      }
    },
    {
      "cell_type": "markdown",
      "source": [
        "## **Libraries**"
      ],
      "metadata": {
        "id": "E41X9yQoq-RN"
      }
    },
    {
      "cell_type": "code",
      "source": [
        "pip install datasets"
      ],
      "metadata": {
        "colab": {
          "base_uri": "https://localhost:8080/"
        },
        "id": "lWHfbXYWq3Q1",
        "outputId": "02f3134e-1d12-49f3-dbac-8425dc2d030b"
      },
      "execution_count": 1,
      "outputs": [
        {
          "output_type": "stream",
          "name": "stdout",
          "text": [
            "Looking in indexes: https://pypi.org/simple, https://us-python.pkg.dev/colab-wheels/public/simple/\n",
            "Collecting datasets\n",
            "  Downloading datasets-2.6.1-py3-none-any.whl (441 kB)\n",
            "\u001b[K     |████████████████████████████████| 441 kB 5.4 MB/s \n",
            "\u001b[?25hCollecting huggingface-hub<1.0.0,>=0.2.0\n",
            "  Downloading huggingface_hub-0.10.1-py3-none-any.whl (163 kB)\n",
            "\u001b[K     |████████████████████████████████| 163 kB 51.5 MB/s \n",
            "\u001b[?25hRequirement already satisfied: importlib-metadata in /usr/local/lib/python3.7/dist-packages (from datasets) (4.13.0)\n",
            "Requirement already satisfied: numpy>=1.17 in /usr/local/lib/python3.7/dist-packages (from datasets) (1.21.6)\n",
            "Requirement already satisfied: tqdm>=4.62.1 in /usr/local/lib/python3.7/dist-packages (from datasets) (4.64.1)\n",
            "Collecting multiprocess\n",
            "  Downloading multiprocess-0.70.14-py37-none-any.whl (115 kB)\n",
            "\u001b[K     |████████████████████████████████| 115 kB 46.4 MB/s \n",
            "\u001b[?25hRequirement already satisfied: pyarrow>=6.0.0 in /usr/local/lib/python3.7/dist-packages (from datasets) (6.0.1)\n",
            "Collecting responses<0.19\n",
            "  Downloading responses-0.18.0-py3-none-any.whl (38 kB)\n",
            "Requirement already satisfied: pyyaml>=5.1 in /usr/local/lib/python3.7/dist-packages (from datasets) (6.0)\n",
            "Requirement already satisfied: requests>=2.19.0 in /usr/local/lib/python3.7/dist-packages (from datasets) (2.23.0)\n",
            "Requirement already satisfied: pandas in /usr/local/lib/python3.7/dist-packages (from datasets) (1.3.5)\n",
            "Requirement already satisfied: fsspec[http]>=2021.11.1 in /usr/local/lib/python3.7/dist-packages (from datasets) (2022.10.0)\n",
            "Collecting xxhash\n",
            "  Downloading xxhash-3.1.0-cp37-cp37m-manylinux_2_17_x86_64.manylinux2014_x86_64.whl (212 kB)\n",
            "\u001b[K     |████████████████████████████████| 212 kB 56.4 MB/s \n",
            "\u001b[?25hCollecting dill<0.3.6\n",
            "  Downloading dill-0.3.5.1-py2.py3-none-any.whl (95 kB)\n",
            "\u001b[K     |████████████████████████████████| 95 kB 3.4 MB/s \n",
            "\u001b[?25hRequirement already satisfied: aiohttp in /usr/local/lib/python3.7/dist-packages (from datasets) (3.8.3)\n",
            "Requirement already satisfied: packaging in /usr/local/lib/python3.7/dist-packages (from datasets) (21.3)\n",
            "Requirement already satisfied: aiosignal>=1.1.2 in /usr/local/lib/python3.7/dist-packages (from aiohttp->datasets) (1.3.1)\n",
            "Requirement already satisfied: yarl<2.0,>=1.0 in /usr/local/lib/python3.7/dist-packages (from aiohttp->datasets) (1.8.1)\n",
            "Requirement already satisfied: asynctest==0.13.0 in /usr/local/lib/python3.7/dist-packages (from aiohttp->datasets) (0.13.0)\n",
            "Requirement already satisfied: typing-extensions>=3.7.4 in /usr/local/lib/python3.7/dist-packages (from aiohttp->datasets) (4.1.1)\n",
            "Requirement already satisfied: frozenlist>=1.1.1 in /usr/local/lib/python3.7/dist-packages (from aiohttp->datasets) (1.3.3)\n",
            "Requirement already satisfied: async-timeout<5.0,>=4.0.0a3 in /usr/local/lib/python3.7/dist-packages (from aiohttp->datasets) (4.0.2)\n",
            "Requirement already satisfied: multidict<7.0,>=4.5 in /usr/local/lib/python3.7/dist-packages (from aiohttp->datasets) (6.0.2)\n",
            "Requirement already satisfied: attrs>=17.3.0 in /usr/local/lib/python3.7/dist-packages (from aiohttp->datasets) (22.1.0)\n",
            "Requirement already satisfied: charset-normalizer<3.0,>=2.0 in /usr/local/lib/python3.7/dist-packages (from aiohttp->datasets) (2.1.1)\n",
            "Requirement already satisfied: filelock in /usr/local/lib/python3.7/dist-packages (from huggingface-hub<1.0.0,>=0.2.0->datasets) (3.8.0)\n",
            "Requirement already satisfied: pyparsing!=3.0.5,>=2.0.2 in /usr/local/lib/python3.7/dist-packages (from packaging->datasets) (3.0.9)\n",
            "Requirement already satisfied: idna<3,>=2.5 in /usr/local/lib/python3.7/dist-packages (from requests>=2.19.0->datasets) (2.10)\n",
            "Requirement already satisfied: urllib3!=1.25.0,!=1.25.1,<1.26,>=1.21.1 in /usr/local/lib/python3.7/dist-packages (from requests>=2.19.0->datasets) (1.24.3)\n",
            "Requirement already satisfied: certifi>=2017.4.17 in /usr/local/lib/python3.7/dist-packages (from requests>=2.19.0->datasets) (2022.9.24)\n",
            "Requirement already satisfied: chardet<4,>=3.0.2 in /usr/local/lib/python3.7/dist-packages (from requests>=2.19.0->datasets) (3.0.4)\n",
            "Collecting urllib3!=1.25.0,!=1.25.1,<1.26,>=1.21.1\n",
            "  Downloading urllib3-1.25.11-py2.py3-none-any.whl (127 kB)\n",
            "\u001b[K     |████████████████████████████████| 127 kB 63.5 MB/s \n",
            "\u001b[?25hRequirement already satisfied: zipp>=0.5 in /usr/local/lib/python3.7/dist-packages (from importlib-metadata->datasets) (3.10.0)\n",
            "Collecting multiprocess\n",
            "  Downloading multiprocess-0.70.13-py37-none-any.whl (115 kB)\n",
            "\u001b[K     |████████████████████████████████| 115 kB 51.5 MB/s \n",
            "\u001b[?25hRequirement already satisfied: python-dateutil>=2.7.3 in /usr/local/lib/python3.7/dist-packages (from pandas->datasets) (2.8.2)\n",
            "Requirement already satisfied: pytz>=2017.3 in /usr/local/lib/python3.7/dist-packages (from pandas->datasets) (2022.6)\n",
            "Requirement already satisfied: six>=1.5 in /usr/local/lib/python3.7/dist-packages (from python-dateutil>=2.7.3->pandas->datasets) (1.15.0)\n",
            "Installing collected packages: urllib3, dill, xxhash, responses, multiprocess, huggingface-hub, datasets\n",
            "  Attempting uninstall: urllib3\n",
            "    Found existing installation: urllib3 1.24.3\n",
            "    Uninstalling urllib3-1.24.3:\n",
            "      Successfully uninstalled urllib3-1.24.3\n",
            "  Attempting uninstall: dill\n",
            "    Found existing installation: dill 0.3.6\n",
            "    Uninstalling dill-0.3.6:\n",
            "      Successfully uninstalled dill-0.3.6\n",
            "Successfully installed datasets-2.6.1 dill-0.3.5.1 huggingface-hub-0.10.1 multiprocess-0.70.13 responses-0.18.0 urllib3-1.25.11 xxhash-3.1.0\n"
          ]
        }
      ]
    },
    {
      "cell_type": "code",
      "source": [
        "#Libraries\n",
        "import pandas as pd\n",
        "import numpy as np\n",
        "import datasets"
      ],
      "metadata": {
        "id": "sfiO2D6TrHHM"
      },
      "execution_count": 2,
      "outputs": []
    },
    {
      "cell_type": "markdown",
      "source": [
        "## **Loading Dataset**"
      ],
      "metadata": {
        "id": "lt5jtiE4sDjy"
      }
    },
    {
      "cell_type": "code",
      "source": [
        "df = pd.read_csv(r'/content/train.csv')\n",
        "print(df)"
      ],
      "metadata": {
        "colab": {
          "base_uri": "https://localhost:8080/"
        },
        "id": "s9Q3yWS2sIyt",
        "outputId": "a8684962-470e-4e36-fe7c-c61a1f43f2a0"
      },
      "execution_count": null,
      "outputs": [
        {
          "output_type": "stream",
          "name": "stdout",
          "text": [
            "            id                                            content category\n",
            "0       SW4670   Bodi ya Utalii Tanzania (TTB) imesema, itafan...   uchumi\n",
            "1      SW30826   PENDO FUNDISHA-MBEYA RAIS Dk. John Magufuri, ...  kitaifa\n",
            "2      SW29725  Mwandishi Wetu -Singida BENKI ya NMB imetoa ms...   uchumi\n",
            "3      SW20901   TIMU ya taifa ya Tanzania, Serengeti Boys jan...  michezo\n",
            "4      SW12560   Na AGATHA CHARLES – DAR ES SALAAM ALIYEKUWA K...  kitaifa\n",
            "...        ...                                                ...      ...\n",
            "23263  SW24920   Alitoa pongezi hizo alipozindua rasmi hatua y...   uchumi\n",
            "23264   SW4038   Na NORA DAMIAN-DAR ES SALAAM  TEKLA (si jina ...  kitaifa\n",
            "23265  SW16649   Mkuu wa Mkoa wa Njombe, Dk Rehema Nchimbi wak...   uchumi\n",
            "23266  SW23291   MABINGWA wa Ligi Kuu Soka Tanzania Bara, Simb...  michezo\n",
            "23267  SW11778   WIKI iliyopita, nilianza makala haya yanayole...  kitaifa\n",
            "\n",
            "[23268 rows x 3 columns]\n"
          ]
        }
      ]
    },
    {
      "cell_type": "markdown",
      "source": [
        "## **Train**"
      ],
      "metadata": {
        "id": "jSLdYrMorMZJ"
      }
    },
    {
      "cell_type": "markdown",
      "source": [
        "### **More Libraries**"
      ],
      "metadata": {
        "id": "UT-kePCWrqwg"
      }
    },
    {
      "cell_type": "code",
      "source": [
        "from tokenizers import Tokenizer\n",
        "from tokenizers.models import BPE\n",
        "from tokenizers.trainers import BpeTrainer\n",
        "from tokenizers.pre_tokenizers import Whitespace\n",
        "from tokenizers import models"
      ],
      "metadata": {
        "id": "8-NBbSEHrJZe"
      },
      "execution_count": 8,
      "outputs": []
    },
    {
      "cell_type": "code",
      "source": [
        "tokenizer = Tokenizer(models.WordPiece(unk_token='[UNK]'))"
      ],
      "metadata": {
        "id": "ma7ULZJorw9J"
      },
      "execution_count": 9,
      "outputs": []
    },
    {
      "cell_type": "code",
      "source": [
        "from tokenizers import normalizers\n",
        "tokenizer.normalizer = normalizers.Sequence(\n",
        "    [normalizers.Lowercase(), normalizers.NFKD()]\n",
        ")"
      ],
      "metadata": {
        "id": "GzrRIHQDrx7M"
      },
      "execution_count": 10,
      "outputs": []
    },
    {
      "cell_type": "code",
      "source": [
        "from tokenizers import pre_tokenizers\n",
        "tokenizer.pre_tokenizer = pre_tokenizers.Whitespace()"
      ],
      "metadata": {
        "id": "mhDCYDjSr0Ic"
      },
      "execution_count": 11,
      "outputs": []
    },
    {
      "cell_type": "code",
      "source": [
        "from tokenizers import trainers\n",
        "\n",
        "trainer = trainers.WordPieceTrainer(\n",
        "    vocab_size=30_000,\n",
        "    special_tokens=['[UNK]', '[PAD]', '[CLS]', '[SEP]', '[MASK]'],\n",
        "    min_frequency=2,\n",
        "    continuing_subword_prefix='##'\n",
        ")"
      ],
      "metadata": {
        "id": "3pE2xLbUr2YL"
      },
      "execution_count": 12,
      "outputs": []
    },
    {
      "cell_type": "code",
      "source": [
        "tokenizer.train_from_iterator(df, trainer=trainer)"
      ],
      "metadata": {
        "id": "UXNg_Lz4r7dM"
      },
      "execution_count": null,
      "outputs": []
    },
    {
      "cell_type": "markdown",
      "source": [
        "## **Post Processing**"
      ],
      "metadata": {
        "id": "mZPtjgJVsbs0"
      }
    },
    {
      "cell_type": "code",
      "source": [
        "\n",
        "\n",
        "from tokenizers import processors\n",
        "\n",
        "# first we get the token ID values (defined in the vocab) for CLS and SEP\n",
        "cls_id = tokenizer.token_to_id('[CLS]')\n",
        "sep_id = tokenizer.token_to_id('[SEP]')\n",
        "\n",
        "# then setup the post processing step with TemplateProcessing\n",
        "tokenizer.post_processor = processors.TemplateProcessing(\n",
        "    single=f'[CLS]:0 $A:0 [SEP]:0',\n",
        "    pair=f'[CLS]:0 $A:0 [SEP]:0 $B:1 [SEP]:1',\n",
        "    special_tokens=[\n",
        "        ('[CLS]', cls_id),\n",
        "        ('[SEP]', sep_id)\n",
        "    ]\n",
        ")"
      ],
      "metadata": {
        "id": "dP0KW09yseMn"
      },
      "execution_count": null,
      "outputs": []
    },
    {
      "cell_type": "markdown",
      "source": [
        "## **Decoder**"
      ],
      "metadata": {
        "id": "YVpVV3-5shBI"
      }
    },
    {
      "cell_type": "code",
      "source": [
        "from tokenizers import decoders\n",
        "\n",
        "tokenizer.decoder = decoders.WordPiece(prefix='##')"
      ],
      "metadata": {
        "id": "Ko4dgkpxsiN7"
      },
      "execution_count": null,
      "outputs": []
    },
    {
      "cell_type": "markdown",
      "source": [
        "## **Saving the Tokenizer**"
      ],
      "metadata": {
        "id": "8UgtXRAcsoG7"
      }
    },
    {
      "cell_type": "code",
      "source": [
        "from transformers import PreTrainedTokenizerFast\n",
        "\n",
        "# load the tokenizer in a transformers tokenizer instance\n",
        "tokenizer = PreTrainedTokenizerFast(\n",
        "    tokenizer_object=tokenizer,\n",
        "    unk_token='[UNK]',\n",
        "    pad_token='[PAD]',\n",
        "    cls_token='[CLS]',\n",
        "    sep_token='[SEP]',\n",
        "    mask_token='[MASK]'\n",
        ")\n",
        "\n",
        "# save the tokenizer\n",
        "tokenizer.save_pretrained('Kisw-Tokenizer-rdk')"
      ],
      "metadata": {
        "colab": {
          "base_uri": "https://localhost:8080/"
        },
        "id": "qSvAO_x7spbw",
        "outputId": "a8774395-c3c3-4d31-997a-2e52b7856a5f"
      },
      "execution_count": null,
      "outputs": [
        {
          "output_type": "execute_result",
          "data": {
            "text/plain": [
              "('Kisw-Tokenizer-rdk/tokenizer_config.json',\n",
              " 'Kisw-Tokenizer-rdk/special_tokens_map.json',\n",
              " 'Kisw-Tokenizer-rdk/tokenizer.json')"
            ]
          },
          "metadata": {},
          "execution_count": 37
        }
      ]
    },
    {
      "cell_type": "markdown",
      "source": [
        "## **Using the Tokenizer**"
      ],
      "metadata": {
        "id": "VTlJIdG-s7lq"
      }
    },
    {
      "cell_type": "code",
      "source": [
        "tokenizer = PreTrainedTokenizerFast.from_pretrained('Kisw-Tokenizer-rdk')"
      ],
      "metadata": {
        "id": "looh136Ks9r0"
      },
      "execution_count": null,
      "outputs": []
    },
    {
      "cell_type": "code",
      "source": [
        "tokenizer(\"Ilikuwa wakati wa jioni jua limepunguza udhia wake na upepo mwanana ulikuwa ukipita na kuzipapasa ngozi zetu mfano wa pamba\")"
      ],
      "metadata": {
        "colab": {
          "base_uri": "https://localhost:8080/"
        },
        "id": "W-gnjWUOtnEF",
        "outputId": "c9e759fb-e697-4c1e-ae9b-c3e943bef6f9"
      },
      "execution_count": null,
      "outputs": [
        {
          "output_type": "execute_result",
          "data": {
            "text/plain": [
              "{'input_ids': [2, 0, 0, 0, 0, 0, 0, 0, 0, 11, 20, 0, 0, 0, 0, 11, 20, 0, 0, 0, 0, 0, 0, 3], 'token_type_ids': [0, 0, 0, 0, 0, 0, 0, 0, 0, 0, 0, 0, 0, 0, 0, 0, 0, 0, 0, 0, 0, 0, 0, 0], 'attention_mask': [1, 1, 1, 1, 1, 1, 1, 1, 1, 1, 1, 1, 1, 1, 1, 1, 1, 1, 1, 1, 1, 1, 1, 1]}"
            ]
          },
          "metadata": {},
          "execution_count": 39
        }
      ]
    },
    {
      "cell_type": "markdown",
      "source": [
        "# **So, my dataset is the one with the issue.**"
      ],
      "metadata": {
        "id": "lmdG_j62uV2I"
      }
    },
    {
      "cell_type": "markdown",
      "source": [
        "# **Tokenizer Test 2**"
      ],
      "metadata": {
        "id": "eUf9y3baWtdD"
      }
    },
    {
      "cell_type": "markdown",
      "source": [
        "## **Loading data**"
      ],
      "metadata": {
        "id": "a15vAp-tWwFZ"
      }
    },
    {
      "cell_type": "markdown",
      "source": [
        "Loading my text data\n",
        "\n",
        "\n",
        "*   https://stackoverflow.com/questions/21546739/load-data-from-txt-with-pandas\n",
        "*   List item\n",
        "\n"
      ],
      "metadata": {
        "id": "5ACn4p1ZaIIa"
      }
    },
    {
      "cell_type": "code",
      "source": [
        "df = pd.read_fwf('/content/Kiswdata1.txt')"
      ],
      "metadata": {
        "id": "H3XFPxR9YQMp"
      },
      "execution_count": 3,
      "outputs": []
    },
    {
      "cell_type": "code",
      "source": [
        "print(df)"
      ],
      "metadata": {
        "colab": {
          "base_uri": "https://localhost:8080/"
        },
        "id": "9P5xl1GoYWwk",
        "outputId": "58cd0f66-f1f9-45e6-8cb9-49ad3fd274e8"
      },
      "execution_count": 4,
      "outputs": [
        {
          "output_type": "stream",
          "name": "stdout",
          "text": [
            "   Mhadhiri Denis Skopin (kushoto)  akiwa ameshikilia karatasi zake za  \\\n",
            "0  Dikteta wa Soviet Joseph Stalin  amepitia aina  fulani ya ukarabati   \n",
            "\n",
            "   kufukuzwa kutoka Chuo  Kikuu cha  \\\n",
            "0  katika Urusi ya Putin  - unaweza   \n",
            "\n",
            "   Jimbo la St PetersburgKatika nyumba yake ya St  \\\n",
            "0  hata kununua bidhaa za Stalin.Mhadhiri wa chuo   \n",
            "\n",
            "   Petersburg, mhadhiri wa chuo kikuu  \\\n",
            "0  kikuu aliyefutwa kazi Denis Skopin   \n",
            "\n",
            "  Denis Skopin ananionyesha hati ambayo imebadilisha maisha  \\\n",
            "0  amesoma miaka ya Stalin. Anaona uwiano kati ya...          \n",
            "\n",
            "  yake.Maelekezo: \"Maelekezo No.87/2D. Kuhusu: Kufutwa kazi.\"Hadi  hivi  \\\n",
            "0  na sasa.\"Nimetoka kuchapisha kitabu kwa Kiinge...               watu   \n",
            "\n",
            "   majuzi Denis  ... kusahau madoa ya.23 umwagaji damu ya.24 historia ya.25  \\\n",
            "0  wa  Urusi ya  ...     NaN   NaN   NaN      NaN  NaN   NaN      NaN   NaN   \n",
            "\n",
            "  nchi.1 yetu.\"  \n",
            "0    NaN    NaN  \n",
            "\n",
            "[1 rows x 402 columns]\n"
          ]
        }
      ]
    },
    {
      "cell_type": "markdown",
      "source": [
        "## **Train**"
      ],
      "metadata": {
        "id": "CwclTsYeYi2n"
      }
    },
    {
      "cell_type": "markdown",
      "source": [
        "\n",
        "\n",
        "*   Laoding libariries from previous test.\n",
        "*   I will just implment the necessary script here those dependencies are executed.\n",
        "\n"
      ],
      "metadata": {
        "id": "2W0eiq5_YkVe"
      }
    },
    {
      "cell_type": "code",
      "source": [
        "tokenizer.train_from_iterator(df, trainer=trainer)"
      ],
      "metadata": {
        "id": "LbUnohEYYvS8"
      },
      "execution_count": 13,
      "outputs": []
    },
    {
      "cell_type": "markdown",
      "source": [
        "## **Post Processing**"
      ],
      "metadata": {
        "id": "Q3vkCvv1ZFtR"
      }
    },
    {
      "cell_type": "code",
      "source": [
        "from tokenizers import processors\n",
        "\n",
        "# first we get the token ID values (defined in the vocab) for CLS and SEP\n",
        "cls_id = tokenizer.token_to_id('[CLS]')\n",
        "sep_id = tokenizer.token_to_id('[SEP]')\n",
        "\n",
        "# then setup the post processing step with TemplateProcessing\n",
        "tokenizer.post_processor = processors.TemplateProcessing(\n",
        "    single=f'[CLS]:0 $A:0 [SEP]:0',\n",
        "    pair=f'[CLS]:0 $A:0 [SEP]:0 $B:1 [SEP]:1',\n",
        "    special_tokens=[\n",
        "        ('[CLS]', cls_id),\n",
        "        ('[SEP]', sep_id)\n",
        "    ]\n",
        ")"
      ],
      "metadata": {
        "id": "eH4oqzzXZH_Y"
      },
      "execution_count": 14,
      "outputs": []
    },
    {
      "cell_type": "markdown",
      "source": [
        "## **Decode**"
      ],
      "metadata": {
        "id": "69Q2rKv1ZNKY"
      }
    },
    {
      "cell_type": "code",
      "source": [
        "from tokenizers import decoders\n",
        "\n",
        "tokenizer.decoder = decoders.WordPiece(prefix='##')"
      ],
      "metadata": {
        "id": "NVgIfwSdZO14"
      },
      "execution_count": 15,
      "outputs": []
    },
    {
      "cell_type": "markdown",
      "source": [
        "## **Saving the Tokenizer**"
      ],
      "metadata": {
        "id": "5IZ_flbdZSdo"
      }
    },
    {
      "cell_type": "code",
      "source": [
        "from transformers import PreTrainedTokenizerFast\n",
        "\n",
        "# load the tokenizer in a transformers tokenizer instance\n",
        "tokenizer = PreTrainedTokenizerFast(\n",
        "    tokenizer_object=tokenizer,\n",
        "    unk_token='[UNK]',\n",
        "    pad_token='[PAD]',\n",
        "    cls_token='[CLS]',\n",
        "    sep_token='[SEP]',\n",
        "    mask_token='[MASK]'\n",
        ")\n",
        "\n",
        "# save the tokenizer\n",
        "tokenizer.save_pretrained('Kisw-Tokenizer-rdk2')"
      ],
      "metadata": {
        "colab": {
          "base_uri": "https://localhost:8080/"
        },
        "id": "GhVeIc7XZWr4",
        "outputId": "6be7adca-de11-4092-b49f-240955201e91"
      },
      "execution_count": 16,
      "outputs": [
        {
          "output_type": "execute_result",
          "data": {
            "text/plain": [
              "('Kisw-Tokenizer-rdk2/tokenizer_config.json',\n",
              " 'Kisw-Tokenizer-rdk2/special_tokens_map.json',\n",
              " 'Kisw-Tokenizer-rdk2/tokenizer.json')"
            ]
          },
          "metadata": {},
          "execution_count": 16
        }
      ]
    },
    {
      "cell_type": "markdown",
      "source": [
        "## **Using the Tokenizer**"
      ],
      "metadata": {
        "id": "JMxklaOlZgog"
      }
    },
    {
      "cell_type": "code",
      "source": [
        "tokenizer = PreTrainedTokenizerFast.from_pretrained('Kisw-Tokenizer-rdk2')"
      ],
      "metadata": {
        "id": "ptmE75nsZhxs"
      },
      "execution_count": 17,
      "outputs": []
    },
    {
      "cell_type": "code",
      "source": [
        "tokenizer(\"Ilikuwa wakati wa jioni jua limepunguza udhia wake na upepo mwanana ulikuwa ukipita na kuzipapasa ngozi zetu mfano wa pamba\")"
      ],
      "metadata": {
        "colab": {
          "base_uri": "https://localhost:8080/"
        },
        "id": "s1c0ywFVZp_y",
        "outputId": "10f78fdb-5819-471a-9231-2e515b485b26"
      },
      "execution_count": 18,
      "outputs": [
        {
          "output_type": "execute_result",
          "data": {
            "text/plain": [
              "{'input_ids': [2, 219, 211, 343, 87, 283, 265, 36, 299, 38, 57, 151, 55, 403, 134, 161, 46, 224, 51, 308, 104, 46, 396, 251, 286, 102, 102, 46, 89, 211, 246, 57, 222, 110, 104, 90, 109, 297, 297, 140, 40, 250, 109, 50, 54, 114, 39, 225, 66, 87, 383, 126, 3], 'token_type_ids': [0, 0, 0, 0, 0, 0, 0, 0, 0, 0, 0, 0, 0, 0, 0, 0, 0, 0, 0, 0, 0, 0, 0, 0, 0, 0, 0, 0, 0, 0, 0, 0, 0, 0, 0, 0, 0, 0, 0, 0, 0, 0, 0, 0, 0, 0, 0, 0, 0, 0, 0, 0, 0], 'attention_mask': [1, 1, 1, 1, 1, 1, 1, 1, 1, 1, 1, 1, 1, 1, 1, 1, 1, 1, 1, 1, 1, 1, 1, 1, 1, 1, 1, 1, 1, 1, 1, 1, 1, 1, 1, 1, 1, 1, 1, 1, 1, 1, 1, 1, 1, 1, 1, 1, 1, 1, 1, 1, 1]}"
            ]
          },
          "metadata": {},
          "execution_count": 18
        }
      ]
    },
    {
      "cell_type": "markdown",
      "source": [
        "# **SUCCESSS!!!!**"
      ],
      "metadata": {
        "id": "CpumTLSqZwfu"
      }
    },
    {
      "cell_type": "markdown",
      "source": [
        "![01.PNG](data:image/png;base64,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)"
      ],
      "metadata": {
        "id": "aS41dGScZ0CM"
      }
    },
    {
      "cell_type": "code",
      "source": [],
      "metadata": {
        "id": "wxreBEFSZ9DA"
      },
      "execution_count": null,
      "outputs": []
    }
  ]
}