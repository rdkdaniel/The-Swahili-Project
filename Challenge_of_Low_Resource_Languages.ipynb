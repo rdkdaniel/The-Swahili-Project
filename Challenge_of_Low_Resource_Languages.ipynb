{
  "nbformat": 4,
  "nbformat_minor": 0,
  "metadata": {
    "colab": {
      "provenance": [],
      "authorship_tag": "ABX9TyMWyEi7vHSGvOb3I8cdnKgU",
      "include_colab_link": true
    },
    "kernelspec": {
      "name": "python3",
      "display_name": "Python 3"
    },
    "language_info": {
      "name": "python"
    }
  },
  "cells": [
    {
      "cell_type": "markdown",
      "metadata": {
        "id": "view-in-github",
        "colab_type": "text"
      },
      "source": [
        "<a href=\"https://colab.research.google.com/github/rdkdaniel/The-Swahili-Project/blob/main/Challenge_of_Low_Resource_Languages.ipynb\" target=\"_parent\"><img src=\"https://colab.research.google.com/assets/colab-badge.svg\" alt=\"Open In Colab\"/></a>"
      ]
    },
    {
      "cell_type": "markdown",
      "source": [
        "# **1. Data**"
      ],
      "metadata": {
        "id": "TiLM2oD8zMZW"
      }
    },
    {
      "cell_type": "code",
      "execution_count": null,
      "metadata": {
        "id": "7mDiwaxzzG5X"
      },
      "outputs": [],
      "source": [
        "#https://mlops.community/a-quick-guide-to-low-resource-nlp/\n",
        "#https://medium.com/neuralspace/challenges-in-using-nlp-for-low-resource-languages-and-how-neuralspace-solves-them-54a01356a71b"
      ]
    },
    {
      "cell_type": "markdown",
      "source": [
        "# **2. Overcoming the Challenge**"
      ],
      "metadata": {
        "id": "NvlrmBGV1kIk"
      }
    },
    {
      "cell_type": "code",
      "source": [
        "#Label data myself?\n",
        "#Transfer learning?\n",
        "#What of multilingual learning?\n",
        "#Data augmentation - there is already little data, augmenting it may be of little help"
      ],
      "metadata": {
        "id": "gdEFGgfd1ocA"
      },
      "execution_count": null,
      "outputs": []
    },
    {
      "cell_type": "markdown",
      "source": [
        "Go through this paper: BUILDING TEXT AND SPEECH DATASETS FOR LOW\n",
        "RESOURCED LANGUAGES: A CASE OF LANGUAGES IN\n",
        "EAST AFRICA\n",
        "\n",
        "Should we write a paper on data collection alone?"
      ],
      "metadata": {
        "id": "jd5RRfZaSAXj"
      }
    },
    {
      "cell_type": "code",
      "source": [
        "#In the paper above, data was collected through translation of text where human verifications are also mentioned. \n",
        "#This process had two teams, translators and validators."
      ],
      "metadata": {
        "id": "kEJ_teDD6LFv"
      },
      "execution_count": null,
      "outputs": []
    },
    {
      "cell_type": "code",
      "source": [
        "#Check this out:TyDiQA"
      ],
      "metadata": {
        "id": "7kDicB87lDiD"
      },
      "execution_count": null,
      "outputs": []
    },
    {
      "cell_type": "markdown",
      "source": [
        "Borrowed: \"Kencorpus is a corpus of three Kenyan languages created through funding by the Lacuna fund \n",
        "of the Meridian Institute USA.  The purpose of the ***Lacuna fund*** is to facilitate collection of \n",
        "data  of  low  resource  languages,  both  text  and  voice,  for  purposes  of  documenting  and \n",
        "resourcing such languages to benefit the research community.\" "
      ],
      "metadata": {
        "id": "Unor2JbclM-K"
      }
    }
  ]
}