{
  "nbformat": 4,
  "nbformat_minor": 0,
  "metadata": {
    "colab": {
      "provenance": [],
      "mount_file_id": "https://github.com/rdkdaniel/The-Swahili-Project/blob/main/Kiswahili_Datasets.ipynb",
      "authorship_tag": "ABX9TyM37JbEDmcoy51vIw6DHxhR",
      "include_colab_link": true
    },
    "kernelspec": {
      "name": "python3",
      "display_name": "Python 3"
    },
    "language_info": {
      "name": "python"
    }
  },
  "cells": [
    {
      "cell_type": "markdown",
      "metadata": {
        "id": "view-in-github",
        "colab_type": "text"
      },
      "source": [
        "<a href=\"https://colab.research.google.com/github/rdkdaniel/The-Swahili-Project/blob/main/Kiswahili_Datasets.ipynb\" target=\"_parent\"><img src=\"https://colab.research.google.com/assets/colab-badge.svg\" alt=\"Open In Colab\"/></a>"
      ]
    },
    {
      "cell_type": "markdown",
      "source": [
        "# **Kiswahili Under a Natural Language Processing Lens**"
      ],
      "metadata": {
        "id": "keODTuBFir9P"
      }
    },
    {
      "cell_type": "markdown",
      "source": [
        "**Introduction**\n",
        "\n",
        "\n",
        "*   This notebook shows how data was collected for the project, wose title is stated above.\n",
        "*   Web scrapping was done using Beautiful Soup.\n",
        "*   A total of # website were used in this process of data collection.\n",
        "*   This data collection method led to # data point/items/whatever terminology is best.\n",
        "\n",
        "\n",
        "\n"
      ],
      "metadata": {
        "id": "c265aOUyjAnn"
      }
    },
    {
      "cell_type": "markdown",
      "source": [
        "# **Data Collection**"
      ],
      "metadata": {
        "id": "8QaHC_7NjwHe"
      }
    },
    {
      "cell_type": "markdown",
      "source": [
        "## **1.0 The Libraries**"
      ],
      "metadata": {
        "id": "1Bri2D2zj3QF"
      }
    },
    {
      "cell_type": "code",
      "execution_count": null,
      "metadata": {
        "colab": {
          "base_uri": "https://localhost:8080/"
        },
        "id": "_8XOUGLQhW95",
        "outputId": "aad0fb64-f70f-4c31-f5cc-d86cd2cbbb8c"
      },
      "outputs": [
        {
          "output_type": "stream",
          "name": "stdout",
          "text": [
            "Looking in indexes: https://pypi.org/simple, https://us-python.pkg.dev/colab-wheels/public/simple/\n",
            "Requirement already satisfied: requests in /usr/local/lib/python3.7/dist-packages (2.23.0)\n",
            "Requirement already satisfied: chardet<4,>=3.0.2 in /usr/local/lib/python3.7/dist-packages (from requests) (3.0.4)\n",
            "Requirement already satisfied: urllib3!=1.25.0,!=1.25.1,<1.26,>=1.21.1 in /usr/local/lib/python3.7/dist-packages (from requests) (1.24.3)\n",
            "Requirement already satisfied: certifi>=2017.4.17 in /usr/local/lib/python3.7/dist-packages (from requests) (2022.9.24)\n",
            "Requirement already satisfied: idna<3,>=2.5 in /usr/local/lib/python3.7/dist-packages (from requests) (2.10)\n",
            "Looking in indexes: https://pypi.org/simple, https://us-python.pkg.dev/colab-wheels/public/simple/\n",
            "Requirement already satisfied: beautifulsoup4 in /usr/local/lib/python3.7/dist-packages (4.6.3)\n"
          ]
        }
      ],
      "source": [
        "!pip install requests\n",
        "!pip install beautifulsoup4"
      ]
    },
    {
      "cell_type": "markdown",
      "source": [
        "## **2.0 Inspecting the Websites**"
      ],
      "metadata": {
        "id": "3C4MyCEikNOv"
      }
    },
    {
      "cell_type": "markdown",
      "source": [
        "\n",
        "\n",
        "*   All the website that were used to scrap text data were inspected at this stage.\n",
        "*   This step helped identify the section where relevant text data was placed and the elements (tags, class names etc) used to hold it.\n",
        "\n"
      ],
      "metadata": {
        "id": "--rRoiM8kRKE"
      }
    },
    {
      "cell_type": "markdown",
      "source": [
        "## **3.0 Parsing HTML Pages with Beautiful Soup**"
      ],
      "metadata": {
        "id": "TMw5tlXnkmqZ"
      }
    },
    {
      "cell_type": "code",
      "source": [
        "from bs4 import BeautifulSoup\n",
        "#import requests library\n",
        "import requests\n",
        "#the website URL\n",
        "url_link = \"https://www.bbc.com/swahili/articles/crg3pvn4m79o\"\n",
        "result = requests.get(url_link).text\n",
        "doc = BeautifulSoup(result, \"html.parser\")\n",
        "\n",
        "#print(doc.prettify())\n",
        "#Content is too heavy"
      ],
      "metadata": {
        "id": "pytMqMhQk0_5"
      },
      "execution_count": null,
      "outputs": []
    },
    {
      "cell_type": "markdown",
      "source": [
        "## **4.0 Accessing Text Data Using Class and ID Tags**"
      ],
      "metadata": {
        "id": "m5RFtr21lAnI"
      }
    },
    {
      "cell_type": "code",
      "source": [
        "res = doc.find(id = \"main-wrapper\")"
      ],
      "metadata": {
        "id": "jvIW2hn-lM5V"
      },
      "execution_count": null,
      "outputs": []
    },
    {
      "cell_type": "code",
      "source": [
        "heading = res.find(class_ = \"e2un9en2 bbc-klixw8 ebmt73l0\")\n",
        "print(heading.text)"
      ],
      "metadata": {
        "colab": {
          "base_uri": "https://localhost:8080/"
        },
        "id": "xzJvAOpNlqYe",
        "outputId": "97ccbb9d-c4a7-4f26-bf0e-b6b732f1b55a"
      },
      "execution_count": null,
      "outputs": [
        {
          "output_type": "stream",
          "name": "stdout",
          "text": [
            " Vita vya Ukraine:Hofu ya zama za Soviet yarejea Urusi Maelezo ya picha, Mhadhiri Denis Skopin (kushoto) akiwa ameshikilia karatasi zake za kufukuzwa kutoka Chuo Kikuu cha Jimbo la St Petersburg2 Novemba 2022Katika nyumba yake ya St Petersburg, mhadhiri wa chuo kikuu Denis Skopin ananionyesha hati ambayo imebadilisha maisha yake.Maelekezo: \"Maelekezo No.87/2D. Kuhusu: Kufutwa kazi.\"Hadi hivi majuzi Denis alikuwa profesa msaidizi katika Kitivo cha Sanaa ya Kiliberali na Sayansi ya Chuo Kikuu cha Jimbo la St Petersburg. Lakini tarehe 20 Oktoba chuo kikuu kilimfukuza kazi kwa \"kitendo cha ukosefu wa maadili  ambacho hakiendani na kazi za elimu\".Hiki kinachoitwa kitendo kisicho cha madili kilikuwa ni nini? Kushiriki katika mkutano \"usioidhinishwa\".Tarehe 21 Septemba Denis alijiunga na maandamano ya mitaani kupinga uamuzi wa Kremlin kuwaandikisha Warusi kupigana nchini Ukraine. Mapema siku hiyo, Rais Vladimir Putin alikuwa ametangaza \"uhamasishaji wa sehemu\" kote nchini. Wakati wa maandamano Denis alikamatwa na kukaa jela siku 10.\"Uhuru wa kujieleza nchini Urusi uko katika mgogoro,\" Denis ananiambia. \"Aina zote za uhuru ziko katika shida kubwa.\"\"Baada ya kuachiliwa kutoka kizuizini nilifanya kazi kwa wiki tatu zaidi, chuo kikuu kilinitumia barua za kunitaka nieleze kutokuwepo kwangu. Nilijibu kuwa nimekamatwa kwa kushiriki maandamano na kuwekwa kizuizini. Kisha Idara ya Rasilimali Watu alinipigia simu na kuniambia kuwa nimefukuzwa kazi.\"Siku yake ya mwisho kazini, wanafunzi wa Denis walikusanyika nje ya chuo kikuu kumuaga.Katika hotuba ya papo hapo (video iliwekwa mtandaoni) aliwaambia:\"Kitendo kisicho na maadili  ni nini? Kutenda kinyume na dhamiri yako na kutii maagizo ya mtu mwingine bila kusita. Nilitenda kulingana na dhamiri yangu. Nina hakika kwamba mustakabali wa nchi yetu ni wako.\" Wanafunzi waliangua makofi kwa mwalimu wao aliyefukuzwa kazi.\"Ninawapenda sana wanafunzi wangu,\" Denis ananiambia. \"Wana akili sana na wanaelewa vizuri kile kinachotokea sasa nchini Urusi. [Onyesho lao] la idhini haikuwa kwangu mimi binafsi. Badala yake, ilikuwa ni kutokubali kile kinachotokea sasa nchini Urusi.\"Watu wengi nchini Urusi hawathubutu kuandamana kwa sababu wana hatari ya kuadhibiwa kwa hilo. Lakini wengi wangependa kufanya hivyo. Na, kwa watu hawa, kutoa idhini kwa wale wanaofanya maandamano ni njia ya kutokubaliana na kile kinachotokea nchini Urusi. \" Maelezo ya picha, Denis anasema robo ya wenzake wameondoka Urusi tangu uvamizi wake kamili wa UkraineHadithi ya Denis Skopin haiangazii shinikizo tu ambalo wapinzani wa \"operesheni maalum ya kijeshi\" ya Kremlin wanakabiliwa hapa. Pia inazua maswali kuhusu mustakabali wa Urusi.\"Waliofungiwa nami katika kituo cha kizuizini kulikuwa na wataalamu wa IT, wanasayansi, madaktari, walimu na wanafunzi. Wengi wao sasa wako nje ya nchi. Kama mwenzangu mwenzangu, mwanahisabati kijana mwenye kipawa. \"Takriban 25% ya wenzangu wa karibu tayari wameondoka Urusi. Waliondoka baada ya Februari 24. Baadhi yao waliondoka mara moja, wengine waliondoka baada ya kutangazwa kwa uhamasishaji. Nadhani Urusi inapoteza watu bora sasa. Waliosoma zaidi, wenye nguvu zaidi. watu wanaofikiria sana wanaondoka nchini. Kwa kifupi, Urusi inaenda katika mwelekeo mbaya.\"Wakati ujao usio na uhakika sio tu matokeo ya sasa. Pia ni bidhaa ya zamani ya Urusi.Katika mji mzima kikundi kidogo cha wakaazi wa St Petersburg kimesimama kando ya mnara wa wahasiriwa wa Ugaidi Mkuu wa Joseph Stalin wa miaka ya 1930.Mnara huo umetengenezwa kwa mwamba mkubwa kutoka Visiwa vya Solovetsky vilivyo mbali, nyumbani kwa kambi moja ya kulazimishwa ya kulazimishwa ya Gulag. Kambi ya Solovki iliwekwa ili kuwafunga wafungwa wa kisiasa pamoja na wafungwa wengine.Watu wanapanga foleni kwenye maikrofoni. Wanachukua zamu kusoma majina ya watu waliokamatwa, kulaumiwa na kunyongwa ndani na karibu na St Petersburg.\"Ekaterina Gansovna. Umri: 46. Mfanyakazi wa Posta.Alikamatwa: Desemba 9, 1937.Alipigwa risasi tarehe  18 Januari 1938.Julia Stanislavovna. Umri: 41. Meneja wa Akaunti za Kiwanda Alikamatwa: Septemba 27, 1937.Alipigwa risasi: 21 Desemba 1937.\"Maelezo ya picha, Katika Mnara  huko St Petersburg, watu walisoma majina ya wahasiriwa wa Ugaidi mkuu wa StalinInafahamika kwamba dikteta wa Sovieti Stalin aliagiza  milioni ya raia wake kuuawa. Mamilioni zaidi ya maisha yaliharibiwa katika mashine yake ya ugaidi ambayo ilisababisha kukamatwa, kufukuzwa nchini na kufanya kazi ya kulazimishwa kwa watu wengi. Baadhi ya warithi wake, kama Nikita Khrushchev na Mikhail Gorbachev, walishutumu uhalifu wa Stalin.Mamlaka leo huweka msisitizo mdogo kwenye sura za giza za miaka ya Stalin, wakati Stalin mwenyewe mara nyingi anaonyeshwa kama shujaa ambaye alishinda Ujerumani ya Nazi na kugeuza Umoja wa Kisovieti kuwa nguvu kuu. Kremlin ya Putin inatafuta mazuri katika siku za nyuma - ushindi.\"Kwa bahati mbaya, nchi yetu haikufungua ukurasa huu vizuri. Ukandamizaji wa Stalin haukuzungumzwa vya kutosha au kulaaniwa kikamilifu. Hii ndiyo sababu vita vya Ukraine vinatokea leo,\" anasema Pensioner Ludmila, ambaye amekuja kuweka maua kwenye jiwe la  Solovki. \"Uzoefu unaonyesha kuwa kukaa kimya kunasababisha mambo mabaya. Hatupaswi kusahau madoa ya umwagaji damu ya historia ya nchi yetu.\"Maelezo ya picha, \n",
            "Dikteta wa Soviet Joseph Stalin amepitia aina  fulani ya ukarabati katika Urusi ya Putin - unaweza hata kununua bidhaa za Stalin.Mhadhiri wa chuo kikuu aliyefutwa kazi Denis Skopin amesoma miaka ya Stalin. Anaona uwiano kati ya wakati huo na sasa.\"Nimetoka kuchapisha kitabu kwa Kiingereza kuhusu jinsi watu wa  Urusi ya Stalin walivyowaondoa kwenye picha za pamoja wale waliotangazwa 'adui wa watu'. Wenzake, marafiki au hata ndugu wa karibu walilazimika kuondoa ishara zote za watu hao kwenye picha. Walifanya hivyo na mkasi na kwa wino.\"Kitivo nilichofundisha kilikuwa na ushirikiano na Chuo cha Bard, chuo cha sanaa huria cha Marekani. Mwaka jana Chuo cha Bard kilitangazwa kuwa 'shirika lisilofaa' nchini Urusi. Kwa hiyo, kitivo chetu kilivunja ushirikiano na jina la Chuo cha Bard likaondolewa kwenye vituo. inavyoonyeshwa kwenye korido za kitivo chetu kwa kutumia wino mweusi haswa. Kwa njia sawa na katika Urusi ya Stalin.\"Ikiwa, kama Denis anavyodai, wanafunzi wake \"wanaelewa vizuri sana\" kile kinachotokea Urusi na Ukraine, hilo linazua swali: ikiwa Warusi wachanga hawatashawishika na hoja za Kremlin, mamlaka itawashawishije umma kwa muda mrefu kufanya maandamano. bendera na kumuunga mkono rais?Jibu: kwa kuhakikisha vijana \"wanaelewa\" matukio kama Kremlin inavyofanya.Ili kusaidia kufikia hilo, somo jipya la uzalendo limeanzishwa katika shule kote Urusi kwa watoto wote wa shule: \"Mazungumzo Kuhusu Mambo Muhimu.\" Si sehemu ya mtaala rasmi, lakini ni somo la kwanza siku ya Jumatatu asubuhi na watoto wanahimizwa sana kuhudhuria.Ni \"mambo gani muhimu\" yanayojadiliwa hapo? Naam, wakati Rais Putin alipokuwa mwalimu huko Kaliningrad mnamo Septemba, aliambia kundi la watoto kwamba lengo la mashambulizi ya Urusi huko Ukraine ni \"kuilinda Urusi\" na alielezea Ukraine kama \"kinga dhidi ya Urusi.\" Unaweza kuona ni njia gani \"Mazungumzo\"  Maelezo ya picha, Olga Milovidova anasema \"elimu ya kulazimishwa\" inamkumbusha enzi ya Soviet\"Hii ni elimu ya kulazimishwa. Kwa akili yangu hii ni hatari kama ilivyokuwa nyakati za Soviet wakati tulikuwa na masomo ya 'habari za kisiasa',\" anasema mwalimu wa St Petersburg Olga Milovidova, ambaye alistaafu mwezi uliopita. \"Katika siku hizo ilitubidi kusoma gazeti la Pravda. Na nakumbuka tulilazimika kusoma vitabu vya [kiongozi wa Soviet] Brezhnev kana kwamba ni kazi bora. Ilibidi tutoe maoni chanya tu. Hakukuwa na mjadala muhimu.\"Elimu na uzalendo hazipaswi kuunganishwa,\" anaamini Olga, ambaye alikuwa naibu mkurugenzi wa shule. \"Kuna watoto wanaamini tu. Hufumbua macho na wako tayari kuamini chochote. Hiyo ni hatari sana.\"Mada zinazohusianaUkraineUkraine vitaUnaweza pia kusoma﻿Shambulio la Sevastopol: Fahamu jinsi ndege zisizo na rubani za Ukraine zilivyoshambulia Meli za Urusi 2 Novemba 2022Vita vya Ukraine: Simulizi  za uvumilivu na machungu 2 Novemba 2022Je ni kweli wanajeshi wa NATO wanapigana Ukraine?﻿22 Septemba 2022Habari kuuMoja kwa moja Marekani na Uhispania kuipatia Ukraine mifumo mipya na ya kisasa ya ulinzi wa angaSaa 3 zilizopitaAlaa Abdel Fattah, ‘mfungwa mashuhuri’ wa Misri ni nani?Saa 1 iliyopitaT﻿etesi za soka Ulaya 11.11.2022Saa 3 zilizopitaGumzo mitandaoniD﻿R Congo: Je taifa hili limelaaniwa na utajiri wake?9 Novemba 2022Zifahamu ajali 5 mbaya zaidi kuwahi kutokea Tanzania  9 Novemba 2022Kijana akamatwa baada ya kumrushia mayai Mfalme Charles10 Novemba 2022Mzozo wa Ukraine: Urusi yaamua kuwaondoa wanajeshi wake mjini Kherson9 Novemba 2022Dhana 5 potofu kuhusu mabadiliko ya tabia nchi9 Novemba 2022Wanawake wanaweza kuwa na afya bora ya ngono ikiwa watapata usingizi wa kutosha-Utafiti9 Novemba 2022Ifahamu aina ya ndege iliohusika na ajali Tanzania8 Novemba 2022'Tungefanikiwa tu kuvunja kioo,nina imani wote wangekuwa salama'-Mvuvi7 Novemba 2022Uchaguzi wa Marekani : Warepublican wana matumaini ya ushindi katika Bunge la wawakilishi9 Novemba 2022\n"
          ]
        }
      ]
    },
    {
      "cell_type": "markdown",
      "source": [
        "## **5.0 Writing Data to Text File**"
      ],
      "metadata": {
        "id": "-mqBSSAAmHOJ"
      }
    },
    {
      "cell_type": "code",
      "source": [
        "!pip install bs4\n",
        "!pip install urllib3"
      ],
      "metadata": {
        "colab": {
          "base_uri": "https://localhost:8080/"
        },
        "id": "MS1cwrQWvF34",
        "outputId": "03ed7093-4910-4ce1-dcf2-84b4140fdf7f"
      },
      "execution_count": null,
      "outputs": [
        {
          "output_type": "stream",
          "name": "stdout",
          "text": [
            "Looking in indexes: https://pypi.org/simple, https://us-python.pkg.dev/colab-wheels/public/simple/\n",
            "Requirement already satisfied: bs4 in /usr/local/lib/python3.7/dist-packages (0.0.1)\n",
            "Requirement already satisfied: beautifulsoup4 in /usr/local/lib/python3.7/dist-packages (from bs4) (4.6.3)\n",
            "Looking in indexes: https://pypi.org/simple, https://us-python.pkg.dev/colab-wheels/public/simple/\n",
            "Requirement already satisfied: urllib3 in /usr/local/lib/python3.7/dist-packages (1.24.3)\n"
          ]
        }
      ]
    },
    {
      "cell_type": "markdown",
      "source": [
        "**Downloaded data again, as it seem to go blank after restarting the notebook.**\n",
        "\n"
      ],
      "metadata": {
        "id": "I9fmiiWnXfSw"
      }
    },
    {
      "cell_type": "code",
      "source": [
        "import urllib.request\n",
        "from bs4 import BeautifulSoup\n",
        "\n",
        "# here we have to pass url and path\n",
        "# (where you want to save ur text file)\n",
        "urllib.request.urlretrieve(\"https://www.bbc.com/swahili/articles/crg3pvn4m79o\",\n",
        "\t\t\t\t\t\t\"/content/drive/MyDrive/Kiswahili_Dataset/parsing files/kisw.txt\")\n",
        "\n",
        "file = open(\"/content/drive/MyDrive/Kiswahili_Dataset/parsing files/kisw.txt\", \"r\")\n",
        "contents = file.read()\n",
        "soup = BeautifulSoup(contents, 'html.parser')\n",
        "\n",
        "f = open(\"/content/drive/MyDrive/Kiswahili_Dataset/Kiswahili_data1.txt\", \"w\")\n",
        "\n",
        "# traverse paragraphs from soup\n",
        "for data in soup.find_all(\"p\"):\n",
        "\tsum = data.get_text()\n",
        "\tf.writelines(sum)\n",
        "\n",
        "f.close()"
      ],
      "metadata": {
        "id": "DA9Ou_dNW8XB"
      },
      "execution_count": null,
      "outputs": []
    },
    {
      "cell_type": "markdown",
      "source": [
        "## **6.0 Doing These Steps on Other Websites**"
      ],
      "metadata": {
        "id": "cIwvkhC69iaE"
      }
    },
    {
      "cell_type": "markdown",
      "source": [
        "### **Website 1**"
      ],
      "metadata": {
        "id": "5Flci4Lm-ZAh"
      }
    },
    {
      "cell_type": "code",
      "source": [
        "import urllib.request\n",
        "from bs4 import BeautifulSoup\n",
        "\n",
        "# here we have to pass url and path\n",
        "# (where you want to save ur text file)\n",
        "urllib.request.urlretrieve(\"https://knecnotes.co.ke/2022/09/08/kcse-past-papers-2021-kiswahili-karatasi-ya-2-102-2/\",\n",
        "\t\t\t\t\t\t\"/content/drive/MyDrive/Kiswahili_Dataset/parsing files/kisw2.txt\")\n",
        "\n",
        "file = open(\"/content/drive/MyDrive/Kiswahili_Dataset/parsing files/kisw2.txt\", \"r\")\n",
        "contents = file.read()\n",
        "soup = BeautifulSoup(contents, 'html.parser')\n",
        "\n",
        "f = open(\"/content/drive/MyDrive/Kiswahili_Dataset/Kiswahili_data2.txt\", \"w\")\n",
        "\n",
        "# traverse paragraphs from soup\n",
        "for data in soup.find_all(\"p\"):\n",
        "\tsum = data.get_text()\n",
        "\tf.writelines(sum)\n",
        "\n",
        "f.close()"
      ],
      "metadata": {
        "id": "cduADC6U9n77"
      },
      "execution_count": null,
      "outputs": []
    },
    {
      "cell_type": "markdown",
      "source": [
        "### **Website 2**"
      ],
      "metadata": {
        "id": "X3Q7xhki-cQv"
      }
    },
    {
      "cell_type": "code",
      "source": [
        "import urllib.request\n",
        "from bs4 import BeautifulSoup\n",
        "\n",
        "# here we have to pass url and path\n",
        "# (where you want to save ur text file)\n",
        "urllib.request.urlretrieve(\"https://knecnotes.co.ke/2022/09/08/kcse-past-papers-2021-kiswahili-karatasi-ya-3-102-3/\",\n",
        "\t\t\t\t\t\t\"/content/drive/MyDrive/Kiswahili_Dataset/parsing files/kisw3.txt\")\n",
        "\n",
        "file = open(\"/content/drive/MyDrive/Kiswahili_Dataset/parsing files/kisw3.txt\", \"r\")\n",
        "contents = file.read()\n",
        "soup = BeautifulSoup(contents, 'html.parser')\n",
        "\n",
        "f = open(\"/content/drive/MyDrive/Kiswahili_Dataset/Kiswahili_data3.txt\", \"w\")\n",
        "\n",
        "# traverse paragraphs from soup\n",
        "for data in soup.find_all(\"p\"):\n",
        "\tsum = data.get_text()\n",
        "\tf.writelines(sum)\n",
        "\n",
        "f.close()"
      ],
      "metadata": {
        "id": "XYII-6e9-ei5"
      },
      "execution_count": null,
      "outputs": []
    },
    {
      "cell_type": "markdown",
      "source": [
        "Plenty of data here: https://knecnotes.co.ke/kiswahili-kenya-certificate-of-secondary-education-k-c-s-e-maswali/"
      ],
      "metadata": {
        "id": "5QNJ-ndQ-3hy"
      }
    },
    {
      "cell_type": "markdown",
      "source": [
        "***The scrapping below was done on KNEC website until link 16***"
      ],
      "metadata": {
        "id": "Ekm0Dh9jkJ2N"
      }
    },
    {
      "cell_type": "markdown",
      "source": [
        "### **More Website/Past Papers**"
      ],
      "metadata": {
        "id": "aCXtQQ4Vjk-P"
      }
    },
    {
      "cell_type": "code",
      "source": [
        "import urllib.request\n",
        "from bs4 import BeautifulSoup\n",
        "\n",
        "# here we have to pass url and path\n",
        "# (where you want to save ur text file)\n",
        "urllib.request.urlretrieve(\"https://knecnotes.co.ke/2022/09/08/kcse-past-papers-2018-kiswahili-paper-2-102-2/\",\n",
        "\t\t\t\t\t\t\"/content/drive/MyDrive/Kiswahili_Dataset/parsing files/kisw4.txt\")\n",
        "\n",
        "file = open(\"/content/drive/MyDrive/Kiswahili_Dataset/parsing files/kisw4.txt\", \"r\")\n",
        "contents = file.read()\n",
        "soup = BeautifulSoup(contents, 'html.parser')\n",
        "\n",
        "f = open(\"/content/drive/MyDrive/Kiswahili_Dataset/Kiswahili_data4.txt\", \"w\")\n",
        "\n",
        "# traverse paragraphs from soup\n",
        "for data in soup.find_all(\"p\"):\n",
        "\tsum = data.get_text()\n",
        "\tf.writelines(sum)\n",
        "\n",
        "f.close()"
      ],
      "metadata": {
        "id": "47zdCfbijvFB"
      },
      "execution_count": null,
      "outputs": []
    },
    {
      "cell_type": "code",
      "source": [
        "import urllib.request\n",
        "from bs4 import BeautifulSoup\n",
        "\n",
        "# here we have to pass url and path\n",
        "# (where you want to save ur text file)\n",
        "urllib.request.urlretrieve(\"https://knecnotes.co.ke/2022/09/08/kcse-past-papers-2018-kiswahili-paper-3-102-3/\",\n",
        "\t\t\t\t\t\t\"/content/drive/MyDrive/Kiswahili_Dataset/parsing files/kisw5.txt\")\n",
        "\n",
        "file = open(\"/content/drive/MyDrive/Kiswahili_Dataset/parsing files/kisw5.txt\", \"r\")\n",
        "contents = file.read()\n",
        "soup = BeautifulSoup(contents, 'html.parser')\n",
        "\n",
        "f = open(\"/content/drive/MyDrive/Kiswahili_Dataset/Kiswahili_data5.txt\", \"w\")\n",
        "\n",
        "# traverse paragraphs from soup\n",
        "for data in soup.find_all(\"p\"):\n",
        "\tsum = data.get_text()\n",
        "\tf.writelines(sum)\n",
        "\n",
        "f.close()"
      ],
      "metadata": {
        "id": "jgQaK5cSkifK"
      },
      "execution_count": null,
      "outputs": []
    },
    {
      "cell_type": "code",
      "source": [
        "import urllib.request\n",
        "from bs4 import BeautifulSoup\n",
        "\n",
        "# here we have to pass url and path\n",
        "# (where you want to save ur text file)\n",
        "urllib.request.urlretrieve(\"https://knecnotes.co.ke/2022/09/08/kcse-past-papers-2017-kiswahili-paper-2-102-2/\",\n",
        "\t\t\t\t\t\t\"/content/drive/MyDrive/Kiswahili_Dataset/parsing files/kisw6.txt\")\n",
        "\n",
        "file = open(\"/content/drive/MyDrive/Kiswahili_Dataset/parsing files/kisw6.txt\", \"r\")\n",
        "contents = file.read()\n",
        "soup = BeautifulSoup(contents, 'html.parser')\n",
        "\n",
        "f = open(\"/content/drive/MyDrive/Kiswahili_Dataset/Kiswahili_data6.txt\", \"w\")\n",
        "\n",
        "# traverse paragraphs from soup\n",
        "for data in soup.find_all(\"p\"):\n",
        "\tsum = data.get_text()\n",
        "\tf.writelines(sum)\n",
        "\n",
        "f.close()"
      ],
      "metadata": {
        "id": "bIl51RMokzyU"
      },
      "execution_count": null,
      "outputs": []
    },
    {
      "cell_type": "code",
      "source": [
        "import urllib.request\n",
        "from bs4 import BeautifulSoup\n",
        "\n",
        "# here we have to pass url and path\n",
        "# (where you want to save ur text file)\n",
        "urllib.request.urlretrieve(\"https://knecnotes.co.ke/2022/09/08/kcse-past-papers-2017-kiswahili-paper-3-102-3/\",\n",
        "\t\t\t\t\t\t\"/content/drive/MyDrive/Kiswahili_Dataset/parsing files/kisw7.txt\")\n",
        "\n",
        "file = open(\"/content/drive/MyDrive/Kiswahili_Dataset/parsing files/kisw7.txt\", \"r\")\n",
        "contents = file.read()\n",
        "soup = BeautifulSoup(contents, 'html.parser')\n",
        "\n",
        "f = open(\"/content/drive/MyDrive/Kiswahili_Dataset/Kiswahili_data7.txt\", \"w\")\n",
        "\n",
        "# traverse paragraphs from soup\n",
        "for data in soup.find_all(\"p\"):\n",
        "\tsum = data.get_text()\n",
        "\tf.writelines(sum)\n",
        "\n",
        "f.close()"
      ],
      "metadata": {
        "id": "igcPzYRFk7-4"
      },
      "execution_count": null,
      "outputs": []
    },
    {
      "cell_type": "markdown",
      "source": [
        "![02.PNG](data:image/png;base64,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)"
      ],
      "metadata": {
        "id": "ht06U213lmi8"
      }
    },
    {
      "cell_type": "code",
      "source": [],
      "metadata": {
        "id": "t7KBdshhlpdF"
      },
      "execution_count": null,
      "outputs": []
    }
  ]
}