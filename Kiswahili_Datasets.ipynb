{
  "nbformat": 4,
  "nbformat_minor": 0,
  "metadata": {
    "colab": {
      "provenance": [],
      "mount_file_id": "1_Magths-qffSVTMa6z8pYewUBLUa7yQi",
      "authorship_tag": "ABX9TyOzoFIlGm3ylxbN8k3xqZ9a",
      "include_colab_link": true
    },
    "kernelspec": {
      "name": "python3",
      "display_name": "Python 3"
    },
    "language_info": {
      "name": "python"
    }
  },
  "cells": [
    {
      "cell_type": "markdown",
      "metadata": {
        "id": "view-in-github",
        "colab_type": "text"
      },
      "source": [
        "<a href=\"https://colab.research.google.com/github/rdkdaniel/The-Swahili-Project/blob/main/Kiswahili_Datasets.ipynb\" target=\"_parent\"><img src=\"https://colab.research.google.com/assets/colab-badge.svg\" alt=\"Open In Colab\"/></a>"
      ]
    },
    {
      "cell_type": "markdown",
      "source": [
        "# **Kiswahili Under a Natural Language Processing Lens**"
      ],
      "metadata": {
        "id": "keODTuBFir9P"
      }
    },
    {
      "cell_type": "markdown",
      "source": [
        "**Introduction**\n",
        "\n",
        "\n",
        "*   This notebook shows how data was collected for the project, wose title is stated above.\n",
        "*   Web scrapping was done using Beautiful Soup.\n",
        "*   A total of # website were used in this process of data collection.\n",
        "*   This data collection method led to # data point/items/whatever terminology is best.\n",
        "\n",
        "\n",
        "\n"
      ],
      "metadata": {
        "id": "c265aOUyjAnn"
      }
    },
    {
      "cell_type": "markdown",
      "source": [
        "# **Data Collection**"
      ],
      "metadata": {
        "id": "8QaHC_7NjwHe"
      }
    },
    {
      "cell_type": "markdown",
      "source": [
        "## **1.0 The Libraries**"
      ],
      "metadata": {
        "id": "1Bri2D2zj3QF"
      }
    },
    {
      "cell_type": "code",
      "execution_count": 2,
      "metadata": {
        "colab": {
          "base_uri": "https://localhost:8080/"
        },
        "id": "_8XOUGLQhW95",
        "outputId": "db6029ae-a100-4467-fe0f-e3439ae4b6b9"
      },
      "outputs": [
        {
          "output_type": "stream",
          "name": "stdout",
          "text": [
            "Looking in indexes: https://pypi.org/simple, https://us-python.pkg.dev/colab-wheels/public/simple/\n",
            "Requirement already satisfied: requests in /usr/local/lib/python3.7/dist-packages (2.23.0)\n",
            "Requirement already satisfied: idna<3,>=2.5 in /usr/local/lib/python3.7/dist-packages (from requests) (2.10)\n",
            "Requirement already satisfied: urllib3!=1.25.0,!=1.25.1,<1.26,>=1.21.1 in /usr/local/lib/python3.7/dist-packages (from requests) (1.24.3)\n",
            "Requirement already satisfied: certifi>=2017.4.17 in /usr/local/lib/python3.7/dist-packages (from requests) (2022.9.24)\n",
            "Requirement already satisfied: chardet<4,>=3.0.2 in /usr/local/lib/python3.7/dist-packages (from requests) (3.0.4)\n",
            "Looking in indexes: https://pypi.org/simple, https://us-python.pkg.dev/colab-wheels/public/simple/\n",
            "Requirement already satisfied: beautifulsoup4 in /usr/local/lib/python3.7/dist-packages (4.6.3)\n"
          ]
        }
      ],
      "source": [
        "!pip install requests\n",
        "!pip install beautifulsoup4"
      ]
    },
    {
      "cell_type": "markdown",
      "source": [
        "## **2.0 Inspecting the Websites**"
      ],
      "metadata": {
        "id": "3C4MyCEikNOv"
      }
    },
    {
      "cell_type": "markdown",
      "source": [
        "\n",
        "\n",
        "*   All the website that were used to scrap text data were inspected at this stage.\n",
        "*   This step helped identify the section where relevant text data was placed and the elements (tags, class names etc) used to hold it.\n",
        "\n"
      ],
      "metadata": {
        "id": "--rRoiM8kRKE"
      }
    },
    {
      "cell_type": "markdown",
      "source": [
        "## **3.0 Parsing HTML Pages with Beautiful Soup**"
      ],
      "metadata": {
        "id": "TMw5tlXnkmqZ"
      }
    },
    {
      "cell_type": "code",
      "source": [
        "from bs4 import BeautifulSoup\n",
        "#import requests library\n",
        "import requests\n",
        "#the website URL\n",
        "url_link = \"https://www.bbc.com/swahili/articles/crg3pvn4m79o\"\n",
        "result = requests.get(url_link).text\n",
        "doc = BeautifulSoup(result, \"html.parser\")\n",
        "\n",
        "#print(doc.prettify())\n",
        "#Content is too heavy"
      ],
      "metadata": {
        "id": "pytMqMhQk0_5"
      },
      "execution_count": 19,
      "outputs": []
    },
    {
      "cell_type": "markdown",
      "source": [
        "## **4.0 Accessing Text Data Using Class and ID Tags**"
      ],
      "metadata": {
        "id": "m5RFtr21lAnI"
      }
    },
    {
      "cell_type": "code",
      "source": [
        "res = doc.find(id = \"main-wrapper\")"
      ],
      "metadata": {
        "id": "jvIW2hn-lM5V"
      },
      "execution_count": 6,
      "outputs": []
    },
    {
      "cell_type": "code",
      "source": [
        "heading = res.find(class_ = \"e2un9en2 bbc-klixw8 ebmt73l0\")\n",
        "print(heading.text)"
      ],
      "metadata": {
        "colab": {
          "base_uri": "https://localhost:8080/"
        },
        "id": "xzJvAOpNlqYe",
        "outputId": "59410feb-1441-4e45-d916-02c7e2f9193d"
      },
      "execution_count": 9,
      "outputs": [
        {
          "output_type": "stream",
          "name": "stdout",
          "text": [
            " Vita vya Ukraine:Hofu ya zama za Soviet yarejea Urusi Maelezo ya picha, Mhadhiri Denis Skopin (kushoto) akiwa ameshikilia karatasi zake za kufukuzwa kutoka Chuo Kikuu cha Jimbo la St PetersburgSaa 2 zilizopitaKatika nyumba yake ya St Petersburg, mhadhiri wa chuo kikuu Denis Skopin ananionyesha hati ambayo imebadilisha maisha yake.Maelekezo: \"Maelekezo No.87/2D. Kuhusu: Kufutwa kazi.\"Hadi hivi majuzi Denis alikuwa profesa msaidizi katika Kitivo cha Sanaa ya Kiliberali na Sayansi ya Chuo Kikuu cha Jimbo la St Petersburg. Lakini tarehe 20 Oktoba chuo kikuu kilimfukuza kazi kwa \"kitendo cha ukosefu wa maadili  ambacho hakiendani na kazi za elimu\".Hiki kinachoitwa kitendo kisicho cha madili kilikuwa ni nini? Kushiriki katika mkutano \"usioidhinishwa\".Tarehe 21 Septemba Denis alijiunga na maandamano ya mitaani kupinga uamuzi wa Kremlin kuwaandikisha Warusi kupigana nchini Ukraine. Mapema siku hiyo, Rais Vladimir Putin alikuwa ametangaza \"uhamasishaji wa sehemu\" kote nchini. Wakati wa maandamano Denis alikamatwa na kukaa jela siku 10.\"Uhuru wa kujieleza nchini Urusi uko katika mgogoro,\" Denis ananiambia. \"Aina zote za uhuru ziko katika shida kubwa.\"\"Baada ya kuachiliwa kutoka kizuizini nilifanya kazi kwa wiki tatu zaidi, chuo kikuu kilinitumia barua za kunitaka nieleze kutokuwepo kwangu. Nilijibu kuwa nimekamatwa kwa kushiriki maandamano na kuwekwa kizuizini. Kisha Idara ya Rasilimali Watu alinipigia simu na kuniambia kuwa nimefukuzwa kazi.\"Siku yake ya mwisho kazini, wanafunzi wa Denis walikusanyika nje ya chuo kikuu kumuaga.Katika hotuba ya papo hapo (video iliwekwa mtandaoni) aliwaambia:\"Kitendo kisicho na maadili  ni nini? Kutenda kinyume na dhamiri yako na kutii maagizo ya mtu mwingine bila kusita. Nilitenda kulingana na dhamiri yangu. Nina hakika kwamba mustakabali wa nchi yetu ni wako.\" Wanafunzi waliangua makofi kwa mwalimu wao aliyefukuzwa kazi.\"Ninawapenda sana wanafunzi wangu,\" Denis ananiambia. \"Wana akili sana na wanaelewa vizuri kile kinachotokea sasa nchini Urusi. [Onyesho lao] la idhini haikuwa kwangu mimi binafsi. Badala yake, ilikuwa ni kutokubali kile kinachotokea sasa nchini Urusi.\"Watu wengi nchini Urusi hawathubutu kuandamana kwa sababu wana hatari ya kuadhibiwa kwa hilo. Lakini wengi wangependa kufanya hivyo. Na, kwa watu hawa, kutoa idhini kwa wale wanaofanya maandamano ni njia ya kutokubaliana na kile kinachotokea nchini Urusi. \" Maelezo ya picha, Denis anasema robo ya wenzake wameondoka Urusi tangu uvamizi wake kamili wa UkraineHadithi ya Denis Skopin haiangazii shinikizo tu ambalo wapinzani wa \"operesheni maalum ya kijeshi\" ya Kremlin wanakabiliwa hapa. Pia inazua maswali kuhusu mustakabali wa Urusi.\"Waliofungiwa nami katika kituo cha kizuizini kulikuwa na wataalamu wa IT, wanasayansi, madaktari, walimu na wanafunzi. Wengi wao sasa wako nje ya nchi. Kama mwenzangu mwenzangu, mwanahisabati kijana mwenye kipawa. \"Takriban 25% ya wenzangu wa karibu tayari wameondoka Urusi. Waliondoka baada ya Februari 24. Baadhi yao waliondoka mara moja, wengine waliondoka baada ya kutangazwa kwa uhamasishaji. Nadhani Urusi inapoteza watu bora sasa. Waliosoma zaidi, wenye nguvu zaidi. watu wanaofikiria sana wanaondoka nchini. Kwa kifupi, Urusi inaenda katika mwelekeo mbaya.\"Wakati ujao usio na uhakika sio tu matokeo ya sasa. Pia ni bidhaa ya zamani ya Urusi.Katika mji mzima kikundi kidogo cha wakaazi wa St Petersburg kimesimama kando ya mnara wa wahasiriwa wa Ugaidi Mkuu wa Joseph Stalin wa miaka ya 1930.Mnara huo umetengenezwa kwa mwamba mkubwa kutoka Visiwa vya Solovetsky vilivyo mbali, nyumbani kwa kambi moja ya kulazimishwa ya kulazimishwa ya Gulag. Kambi ya Solovki iliwekwa ili kuwafunga wafungwa wa kisiasa pamoja na wafungwa wengine.Watu wanapanga foleni kwenye maikrofoni. Wanachukua zamu kusoma majina ya watu waliokamatwa, kulaumiwa na kunyongwa ndani na karibu na St Petersburg.\"Ekaterina Gansovna. Umri: 46. Mfanyakazi wa Posta.Alikamatwa: Desemba 9, 1937.Alipigwa risasi tarehe  18 Januari 1938.Julia Stanislavovna. Umri: 41. Meneja wa Akaunti za Kiwanda Alikamatwa: Septemba 27, 1937.Alipigwa risasi: 21 Desemba 1937.\"Maelezo ya picha, Katika Mnara  huko St Petersburg, watu walisoma majina ya wahasiriwa wa Ugaidi mkuu wa StalinInafahamika kwamba dikteta wa Sovieti Stalin aliagiza  milioni ya raia wake kuuawa. Mamilioni zaidi ya maisha yaliharibiwa katika mashine yake ya ugaidi ambayo ilisababisha kukamatwa, kufukuzwa nchini na kufanya kazi ya kulazimishwa kwa watu wengi. Baadhi ya warithi wake, kama Nikita Khrushchev na Mikhail Gorbachev, walishutumu uhalifu wa Stalin.Mamlaka leo huweka msisitizo mdogo kwenye sura za giza za miaka ya Stalin, wakati Stalin mwenyewe mara nyingi anaonyeshwa kama shujaa ambaye alishinda Ujerumani ya Nazi na kugeuza Umoja wa Kisovieti kuwa nguvu kuu. Kremlin ya Putin inatafuta mazuri katika siku za nyuma - ushindi.\"Kwa bahati mbaya, nchi yetu haikufungua ukurasa huu vizuri. Ukandamizaji wa Stalin haukuzungumzwa vya kutosha au kulaaniwa kikamilifu. Hii ndiyo sababu vita vya Ukraine vinatokea leo,\" anasema Pensioner Ludmila, ambaye amekuja kuweka maua kwenye jiwe la  Solovki. \"Uzoefu unaonyesha kuwa kukaa kimya kunasababisha mambo mabaya. Hatupaswi kusahau madoa ya umwagaji damu ya historia ya nchi yetu.\"Maelezo ya picha, \n",
            "Dikteta wa Soviet Joseph Stalin amepitia aina  fulani ya ukarabati katika Urusi ya Putin - unaweza hata kununua bidhaa za Stalin.Mhadhiri wa chuo kikuu aliyefutwa kazi Denis Skopin amesoma miaka ya Stalin. Anaona uwiano kati ya wakati huo na sasa.\"Nimetoka kuchapisha kitabu kwa Kiingereza kuhusu jinsi watu wa  Urusi ya Stalin walivyowaondoa kwenye picha za pamoja wale waliotangazwa 'adui wa watu'. Wenzake, marafiki au hata ndugu wa karibu walilazimika kuondoa ishara zote za watu hao kwenye picha. Walifanya hivyo na mkasi na kwa wino.\"Kitivo nilichofundisha kilikuwa na ushirikiano na Chuo cha Bard, chuo cha sanaa huria cha Marekani. Mwaka jana Chuo cha Bard kilitangazwa kuwa 'shirika lisilofaa' nchini Urusi. Kwa hiyo, kitivo chetu kilivunja ushirikiano na jina la Chuo cha Bard likaondolewa kwenye vituo. inavyoonyeshwa kwenye korido za kitivo chetu kwa kutumia wino mweusi haswa. Kwa njia sawa na katika Urusi ya Stalin.\"Ikiwa, kama Denis anavyodai, wanafunzi wake \"wanaelewa vizuri sana\" kile kinachotokea Urusi na Ukraine, hilo linazua swali: ikiwa Warusi wachanga hawatashawishika na hoja za Kremlin, mamlaka itawashawishije umma kwa muda mrefu kufanya maandamano. bendera na kumuunga mkono rais?Jibu: kwa kuhakikisha vijana \"wanaelewa\" matukio kama Kremlin inavyofanya.Ili kusaidia kufikia hilo, somo jipya la uzalendo limeanzishwa katika shule kote Urusi kwa watoto wote wa shule: \"Mazungumzo Kuhusu Mambo Muhimu.\" Si sehemu ya mtaala rasmi, lakini ni somo la kwanza siku ya Jumatatu asubuhi na watoto wanahimizwa sana kuhudhuria.Ni \"mambo gani muhimu\" yanayojadiliwa hapo? Naam, wakati Rais Putin alipokuwa mwalimu huko Kaliningrad mnamo Septemba, aliambia kundi la watoto kwamba lengo la mashambulizi ya Urusi huko Ukraine ni \"kuilinda Urusi\" na alielezea Ukraine kama \"kinga dhidi ya Urusi.\" Unaweza kuona ni njia gani \"Mazungumzo\"  Maelezo ya picha, Olga Milovidova anasema \"elimu ya kulazimishwa\" inamkumbusha enzi ya Soviet\"Hii ni elimu ya kulazimishwa. Kwa akili yangu hii ni hatari kama ilivyokuwa nyakati za Soviet wakati tulikuwa na masomo ya 'habari za kisiasa',\" anasema mwalimu wa St Petersburg Olga Milovidova, ambaye alistaafu mwezi uliopita. \"Katika siku hizo ilitubidi kusoma gazeti la Pravda. Na nakumbuka tulilazimika kusoma vitabu vya [kiongozi wa Soviet] Brezhnev kana kwamba ni kazi bora. Ilibidi tutoe maoni chanya tu. Hakukuwa na mjadala muhimu.\"Elimu na uzalendo hazipaswi kuunganishwa,\" anaamini Olga, ambaye alikuwa naibu mkurugenzi wa shule. \"Kuna watoto wanaamini tu. Hufumbua macho na wako tayari kuamini chochote. Hiyo ni hatari sana.\"Mada zinazohusianaUkraineUkraine vitaUnaweza pia kusoma﻿Shambulio la Sevastopol: Fahamu jinsi ndege zisizo na rubani za Ukraine zilivyoshambulia Meli za Urusi Saa 5 zilizopitaVita vya Ukraine: Simulizi  za uvumilivu na machungu Saa 9 zilizopitaJe ni kweli wanajeshi wa NATO wanapigana Ukraine?﻿22 Septemba 2022Habari kuuMoja kwa moja Jeshi la Tanzania limetuma mamia ya wanajeshi kusaidia wazima moto Mlima KilimanjaroSaa 9 zilizopita Vita vya Ukraine:Hofu ya zama za Soviet yarejea UrusiSaa 2 zilizopitaVideo inayosambazwa mtandaoni kuhusu kifo cha mtoto wa Davido ni bandia- Polisi NigeriaSaa 1 iliyopitaGumzo mitandaoniVita vya Ukraine: Simulizi za uvumilivu na machunguSaa 9 zilizopitaSababu 5 kwa nini Putin hawezi kuamuru shambulizi la nyuklia1 Novemba 2022Mambo 7 ambayo rais William Ruto ameyafanya kinyume na matarajio ya Uhuru Kenyatta31 Oktoba 2022Kuporomoka kwa daraja la Morbi: Jinsi eneo la watalii lilivyogeuka kuwa daraja la kifoSaa 7 zilizopitaTunachokifahamu kuhusu kinachoendelea mashariki mwa DRC1 Novemba 2022Ni vitamini gani bora kwa ajili ya ubongo wako kuwa na afya?1 Novemba 2022Jinsi Uhispania ilivyotazama huku wahamiaji wakikandamizwa hadi kufa kwenye mpaka wake1 Novemba 2022J﻿insi Marekani inavyoisaidia Ukraine kudhibiti mashambulizi ya kimtandao ya Urusi31 Oktoba 2022Kwa nini akina mama wa sasa huhangaika 'kurudisha miili' baada ya kujifungua30 Oktoba 2022\n"
          ]
        }
      ]
    },
    {
      "cell_type": "markdown",
      "source": [
        "## **5.0 Writing Data to Text File**"
      ],
      "metadata": {
        "id": "-mqBSSAAmHOJ"
      }
    },
    {
      "cell_type": "code",
      "source": [
        "!pip install bs4\n",
        "!pip install urllib3"
      ],
      "metadata": {
        "colab": {
          "base_uri": "https://localhost:8080/"
        },
        "id": "MS1cwrQWvF34",
        "outputId": "da9df96d-58ec-4261-b317-e8d20c99a6d9"
      },
      "execution_count": 2,
      "outputs": [
        {
          "output_type": "stream",
          "name": "stdout",
          "text": [
            "Looking in indexes: https://pypi.org/simple, https://us-python.pkg.dev/colab-wheels/public/simple/\n",
            "Requirement already satisfied: bs4 in /usr/local/lib/python3.7/dist-packages (0.0.1)\n",
            "Requirement already satisfied: beautifulsoup4 in /usr/local/lib/python3.7/dist-packages (from bs4) (4.6.3)\n",
            "Looking in indexes: https://pypi.org/simple, https://us-python.pkg.dev/colab-wheels/public/simple/\n",
            "Requirement already satisfied: urllib3 in /usr/local/lib/python3.7/dist-packages (1.24.3)\n"
          ]
        }
      ]
    },
    {
      "cell_type": "code",
      "source": [
        "import urllib.request\n",
        "from bs4 import BeautifulSoup\n",
        "\n",
        "# here we have to pass url and path\n",
        "# (where you want to save ur text file)\n",
        "urllib.request.urlretrieve(\"https://www.bbc.com/swahili/articles/crg3pvn4m79o\",\n",
        "\t\t\t\t\t\t\"/content/drive/MyDrive/Kiswahili_Dataset/kisw.txt\")\n",
        "\n",
        "file = open(\"/content/drive/MyDrive/Kiswahili_Dataset/kisw.txt\", \"r\")\n",
        "contents = file.read()\n",
        "soup = BeautifulSoup(contents, 'html.parser')\n",
        "\n",
        "f = open(\"/content/drive/MyDrive/Kiswahili_Dataset/Kiswdata1.txt\", \"w\")\n",
        "\n",
        "# traverse paragraphs from soup\n",
        "for data in soup.find_all(\"p\"):\n",
        "\tsum = data.get_text()\n",
        "\tf.writelines(sum)\n",
        "\n",
        "f.close()"
      ],
      "metadata": {
        "id": "PeUrx6Oj7sqA"
      },
      "execution_count": 6,
      "outputs": []
    },
    {
      "cell_type": "markdown",
      "source": [
        "## **6.0 Doing These Steps on Other Websites**"
      ],
      "metadata": {
        "id": "cIwvkhC69iaE"
      }
    },
    {
      "cell_type": "markdown",
      "source": [
        "### **Website 1**"
      ],
      "metadata": {
        "id": "5Flci4Lm-ZAh"
      }
    },
    {
      "cell_type": "code",
      "source": [
        "import urllib.request\n",
        "from bs4 import BeautifulSoup\n",
        "\n",
        "# here we have to pass url and path\n",
        "# (where you want to save ur text file)\n",
        "urllib.request.urlretrieve(\"https://knecnotes.co.ke/2022/09/08/kcse-past-papers-2021-kiswahili-karatasi-ya-2-102-2/\",\n",
        "\t\t\t\t\t\t\"/content/drive/MyDrive/Kiswahili_Dataset/kisw2.txt\")\n",
        "\n",
        "file = open(\"/content/drive/MyDrive/Kiswahili_Dataset/kisw2.txt\", \"r\")\n",
        "contents = file.read()\n",
        "soup = BeautifulSoup(contents, 'html.parser')\n",
        "\n",
        "f = open(\"/content/drive/MyDrive/Kiswahili_Dataset/Kiswdata2.txt\", \"w\")\n",
        "\n",
        "# traverse paragraphs from soup\n",
        "for data in soup.find_all(\"p\"):\n",
        "\tsum = data.get_text()\n",
        "\tf.writelines(sum)\n",
        "\n",
        "f.close()"
      ],
      "metadata": {
        "id": "cduADC6U9n77"
      },
      "execution_count": 7,
      "outputs": []
    },
    {
      "cell_type": "markdown",
      "source": [
        "### **Website 2**"
      ],
      "metadata": {
        "id": "X3Q7xhki-cQv"
      }
    },
    {
      "cell_type": "code",
      "source": [
        "import urllib.request\n",
        "from bs4 import BeautifulSoup\n",
        "\n",
        "# here we have to pass url and path\n",
        "# (where you want to save ur text file)\n",
        "urllib.request.urlretrieve(\"https://knecnotes.co.ke/2022/09/08/kcse-past-papers-2021-kiswahili-karatasi-ya-3-102-3/\",\n",
        "\t\t\t\t\t\t\"/content/drive/MyDrive/Kiswahili_Dataset/kisw3.txt\")\n",
        "\n",
        "file = open(\"/content/drive/MyDrive/Kiswahili_Dataset/kisw3.txt\", \"r\")\n",
        "contents = file.read()\n",
        "soup = BeautifulSoup(contents, 'html.parser')\n",
        "\n",
        "f = open(\"/content/drive/MyDrive/Kiswahili_Dataset/Kiswdata3.txt\", \"w\")\n",
        "\n",
        "# traverse paragraphs from soup\n",
        "for data in soup.find_all(\"p\"):\n",
        "\tsum = data.get_text()\n",
        "\tf.writelines(sum)\n",
        "\n",
        "f.close()"
      ],
      "metadata": {
        "id": "XYII-6e9-ei5"
      },
      "execution_count": 8,
      "outputs": []
    },
    {
      "cell_type": "markdown",
      "source": [
        "Plenty of data here: https://knecnotes.co.ke/kiswahili-kenya-certificate-of-secondary-education-k-c-s-e-maswali/"
      ],
      "metadata": {
        "id": "5QNJ-ndQ-3hy"
      }
    },
    {
      "cell_type": "markdown",
      "source": [
        "![files on left.PNG](data:image/png;base64,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)"
      ],
      "metadata": {
        "id": "esG66f9H_KIZ"
      }
    },
    {
      "cell_type": "code",
      "source": [],
      "metadata": {
        "id": "ILacUg30_MIT"
      },
      "execution_count": null,
      "outputs": []
    }
  ]
}